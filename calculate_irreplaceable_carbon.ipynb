{
 "cells": [
  {
   "cell_type": "markdown",
   "metadata": {},
   "source": [
    "This code calculates manageable, vulnerable, and irreplaceable carbon across Y2Y"
   ]
  },
  {
   "cell_type": "code",
   "execution_count": 1,
   "metadata": {},
   "outputs": [],
   "source": [
    "# import packages\n",
    "import ee\n",
    "import geemap\n",
    "\n",
    "import pandas as pd"
   ]
  },
  {
   "cell_type": "code",
   "execution_count": 2,
   "metadata": {},
   "outputs": [
    {
     "data": {
      "text/html": [
       "\n",
       "            <style>\n",
       "                .geemap-dark {\n",
       "                    --jp-widgets-color: white;\n",
       "                    --jp-widgets-label-color: white;\n",
       "                    --jp-ui-font-color1: white;\n",
       "                    --jp-layout-color2: #454545;\n",
       "                    background-color: #383838;\n",
       "                }\n",
       "\n",
       "                .geemap-dark .jupyter-button {\n",
       "                    --jp-layout-color3: #383838;\n",
       "                }\n",
       "\n",
       "                .geemap-colab {\n",
       "                    background-color: var(--colab-primary-surface-color, white);\n",
       "                }\n",
       "\n",
       "                .geemap-colab .jupyter-button {\n",
       "                    --jp-layout-color3: var(--colab-primary-surface-color, white);\n",
       "                }\n",
       "            </style>\n",
       "            "
      ],
      "text/plain": [
       "<IPython.core.display.HTML object>"
      ]
     },
     "metadata": {},
     "output_type": "display_data"
    }
   ],
   "source": [
    "# authenticate the EE api\n",
    "# ee.Authenticate()"
   ]
  },
  {
   "cell_type": "code",
   "execution_count": 3,
   "metadata": {},
   "outputs": [
    {
     "data": {
      "text/html": [
       "\n",
       "            <style>\n",
       "                .geemap-dark {\n",
       "                    --jp-widgets-color: white;\n",
       "                    --jp-widgets-label-color: white;\n",
       "                    --jp-ui-font-color1: white;\n",
       "                    --jp-layout-color2: #454545;\n",
       "                    background-color: #383838;\n",
       "                }\n",
       "\n",
       "                .geemap-dark .jupyter-button {\n",
       "                    --jp-layout-color3: #383838;\n",
       "                }\n",
       "\n",
       "                .geemap-colab {\n",
       "                    background-color: var(--colab-primary-surface-color, white);\n",
       "                }\n",
       "\n",
       "                .geemap-colab .jupyter-button {\n",
       "                    --jp-layout-color3: var(--colab-primary-surface-color, white);\n",
       "                }\n",
       "            </style>\n",
       "            "
      ],
      "text/plain": [
       "<IPython.core.display.HTML object>"
      ]
     },
     "metadata": {},
     "output_type": "display_data"
    }
   ],
   "source": [
    "# initialize the EE api\n",
    "ee.Initialize(project='ee-bermane')"
   ]
  },
  {
   "cell_type": "markdown",
   "metadata": {},
   "source": [
    "## Define GEE datasets"
   ]
  },
  {
   "cell_type": "code",
   "execution_count": 4,
   "metadata": {},
   "outputs": [
    {
     "data": {
      "text/html": [
       "\n",
       "            <style>\n",
       "                .geemap-dark {\n",
       "                    --jp-widgets-color: white;\n",
       "                    --jp-widgets-label-color: white;\n",
       "                    --jp-ui-font-color1: white;\n",
       "                    --jp-layout-color2: #454545;\n",
       "                    background-color: #383838;\n",
       "                }\n",
       "\n",
       "                .geemap-dark .jupyter-button {\n",
       "                    --jp-layout-color3: #383838;\n",
       "                }\n",
       "\n",
       "                .geemap-colab {\n",
       "                    background-color: var(--colab-primary-surface-color, white);\n",
       "                }\n",
       "\n",
       "                .geemap-colab .jupyter-button {\n",
       "                    --jp-layout-color3: var(--colab-primary-surface-color, white);\n",
       "                }\n",
       "            </style>\n",
       "            "
      ],
      "text/plain": [
       "<IPython.core.display.HTML object>"
      ]
     },
     "metadata": {},
     "output_type": "display_data"
    }
   ],
   "source": [
    "# define EE datasets\n",
    "agb = ee.ImageCollection(\"projects/sat-io/open-datasets/ESA/ESA_CCI_AGB\")\n",
    "y2y = ee.FeatureCollection(\"projects/ee-bermane/assets/y2y\")\n",
    "lc = ee.Image(\"USGS/NLCD_RELEASES/2020_REL/NALCMS\")\n",
    "rsr = ee.Image(\"projects/ee-bermane/assets/Root_shoot_ratio_Map_Merged\")\n",
    "# countries = ee.FeatureCollection(\"USDOS/LSIB/2017\")\n",
    "# y2y_ecoregions = ee.FeatureCollection(\n",
    "#     \"projects/ee-bermane/assets/y2y_ecoregions\")\n",
    "y2y_biomes = ee.FeatureCollection(\"projects/ee-bermane/assets/y2y_biomes\")\n",
    "# y2y_protected_areas = ee.FeatureCollection(\n",
    "#     \"projects/ee-bermane/assets/y2y_protected_areas\")\n",
    "# y2y_protected_areas_canada = ee.FeatureCollection(\n",
    "#     \"projects/ee-bermane/assets/y2y_protected_areas_canada\")\n",
    "rra = ee.FeatureCollection(\"projects/ee-bermane/assets/ross_river_ipca\")\n",
    "soc_0_100cm_olm = ee.Image(\"projects/ee-bermane/assets/soc_0_1m_kg_m2_olm\")\n",
    "soc_0_30cm_olm = ee.Image(\"projects/ee-bermane/assets/soc_0_30cm_kg_m2_olm\")\n",
    "soc_30_100cm_olm = ee.Image(\n",
    "    \"projects/ee-bermane/assets/soc_30_100cm_kg_m2_olm\")\n",
    "# soc_soilgrids = ee.Image(\"projects/soilgrids-isric/ocs_mean\")\n",
    "soc_0_100cm_sothe = ee.Image(\n",
    "    \"projects/ee-bermane/assets/McMaster_WWFCanada_soil_carbon1m_250m_kg-m2_version3\")\n",
    "soc_0_30cm_sothe = ee.Image(\n",
    "    \"projects/ee-bermane/assets/McMaster_WWFCanada_soil_carbon30cm_250m_kg-m2_version3\")\n",
    "# soc_socs = ee.Image(\"projects/ee-bermane/assets/SOCS_0_1m_mg_ha_year_2010\")\n",
    "peat = ee.Image(\"projects/sat-io/open-datasets/GLOBAL-PEATLAND-DATABASE\")"
   ]
  },
  {
   "cell_type": "markdown",
   "metadata": {},
   "source": [
    "## Calculate manageable biomass stock from ESA CCI data\n",
    "\n",
    "Includes all biomass except for non-forest pixels within the desert biome and the following LC types: barren ground, snow/ice, water, cropland, urban and built-up."
   ]
  },
  {
   "cell_type": "markdown",
   "metadata": {},
   "source": [
    "## NEED TO MASK PROTECTED AREAS!"
   ]
  },
  {
   "cell_type": "code",
   "execution_count": null,
   "metadata": {},
   "outputs": [
    {
     "data": {
      "text/html": [
       "\n",
       "            <style>\n",
       "                .geemap-dark {\n",
       "                    --jp-widgets-color: white;\n",
       "                    --jp-widgets-label-color: white;\n",
       "                    --jp-ui-font-color1: white;\n",
       "                    --jp-layout-color2: #454545;\n",
       "                    background-color: #383838;\n",
       "                }\n",
       "\n",
       "                .geemap-dark .jupyter-button {\n",
       "                    --jp-layout-color3: #383838;\n",
       "                }\n",
       "\n",
       "                .geemap-colab {\n",
       "                    background-color: var(--colab-primary-surface-color, white);\n",
       "                }\n",
       "\n",
       "                .geemap-colab .jupyter-button {\n",
       "                    --jp-layout-color3: var(--colab-primary-surface-color, white);\n",
       "                }\n",
       "            </style>\n",
       "            "
      ],
      "text/plain": [
       "<IPython.core.display.HTML object>"
      ]
     },
     "metadata": {},
     "output_type": "display_data"
    }
   ],
   "source": [
    "# calc 2021 ESA CCI biomass\n",
    "# grab the 2021 AGB images\n",
    "agb_2021 = agb.filter(ee.Filter.stringContains(\"system:index\", \"2021\")).first()\n",
    "\n",
    "# create image for litter using Harris ratio (4%)\n",
    "# leave out dead wood since it is likely sensed already\n",
    "# mask litter only for forested LC types\n",
    "# 1: \"#033e00\",  # Temperate or sub-polar needleleaf forest\n",
    "# 2: \"#939b71\",  # Sub-polar taiga needleleaf forest\n",
    "# 3: \"#196d12\",  # Tropical or sub-tropical broadleaf evergreen forest\n",
    "# 4: \"#1fab01\",  # Tropical or sub-tropical broadleaf deciduous forest\n",
    "# 5: \"#5b725c\",  # Temperate or sub-polar broadleaf deciduous forest\n",
    "# 6: \"#6b7d2c\",  # Mixed forest\n",
    "\n",
    "litter_mask = lc.gte(1).And(lc.lte(6))\n",
    "\n",
    "litter = agb_2021.select(['AGB']).multiply(0.04).multiply(litter_mask)\n",
    "\n",
    "# create image for BGB (using global rsr map)\n",
    "bgb = agb_2021.select(['AGB']).multiply(rsr).rename('BGB')\n",
    "\n",
    "# add AGB + litter and BGB together\n",
    "bio_2021 = agb_2021.select(['AGB']).add(litter).addBands(\n",
    "    bgb).rename(['agb_t_ha', 'bgb_t_ha'])\n",
    "\n",
    "# multiply values by 0.47 to get carbon density\n",
    "# 0.47 used by Harris et al. (2021)\n",
    "# mask barren ground, snow/ice, water, cropland, urban and built-up\n",
    "bio_2021 = bio_2021.multiply(0.47).updateMask(\n",
    "    lc.neq(18).And(lc.neq(19)).And(lc.neq(16)).And(lc.neq(15)).And(lc.neq(17)))\n",
    "\n",
    "# Rasterize y2y_biomes to extract desert biome\n",
    "biomes_raster = y2y_biomes.reduceToImage(\n",
    "    properties=['BIOME_ID'], reducer=ee.Reducer.first())\n",
    "\n",
    "# create a mask of forest lc types\n",
    "forest_mask = lc.gte(1).And(lc.lte(6))\n",
    "\n",
    "# combine desert mask and forest mask\n",
    "# desert BIOME_ID = 13 in biomes_raster\n",
    "desert_mask = biomes_raster.eq(13).And(forest_mask.Not())\n",
    "\n",
    "# mask desert pixels from bio_2021\n",
    "bio_2021 = bio_2021.updateMask(desert_mask.Not())\n",
    "\n",
    "# compute per-pixel area in ha\n",
    "pixel_area_ha = ee.Image.pixelArea().divide(10000)\n",
    "\n",
    "# Create carbon layer mask to filter pixel area raster\n",
    "carbon_mask = bio_2021.select(['agb_t_ha']).mask().neq(0)\n",
    "\n",
    "# Mask pixel_area_ha to carbon layers\n",
    "pixel_area_agb_extent = pixel_area_ha.updateMask(carbon_mask)\n",
    "\n",
    "# # calculate total biomass c per pixel and rename bands\n",
    "# bio_stock_2021 = bio_2021.multiply(\n",
    "#     pixel_area_ha\n",
    "# ).rename(\n",
    "#     ['agb_t', 'bgb_t']\n",
    "# ).addBands(\n",
    "#     pixel_area_agb_extent.rename(['pixel_area_agb_extent_ha'])\n",
    "# ).addBands(\n",
    "#     pixel_area_ha.rename(['pixel_area_ha'])\n",
    "# )\n",
    "\n",
    "# calculate biomass stock\n",
    "bio_2021_stock = (\n",
    "    bio_2021\n",
    "    .multiply(pixel_area_ha)\n",
    "    .rename(['agb_t', 'bgb_t'])\n",
    ")\n",
    "\n",
    "# combine to define manageable carbon stock\n",
    "manageable_bio_stock = (\n",
    "    bio_2021_stock\n",
    "    .select(['agb_t', 'bgb_t'])\n",
    "    .reduce(ee.Reducer.sum())\n",
    "    .rename('manageable_biomass_t')\n",
    ")"
   ]
  },
  {
   "cell_type": "markdown",
   "metadata": {},
   "source": [
    "## Calculate manageable soil carbon stock from Sothe Canada data and Open Land Map US data\n",
    "\n",
    "Includes all SOC 0-3cm and 30-100cm except for non-forest pixels within the desert biome, barren lands within temperate zones, and the following LC types: snow/ice, water, cropland, urban and built-up."
   ]
  },
  {
   "cell_type": "markdown",
   "metadata": {},
   "source": [
    "## NEED TO MASK PROTECTED AREAS!!!"
   ]
  },
  {
   "cell_type": "code",
   "execution_count": 6,
   "metadata": {},
   "outputs": [
    {
     "data": {
      "text/html": [
       "\n",
       "            <style>\n",
       "                .geemap-dark {\n",
       "                    --jp-widgets-color: white;\n",
       "                    --jp-widgets-label-color: white;\n",
       "                    --jp-ui-font-color1: white;\n",
       "                    --jp-layout-color2: #454545;\n",
       "                    background-color: #383838;\n",
       "                }\n",
       "\n",
       "                .geemap-dark .jupyter-button {\n",
       "                    --jp-layout-color3: #383838;\n",
       "                }\n",
       "\n",
       "                .geemap-colab {\n",
       "                    background-color: var(--colab-primary-surface-color, white);\n",
       "                }\n",
       "\n",
       "                .geemap-colab .jupyter-button {\n",
       "                    --jp-layout-color3: var(--colab-primary-surface-color, white);\n",
       "                }\n",
       "            </style>\n",
       "            "
      ],
      "text/plain": [
       "<IPython.core.display.HTML object>"
      ]
     },
     "metadata": {},
     "output_type": "display_data"
    }
   ],
   "source": [
    "# calc open land map soc for 0-30cm and 30-100cm\n",
    "# multiply by 10 to get t/ha\n",
    "# mask water/snow/ice/cropland, urban and built-up\n",
    "soc_0_30cm_olm_t_ha = soc_0_30cm_olm.multiply(10).rename(\n",
    "    'soc_0_30cm_t_ha')\n",
    "\n",
    "soc_30_100cm_olm_t_ha = soc_30_100cm_olm.multiply(10).rename(\n",
    "    'soc_30_100cm_t_ha')\n",
    "\n",
    "# add both to same image\n",
    "soc_olm_t_ha = soc_0_30cm_olm_t_ha.addBands(soc_30_100cm_olm_t_ha)\n",
    "\n",
    "# resample to match sothe to blend images\n",
    "soc_olm_t_ha_reproj_sothe = soc_olm_t_ha.resample('bilinear').toFloat()"
   ]
  },
  {
   "cell_type": "code",
   "execution_count": 7,
   "metadata": {},
   "outputs": [
    {
     "data": {
      "text/html": [
       "\n",
       "            <style>\n",
       "                .geemap-dark {\n",
       "                    --jp-widgets-color: white;\n",
       "                    --jp-widgets-label-color: white;\n",
       "                    --jp-ui-font-color1: white;\n",
       "                    --jp-layout-color2: #454545;\n",
       "                    background-color: #383838;\n",
       "                }\n",
       "\n",
       "                .geemap-dark .jupyter-button {\n",
       "                    --jp-layout-color3: #383838;\n",
       "                }\n",
       "\n",
       "                .geemap-colab {\n",
       "                    background-color: var(--colab-primary-surface-color, white);\n",
       "                }\n",
       "\n",
       "                .geemap-colab .jupyter-button {\n",
       "                    --jp-layout-color3: var(--colab-primary-surface-color, white);\n",
       "                }\n",
       "            </style>\n",
       "            "
      ],
      "text/plain": [
       "<IPython.core.display.HTML object>"
      ]
     },
     "metadata": {},
     "output_type": "display_data"
    }
   ],
   "source": [
    "# calc sothe soc for 0-30cm and 30-100cm\n",
    "# multiply by 10 to get t/ha\n",
    "# mask water/snow/ice/cropland, urban and built-up\n",
    "soc_0_30cm_sothe_t_ha = soc_0_30cm_sothe.multiply(10).rename(\n",
    "    'soc_0_30cm_t_ha')\n",
    "\n",
    "soc_0_100cm_sothe_t_ha = soc_0_100cm_sothe.multiply(10).rename(\n",
    "    'soc_0_100cm_t_ha')\n",
    "\n",
    "soc_30_100cm_sothe_t_ha = soc_0_100cm_sothe_t_ha.subtract(soc_0_30cm_sothe_t_ha).rename(\n",
    "    'soc_30_100cm_t_ha')\n",
    "\n",
    "# add both to same image\n",
    "soc_sothe_t_ha = soc_0_30cm_sothe_t_ha.addBands(soc_30_100cm_sothe_t_ha)\n",
    "\n",
    "# blend sothe and olm carbon across y2y\n",
    "# band names must match to mosaic!\n",
    "soc_blend = ee.ImageCollection([soc_olm_t_ha_reproj_sothe, soc_sothe_t_ha]).mosaic().reproject(\n",
    "    crs=soc_sothe_t_ha.projection(),\n",
    "    crsTransform=soc_sothe_t_ha.projection().getInfo().get('transform')\n",
    "    # mask snow/ice, water, cropland, urban and built-up\n",
    ").updateMask(lc.neq(18).And(lc.neq(19)).And(lc.neq(15)).And(lc.neq(17)))\n",
    "# soc_blend = ee.ImageCollection([soc_olm_t_ha_reproj_sothe, soc_sothe_t_ha]).mosaic().rename('soc_0_30cm_t_ha', 'soc_30_100cm_t_ha').reproject(\n",
    "#     crs=soc_sothe_t_ha.projection(),\n",
    "#     crsTransform=soc_sothe_t_ha.projection().getInfo().get('transform')\n",
    "#     # mask snow/ice, water, cropland, urban and built-up\n",
    "# ).updateMask(lc.neq(18).And(lc.neq(19)).And(lc.neq(15)).And(lc.neq(17)))\n",
    "\n",
    "# mask desert pixels from soc_blend\n",
    "soc_blend = soc_blend.updateMask(desert_mask.Not())\n",
    "\n",
    "# create mask for temperate barren lands\n",
    "# LC type (16)\n",
    "# and biomes mask (5, 8)\n",
    "temperate_barren_mask = lc.eq(16).And(\n",
    "    biomes_raster.eq(5).Or(biomes_raster.eq(8)))\n",
    "soc_blend = soc_blend.updateMask(temperate_barren_mask.Not())\n",
    "\n",
    "# create mask for all forested pixels to mask out 30-100cm soc\n",
    "forest_mask = lc.gte(1).And(lc.lte(6))\n",
    "\n",
    "# create mask for temperate grasslands and shrublands to mask out 30-100cm soc\n",
    "temperate_grass_shrub_mask = (lc.eq(8).Or(lc.eq(10))).And(\n",
    "    peat.mask().Not()).And(biomes_raster.eq(5).Or(biomes_raster.eq(8)))\n",
    "\n",
    "# apply masks to soc_blend 30-100cm band ONLY\n",
    "updated_30_100cm_soc = soc_blend.select('soc_30_100cm_t_ha').updateMask(\n",
    "    forest_mask.Not()).updateMask(temperate_grass_shrub_mask.Not())\n",
    "\n",
    "# add masked 30-100cm soc back to soc_blend\n",
    "soc_blend = soc_blend.addBands(updated_30_100cm_soc, overwrite=True)\n",
    "\n",
    "# Create soc layer mask to filter pixel area raster\n",
    "# use 0-30cm soc band since masking more pixels out of 30-100cm band\n",
    "soc_mask = soc_blend.select('soc_0_30cm_t_ha').mask().neq(0)\n",
    "\n",
    "# Mask pixel_area_ha to carbon layers\n",
    "pixel_area_soc_extent = pixel_area_ha.updateMask(soc_mask)\n",
    "\n",
    "# # multiply by pixel area to get total carbon per pixel\n",
    "# soc_blend_stock = soc_blend.multiply(pixel_area_ha).rename('soc_t').addBands(\n",
    "#     pixel_area_soc_extent.rename(['pixel_area_soc_extent_ha'])\n",
    "# ).addBands(\n",
    "#     pixel_area_ha.rename(['pixel_area_ha'])\n",
    "# )\n",
    "\n",
    "# calculate soc stock\n",
    "soc_blend_stock = soc_blend.multiply(\n",
    "    pixel_area_ha).rename('soc_0_30cm_t', 'soc_30_100cm_t')\n",
    "\n",
    "# combine to define manageable soc stock\n",
    "manageable_soc_stock = soc_blend_stock.select(\n",
    "    ['soc_0_30cm_t', 'soc_30_100cm_t']).reduce(ee.Reducer.sum()).rename('manageable_soc_t')"
   ]
  },
  {
   "cell_type": "markdown",
   "metadata": {},
   "source": [
    "## Calculate vulnerable biomass carbon stock\n",
    "All manageable biomass carbon is vulnerable, so no calculations needed."
   ]
  },
  {
   "cell_type": "code",
   "execution_count": null,
   "metadata": {},
   "outputs": [
    {
     "data": {
      "text/html": [
       "\n",
       "            <style>\n",
       "                .geemap-dark {\n",
       "                    --jp-widgets-color: white;\n",
       "                    --jp-widgets-label-color: white;\n",
       "                    --jp-ui-font-color1: white;\n",
       "                    --jp-layout-color2: #454545;\n",
       "                    background-color: #383838;\n",
       "                }\n",
       "\n",
       "                .geemap-dark .jupyter-button {\n",
       "                    --jp-layout-color3: #383838;\n",
       "                }\n",
       "\n",
       "                .geemap-colab {\n",
       "                    background-color: var(--colab-primary-surface-color, white);\n",
       "                }\n",
       "\n",
       "                .geemap-colab .jupyter-button {\n",
       "                    --jp-layout-color3: var(--colab-primary-surface-color, white);\n",
       "                }\n",
       "            </style>\n",
       "            "
      ],
      "text/plain": [
       "<IPython.core.display.HTML object>"
      ]
     },
     "metadata": {},
     "output_type": "display_data"
    }
   ],
   "source": [
    "# rename total vulnerable biomass carbon\n",
    "vulnerable_bio_stock = manageable_bio_stock.rename('vulnerable_biomass_t')"
   ]
  },
  {
   "cell_type": "markdown",
   "metadata": {},
   "source": [
    "## Calculate vulnerable SOC stock\n",
    "All SOC stock is manageable down to 100cm, but vulnerable with varying percentages based on depth, lc type, and most likely conversion"
   ]
  },
  {
   "cell_type": "markdown",
   "metadata": {},
   "source": [
    "Landcover key:\n",
    "* 1: \"Temperate or sub-polar needleleaf forest\",\n",
    "* 2: \"Sub-polar taiga needleleaf forest\",\n",
    "* 3: \"Tropical or sub-tropical broadleaf evergreen forest\",\n",
    "* 4: \"Tropical or sub-tropical broadleaf deciduous forest\",\n",
    "* 5: \"Temperate or sub-polar broadleaf deciduous forest\",\n",
    "* 6: \"Mixed forest\",\n",
    "* 7: \"Tropical or sub-tropical shrubland\",\n",
    "* 8: \"Temperate or sub-polar shrubland\",\n",
    "* 9: \"Tropical or sub-tropical grassland\",\n",
    "* 10: \"Temperate or sub-polar grassland\",\n",
    "* 11: \"Sub-polar or polar shrubland-lichen-moss\",\n",
    "* 12: \"Sub-polar or polar grassland-lichen-moss\",\n",
    "* 13: \"Sub-polar or polar barren-lichen-moss\",\n",
    "* 14: \"Wetland\",\n",
    "* 15: \"Cropland\",\n",
    "* 16: \"Barren land\",\n",
    "* 17: \"Urban and built-up\",\n",
    "* 18: \"Water\",\n",
    "* 19: \"Snow and ice\""
   ]
  },
  {
   "cell_type": "code",
   "execution_count": null,
   "metadata": {},
   "outputs": [
    {
     "data": {
      "text/html": [
       "\n",
       "            <style>\n",
       "                .geemap-dark {\n",
       "                    --jp-widgets-color: white;\n",
       "                    --jp-widgets-label-color: white;\n",
       "                    --jp-ui-font-color1: white;\n",
       "                    --jp-layout-color2: #454545;\n",
       "                    background-color: #383838;\n",
       "                }\n",
       "\n",
       "                .geemap-dark .jupyter-button {\n",
       "                    --jp-layout-color3: #383838;\n",
       "                }\n",
       "\n",
       "                .geemap-colab {\n",
       "                    background-color: var(--colab-primary-surface-color, white);\n",
       "                }\n",
       "\n",
       "                .geemap-colab .jupyter-button {\n",
       "                    --jp-layout-color3: var(--colab-primary-surface-color, white);\n",
       "                }\n",
       "            </style>\n",
       "            "
      ],
      "text/plain": [
       "<IPython.core.display.HTML object>"
      ]
     },
     "metadata": {},
     "output_type": "display_data"
    }
   ],
   "source": [
    "# define vulnerable soc density\n",
    "# although northern/peat/wetland soils are manageable 0-100cm\n",
    "# for seismic line threat, only 0-30cm is vulnerable\n",
    "vulnerable_soc = soc_blend\n",
    "\n",
    "# Rasterize y2y_biomes to use for ecosystem classification based on BIOME_ID:\n",
    "# 5: Temperate Conifer Forests\n",
    "# 6: Boreal Forests/Taiga\n",
    "# 8: Temperate Grasslands, Savannas, and Shrublands\n",
    "# 11: Tundra\n",
    "# 13: Deserts and Xeric Shrublands\n",
    "biomes_raster = y2y_biomes.reduceToImage(\n",
    "    properties=['BIOME_ID'], reducer=ee.Reducer.first())\n",
    "\n",
    "# TEMPERATE FORESTS --> FORESTRY\n",
    "# create a mask based on forest lc types\n",
    "# and not peatlands (1, 2)\n",
    "# and biomes mask (5, 8, 13)\n",
    "temperate_forest_mask = lc.gte(1).And(lc.lte(6)).And(peat.mask().Not()).And(\n",
    "    biomes_raster.eq(5).Or(biomes_raster.eq(8)).Or(biomes_raster.eq(13)))\n",
    "\n",
    "# NORTHERN FORESTS --> FORESTRY\n",
    "# create a mask based on forest lc types\n",
    "# and not peatlands (1, 2)\n",
    "# and biomes mask (6, 11)\n",
    "northern_forest_mask = lc.gte(1).And(lc.lte(6)).And(peat.mask().Not()).And(\n",
    "    biomes_raster.eq(6).Or(biomes_raster.eq(11)))\n",
    "\n",
    "# TEMPERATE GRASSLANDS AND SHRUBLANDS --> AGRICULTURE\n",
    "# create a mask based on grasslands and shrublands LC type (8, 10)\n",
    "# and not peatlands (1, 2)\n",
    "# and biomes mask (8)\n",
    "temperate_grass_shrub_mask = (lc.eq(8).Or(lc.eq(10))).And(\n",
    "    peat.mask().Not()).And(biomes_raster.eq(8))\n",
    "\n",
    "# MONTANE GRASSLANDS AND SHRUBLANDS --> AGRICULTURE\n",
    "# create a mask based on grasslands and shrublands LC type (8, 10)\n",
    "# and not peatlands (1, 2)\n",
    "# and biomes mask (5)\n",
    "montane_grass_shrub_mask = (lc.eq(8).Or(lc.eq(10))).And(\n",
    "    peat.mask().Not()).And(biomes_raster.eq(5))\n",
    "\n",
    "# NORTHERN GRASSLANDS AND SHRUBLANDS --> MINING/OIL/GAS/DEV\n",
    "# create a mask based on grasslands, shrublands, lichen-moss LC type (8, 10, 11, 12, 13)\n",
    "# and not peatlands (1, 2)\n",
    "# and biomes mask (6, 11)\n",
    "northern_grass_shrub_mask = (lc.eq(8).Or(lc.eq(10)).Or(lc.eq(11)).Or(lc.eq(12)).Or(lc.eq(\n",
    "    13))).And(peat.mask().Not()).And(biomes_raster.eq(6).Or(biomes_raster.eq(11)))\n",
    "\n",
    "# TEMPERATE WETLANDS --> AGRICULTURE\n",
    "# create a mask based on wetlands LC type (14)\n",
    "# and not peatlands (1, 2)\n",
    "# and biomes mask (5, 8)\n",
    "temperate_wetlands_mask = lc.eq(14).And(peat.mask().Not()).And(\n",
    "    biomes_raster.eq(5).Or(biomes_raster.eq(8)))\n",
    "\n",
    "# NORTHERN WETLANDS --> MINING/OIL/GAS/DEV\n",
    "# create a mask based on wetlands LC type (14)\n",
    "# and not peatlands (1, 2)\n",
    "# and biomes mask (6, 11)\n",
    "northern_wetlands_mask = lc.eq(14).And(peat.mask().Not()).And(\n",
    "    biomes_raster.eq(6).Or(biomes_raster.eq(11)))\n",
    "\n",
    "# TEMPERATE PEATLANDS --> AGRICULTURE\n",
    "# create a mask based on peatlands LC type (1, 2)\n",
    "# and biomes mask (5, 8)\n",
    "temperate_peatlands_mask = peat.mask().And(\n",
    "    biomes_raster.eq(5).Or(biomes_raster.eq(8)))\n",
    "\n",
    "# NORTHERN PEATLANDS --> MINING/OIL/GAS/DEV\n",
    "# create a mask based on peatlands LC type (1, 2)\n",
    "# and biomes mask (6, 11)\n",
    "northern_peatlands_mask = peat.mask().And(\n",
    "    biomes_raster.eq(6).Or(biomes_raster.eq(11)))\n",
    "\n",
    "# NORTHERN BARREN LANDS --> MINING/OIL/GAS/DEV\n",
    "# create a mask based on barren lands LC type (16)\n",
    "# and not peatlands (1, 2)\n",
    "# and biomes mask (6, 11)\n",
    "northern_barren_mask = lc.eq(16).And(peat.mask().Not()).And(\n",
    "    biomes_raster.eq(6).Or(biomes_raster.eq(11)))\n",
    "\n",
    "# check masks to make sure they encompass full extent\n",
    "mask_check = forest_mask.Or(temperate_grass_shrub_mask).Or(montane_grass_shrub_mask).Or(\n",
    "    northern_grass_shrub_mask).Or(temperate_wetlands_mask).Or(northern_wetlands_mask).Or(\n",
    "    temperate_peatlands_mask).Or(northern_peatlands_mask).Or(northern_barren_mask)\n",
    "\n",
    "# mask vulnerable soc density 30-100cm based on seismic lines as main threat\n",
    "vul_30_100cm_soc = (\n",
    "    vulnerable_soc\n",
    "    .select('soc_30_100cm_t_ha')\n",
    "    .updateMask(northern_grass_shrub_mask.Not())\n",
    "    .updateMask(northern_wetlands_mask.Not())\n",
    "    .updateMask(northern_peatlands_mask.Not())\n",
    "    .updateMask(northern_barren_mask.Not())\n",
    ")\n",
    "\n",
    "# add masked 30-100cm soc back to vulnerable_soc\n",
    "vulnerable_soc = vulnerable_soc.addBands(vul_30_100cm_soc, overwrite=True)\n",
    "\n",
    "# set vulnerable SOC based on different masks\n",
    "# temperate_forest_mask --> 0%\n",
    "# northern_forest_mask --> 0%\n",
    "# temperate_grass_shrub_mask --> 36.1%\n",
    "# montane_grass_shrub_mask --> 36.1%\n",
    "# northern_grass_shrub_mask --> 32.2%\n",
    "# temperate_wetlands_mask --> 42%\n",
    "# northern_wetlands_mask --> 32.2%\n",
    "# temperate_peatlands_mask --> 100% or 135 t/ha\n",
    "# northern_peatlands_mask --> 32.2%\n",
    "# northern_barren_mask --> 32.2%\n",
    "vulnerable_soc_dens = (\n",
    "    vulnerable_soc\n",
    "    .select(['soc_0_30cm_t_ha', 'soc_30_100cm_t_ha'])\n",
    "    .reduce(ee.Reducer.sum())\n",
    "    .rename('vulnerable_soc_t_ha')\n",
    "    .where(temperate_forest_mask, vulnerable_soc.multiply(0))\n",
    "    .where(northern_forest_mask, vulnerable_soc.multiply(0))\n",
    "    .where(temperate_grass_shrub_mask, vulnerable_soc.multiply(.361))\n",
    "    .where(montane_grass_shrub_mask, vulnerable_soc.multiply(.361))\n",
    "    .where(northern_grass_shrub_mask, vulnerable_soc.multiply(.322))  # 0-30 cm only\n",
    "    .where(temperate_wetlands_mask, vulnerable_soc.multiply(.42))\n",
    "    .where(northern_wetlands_mask, vulnerable_soc.multiply(.322))  # 0-30 cm only\n",
    "    .where(temperate_peatlands_mask.And(vulnerable_soc.gte(135)), 135)  # 100% or 135\n",
    "    .where(northern_peatlands_mask, vulnerable_soc.multiply(.322))  # 0-30 cm only\n",
    "    .where(northern_barren_mask, vulnerable_soc.multiply(.322))  # 0-30 cm only\n",
    ")\n",
    "\n",
    "# combine to define vulnerable soc stock\n",
    "vulnerable_soc_stock = (\n",
    "    vulnerable_soc_dens\n",
    "    .multiply(pixel_area_ha)\n",
    "    .rename('vulnerable_soc_t')\n",
    ")"
   ]
  },
  {
   "cell_type": "markdown",
   "metadata": {},
   "source": [
    "## Calculate replaceable biomass carbon stock\n",
    "Based on 30 year recovery"
   ]
  },
  {
   "cell_type": "code",
   "execution_count": 24,
   "metadata": {},
   "outputs": [
    {
     "data": {
      "text/html": [
       "\n",
       "            <style>\n",
       "                .geemap-dark {\n",
       "                    --jp-widgets-color: white;\n",
       "                    --jp-widgets-label-color: white;\n",
       "                    --jp-ui-font-color1: white;\n",
       "                    --jp-layout-color2: #454545;\n",
       "                    background-color: #383838;\n",
       "                }\n",
       "\n",
       "                .geemap-dark .jupyter-button {\n",
       "                    --jp-layout-color3: #383838;\n",
       "                }\n",
       "\n",
       "                .geemap-colab {\n",
       "                    background-color: var(--colab-primary-surface-color, white);\n",
       "                }\n",
       "\n",
       "                .geemap-colab .jupyter-button {\n",
       "                    --jp-layout-color3: var(--colab-primary-surface-color, white);\n",
       "                }\n",
       "            </style>\n",
       "            "
      ],
      "text/plain": [
       "<IPython.core.display.HTML object>"
      ]
     },
     "metadata": {},
     "output_type": "display_data"
    }
   ],
   "source": [
    "# redo masks to not include peat since biomass isn't affected by peat\n",
    "# peat areas take on values of LC types\n",
    "\n",
    "# TEMPERATE FORESTS --> FORESTRY\n",
    "# create a mask based on forest lc types\n",
    "# and biomes mask (5, 8, 13)\n",
    "temperate_forest_bio_mask = lc.gte(1).And(lc.lte(6)).And(\n",
    "    biomes_raster.eq(5).Or(biomes_raster.eq(8)).Or(biomes_raster.eq(13)))\n",
    "\n",
    "# NORTHERN FORESTS --> FORESTRY\n",
    "# create a mask based on forest lc types\n",
    "# and biomes mask (6, 11)\n",
    "northern_forest_bio_mask = lc.gte(1).And(lc.lte(6)).And(\n",
    "    biomes_raster.eq(6).Or(biomes_raster.eq(11)))\n",
    "\n",
    "# # TEMPERATE GRASSLANDS AND SHRUBLANDS --> AGRICULTURE\n",
    "# # create a mask based on grasslands and shrublands LC type (8, 10)\n",
    "# # and biomes mask (8)\n",
    "# temperate_grass_shrub_bio_mask = (lc.eq(8).Or(lc.eq(10))).And(biomes_raster.eq(8))\n",
    "\n",
    "# # MONTANE GRASSLANDS AND SHRUBLANDS --> AGRICULTURE\n",
    "# # create a mask based on grasslands and shrublands LC type (8, 10)\n",
    "# # and biomes mask (5)\n",
    "# montane_grass_shrub_bio_mask = (lc.eq(8).Or(lc.eq(10))).And(biomes_raster.eq(5))\n",
    "\n",
    "# # NORTHERN GRASSLANDS AND SHRUBLANDS --> MINING/OIL/GAS/DEV\n",
    "# # create a mask based on grasslands, shrublands, lichen-moss LC type (8, 10, 11, 12, 13)\n",
    "# # and biomes mask (6, 11)\n",
    "# northern_grass_shrub_bio_mask = (lc.eq(8).Or(lc.eq(10)).Or(lc.eq(11)).Or(lc.eq(12)).Or(lc.eq(\n",
    "#     13))).And(biomes_raster.eq(6).Or(biomes_raster.eq(11)))\n",
    "\n",
    "# # TEMPERATE WETLANDS --> AGRICULTURE\n",
    "# # create a mask based on wetlands LC type (14)\n",
    "# # and biomes mask (5, 8)\n",
    "# temperate_wetlands_bio_mask = lc.eq(14).And(\n",
    "#     biomes_raster.eq(5).Or(biomes_raster.eq(8)))\n",
    "\n",
    "# # NORTHERN WETLANDS --> MINING/OIL/GAS/DEV\n",
    "# # create a mask based on wetlands LC type (14)\n",
    "# # and biomes mask (6, 11)\n",
    "# northern_wetlands_bio_mask = lc.eq(14).And(\n",
    "#     biomes_raster.eq(6).Or(biomes_raster.eq(11)))\n",
    "\n",
    "# # NORTHERN BARREN LANDS --> MINING/OIL/GAS/DEV\n",
    "# # create a mask based on barren lands LC type (16)\n",
    "# # and biomes mask (6, 11)\n",
    "# northern_barren_bio_mask = lc.eq(16).And(\n",
    "#     biomes_raster.eq(6).Or(biomes_raster.eq(11)))\n",
    "\n",
    "# set replaceable biomass C based on different masks\n",
    "# temperate_forest_bio_mask --> 1.658*20 + 2.127*10 t/ha\n",
    "# northern_forest_bio_mask --> 1.268*20 + 0.655*10 t/ha\n",
    "# temperate_grass_shrub_bio_mask --> 100% of original stock\n",
    "# montane_grass_shrub_bio_mask --> 100% of original stock\n",
    "# northern_grass_shrub_bio_mask --> 100% of original stock\n",
    "# temperate_wetlands_bio_mask --> 100% of original stock\n",
    "# northern_wetlands_bio_mask --> 100% of original stock\n",
    "# northern_barren_bio_mask --> 100% of original stock\n",
    "replaceable_bio_dens = (\n",
    "    bio_2021\n",
    "    .select(['agb_t_ha', 'bgb_t_ha'])\n",
    "    .reduce(ee.Reducer.sum())\n",
    "    .rename('replaceable_biomass_t_ha')\n",
    "    .where(temperate_forest_bio_mask, 1.658*20 + 2.127*10)\n",
    "    .where(northern_forest_bio_mask, 1.268*20 + 0.655*10)\n",
    "    # everywhere else is just the original value\n",
    ")\n",
    "\n",
    "# combine to define replaceable biomass stock\n",
    "replaceable_bio_stock = (\n",
    "    replaceable_bio_dens\n",
    "    .multiply(pixel_area_ha)\n",
    "    .rename('replaceable_biomass_t')\n",
    ")"
   ]
  },
  {
   "cell_type": "markdown",
   "metadata": {},
   "source": [
    "## Calculate replaceable SOC stock"
   ]
  },
  {
   "cell_type": "code",
   "execution_count": null,
   "metadata": {},
   "outputs": [],
   "source": [
    "# set replaceable SOC based on different masks\n",
    "# temperate_forest_mask --> none vulnerable\n",
    "# northern_forest_mask --> none vulnerable\n",
    "# temperate_grass_shrub_mask --> 57.3% of remaining added back\n",
    "# montane_grass_shrub_mask --> 25% of remaining added back\n",
    "# northern_grass_shrub_mask --> 1.3*30 t/ha\n",
    "# temperate_wetlands_mask --> 1.226*30 t/ha\n",
    "# northern_wetlands_mask --> 1.226*30 t/ha\n",
    "# temperate_peatlands_mask --> 0.28*30 t/ha\n",
    "# northern_peatlands_mask --> 0.21*30 t/ha\n",
    "# northern_barren_mask --> 1.3*30 t/ha"
   ]
  },
  {
   "cell_type": "markdown",
   "metadata": {},
   "source": [
    "## Add layers to map"
   ]
  },
  {
   "cell_type": "code",
   "execution_count": 13,
   "metadata": {},
   "outputs": [
    {
     "data": {
      "text/html": [
       "\n",
       "            <style>\n",
       "                .geemap-dark {\n",
       "                    --jp-widgets-color: white;\n",
       "                    --jp-widgets-label-color: white;\n",
       "                    --jp-ui-font-color1: white;\n",
       "                    --jp-layout-color2: #454545;\n",
       "                    background-color: #383838;\n",
       "                }\n",
       "\n",
       "                .geemap-dark .jupyter-button {\n",
       "                    --jp-layout-color3: #383838;\n",
       "                }\n",
       "\n",
       "                .geemap-colab {\n",
       "                    background-color: var(--colab-primary-surface-color, white);\n",
       "                }\n",
       "\n",
       "                .geemap-colab .jupyter-button {\n",
       "                    --jp-layout-color3: var(--colab-primary-surface-color, white);\n",
       "                }\n",
       "            </style>\n",
       "            "
      ],
      "text/plain": [
       "<IPython.core.display.HTML object>"
      ]
     },
     "metadata": {},
     "output_type": "display_data"
    }
   ],
   "source": [
    "# set biomass palette\n",
    "biomass_palette = [\n",
    "    \"#C6ECAE\", \"#A1D490\", \"#7CB970\", \"#57A751\", \"#348E32\",\n",
    "    \"#267A29\", \"#176520\", \"#0C4E15\", \"#07320D\", \"#031807\"\n",
    "]\n",
    "\n",
    "# set land cover palette\n",
    "lc_palette = [\n",
    "    \"#033e00\",  # Temperate or sub-polar needleleaf forest\n",
    "    \"#939b71\",  # Sub-polar taiga needleleaf forest\n",
    "    \"#196d12\",  # Tropical or sub-tropical broadleaf evergreen forest\n",
    "    \"#1fab01\",  # Tropical or sub-tropical broadleaf deciduous forest\n",
    "    \"#5b725c\",  # Temperate or sub-polar broadleaf deciduous forest\n",
    "    \"#6b7d2c\",  # Mixed forest\n",
    "    \"#b29d29\",  # Tropical or sub-tropical shrubland\n",
    "    \"#b48833\",  # Temperate or sub-polar shrubland\n",
    "    \"#e9da5d\",  # Tropical or sub-tropical grassland\n",
    "    \"#e0cd88\",  # Temperate or sub-polar grassland\n",
    "    \"#a07451\",  # Sub-polar or polar shrubland-lichen-moss\n",
    "    \"#bad292\",  # Sub-polar or polar grassland-lichen-moss\n",
    "    \"#3f8970\",  # Sub-polar or polar barren-lichen-moss\n",
    "    \"#6ca289\",  # Wetland\n",
    "    \"#e6ad6a\",  # Cropland\n",
    "    \"#a9abae\",  # Barren land\n",
    "    \"#db2126\",  # Urban and built-up\n",
    "    \"#4c73a1\",  # Water\n",
    "    \"#fff7fe\",  # Snow and ice\n",
    "]"
   ]
  },
  {
   "cell_type": "code",
   "execution_count": 25,
   "metadata": {},
   "outputs": [
    {
     "data": {
      "text/html": [
       "\n",
       "            <style>\n",
       "                .geemap-dark {\n",
       "                    --jp-widgets-color: white;\n",
       "                    --jp-widgets-label-color: white;\n",
       "                    --jp-ui-font-color1: white;\n",
       "                    --jp-layout-color2: #454545;\n",
       "                    background-color: #383838;\n",
       "                }\n",
       "\n",
       "                .geemap-dark .jupyter-button {\n",
       "                    --jp-layout-color3: #383838;\n",
       "                }\n",
       "\n",
       "                .geemap-colab {\n",
       "                    background-color: var(--colab-primary-surface-color, white);\n",
       "                }\n",
       "\n",
       "                .geemap-colab .jupyter-button {\n",
       "                    --jp-layout-color3: var(--colab-primary-surface-color, white);\n",
       "                }\n",
       "            </style>\n",
       "            "
      ],
      "text/plain": [
       "<IPython.core.display.HTML object>"
      ]
     },
     "metadata": {},
     "output_type": "display_data"
    },
    {
     "data": {
      "application/vnd.jupyter.widget-view+json": {
       "model_id": "17be78b1155b4ec1b81966a09a3f7757",
       "version_major": 2,
       "version_minor": 0
      },
      "text/plain": [
       "Map(center=[0, 0], controls=(WidgetControl(options=['position', 'transparent_bg'], widget=SearchDataGUI(childr…"
      ]
     },
     "execution_count": 25,
     "metadata": {},
     "output_type": "execute_result"
    }
   ],
   "source": [
    "# create a map\n",
    "m = geemap.Map()\n",
    "\n",
    "# add layers\n",
    "# m.addLayer(desert_mask, {}, \"Desert Mask\")\n",
    "m.addLayer(y2y_biomes, {}, \"Biomes\")\n",
    "m.addLayer(lc.clip(y2y), {\"min\": 1, \"max\": 19,\n",
    "                          \"palette\": lc_palette}, 'Landcover')\n",
    "# m.addLayer(pixel_area_agb_extent.clip(y2y), {}, 'Carbon Mask')\n",
    "# m.addLayer(manageable_bio_stock.select(['agb_t']).clip(y2y), {\n",
    "#     \"min\": 1, \"max\": 100, \"palette\": biomass_palette}, 'CCI AGB')\n",
    "# m.addLayer(soc_blend.select(['soc_0_30cm_t_ha']).clip(y2y), {\"min\": 1, \"max\": 450,\n",
    "#            \"palette\": biomass_palette}, \"SOC Density Blend 0-30cm\")\n",
    "# m.addLayer(soc_blend.select(['soc_30_100cm_t_ha']).clip(y2y), {\"min\": 1, \"max\": 450,\n",
    "#            \"palette\": biomass_palette}, \"SOC Density Blend 30-100cm\")\n",
    "# m.addLayer(pixel_area_soc_extent.clip(y2y), {}, 'Carbon Mask')\n",
    "# m.addLayer(peat.clip(y2y), {}, \"Peat Distribution\")\n",
    "# m.addLayer(rra, {}, \"RRA\")\n",
    "# m.addLayer(vulnerable_soc_dens.select('soc_0_30cm_t_ha').clip(y2y), {\n",
    "#            \"min\": 0, \"max\": 450, \"palette\": biomass_palette}, \"Vulnerable SOC Density 0-30cm\")\n",
    "# m.addLayer(vulnerable_soc_dens.select('soc_30_100cm_t_ha').clip(y2y), {\n",
    "#            \"min\": 0, \"max\": 450, \"palette\": biomass_palette}, \"Vulnerable SOC Density 30-100cm\")\n",
    "\n",
    "# final stock layers\n",
    "m.addLayer(manageable_bio_stock.clip(y2y), {\n",
    "           \"min\": 0, \"max\": 450, \"palette\": biomass_palette}, \"Manageable Bio Stock\")\n",
    "# m.addLayer(manageable_soc_stock.clip(y2y), {\n",
    "#            \"min\": 0, \"max\": 450, \"palette\": biomass_palette}, \"Manageable SOC Stock\")\n",
    "# m.addLayer(vulnerable_soc_stock.clip(y2y), {\n",
    "#            \"min\": 0, \"max\": 450, \"palette\": biomass_palette}, \"Vulnerable SOC Stock\")\n",
    "m.addLayer(replaceable_bio_stock.clip(y2y), {\n",
    "           \"min\": 0, \"max\": 450, \"palette\": biomass_palette}, \"Replaceable Bio Stock\")\n",
    "\n",
    "\n",
    "# check masks\n",
    "# m.addLayer(mask_check.clip(y2y), {}, \"Mask Check\")\n",
    "# m.addLayer(forest_mask.clip(y2y), {}, \"Forest Mask\")\n",
    "# m.addLayer(temperate_grass_shrub_mask.clip(y2y), {}, \"Temperate Grasslands and Shrublands\")\n",
    "# m.addLayer(montane_grass_shrub_mask.clip(y2y), {}, \"Montane Grasslands and Shrublands\")\n",
    "# m.addLayer(northern_grass_shrub_mask.clip(y2y), {}, \"Northern Grasslands and Shrublands\")\n",
    "# m.addLayer(temperate_wetlands_mask.clip(y2y), {}, \"Temperate Wetlands\")\n",
    "# m.addLayer(northern_wetlands_mask.clip(y2y), {}, \"Northern Wetlands\")\n",
    "# m.addLayer(temperate_peatlands_mask.clip(y2y), {}, \"Temperate Peatlands\")\n",
    "# m.addLayer(northern_peatlands_mask.clip(y2y), {}, \"Northern Peatlands\")\n",
    "# m.addLayer(northern_barren_mask.clip(y2y), {}, \"Northern Barren Lands\")\n",
    "\n",
    "# display the map\n",
    "m"
   ]
  },
  {
   "cell_type": "code",
   "execution_count": null,
   "metadata": {},
   "outputs": [
    {
     "name": "stdout",
     "output_type": "stream",
     "text": []
    }
   ],
   "source": [
    "# Initial amount\n",
    "initial_amount = 100\n",
    "\n",
    "# Loss rate per year (5%)\n",
    "loss_rate = 0.05\n",
    "\n",
    "# Number of years\n",
    "years = 30\n",
    "\n",
    "# Formula to calculate remaining amount after 30 years with a 5% annual loss\n",
    "remaining_amount = initial_amount * (1 - loss_rate) ** years\n",
    "print(remaining_amount)"
   ]
  },
  {
   "cell_type": "code",
   "execution_count": 4,
   "metadata": {},
   "outputs": [
    {
     "name": "stdout",
     "output_type": "stream",
     "text": []
    }
   ],
   "source": [
    "2146/10000"
   ]
  },
  {
   "cell_type": "code",
   "execution_count": null,
   "metadata": {},
   "outputs": [],
   "source": []
  }
 ],
 "metadata": {
  "kernelspec": {
   "display_name": ".venv",
   "language": "python",
   "name": "python3"
  },
  "language_info": {
   "codemirror_mode": {
    "name": "ipython",
    "version": 3
   },
   "file_extension": ".py",
   "mimetype": "text/x-python",
   "name": "python",
   "nbconvert_exporter": "python",
   "pygments_lexer": "ipython3",
   "version": "3.12.6"
  }
 },
 "nbformat": 4,
 "nbformat_minor": 2
}
