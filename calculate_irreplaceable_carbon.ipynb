{
 "cells": [
  {
   "cell_type": "markdown",
   "metadata": {},
   "source": [
    "This code calculates manageable, vulnerable, and irreplaceable carbon across Y2Y"
   ]
  },
  {
   "cell_type": "code",
   "execution_count": 1,
   "metadata": {},
   "outputs": [],
   "source": [
    "# import packages\n",
    "import ee\n",
    "import geemap\n",
    "\n",
    "import pandas as pd"
   ]
  },
  {
   "cell_type": "code",
   "execution_count": 2,
   "metadata": {},
   "outputs": [
    {
     "data": {
      "text/html": [
       "\n",
       "            <style>\n",
       "                .geemap-dark {\n",
       "                    --jp-widgets-color: white;\n",
       "                    --jp-widgets-label-color: white;\n",
       "                    --jp-ui-font-color1: white;\n",
       "                    --jp-layout-color2: #454545;\n",
       "                    background-color: #383838;\n",
       "                }\n",
       "\n",
       "                .geemap-dark .jupyter-button {\n",
       "                    --jp-layout-color3: #383838;\n",
       "                }\n",
       "\n",
       "                .geemap-colab {\n",
       "                    background-color: var(--colab-primary-surface-color, white);\n",
       "                }\n",
       "\n",
       "                .geemap-colab .jupyter-button {\n",
       "                    --jp-layout-color3: var(--colab-primary-surface-color, white);\n",
       "                }\n",
       "            </style>\n",
       "            "
      ],
      "text/plain": [
       "<IPython.core.display.HTML object>"
      ]
     },
     "metadata": {},
     "output_type": "display_data"
    }
   ],
   "source": [
    "# authenticate the EE api\n",
    "# ee.Authenticate()"
   ]
  },
  {
   "cell_type": "code",
   "execution_count": 3,
   "metadata": {},
   "outputs": [
    {
     "data": {
      "text/html": [
       "\n",
       "            <style>\n",
       "                .geemap-dark {\n",
       "                    --jp-widgets-color: white;\n",
       "                    --jp-widgets-label-color: white;\n",
       "                    --jp-ui-font-color1: white;\n",
       "                    --jp-layout-color2: #454545;\n",
       "                    background-color: #383838;\n",
       "                }\n",
       "\n",
       "                .geemap-dark .jupyter-button {\n",
       "                    --jp-layout-color3: #383838;\n",
       "                }\n",
       "\n",
       "                .geemap-colab {\n",
       "                    background-color: var(--colab-primary-surface-color, white);\n",
       "                }\n",
       "\n",
       "                .geemap-colab .jupyter-button {\n",
       "                    --jp-layout-color3: var(--colab-primary-surface-color, white);\n",
       "                }\n",
       "            </style>\n",
       "            "
      ],
      "text/plain": [
       "<IPython.core.display.HTML object>"
      ]
     },
     "metadata": {},
     "output_type": "display_data"
    }
   ],
   "source": [
    "# initialize the EE api\n",
    "ee.Initialize(project='ee-bermane')"
   ]
  },
  {
   "cell_type": "markdown",
   "metadata": {},
   "source": [
    "## Define GEE datasets"
   ]
  },
  {
   "cell_type": "code",
   "execution_count": 61,
   "metadata": {},
   "outputs": [
    {
     "data": {
      "text/html": [
       "\n",
       "            <style>\n",
       "                .geemap-dark {\n",
       "                    --jp-widgets-color: white;\n",
       "                    --jp-widgets-label-color: white;\n",
       "                    --jp-ui-font-color1: white;\n",
       "                    --jp-layout-color2: #454545;\n",
       "                    background-color: #383838;\n",
       "                }\n",
       "\n",
       "                .geemap-dark .jupyter-button {\n",
       "                    --jp-layout-color3: #383838;\n",
       "                }\n",
       "\n",
       "                .geemap-colab {\n",
       "                    background-color: var(--colab-primary-surface-color, white);\n",
       "                }\n",
       "\n",
       "                .geemap-colab .jupyter-button {\n",
       "                    --jp-layout-color3: var(--colab-primary-surface-color, white);\n",
       "                }\n",
       "            </style>\n",
       "            "
      ],
      "text/plain": [
       "<IPython.core.display.HTML object>"
      ]
     },
     "metadata": {},
     "output_type": "display_data"
    }
   ],
   "source": [
    "# define EE datasets\n",
    "agb = ee.ImageCollection(\"projects/sat-io/open-datasets/ESA/ESA_CCI_AGB\")\n",
    "y2y = ee.FeatureCollection(\"projects/ee-bermane/assets/y2y\")\n",
    "lc = ee.Image(\"USGS/NLCD_RELEASES/2020_REL/NALCMS\")\n",
    "rsr = ee.Image(\"projects/ee-bermane/assets/Root_shoot_ratio_Map_Merged\")\n",
    "# countries = ee.FeatureCollection(\"USDOS/LSIB/2017\")\n",
    "# y2y_ecoregions = ee.FeatureCollection(\n",
    "#     \"projects/ee-bermane/assets/y2y_ecoregions\")\n",
    "y2y_biomes = ee.FeatureCollection(\"projects/ee-bermane/assets/y2y_biomes\")\n",
    "# y2y_protected_areas = ee.FeatureCollection(\n",
    "#     \"projects/ee-bermane/assets/y2y_protected_areas\")\n",
    "# y2y_protected_areas_canada = ee.FeatureCollection(\n",
    "#     \"projects/ee-bermane/assets/y2y_protected_areas_canada\")\n",
    "rra = ee.FeatureCollection(\"projects/ee-bermane/assets/ross_river_ipca\")\n",
    "soc_olm = ee.Image(\"projects/ee-bermane/assets/soc_0_1m_kg_m2_olm\")\n",
    "# soc_soilgrids = ee.Image(\"projects/soilgrids-isric/ocs_mean\")\n",
    "soc_sothe = ee.Image(\n",
    "    \"projects/ee-bermane/assets/McMaster_WWFCanada_soil_carbon1m_250m_kg-m2_version3\")\n",
    "# soc_socs = ee.Image(\"projects/ee-bermane/assets/SOCS_0_1m_mg_ha_year_2010\")\n",
    "peat = ee.Image(\"projects/sat-io/open-datasets/GLOBAL-PEATLAND-DATABASE\")"
   ]
  },
  {
   "cell_type": "markdown",
   "metadata": {},
   "source": [
    "## Calculate manageable biomass stock from ESA CCI data\n",
    "\n",
    "Includes all biomass except for non-forest pixels within the desert biome and the following LC types: barren ground, snow/ice, water, cropland, urban and built-up."
   ]
  },
  {
   "cell_type": "markdown",
   "metadata": {},
   "source": [
    "## NEED TO MASK PROTECTED AREAS!"
   ]
  },
  {
   "cell_type": "code",
   "execution_count": 50,
   "metadata": {},
   "outputs": [
    {
     "data": {
      "text/html": [
       "\n",
       "            <style>\n",
       "                .geemap-dark {\n",
       "                    --jp-widgets-color: white;\n",
       "                    --jp-widgets-label-color: white;\n",
       "                    --jp-ui-font-color1: white;\n",
       "                    --jp-layout-color2: #454545;\n",
       "                    background-color: #383838;\n",
       "                }\n",
       "\n",
       "                .geemap-dark .jupyter-button {\n",
       "                    --jp-layout-color3: #383838;\n",
       "                }\n",
       "\n",
       "                .geemap-colab {\n",
       "                    background-color: var(--colab-primary-surface-color, white);\n",
       "                }\n",
       "\n",
       "                .geemap-colab .jupyter-button {\n",
       "                    --jp-layout-color3: var(--colab-primary-surface-color, white);\n",
       "                }\n",
       "            </style>\n",
       "            "
      ],
      "text/plain": [
       "<IPython.core.display.HTML object>"
      ]
     },
     "metadata": {},
     "output_type": "display_data"
    }
   ],
   "source": [
    "# calc 2021 ESA CCI biomass\n",
    "# grab the 2021 AGB images\n",
    "agb_2021 = agb.filter(ee.Filter.stringContains(\"system:index\", \"2021\")).first()\n",
    "\n",
    "# create image for litter using Harris ratio (4%)\n",
    "# leave out dead wood since it is likely sensed already\n",
    "# mask litter only for forested LC types\n",
    "# 1: \"#033e00\",  # Temperate or sub-polar needleleaf forest\n",
    "# 2: \"#939b71\",  # Sub-polar taiga needleleaf forest\n",
    "# 3: \"#196d12\",  # Tropical or sub-tropical broadleaf evergreen forest\n",
    "# 4: \"#1fab01\",  # Tropical or sub-tropical broadleaf deciduous forest\n",
    "# 5: \"#5b725c\",  # Temperate or sub-polar broadleaf deciduous forest\n",
    "# 6: \"#6b7d2c\",  # Mixed forest\n",
    "\n",
    "litter_mask = lc.gte(1).And(lc.lte(6))\n",
    "\n",
    "litter = agb_2021.select(['AGB']).multiply(0.04).multiply(litter_mask)\n",
    "\n",
    "# create image for BGB (using global rsr map)\n",
    "bgb = agb_2021.select(['AGB']).multiply(rsr).rename('BGB')\n",
    "\n",
    "# add AGB + litter and BGB together\n",
    "bio_2021 = agb_2021.select(['AGB']).add(litter).addBands(\n",
    "    bgb).rename(['agb_t_ha', 'bgb_t_ha'])\n",
    "\n",
    "# multiply values by 0.47 to get carbon density\n",
    "# 0.47 used by Harris et al. (2021)\n",
    "# mask barren ground, snow/ice, water, cropland, urban and built-up\n",
    "bio_2021 = bio_2021.multiply(0.47).updateMask(\n",
    "    lc.neq(18).And(lc.neq(19)).And(lc.neq(16)).And(lc.neq(15)).And(lc.neq(17)))\n",
    "\n",
    "# Rasterize y2y_biomes to extract desert biome\n",
    "biomes_raster = y2y_biomes.reduceToImage(properties=['BIOME_ID'], reducer=ee.Reducer.first())\n",
    "\n",
    "# create a mask of forest lc types\n",
    "forest_mask = lc.gte(1).And(lc.lte(6))\n",
    "\n",
    "# combine desert mask and forest mask\n",
    "# desert BIOME_ID = 13 in biomes_raster\n",
    "desert_mask = biomes_raster.eq(13).And(forest_mask.Not())\n",
    "\n",
    "# mask desert pixels from bio_2021\n",
    "bio_2021 = bio_2021.updateMask(desert_mask.Not())\n",
    "\n",
    "# compute per-pixel area in ha\n",
    "pixel_area_ha = ee.Image.pixelArea().divide(10000)\n",
    "\n",
    "# Create carbon layer mask to filter pixel area raster\n",
    "carbon_mask = bio_2021.select(['agb_t_ha']).mask().neq(0)\n",
    "\n",
    "# Mask pixel_area_ha to carbon layers\n",
    "pixel_area_agb_extent = pixel_area_ha.updateMask(carbon_mask)\n",
    "\n",
    "# # calculate total biomass c per pixel and rename bands\n",
    "# bio_stock_2021 = bio_2021.multiply(\n",
    "#     pixel_area_ha\n",
    "# ).rename(\n",
    "#     ['agb_t', 'bgb_t']\n",
    "# ).addBands(\n",
    "#     pixel_area_agb_extent.rename(['pixel_area_agb_extent_ha'])\n",
    "# ).addBands(\n",
    "#     pixel_area_ha.rename(['pixel_area_ha'])\n",
    "# )\n",
    "\n",
    "# rename total manageable biomass carbon\n",
    "manageable_bio_stock = bio_2021.multiply(\n",
    "    pixel_area_ha\n",
    ").rename(\n",
    "    ['agb_t', 'bgb_t']\n",
    ")"
   ]
  },
  {
   "cell_type": "markdown",
   "metadata": {},
   "source": [
    "## Calculate manageable soil carbon stock from Sothe Canada data and Open Land Map US data\n",
    "\n",
    "Includes all SOC 0-1m except for non-forest pixels within the desert biome, barren lands within temperate zones, and the following LC types: snow/ice, water, cropland, urban and built-up."
   ]
  },
  {
   "cell_type": "markdown",
   "metadata": {},
   "source": [
    "## NEED TO MASK PROTECTED AREAS!!!"
   ]
  },
  {
   "cell_type": "code",
   "execution_count": 83,
   "metadata": {},
   "outputs": [
    {
     "data": {
      "text/html": [
       "\n",
       "            <style>\n",
       "                .geemap-dark {\n",
       "                    --jp-widgets-color: white;\n",
       "                    --jp-widgets-label-color: white;\n",
       "                    --jp-ui-font-color1: white;\n",
       "                    --jp-layout-color2: #454545;\n",
       "                    background-color: #383838;\n",
       "                }\n",
       "\n",
       "                .geemap-dark .jupyter-button {\n",
       "                    --jp-layout-color3: #383838;\n",
       "                }\n",
       "\n",
       "                .geemap-colab {\n",
       "                    background-color: var(--colab-primary-surface-color, white);\n",
       "                }\n",
       "\n",
       "                .geemap-colab .jupyter-button {\n",
       "                    --jp-layout-color3: var(--colab-primary-surface-color, white);\n",
       "                }\n",
       "            </style>\n",
       "            "
      ],
      "text/plain": [
       "<IPython.core.display.HTML object>"
      ]
     },
     "metadata": {},
     "output_type": "display_data"
    }
   ],
   "source": [
    "# calc open land map soc\n",
    "# multiply by 10 to get t/ha\n",
    "# mask water/snow/ice/cropland, urban and built-up\n",
    "soc_olm = soc_olm.multiply(10).rename(\n",
    "    'soc_dens').updateMask(lc.neq(18).And(lc.neq(19)).And(lc.neq(15)).And(lc.neq(17)))\n",
    "\n",
    "# multiply by pixel area to get total carbon per pixel\n",
    "soc_olm_stock = soc_olm.multiply(pixel_area_ha).rename('total_olm_soc')\n",
    "\n",
    "# reproject to match sothe to blend images\n",
    "soc_olm_reproj_sothe = soc_olm.resample('bilinear').toFloat()"
   ]
  },
  {
   "cell_type": "code",
   "execution_count": 84,
   "metadata": {},
   "outputs": [
    {
     "data": {
      "text/html": [
       "\n",
       "            <style>\n",
       "                .geemap-dark {\n",
       "                    --jp-widgets-color: white;\n",
       "                    --jp-widgets-label-color: white;\n",
       "                    --jp-ui-font-color1: white;\n",
       "                    --jp-layout-color2: #454545;\n",
       "                    background-color: #383838;\n",
       "                }\n",
       "\n",
       "                .geemap-dark .jupyter-button {\n",
       "                    --jp-layout-color3: #383838;\n",
       "                }\n",
       "\n",
       "                .geemap-colab {\n",
       "                    background-color: var(--colab-primary-surface-color, white);\n",
       "                }\n",
       "\n",
       "                .geemap-colab .jupyter-button {\n",
       "                    --jp-layout-color3: var(--colab-primary-surface-color, white);\n",
       "                }\n",
       "            </style>\n",
       "            "
      ],
      "text/plain": [
       "<IPython.core.display.HTML object>"
      ]
     },
     "metadata": {},
     "output_type": "display_data"
    }
   ],
   "source": [
    "# calc sothe soc\n",
    "# multiply by 10 to get t/ha\n",
    "# mask water/snow/ice/cropland, urban and built-up\n",
    "soc_sothe = soc_sothe.multiply(10).rename(\n",
    "    'soc_dens').updateMask(lc.neq(18).And(lc.neq(19)).And(lc.neq(15)).And(lc.neq(17)))\n",
    "\n",
    "# blend sothe and olm carbon across y2y\n",
    "soc_blend = ee.ImageCollection([soc_olm_reproj_sothe, soc_sothe]).mosaic().rename('soc_t_ha').reproject(\n",
    "    crs=soc_sothe.projection(),\n",
    "    crsTransform=soc_sothe.projection().getInfo().get('transform')\n",
    ").updateMask(lc.neq(18).And(lc.neq(19)).And(lc.neq(15)).And(lc.neq(17)))  # mask snow/ice, water, cropland, urban and built-up\n",
    "\n",
    "# mask desert pixels from soc_blend\n",
    "soc_blend = soc_blend.updateMask(desert_mask.Not())\n",
    "\n",
    "# create mask for temperate barren lands \n",
    "# LC type (16)\n",
    "# and biomes mask (5, 8)\n",
    "temperate_barren_mask = lc.eq(16).And(biomes_raster.eq(5).Or(biomes_raster.eq(8)))\n",
    "soc_blend = soc_blend.updateMask(temperate_barren_mask.Not())\n",
    "\n",
    "# Create soc layer mask to filter pixel area raster\n",
    "soc_mask = soc_blend.mask().neq(0)\n",
    "\n",
    "# Mask pixel_area_ha to carbon layers\n",
    "pixel_area_soc_extent = pixel_area_ha.updateMask(soc_mask)\n",
    "\n",
    "# # multiply by pixel area to get total carbon per pixel\n",
    "# soc_blend_stock = soc_blend.multiply(pixel_area_ha).rename('soc_t').addBands(\n",
    "#     pixel_area_soc_extent.rename(['pixel_area_soc_extent_ha'])\n",
    "# ).addBands(\n",
    "#     pixel_area_ha.rename(['pixel_area_ha'])\n",
    "# )\n",
    "\n",
    "# rename total manageable soil carbon\n",
    "manageable_soc_stock = soc_blend.multiply(pixel_area_ha).rename('soc_t')"
   ]
  },
  {
   "cell_type": "markdown",
   "metadata": {},
   "source": [
    "## Calculate vulnerable biomass carbon stock\n",
    "All manageable biomass carbon is vulnerable, so no calculations needed."
   ]
  },
  {
   "cell_type": "code",
   "execution_count": 56,
   "metadata": {},
   "outputs": [
    {
     "data": {
      "text/html": [
       "\n",
       "            <style>\n",
       "                .geemap-dark {\n",
       "                    --jp-widgets-color: white;\n",
       "                    --jp-widgets-label-color: white;\n",
       "                    --jp-ui-font-color1: white;\n",
       "                    --jp-layout-color2: #454545;\n",
       "                    background-color: #383838;\n",
       "                }\n",
       "\n",
       "                .geemap-dark .jupyter-button {\n",
       "                    --jp-layout-color3: #383838;\n",
       "                }\n",
       "\n",
       "                .geemap-colab {\n",
       "                    background-color: var(--colab-primary-surface-color, white);\n",
       "                }\n",
       "\n",
       "                .geemap-colab .jupyter-button {\n",
       "                    --jp-layout-color3: var(--colab-primary-surface-color, white);\n",
       "                }\n",
       "            </style>\n",
       "            "
      ],
      "text/plain": [
       "<IPython.core.display.HTML object>"
      ]
     },
     "metadata": {},
     "output_type": "display_data"
    }
   ],
   "source": [
    "# rename total vulnerable biomass carbon\n",
    "vulnerable_bio_stock = manageable_bio_stock"
   ]
  },
  {
   "cell_type": "markdown",
   "metadata": {},
   "source": [
    "## Calculate vulnerable SOC stock\n",
    "All SOC stock is vulnerable down to 100cm, but with varying percentages based on depth, lc type, and most likely conversion"
   ]
  },
  {
   "cell_type": "markdown",
   "metadata": {},
   "source": [
    "Landcover key:\n",
    "* 1: \"Temperate or sub-polar needleleaf forest\",\n",
    "* 2: \"Sub-polar taiga needleleaf forest\",\n",
    "* 3: \"Tropical or sub-tropical broadleaf evergreen forest\",\n",
    "* 4: \"Tropical or sub-tropical broadleaf deciduous forest\",\n",
    "* 5: \"Temperate or sub-polar broadleaf deciduous forest\",\n",
    "* 6: \"Mixed forest\",\n",
    "* 7: \"Tropical or sub-tropical shrubland\",\n",
    "* 8: \"Temperate or sub-polar shrubland\",\n",
    "* 9: \"Tropical or sub-tropical grassland\",\n",
    "* 10: \"Temperate or sub-polar grassland\",\n",
    "* 11: \"Sub-polar or polar shrubland-lichen-moss\",\n",
    "* 12: \"Sub-polar or polar grassland-lichen-moss\",\n",
    "* 13: \"Sub-polar or polar barren-lichen-moss\",\n",
    "* 14: \"Wetland\",\n",
    "* 15: \"Cropland\",\n",
    "* 16: \"Barren land\",\n",
    "* 17: \"Urban and built-up\",\n",
    "* 18: \"Water\",\n",
    "* 19: \"Snow and ice\""
   ]
  },
  {
   "cell_type": "code",
   "execution_count": null,
   "metadata": {},
   "outputs": [
    {
     "data": {
      "text/html": [
       "\n",
       "            <style>\n",
       "                .geemap-dark {\n",
       "                    --jp-widgets-color: white;\n",
       "                    --jp-widgets-label-color: white;\n",
       "                    --jp-ui-font-color1: white;\n",
       "                    --jp-layout-color2: #454545;\n",
       "                    background-color: #383838;\n",
       "                }\n",
       "\n",
       "                .geemap-dark .jupyter-button {\n",
       "                    --jp-layout-color3: #383838;\n",
       "                }\n",
       "\n",
       "                .geemap-colab {\n",
       "                    background-color: var(--colab-primary-surface-color, white);\n",
       "                }\n",
       "\n",
       "                .geemap-colab .jupyter-button {\n",
       "                    --jp-layout-color3: var(--colab-primary-surface-color, white);\n",
       "                }\n",
       "            </style>\n",
       "            "
      ],
      "text/plain": [
       "<IPython.core.display.HTML object>"
      ]
     },
     "metadata": {},
     "output_type": "display_data"
    }
   ],
   "source": [
    "# rename total vulnerable soil carbon\n",
    "vulnerable_soc_stock = manageable_soc_stock\n",
    "\n",
    "# Rasterize y2y_biomes to use for ecosystem classification based on BIOME_ID:\n",
    "# 5: Temperate Conifer Forests\n",
    "# 6: Boreal Forests/Taiga\n",
    "# 8: Temperate Grasslands, Savannas, and Shrublands\n",
    "# 11: Tundra\n",
    "# 13: Deserts and Xeric Shrublands\n",
    "biomes_raster = y2y_biomes.reduceToImage(properties=['BIOME_ID'], reducer=ee.Reducer.first())\n",
    "\n",
    "# ALL FORESTS --> FORESTRY\n",
    "# create a mask based only on forest lc types\n",
    "forest_mask = lc.gte(1).And(lc.lte(6))\n",
    "\n",
    "# TEMPERATE GRASSLANDS AND SHRUBLANDS --> AGRICULTURE\n",
    "# create a mask based on grasslands and shrublands LC type (8, 10)\n",
    "# and not peatlands (1, 2)\n",
    "# and biomes mask (5, 8)\n",
    "temperate_grass_shrub_mask = lc.eq(8).Or(lc.eq(10)).And(peat.neq(1).And(peat.neq(2))).And(biomes_raster.eq(5).Or(biomes_raster.eq(8)))\n",
    "\n",
    "# NORTHERN GRASSLANDS AND SHRUBLANDS --> MINING/OIL/GAS/DEV\n",
    "# create a mask based on grasslands, shrublands, lichen-moss LC type (8, 10, 11, 12, 13)\n",
    "# and not peatlands (1, 2)\n",
    "# and biomes mask (6, 11)\n",
    "northern_grass_shrub_mask = lc.eq(8).Or(lc.eq(10)).Or(lc.eq(11)).Or(lc.eq(12)).Or(lc.eq(13)).And(peat.neq(1).And(peat.neq(2))).And(biomes_raster.eq(6).Or(biomes_raster.eq(11)))\n",
    "\n",
    "# MONTANE GRASSLANDS AND SHRUBLANDS --> AGRICULTURE\n",
    "#???????\n",
    "\n",
    "# TEMPERATE WETLANDS --> AGRICULTURE\n",
    "# create a mask based on wetlands LC type (14)\n",
    "# and not peatlands (1, 2)\n",
    "# and biomes mask (5, 8)\n",
    "temperate_wetlands_mask = lc.eq(14).And(peat.neq(1).And(peat.neq(2))).And(biomes_raster.eq(5).Or(biomes_raster.eq(8)))\n",
    "\n",
    "# NORTHERN WETLANDS --> MINING/OIL/GAS/DEV\n",
    "# create a mask based on wetlands LC type (14)\n",
    "# and not peatlands (1, 2)\n",
    "# and biomes mask (6, 11)\n",
    "northern_wetlands_mask = lc.eq(14).And(peat.neq(1).And(peat.neq(2))).And(biomes_raster.eq(6).Or(biomes_raster.eq(11)))\n",
    "\n",
    "# TEMPERATE PEATLANDS --> AGRICULTURE\n",
    "# create a mask based on peatlands LC type (1, 2)\n",
    "# and biomes mask (5, 8)\n",
    "temperate_peatlands_mask = peat.eq(1).Or(peat.eq(2)).And(biomes_raster.eq(5).Or(biomes_raster.eq(8)))\n",
    "\n",
    "# NORTHERN PEATLANDS --> MINING/OIL/GAS/DEV\n",
    "# create a mask based on peatlands LC type (1, 2)\n",
    "# and biomes mask (6, 11)\n",
    "northern_peatlands_mask = peat.eq(1).Or(peat.eq(2)).And(biomes_raster.eq(6).Or(biomes_raster.eq(11)))\n",
    "\n",
    "# NORTHERN BARREN LANDS --> MINING/OIL/GAS/DEV\n",
    "# create a mask based on barren lands LC type (16)\n",
    "# and biomes mask (6, 11)\n",
    "northern_barren_mask = lc.eq(16).And(biomes_raster.eq(6).Or(biomes_raster.eq(11)))\n",
    "\n",
    "# set vulnerable SOC based on different masks\n",
    "# forest_mask --> 0%\n",
    "#vulnerable_soc_stock = vulnerable_soc_stock.where(forest_mask, 0)\n",
    "\n",
    "check = lc.eq(13)"
   ]
  },
  {
   "cell_type": "markdown",
   "metadata": {},
   "source": [
    "## Add layers to map"
   ]
  },
  {
   "cell_type": "code",
   "execution_count": null,
   "metadata": {},
   "outputs": [
    {
     "data": {
      "text/html": [
       "\n",
       "            <style>\n",
       "                .geemap-dark {\n",
       "                    --jp-widgets-color: white;\n",
       "                    --jp-widgets-label-color: white;\n",
       "                    --jp-ui-font-color1: white;\n",
       "                    --jp-layout-color2: #454545;\n",
       "                    background-color: #383838;\n",
       "                }\n",
       "\n",
       "                .geemap-dark .jupyter-button {\n",
       "                    --jp-layout-color3: #383838;\n",
       "                }\n",
       "\n",
       "                .geemap-colab {\n",
       "                    background-color: var(--colab-primary-surface-color, white);\n",
       "                }\n",
       "\n",
       "                .geemap-colab .jupyter-button {\n",
       "                    --jp-layout-color3: var(--colab-primary-surface-color, white);\n",
       "                }\n",
       "            </style>\n",
       "            "
      ],
      "text/plain": [
       "<IPython.core.display.HTML object>"
      ]
     },
     "metadata": {},
     "output_type": "display_data"
    }
   ],
   "source": [
    "# set biomass palette\n",
    "biomass_palette = [\n",
    "    \"#C6ECAE\", \"#A1D490\", \"#7CB970\", \"#57A751\", \"#348E32\",\n",
    "    \"#267A29\", \"#176520\", \"#0C4E15\", \"#07320D\", \"#031807\"\n",
    "]\n",
    "\n",
    "# set land cover palette\n",
    "lc_palette = [\n",
    "    \"#033e00\",  # Temperate or sub-polar needleleaf forest\n",
    "    \"#939b71\",  # Sub-polar taiga needleleaf forest\n",
    "    \"#196d12\",  # Tropical or sub-tropical broadleaf evergreen forest\n",
    "    \"#1fab01\",  # Tropical or sub-tropical broadleaf deciduous forest\n",
    "    \"#5b725c\",  # Temperate or sub-polar broadleaf deciduous forest\n",
    "    \"#6b7d2c\",  # Mixed forest\n",
    "    \"#b29d29\",  # Tropical or sub-tropical shrubland\n",
    "    \"#b48833\",  # Temperate or sub-polar shrubland\n",
    "    \"#e9da5d\",  # Tropical or sub-tropical grassland\n",
    "    \"#e0cd88\",  # Temperate or sub-polar grassland\n",
    "    \"#a07451\",  # Sub-polar or polar shrubland-lichen-moss\n",
    "    \"#bad292\",  # Sub-polar or polar grassland-lichen-moss\n",
    "    \"#3f8970\",  # Sub-polar or polar barren-lichen-moss\n",
    "    \"#6ca289\",  # Wetland\n",
    "    \"#e6ad6a\",  # Cropland\n",
    "    \"#a9abae\",  # Barren land\n",
    "    \"#db2126\",  # Urban and built-up\n",
    "    \"#4c73a1\",  # Water\n",
    "    \"#fff7fe\",  # Snow and ice\n",
    "]"
   ]
  },
  {
   "cell_type": "code",
   "execution_count": 85,
   "metadata": {},
   "outputs": [
    {
     "data": {
      "text/html": [
       "\n",
       "            <style>\n",
       "                .geemap-dark {\n",
       "                    --jp-widgets-color: white;\n",
       "                    --jp-widgets-label-color: white;\n",
       "                    --jp-ui-font-color1: white;\n",
       "                    --jp-layout-color2: #454545;\n",
       "                    background-color: #383838;\n",
       "                }\n",
       "\n",
       "                .geemap-dark .jupyter-button {\n",
       "                    --jp-layout-color3: #383838;\n",
       "                }\n",
       "\n",
       "                .geemap-colab {\n",
       "                    background-color: var(--colab-primary-surface-color, white);\n",
       "                }\n",
       "\n",
       "                .geemap-colab .jupyter-button {\n",
       "                    --jp-layout-color3: var(--colab-primary-surface-color, white);\n",
       "                }\n",
       "            </style>\n",
       "            "
      ],
      "text/plain": [
       "<IPython.core.display.HTML object>"
      ]
     },
     "metadata": {},
     "output_type": "display_data"
    },
    {
     "data": {
      "application/vnd.jupyter.widget-view+json": {
       "model_id": "c40c40777a82458094b779464ad9ef83",
       "version_major": 2,
       "version_minor": 0
      },
      "text/plain": [
       "Map(center=[0, 0], controls=(WidgetControl(options=['position', 'transparent_bg'], widget=SearchDataGUI(childr…"
      ]
     },
     "execution_count": 85,
     "metadata": {},
     "output_type": "execute_result"
    }
   ],
   "source": [
    "# create a map\n",
    "m = geemap.Map()\n",
    "\n",
    "# add layers\n",
    "# m.addLayer(desert_mask, {}, \"Desert Mask\")\n",
    "m.addLayer(y2y_biomes, {}, \"Biomes\")\n",
    "m.addLayer(lc.clip(y2y), {\"min\": 1, \"max\": 19,\n",
    "                          \"palette\": lc_palette}, 'Landcover')\n",
    "# m.addLayer(pixel_area_agb_extent.clip(y2y), {}, 'Carbon Mask')\n",
    "# m.addLayer(manageable_bio_stock.select(['agb_t']).clip(y2y), {\n",
    "#     \"min\": 1, \"max\": 100, \"palette\": biomass_palette}, 'CCI AGB')\n",
    "m.addLayer(soc_blend, {\"min\": 1, \"max\": 450, \"palette\": biomass_palette}, \"SOC Density Blend 0-1m\")\n",
    "# m.addLayer(pixel_area_soc_extent.clip(y2y), {}, 'Carbon Mask')\n",
    "# m.addLayer(peat.clip(y2y), {}, \"Peat Distribution\")\n",
    "# m.addLayer(rra, {}, \"RRA\")\n",
    "# m.addLayer(vulnerable_soc_stock, {\"min\": 0, \"max\": 450, \"palette\": biomass_palette}, \"Vulnerable SOC Stock\")\n",
    "# m.addLayer(temperate_grass_shrub_mask, {}, \"Temperate Grasslands and Shrublands\")\n",
    "\n",
    "# display the map\n",
    "m"
   ]
  },
  {
   "cell_type": "code",
   "execution_count": null,
   "metadata": {},
   "outputs": [],
   "source": []
  }
 ],
 "metadata": {
  "kernelspec": {
   "display_name": ".venv",
   "language": "python",
   "name": "python3"
  },
  "language_info": {
   "codemirror_mode": {
    "name": "ipython",
    "version": 3
   },
   "file_extension": ".py",
   "mimetype": "text/x-python",
   "name": "python",
   "nbconvert_exporter": "python",
   "pygments_lexer": "ipython3",
   "version": "3.12.6"
  }
 },
 "nbformat": 4,
 "nbformat_minor": 2
}
