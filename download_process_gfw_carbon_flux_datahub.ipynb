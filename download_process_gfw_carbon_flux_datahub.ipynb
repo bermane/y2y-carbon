{
 "cells": [
  {
   "cell_type": "markdown",
   "metadata": {},
   "source": [
    "# Download data from Google Earth Engine in (near) native 30m resolution\n",
    "\n",
    "This code downloads and processes Global Forest Watch carbon emissions and removals data over 2001-2023. The data must be divided by 23 to calculate average annual removals."
   ]
  },
  {
   "cell_type": "code",
   "execution_count": 19,
   "metadata": {},
   "outputs": [
    {
     "data": {
      "text/html": [
       "\n",
       "            <style>\n",
       "                .geemap-dark {\n",
       "                    --jp-widgets-color: white;\n",
       "                    --jp-widgets-label-color: white;\n",
       "                    --jp-ui-font-color1: white;\n",
       "                    --jp-layout-color2: #454545;\n",
       "                    background-color: #383838;\n",
       "                }\n",
       "\n",
       "                .geemap-dark .jupyter-button {\n",
       "                    --jp-layout-color3: #383838;\n",
       "                }\n",
       "\n",
       "                .geemap-colab {\n",
       "                    background-color: var(--colab-primary-surface-color, white);\n",
       "                }\n",
       "\n",
       "                .geemap-colab .jupyter-button {\n",
       "                    --jp-layout-color3: var(--colab-primary-surface-color, white);\n",
       "                }\n",
       "            </style>\n",
       "            "
      ],
      "text/plain": [
       "<IPython.core.display.HTML object>"
      ]
     },
     "metadata": {},
     "output_type": "display_data"
    }
   ],
   "source": [
    "# import libraries\n",
    "import ee\n",
    "import geemap\n",
    "\n",
    "import geopandas as gpd\n",
    "\n",
    "import rioxarray as rxr\n",
    "import xarray\n",
    "from odc.geo import xr  # for xarray integration\n",
    "from odc.geo.geobox import GeoBox\n",
    "import rasterio\n",
    "from rasterio.enums import Resampling\n",
    "\n",
    "from dask.distributed import Client, LocalCluster\n",
    "\n",
    "import os"
   ]
  },
  {
   "cell_type": "code",
   "execution_count": 20,
   "metadata": {},
   "outputs": [
    {
     "data": {
      "text/html": [
       "\n",
       "            <style>\n",
       "                .geemap-dark {\n",
       "                    --jp-widgets-color: white;\n",
       "                    --jp-widgets-label-color: white;\n",
       "                    --jp-ui-font-color1: white;\n",
       "                    --jp-layout-color2: #454545;\n",
       "                    background-color: #383838;\n",
       "                }\n",
       "\n",
       "                .geemap-dark .jupyter-button {\n",
       "                    --jp-layout-color3: #383838;\n",
       "                }\n",
       "\n",
       "                .geemap-colab {\n",
       "                    background-color: var(--colab-primary-surface-color, white);\n",
       "                }\n",
       "\n",
       "                .geemap-colab .jupyter-button {\n",
       "                    --jp-layout-color3: var(--colab-primary-surface-color, white);\n",
       "                }\n",
       "            </style>\n",
       "            "
      ],
      "text/plain": [
       "<IPython.core.display.HTML object>"
      ]
     },
     "metadata": {},
     "output_type": "display_data"
    }
   ],
   "source": [
    "# Load the y2y shapefile\n",
    "y2y = gpd.read_file(\n",
    "    './study_area/Y2Y_RegionBoundary_Final2013/Y2Y_RegionBoundary.shp')"
   ]
  },
  {
   "cell_type": "code",
   "execution_count": 21,
   "metadata": {},
   "outputs": [
    {
     "data": {
      "text/html": [
       "\n",
       "            <style>\n",
       "                .geemap-dark {\n",
       "                    --jp-widgets-color: white;\n",
       "                    --jp-widgets-label-color: white;\n",
       "                    --jp-ui-font-color1: white;\n",
       "                    --jp-layout-color2: #454545;\n",
       "                    background-color: #383838;\n",
       "                }\n",
       "\n",
       "                .geemap-dark .jupyter-button {\n",
       "                    --jp-layout-color3: #383838;\n",
       "                }\n",
       "\n",
       "                .geemap-colab {\n",
       "                    background-color: var(--colab-primary-surface-color, white);\n",
       "                }\n",
       "\n",
       "                .geemap-colab .jupyter-button {\n",
       "                    --jp-layout-color3: var(--colab-primary-surface-color, white);\n",
       "                }\n",
       "            </style>\n",
       "            "
      ],
      "text/plain": [
       "<IPython.core.display.HTML object>"
      ]
     },
     "metadata": {},
     "output_type": "display_data"
    }
   ],
   "source": [
    "# set data folder for raw data\n",
    "data_folder = './carbon_flux_data/GFW/raw_layers/datahub/'"
   ]
  },
  {
   "cell_type": "code",
   "execution_count": 22,
   "metadata": {},
   "outputs": [
    {
     "data": {
      "text/html": [
       "\n",
       "            <style>\n",
       "                .geemap-dark {\n",
       "                    --jp-widgets-color: white;\n",
       "                    --jp-widgets-label-color: white;\n",
       "                    --jp-ui-font-color1: white;\n",
       "                    --jp-layout-color2: #454545;\n",
       "                    background-color: #383838;\n",
       "                }\n",
       "\n",
       "                .geemap-dark .jupyter-button {\n",
       "                    --jp-layout-color3: #383838;\n",
       "                }\n",
       "\n",
       "                .geemap-colab {\n",
       "                    background-color: var(--colab-primary-surface-color, white);\n",
       "                }\n",
       "\n",
       "                .geemap-colab .jupyter-button {\n",
       "                    --jp-layout-color3: var(--colab-primary-surface-color, white);\n",
       "                }\n",
       "            </style>\n",
       "            "
      ],
      "text/plain": [
       "<IPython.core.display.HTML object>"
      ]
     },
     "metadata": {},
     "output_type": "display_data"
    }
   ],
   "source": [
    "# define download function\n",
    "def download(url, filename):\n",
    "    if not os.path.exists(filename):\n",
    "        from urllib.request import urlretrieve\n",
    "        local, _ = urlretrieve(url, filename)\n",
    "        print('Downloaded ' + local)"
   ]
  },
  {
   "cell_type": "code",
   "execution_count": 31,
   "metadata": {},
   "outputs": [
    {
     "data": {
      "text/html": [
       "\n",
       "            <style>\n",
       "                .geemap-dark {\n",
       "                    --jp-widgets-color: white;\n",
       "                    --jp-widgets-label-color: white;\n",
       "                    --jp-ui-font-color1: white;\n",
       "                    --jp-layout-color2: #454545;\n",
       "                    background-color: #383838;\n",
       "                }\n",
       "\n",
       "                .geemap-dark .jupyter-button {\n",
       "                    --jp-layout-color3: #383838;\n",
       "                }\n",
       "\n",
       "                .geemap-colab {\n",
       "                    background-color: var(--colab-primary-surface-color, white);\n",
       "                }\n",
       "\n",
       "                .geemap-colab .jupyter-button {\n",
       "                    --jp-layout-color3: var(--colab-primary-surface-color, white);\n",
       "                }\n",
       "            </style>\n",
       "            "
      ],
      "text/plain": [
       "<IPython.core.display.HTML object>"
      ]
     },
     "metadata": {},
     "output_type": "display_data"
    },
    {
     "name": "stdout",
     "output_type": "stream",
     "text": [
      "Downloaded ./carbon_flux_data/GFW/raw_layers/datahub/70N_150W_emissions.tif\n",
      "Downloaded ./carbon_flux_data/GFW/raw_layers/datahub/70N_140W_emissions.tif\n",
      "Downloaded ./carbon_flux_data/GFW/raw_layers/datahub/70N_130W_emissions.tif\n",
      "Downloaded ./carbon_flux_data/GFW/raw_layers/datahub/60N_140W_emissions.tif\n",
      "Downloaded ./carbon_flux_data/GFW/raw_layers/datahub/60N_130W_emissions.tif\n",
      "Downloaded ./carbon_flux_data/GFW/raw_layers/datahub/60N_120W_emissions.tif\n",
      "Downloaded ./carbon_flux_data/GFW/raw_layers/datahub/50N_120W_emissions.tif\n",
      "Downloaded ./carbon_flux_data/GFW/raw_layers/datahub/50N_110W_emissions.tif\n"
     ]
    }
   ],
   "source": [
    "# download emissions tiles\n",
    "tiles = [\n",
    "    '70N_150W',\n",
    "    '70N_140W',\n",
    "    '70N_130W',\n",
    "    '60N_140W',\n",
    "    '60N_130W',\n",
    "    '60N_120W',\n",
    "    '50N_120W',\n",
    "    '50N_110W'\n",
    "]\n",
    "\n",
    "data_url1 = 'https://data-api.globalforestwatch.org/dataset/gfw_forest_carbon_gross_emissions/' \\\n",
    "    'v20240402/download/geotiff?grid=10/40000&tile_id='\n",
    "\n",
    "data_url2 = '&pixel_meaning=Mg_CO2e_px-1&x-api-key=2d60cd88-8348-4c0f-a6d5-bd9adb585a8c'\n",
    "\n",
    "for tile in tiles:\n",
    "    # download data\n",
    "    url = data_url1 + tile + data_url2\n",
    "    filename = data_folder + tile + '_emissions.tif'\n",
    "    download(url, filename)\n"
   ]
  },
  {
   "cell_type": "code",
   "execution_count": 32,
   "metadata": {},
   "outputs": [
    {
     "data": {
      "text/html": [
       "\n",
       "            <style>\n",
       "                .geemap-dark {\n",
       "                    --jp-widgets-color: white;\n",
       "                    --jp-widgets-label-color: white;\n",
       "                    --jp-ui-font-color1: white;\n",
       "                    --jp-layout-color2: #454545;\n",
       "                    background-color: #383838;\n",
       "                }\n",
       "\n",
       "                .geemap-dark .jupyter-button {\n",
       "                    --jp-layout-color3: #383838;\n",
       "                }\n",
       "\n",
       "                .geemap-colab {\n",
       "                    background-color: var(--colab-primary-surface-color, white);\n",
       "                }\n",
       "\n",
       "                .geemap-colab .jupyter-button {\n",
       "                    --jp-layout-color3: var(--colab-primary-surface-color, white);\n",
       "                }\n",
       "            </style>\n",
       "            "
      ],
      "text/plain": [
       "<IPython.core.display.HTML object>"
      ]
     },
     "metadata": {},
     "output_type": "display_data"
    },
    {
     "name": "stdout",
     "output_type": "stream",
     "text": [
      "Downloaded ./carbon_flux_data/GFW/raw_layers/datahub/70N_150W_removals.tif\n",
      "Downloaded ./carbon_flux_data/GFW/raw_layers/datahub/70N_140W_removals.tif\n",
      "Downloaded ./carbon_flux_data/GFW/raw_layers/datahub/70N_130W_removals.tif\n",
      "Downloaded ./carbon_flux_data/GFW/raw_layers/datahub/60N_140W_removals.tif\n",
      "Downloaded ./carbon_flux_data/GFW/raw_layers/datahub/60N_130W_removals.tif\n",
      "Downloaded ./carbon_flux_data/GFW/raw_layers/datahub/60N_120W_removals.tif\n",
      "Downloaded ./carbon_flux_data/GFW/raw_layers/datahub/50N_120W_removals.tif\n",
      "Downloaded ./carbon_flux_data/GFW/raw_layers/datahub/50N_110W_removals.tif\n"
     ]
    }
   ],
   "source": [
    "# download removals tiles\n",
    "tiles = [\n",
    "    '70N_150W',\n",
    "    '70N_140W',\n",
    "    '70N_130W',\n",
    "    '60N_140W',\n",
    "    '60N_130W',\n",
    "    '60N_120W',\n",
    "    '50N_120W',\n",
    "    '50N_110W'\n",
    "]\n",
    "\n",
    "data_url1 = 'https://data-api.globalforestwatch.org/dataset/gfw_forest_carbon_gross_removals/' \\\n",
    "'v20240308/download/geotiff?grid=10/40000&tile_id='\n",
    "\n",
    "\n",
    "data_url2 = '&pixel_meaning=Mg_CO2e_px-1&x-api-key=2d60cd88-8348-4c0f-a6d5-bd9adb585a8c'\n",
    "\n",
    "for tile in tiles:\n",
    "    # download data\n",
    "    url = data_url1 + tile + data_url2\n",
    "    filename = data_folder + tile + '_removals.tif'\n",
    "    download(url, filename)"
   ]
  },
  {
   "cell_type": "code",
   "execution_count": 33,
   "metadata": {},
   "outputs": [
    {
     "data": {
      "text/html": [
       "\n",
       "            <style>\n",
       "                .geemap-dark {\n",
       "                    --jp-widgets-color: white;\n",
       "                    --jp-widgets-label-color: white;\n",
       "                    --jp-ui-font-color1: white;\n",
       "                    --jp-layout-color2: #454545;\n",
       "                    background-color: #383838;\n",
       "                }\n",
       "\n",
       "                .geemap-dark .jupyter-button {\n",
       "                    --jp-layout-color3: #383838;\n",
       "                }\n",
       "\n",
       "                .geemap-colab {\n",
       "                    background-color: var(--colab-primary-surface-color, white);\n",
       "                }\n",
       "\n",
       "                .geemap-colab .jupyter-button {\n",
       "                    --jp-layout-color3: var(--colab-primary-surface-color, white);\n",
       "                }\n",
       "            </style>\n",
       "            "
      ],
      "text/plain": [
       "<IPython.core.display.HTML object>"
      ]
     },
     "metadata": {},
     "output_type": "display_data"
    },
    {
     "name": "stdout",
     "output_type": "stream",
     "text": [
      "Downloaded ./carbon_flux_data/GFW/raw_layers/datahub/70N_150W_lossyear.tif\n",
      "Downloaded ./carbon_flux_data/GFW/raw_layers/datahub/70N_140W_lossyear.tif\n",
      "Downloaded ./carbon_flux_data/GFW/raw_layers/datahub/70N_130W_lossyear.tif\n",
      "Downloaded ./carbon_flux_data/GFW/raw_layers/datahub/60N_140W_lossyear.tif\n",
      "Downloaded ./carbon_flux_data/GFW/raw_layers/datahub/60N_130W_lossyear.tif\n",
      "Downloaded ./carbon_flux_data/GFW/raw_layers/datahub/60N_120W_lossyear.tif\n",
      "Downloaded ./carbon_flux_data/GFW/raw_layers/datahub/50N_120W_lossyear.tif\n",
      "Downloaded ./carbon_flux_data/GFW/raw_layers/datahub/50N_110W_lossyear.tif\n"
     ]
    }
   ],
   "source": [
    "# download loss year tiles\n",
    "tiles = [\n",
    "    '70N_150W',\n",
    "    '70N_140W',\n",
    "    '70N_130W',\n",
    "    '60N_140W',\n",
    "    '60N_130W',\n",
    "    '60N_120W',\n",
    "    '50N_120W',\n",
    "    '50N_110W'\n",
    "]\n",
    "\n",
    "data_url1 = 'https://storage.googleapis.com/earthenginepartners-hansen/GFC-2023-v1.11/Hansen_GFC-2023-v1.11_lossyear_'\n",
    "\n",
    "data_url2 = '.tif'\n",
    "\n",
    "for tile in tiles:\n",
    "    # download data\n",
    "    url = data_url1 + tile + data_url2\n",
    "    filename = data_folder + tile + '_lossyear.tif'\n",
    "    download(url, filename)"
   ]
  }
 ],
 "metadata": {
  "kernelspec": {
   "display_name": ".venv",
   "language": "python",
   "name": "python3"
  },
  "language_info": {
   "codemirror_mode": {
    "name": "ipython",
    "version": 3
   },
   "file_extension": ".py",
   "mimetype": "text/x-python",
   "name": "python",
   "nbconvert_exporter": "python",
   "pygments_lexer": "ipython3",
   "version": "3.12.6"
  }
 },
 "nbformat": 4,
 "nbformat_minor": 2
}
