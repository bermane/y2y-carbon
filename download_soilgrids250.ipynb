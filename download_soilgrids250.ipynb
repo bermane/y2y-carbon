{
 "cells": [
  {
   "cell_type": "code",
   "execution_count": 10,
   "metadata": {},
   "outputs": [],
   "source": [
    "# import packages\n",
    "from owslib.wcs import WebCoverageService\n",
    "import geopandas as gpd"
   ]
  },
  {
   "cell_type": "code",
   "execution_count": 11,
   "metadata": {},
   "outputs": [
    {
     "data": {
      "text/plain": [
       "['ocs_0-30cm_Q0.05',\n",
       " 'ocs_0-30cm_Q0.5',\n",
       " 'ocs_0-30cm_Q0.95',\n",
       " 'ocs_0-30cm_mean',\n",
       " 'ocs_0-30cm_uncertainty']"
      ]
     },
     "execution_count": 11,
     "metadata": {},
     "output_type": "execute_result"
    }
   ],
   "source": [
    "# link to soil organic carbon stock from SoilGrids\n",
    "wcs = WebCoverageService('https://maps.isric.org/mapserv?map=/map/ocs.map',\n",
    "                         version='2.0.1')\n",
    "\n",
    "# list available layers\n",
    "list(wcs.contents)"
   ]
  },
  {
   "cell_type": "code",
   "execution_count": 12,
   "metadata": {},
   "outputs": [
    {
     "data": {
      "text/plain": [
       "['GetCapabilities', 'DescribeCoverage', 'GetCoverage']"
      ]
     },
     "execution_count": 12,
     "metadata": {},
     "output_type": "execute_result"
    }
   ],
   "source": [
    "# list operations available\n",
    "[op.name for op in wcs.operations]"
   ]
  },
  {
   "cell_type": "code",
   "execution_count": 13,
   "metadata": {},
   "outputs": [
    {
     "name": "stdout",
     "output_type": "stream",
     "text": [
      "['image/tiff', 'image/png', 'image/jpeg', 'image/png; mode=8bit', 'image/vnd.jpeg-png', 'image/vnd.jpeg-png8']\n",
      "[{'nativeSrs': 'http://www.opengis.net/def/crs/EPSG/0/152160', 'bbox': (-19949750.0, -6147500.0, 19861750.0, 8361000.0)}]\n"
     ]
    }
   ],
   "source": [
    "# check coverage for one of the layers\n",
    "ocs = wcs.contents['ocs_0-30cm_Q0.05']\n",
    "\n",
    "# # supported CRS\n",
    "# print(ocs.supportedCRS)\n",
    "\n",
    "# supported format\n",
    "print(ocs.supportedFormats)\n",
    "\n",
    "# bounding box\n",
    "print(ocs.boundingboxes)"
   ]
  },
  {
   "cell_type": "code",
   "execution_count": 14,
   "metadata": {},
   "outputs": [
    {
     "name": "stdout",
     "output_type": "stream",
     "text": [
      "+proj=igh +datum=WGS84 +no_defs +towgs84=0,0,0 +type=crs\n"
     ]
    },
    {
     "data": {
      "text/plain": [
       "array([-13538108.38001439,   4647455.57561753, -11820893.76105979,\n",
       "         7209306.68616891])"
      ]
     },
     "execution_count": 14,
     "metadata": {},
     "output_type": "execute_result"
    }
   ],
   "source": [
    "# import y2y shapefile\n",
    "y2y = gpd.read_file('./study_area/Y2Y_RegionBoundary_Final2013/Y2Y_RegionBoundary.shp')\n",
    "\n",
    "# # list standard crs we want to us (NAD83)\n",
    "# target_crs = 'EPSG:4269'\n",
    "\n",
    "# convert y2y crs\n",
    "y2y = y2y.to_crs(\"+proj=igh +datum=WGS84 +no_defs +towgs84=0,0,0\")\n",
    "print(y2y.crs)\n",
    "\n",
    "# get bounding box of whole region\n",
    "bbox = y2y.total_bounds\n",
    "bbox\n"
   ]
  },
  {
   "cell_type": "code",
   "execution_count": 27,
   "metadata": {},
   "outputs": [
    {
     "data": {
      "text/plain": [
       "[('X', -13538208.38001439, -11820793.761059787),\n",
       " ('Y', 4647455.575617532, 7209306.68616891)]"
      ]
     },
     "execution_count": 27,
     "metadata": {},
     "output_type": "execute_result"
    }
   ],
   "source": [
    "# format bounding box into subset for WCS 2.0\n",
    "# something didn't work the first time so going to redownload all of them with a small buffer\n",
    "# just to get a slightly different output\n",
    "subsets = [('X', float(bbox[0]-100), float(bbox[2]+100)), ('Y', float(bbox[1]), float(bbox[3]))]\n",
    "subsets"
   ]
  },
  {
   "cell_type": "code",
   "execution_count": 28,
   "metadata": {},
   "outputs": [],
   "source": [
    "# loop through layers and download each\n",
    "for layer in wcs.contents:\n",
    "\n",
    "    # fetch map segment for layer\n",
    "    response = wcs.getCoverage(identifier=[layer],\n",
    "                            crs='http://www.opengis.net/def/crs/EPSG/0/152160',\n",
    "                            subsets=subsets,\n",
    "                            resx=250,\n",
    "                            resy=250,\n",
    "                            format='image/tiff')\n",
    "    \n",
    "    # download data\n",
    "    with open('./carbon_stock_data/soc_soilgrids/' + layer + '.tif', 'wb') as file:\n",
    "        file.write(response.read())"
   ]
  },
  {
   "cell_type": "code",
   "execution_count": null,
   "metadata": {},
   "outputs": [],
   "source": []
  }
 ],
 "metadata": {
  "kernelspec": {
   "display_name": ".venv",
   "language": "python",
   "name": "python3"
  },
  "language_info": {
   "codemirror_mode": {
    "name": "ipython",
    "version": 3
   },
   "file_extension": ".py",
   "mimetype": "text/x-python",
   "name": "python",
   "nbconvert_exporter": "python",
   "pygments_lexer": "ipython3",
   "version": "3.12.6"
  }
 },
 "nbformat": 4,
 "nbformat_minor": 2
}
