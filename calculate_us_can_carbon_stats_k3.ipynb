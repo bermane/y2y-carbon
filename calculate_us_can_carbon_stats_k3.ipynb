{
 "cells": [
  {
   "cell_type": "markdown",
   "id": "56ba47a3",
   "metadata": {},
   "source": [
    "## Load packages and initialize GEE"
   ]
  },
  {
   "cell_type": "code",
   "execution_count": 1,
   "id": "18bf9205",
   "metadata": {},
   "outputs": [],
   "source": [
    "# import packages\n",
    "import ee\n",
    "import geemap\n",
    "import pandas as pd"
   ]
  },
  {
   "cell_type": "code",
   "execution_count": 2,
   "id": "148c9231",
   "metadata": {},
   "outputs": [
    {
     "data": {
      "text/html": [
       "\n",
       "            <style>\n",
       "                .geemap-dark {\n",
       "                    --jp-widgets-color: white;\n",
       "                    --jp-widgets-label-color: white;\n",
       "                    --jp-ui-font-color1: white;\n",
       "                    --jp-layout-color2: #454545;\n",
       "                    background-color: #383838;\n",
       "                }\n",
       "\n",
       "                .geemap-dark .jupyter-button {\n",
       "                    --jp-layout-color3: #383838;\n",
       "                }\n",
       "\n",
       "                .geemap-colab {\n",
       "                    background-color: var(--colab-primary-surface-color, white);\n",
       "                }\n",
       "\n",
       "                .geemap-colab .jupyter-button {\n",
       "                    --jp-layout-color3: var(--colab-primary-surface-color, white);\n",
       "                }\n",
       "            </style>\n",
       "            "
      ],
      "text/plain": [
       "<IPython.core.display.HTML object>"
      ]
     },
     "metadata": {},
     "output_type": "display_data"
    },
    {
     "data": {
      "text/plain": [
       "True"
      ]
     },
     "execution_count": 2,
     "metadata": {},
     "output_type": "execute_result"
    }
   ],
   "source": [
    "# authenticate the EE api\n",
    "ee.Authenticate()"
   ]
  },
  {
   "cell_type": "code",
   "execution_count": 3,
   "id": "eba41633",
   "metadata": {},
   "outputs": [
    {
     "data": {
      "text/html": [
       "\n",
       "            <style>\n",
       "                .geemap-dark {\n",
       "                    --jp-widgets-color: white;\n",
       "                    --jp-widgets-label-color: white;\n",
       "                    --jp-ui-font-color1: white;\n",
       "                    --jp-layout-color2: #454545;\n",
       "                    background-color: #383838;\n",
       "                }\n",
       "\n",
       "                .geemap-dark .jupyter-button {\n",
       "                    --jp-layout-color3: #383838;\n",
       "                }\n",
       "\n",
       "                .geemap-colab {\n",
       "                    background-color: var(--colab-primary-surface-color, white);\n",
       "                }\n",
       "\n",
       "                .geemap-colab .jupyter-button {\n",
       "                    --jp-layout-color3: var(--colab-primary-surface-color, white);\n",
       "                }\n",
       "            </style>\n",
       "            "
      ],
      "text/plain": [
       "<IPython.core.display.HTML object>"
      ]
     },
     "metadata": {},
     "output_type": "display_data"
    },
    {
     "name": "stderr",
     "output_type": "stream",
     "text": [
      "*** Earth Engine *** Share your feedback by taking our Annual Developer Satisfaction Survey: https://google.qualtrics.com/jfe/form/SV_7TDKVSyKvBdmMqW?ref=4i2o6\n"
     ]
    }
   ],
   "source": [
    "# initialize the EE api\n",
    "ee.Initialize(project='ee-bermane')"
   ]
  },
  {
   "cell_type": "markdown",
   "id": "e92f4189",
   "metadata": {},
   "source": [
    "## Define GEE datasets"
   ]
  },
  {
   "cell_type": "code",
   "execution_count": 4,
   "id": "64f04d8e",
   "metadata": {},
   "outputs": [
    {
     "data": {
      "text/html": [
       "\n",
       "            <style>\n",
       "                .geemap-dark {\n",
       "                    --jp-widgets-color: white;\n",
       "                    --jp-widgets-label-color: white;\n",
       "                    --jp-ui-font-color1: white;\n",
       "                    --jp-layout-color2: #454545;\n",
       "                    background-color: #383838;\n",
       "                }\n",
       "\n",
       "                .geemap-dark .jupyter-button {\n",
       "                    --jp-layout-color3: #383838;\n",
       "                }\n",
       "\n",
       "                .geemap-colab {\n",
       "                    background-color: var(--colab-primary-surface-color, white);\n",
       "                }\n",
       "\n",
       "                .geemap-colab .jupyter-button {\n",
       "                    --jp-layout-color3: var(--colab-primary-surface-color, white);\n",
       "                }\n",
       "            </style>\n",
       "            "
      ],
      "text/plain": [
       "<IPython.core.display.HTML object>"
      ]
     },
     "metadata": {},
     "output_type": "display_data"
    }
   ],
   "source": [
    "# define EE datasets\n",
    "# biomass\n",
    "biomass = ee.ImageCollection(\"projects/sat-io/open-datasets/ESA/ESA_CCI_AGB\")\n",
    "rsr = ee.Image(\"projects/ee-bermane/assets/Root_shoot_ratio_Map_Merged\")\n",
    "\n",
    "# soc\n",
    "soc_olm = ee.Image(\"projects/ee-bermane/assets/soc_0_1m_kg_m2_olm\")\n",
    "soc_sothe = ee.Image(\n",
    "    \"projects/ee-bermane/assets/McMaster_WWFCanada_soil_carbon1m_250m_kg-m2_version3\")\n",
    "soc_0_10_olm_global = ee.Image(\n",
    "    \"projects/ee-bermane/assets/soc_0_10cm_kg_m2_olm_global\")\n",
    "soc_10_30_olm_global = ee.Image(\n",
    "    \"projects/ee-bermane/assets/soc_10_30cm_kg_m2_olm_global\")\n",
    "soc_30_60_olm_global = ee.Image(\n",
    "    \"projects/ee-bermane/assets/soc_30_60cm_kg_m2_olm_global\")\n",
    "soc_60_100_olm_global = ee.Image(\n",
    "    \"projects/ee-bermane/assets/soc_60_100cm_kg_m2_olm_global\")\n",
    "\n",
    "# peatlands\n",
    "peat = ee.Image(\"projects/sat-io/open-datasets/GLOBAL-PEATLAND-DATABASE\")\n",
    "\n",
    "# landcover\n",
    "lc = ee.Image(\"USGS/NLCD_RELEASES/2020_REL/NALCMS\")\n",
    "wte = ee.Image(\"projects/ee-bermane/assets/WTE_2020\")\n",
    "k3 = ee.Image(\"projects/ee-bermane/assets/k3_binary\").unmask()\n",
    "\n",
    "# netflux\n",
    "netflux = ee.ImageCollection(\n",
    "    \"projects/wri-datalab/gfw-data-lake/net-flux-forest-extent-per-ha-v1-3-2-2001-2023/net-flux-global-forest-extent-per-ha-2001-2023\"\n",
    ")\n",
    "\n",
    "# irrecoverable carbon (Noon layers)\n",
    "irr_carbon_biomass = ee.Image(\"projects/sat-io/open-datasets/irrecoverable_carbon/carbon_biomass/carbon_biomass_2018\")\n",
    "irr_carbon_soc = ee.Image(\"projects/sat-io/open-datasets/irrecoverable_carbon/carbon_soil/carbon_soil_2018\")\n",
    "irr_carbon_total = ee.Image(\"projects/sat-io/open-datasets/irrecoverable_carbon/carbon_total/carbon_total_2018\")\n",
    "\n",
    "# vector\n",
    "y2y = ee.FeatureCollection(\"projects/ee-bermane/assets/y2y\")\n",
    "y2y_ecoregions = ee.FeatureCollection(\n",
    "    \"projects/ee-bermane/assets/y2y_ecoregions\")\n",
    "y2y_biomes = ee.FeatureCollection(\"projects/ee-bermane/assets/y2y_biomes\")\n",
    "rra = ee.FeatureCollection(\"projects/ee-bermane/assets/ross_river_ipca\")\n",
    "countries = ee.FeatureCollection(\"USDOS/LSIB/2017\")\n",
    "us_can = ee.FeatureCollection(\"projects/ee-bermane/assets/us_can_simple\")"
   ]
  },
  {
   "cell_type": "markdown",
   "id": "f49ae14d",
   "metadata": {},
   "source": [
    "## Calculate north america biomass"
   ]
  },
  {
   "cell_type": "code",
   "execution_count": 6,
   "id": "1ddd5f8a",
   "metadata": {},
   "outputs": [
    {
     "data": {
      "text/html": [
       "\n",
       "            <style>\n",
       "                .geemap-dark {\n",
       "                    --jp-widgets-color: white;\n",
       "                    --jp-widgets-label-color: white;\n",
       "                    --jp-ui-font-color1: white;\n",
       "                    --jp-layout-color2: #454545;\n",
       "                    background-color: #383838;\n",
       "                }\n",
       "\n",
       "                .geemap-dark .jupyter-button {\n",
       "                    --jp-layout-color3: #383838;\n",
       "                }\n",
       "\n",
       "                .geemap-colab {\n",
       "                    background-color: var(--colab-primary-surface-color, white);\n",
       "                }\n",
       "\n",
       "                .geemap-colab .jupyter-button {\n",
       "                    --jp-layout-color3: var(--colab-primary-surface-color, white);\n",
       "                }\n",
       "            </style>\n",
       "            "
      ],
      "text/plain": [
       "<IPython.core.display.HTML object>"
      ]
     },
     "metadata": {},
     "output_type": "display_data"
    }
   ],
   "source": [
    "# calc ESA CCI biomass\n",
    "# grab the 2022 AGB images\n",
    "agb = biomass.filter(ee.Filter.stringContains(\"system:index\", \"2022\")).first()\n",
    "\n",
    "# create image for litter using Harris ratio (4%)\n",
    "# leave out dead wood since it is likely sensed already\n",
    "# mask litter only for forested LC types\n",
    "# 1: \"#033e00\",  # Temperate or sub-polar needleleaf forest\n",
    "# 2: \"#939b71\",  # Sub-polar taiga needleleaf forest\n",
    "# 3: \"#196d12\",  # Tropical or sub-tropical broadleaf evergreen forest\n",
    "# 4: \"#1fab01\",  # Tropical or sub-tropical broadleaf deciduous forest\n",
    "# 5: \"#5b725c\",  # Temperate or sub-polar broadleaf deciduous forest\n",
    "# 6: \"#6b7d2c\",  # Mixed forest\n",
    "\n",
    "litter_mask = lc.gte(1).And(lc.lte(6))\n",
    "\n",
    "litter = agb.select(['AGB']).multiply(0.04).multiply(litter_mask)\n",
    "\n",
    "# create image for BGB (using global rsr map)\n",
    "bgb = agb.select(['AGB']).multiply(rsr).rename('BGB')\n",
    "\n",
    "# add AGB + litter and BGB together\n",
    "bio = agb.select(['AGB']).add(litter).addBands(\n",
    "    bgb).rename(['agb_t_ha', 'bgb_t_ha'])\n",
    "\n",
    "# multiply values by 0.47 to get carbon density\n",
    "# 0.47 used by Harris et al. (2021)\n",
    "# mask water (18) and snow/ice (19)\n",
    "bio = bio.multiply(0.47).updateMask(\n",
    "    lc.neq(18).And(lc.neq(19)))\n",
    "\n",
    "# compute per-pixel area in ha\n",
    "pixel_area_ha = ee.Image.pixelArea().divide(10000)\n",
    "\n",
    "# Create carbon layer mask to filter pixel area raster\n",
    "carbon_mask = bio.select(['agb_t_ha']).mask().neq(0)\n",
    "\n",
    "# Mask pixel_area_ha to carbon layers\n",
    "pixel_area_agb_extent = pixel_area_ha.updateMask(carbon_mask)\n",
    "\n",
    "# calculate total biomass c per pixel and rename bands\n",
    "bio_stock = bio.multiply(\n",
    "    pixel_area_ha\n",
    ").rename(\n",
    "    ['agb_t', 'bgb_t']\n",
    ").addBands(\n",
    "    pixel_area_agb_extent.rename(['pixel_area_agb_extent_ha'])\n",
    ").addBands(\n",
    "    pixel_area_ha.rename(['pixel_area_ha'])\n",
    ")"
   ]
  },
  {
   "cell_type": "code",
   "execution_count": 7,
   "id": "d0ea18b4",
   "metadata": {},
   "outputs": [
    {
     "data": {
      "text/html": [
       "\n",
       "            <style>\n",
       "                .geemap-dark {\n",
       "                    --jp-widgets-color: white;\n",
       "                    --jp-widgets-label-color: white;\n",
       "                    --jp-ui-font-color1: white;\n",
       "                    --jp-layout-color2: #454545;\n",
       "                    background-color: #383838;\n",
       "                }\n",
       "\n",
       "                .geemap-dark .jupyter-button {\n",
       "                    --jp-layout-color3: #383838;\n",
       "                }\n",
       "\n",
       "                .geemap-colab {\n",
       "                    background-color: var(--colab-primary-surface-color, white);\n",
       "                }\n",
       "\n",
       "                .geemap-colab .jupyter-button {\n",
       "                    --jp-layout-color3: var(--colab-primary-surface-color, white);\n",
       "                }\n",
       "            </style>\n",
       "            "
      ],
      "text/plain": [
       "<IPython.core.display.HTML object>"
      ]
     },
     "metadata": {},
     "output_type": "display_data"
    }
   ],
   "source": [
    "# # export bio raster to drive\n",
    "# ee.batch.Export.image.toDrive(\n",
    "#     image=bio.select(['agb_t_ha']),\n",
    "#     description='bio',\n",
    "#     region=y2y.geometry(),\n",
    "#     scale=30,\n",
    "#     maxPixels=1e13,\n",
    "#     fileNamePrefix='bio'\n",
    "# ).start()\n"
   ]
  },
  {
   "cell_type": "markdown",
   "id": "e7b80f82",
   "metadata": {},
   "source": [
    "## Calculate soil carbon from Sothe Canada data and Open Land Map US data"
   ]
  },
  {
   "cell_type": "code",
   "execution_count": 8,
   "id": "e983814c",
   "metadata": {},
   "outputs": [
    {
     "data": {
      "text/html": [
       "\n",
       "            <style>\n",
       "                .geemap-dark {\n",
       "                    --jp-widgets-color: white;\n",
       "                    --jp-widgets-label-color: white;\n",
       "                    --jp-ui-font-color1: white;\n",
       "                    --jp-layout-color2: #454545;\n",
       "                    background-color: #383838;\n",
       "                }\n",
       "\n",
       "                .geemap-dark .jupyter-button {\n",
       "                    --jp-layout-color3: #383838;\n",
       "                }\n",
       "\n",
       "                .geemap-colab {\n",
       "                    background-color: var(--colab-primary-surface-color, white);\n",
       "                }\n",
       "\n",
       "                .geemap-colab .jupyter-button {\n",
       "                    --jp-layout-color3: var(--colab-primary-surface-color, white);\n",
       "                }\n",
       "            </style>\n",
       "            "
      ],
      "text/plain": [
       "<IPython.core.display.HTML object>"
      ]
     },
     "metadata": {},
     "output_type": "display_data"
    }
   ],
   "source": [
    "# calc open land map soc\n",
    "# add the layers together from 0-100cm\n",
    "soc_olm = (\n",
    "    soc_0_10_olm_global\n",
    "    .add(soc_10_30_olm_global)\n",
    "    .add(soc_30_60_olm_global)\n",
    "    .add(soc_60_100_olm_global)\n",
    "    )\n",
    "\n",
    "# multiply by 10 to get t/ha\n",
    "# mask water/snow/ice\n",
    "soc_olm = soc_olm.multiply(10).rename(\n",
    "    'soc_dens').updateMask(lc.neq(18).And(lc.neq(19)))\n",
    "\n",
    "# reproject to match sothe to blend images\n",
    "soc_olm_reproj_sothe = soc_olm.resample('bilinear').toFloat()"
   ]
  },
  {
   "cell_type": "code",
   "execution_count": 9,
   "id": "03fdf458",
   "metadata": {},
   "outputs": [
    {
     "data": {
      "text/html": [
       "\n",
       "            <style>\n",
       "                .geemap-dark {\n",
       "                    --jp-widgets-color: white;\n",
       "                    --jp-widgets-label-color: white;\n",
       "                    --jp-ui-font-color1: white;\n",
       "                    --jp-layout-color2: #454545;\n",
       "                    background-color: #383838;\n",
       "                }\n",
       "\n",
       "                .geemap-dark .jupyter-button {\n",
       "                    --jp-layout-color3: #383838;\n",
       "                }\n",
       "\n",
       "                .geemap-colab {\n",
       "                    background-color: var(--colab-primary-surface-color, white);\n",
       "                }\n",
       "\n",
       "                .geemap-colab .jupyter-button {\n",
       "                    --jp-layout-color3: var(--colab-primary-surface-color, white);\n",
       "                }\n",
       "            </style>\n",
       "            "
      ],
      "text/plain": [
       "<IPython.core.display.HTML object>"
      ]
     },
     "metadata": {},
     "output_type": "display_data"
    }
   ],
   "source": [
    "# calc sothe soc\n",
    "# multiply by 10 to get t/ha)\n",
    "# mask water/snow/ice\n",
    "soc_sothe = soc_sothe.multiply(10).rename(\n",
    "    'soc_dens').updateMask(lc.neq(18).And(lc.neq(19)))\n",
    "\n",
    "# blend sothe and olm carbon across y2y\n",
    "soc_blend = ee.ImageCollection([soc_olm_reproj_sothe, soc_sothe]).mosaic().rename('soc_t_ha').reproject(\n",
    "    crs=soc_sothe.projection(),\n",
    "    crsTransform=soc_sothe.projection().getInfo().get('transform')\n",
    ").updateMask(lc.neq(18).And(lc.neq(19)))  # mask snow/ice, water\n",
    "\n",
    "# Create soc layer mask to filter pixel area raster\n",
    "soc_mask = soc_blend.mask().neq(0)\n",
    "\n",
    "# Mask pixel_area_ha to carbon layers\n",
    "pixel_area_soc_extent = pixel_area_ha.updateMask(soc_mask)\n",
    "\n",
    "# multiply by pixel area to get total carbon per pixel\n",
    "soc_blend_stock = soc_blend.multiply(pixel_area_ha).rename('soc_t').addBands(\n",
    "    pixel_area_soc_extent.rename(['pixel_area_soc_extent_ha'])\n",
    ").addBands(\n",
    "    pixel_area_ha.rename(['pixel_area_ha'])\n",
    ")"
   ]
  },
  {
   "cell_type": "markdown",
   "id": "59e8c5b8",
   "metadata": {},
   "source": [
    "## Calculate average carbon density in mountains vs. non-mountains in US and Canada combined\n",
    "\n",
    "do I need to mask for values >0 as well to make sure we are fairly counting where there is actually biomass??? or is that already done?"
   ]
  },
  {
   "cell_type": "code",
   "execution_count": 10,
   "id": "ce6cc669",
   "metadata": {},
   "outputs": [
    {
     "data": {
      "text/html": [
       "\n",
       "            <style>\n",
       "                .geemap-dark {\n",
       "                    --jp-widgets-color: white;\n",
       "                    --jp-widgets-label-color: white;\n",
       "                    --jp-ui-font-color1: white;\n",
       "                    --jp-layout-color2: #454545;\n",
       "                    background-color: #383838;\n",
       "                }\n",
       "\n",
       "                .geemap-dark .jupyter-button {\n",
       "                    --jp-layout-color3: #383838;\n",
       "                }\n",
       "\n",
       "                .geemap-colab {\n",
       "                    background-color: var(--colab-primary-surface-color, white);\n",
       "                }\n",
       "\n",
       "                .geemap-colab .jupyter-button {\n",
       "                    --jp-layout-color3: var(--colab-primary-surface-color, white);\n",
       "                }\n",
       "            </style>\n",
       "            "
      ],
      "text/plain": [
       "<IPython.core.display.HTML object>"
      ]
     },
     "metadata": {},
     "output_type": "display_data"
    }
   ],
   "source": [
    "# define geometry bigger than us/canada\n",
    "big_geo = ee.Geometry.Rectangle(\n",
    "    coords=[171, 18, 308, 84],\n",
    "    proj=ee.Projection('EPSG:4326'),  # Explicitly defining the projection\n",
    "    geodesic=False)"
   ]
  },
  {
   "cell_type": "code",
   "execution_count": 10,
   "id": "d53d407b",
   "metadata": {},
   "outputs": [
    {
     "data": {
      "text/html": [
       "\n",
       "            <style>\n",
       "                .geemap-dark {\n",
       "                    --jp-widgets-color: white;\n",
       "                    --jp-widgets-label-color: white;\n",
       "                    --jp-ui-font-color1: white;\n",
       "                    --jp-layout-color2: #454545;\n",
       "                    background-color: #383838;\n",
       "                }\n",
       "\n",
       "                .geemap-dark .jupyter-button {\n",
       "                    --jp-layout-color3: #383838;\n",
       "                }\n",
       "\n",
       "                .geemap-colab {\n",
       "                    background-color: var(--colab-primary-surface-color, white);\n",
       "                }\n",
       "\n",
       "                .geemap-colab .jupyter-button {\n",
       "                    --jp-layout-color3: var(--colab-primary-surface-color, white);\n",
       "                }\n",
       "            </style>\n",
       "            "
      ],
      "text/plain": [
       "<IPython.core.display.HTML object>"
      ]
     },
     "metadata": {},
     "output_type": "display_data"
    }
   ],
   "source": [
    "# Calculate total carbon stocks\n",
    "biomass_k3 = (\n",
    "    bio\n",
    "    .reduce(ee.Reducer.sum()) # sum biomass layers\n",
    "    .clipToCollection(us_can)\n",
    "    .multiply(pixel_area_ha)\n",
    "    .updateMask(k3) # mask for mountains only\n",
    "    .rename(['bio_t'])\n",
    "    .reduceRegion( # calc sum\n",
    "        reducer=ee.Reducer.sum(),\n",
    "        geometry=big_geo,\n",
    "        scale=bio.projection().nominalScale(),\n",
    "        maxPixels=1e20\n",
    "    )\n",
    ")\n",
    "\n",
    "biomass_not_k3 = (\n",
    "    bio\n",
    "    .reduce(ee.Reducer.sum()) # sum biomass layers\n",
    "    .clipToCollection(us_can)\n",
    "    .multiply(pixel_area_ha)\n",
    "    .updateMask(k3.Not()) # mask for not mountains\n",
    "    .rename(['bio_t'])\n",
    "    .reduceRegion( # calc sum\n",
    "        reducer=ee.Reducer.sum(),\n",
    "        geometry=big_geo,\n",
    "        scale=bio.projection().nominalScale(),\n",
    "        maxPixels=1e20\n",
    "    )\n",
    ")\n",
    "\n",
    "soc_k3 = (\n",
    "    soc_blend\n",
    "    .clipToCollection(us_can)\n",
    "    .multiply(pixel_area_ha)\n",
    "    .updateMask(k3) # mask for mountains only\n",
    "    .reduceRegion( # calc sum\n",
    "        reducer=ee.Reducer.sum(),\n",
    "        geometry=big_geo,\n",
    "        scale=soc_blend.projection().nominalScale(),\n",
    "        maxPixels=1e20\n",
    "    )\n",
    ")\n",
    "\n",
    "soc_not_k3 = (\n",
    "    soc_blend\n",
    "    .clipToCollection(us_can)\n",
    "    .multiply(pixel_area_ha)\n",
    "    .updateMask(k3.Not()) # mask for not mountains\n",
    "    .reduceRegion( # calc sum\n",
    "        reducer=ee.Reducer.sum(),\n",
    "        geometry=big_geo,\n",
    "        scale=soc_blend.projection().nominalScale(),\n",
    "        maxPixels=1e20\n",
    "    )\n",
    ")\n",
    "\n",
    "# export to drive\n",
    "ee.batch.Export.table.toDrive(\n",
    "    collection=ee.FeatureCollection([\n",
    "        ee.Feature(None, {\n",
    "            \"biomass_k3\": biomass_k3,\n",
    "            \"biomass_not_k3\": biomass_not_k3,\n",
    "            \"soc_k3\": soc_k3, \n",
    "            \"soc_not_k3\": soc_not_k3\n",
    "            })]),\n",
    "    description=\"carbon_stock_k3_stats_us_can\",\n",
    "    folder=\"\",\n",
    "    fileFormat=\"CSV\"\n",
    ").start()"
   ]
  },
  {
   "cell_type": "code",
   "execution_count": null,
   "id": "a0ab37fc",
   "metadata": {},
   "outputs": [
    {
     "data": {
      "text/html": [
       "\n",
       "            <style>\n",
       "                .geemap-dark {\n",
       "                    --jp-widgets-color: white;\n",
       "                    --jp-widgets-label-color: white;\n",
       "                    --jp-ui-font-color1: white;\n",
       "                    --jp-layout-color2: #454545;\n",
       "                    background-color: #383838;\n",
       "                }\n",
       "\n",
       "                .geemap-dark .jupyter-button {\n",
       "                    --jp-layout-color3: #383838;\n",
       "                }\n",
       "\n",
       "                .geemap-colab {\n",
       "                    background-color: var(--colab-primary-surface-color, white);\n",
       "                }\n",
       "\n",
       "                .geemap-colab .jupyter-button {\n",
       "                    --jp-layout-color3: var(--colab-primary-surface-color, white);\n",
       "                }\n",
       "            </style>\n",
       "            "
      ],
      "text/plain": [
       "<IPython.core.display.HTML object>"
      ]
     },
     "metadata": {},
     "output_type": "display_data"
    }
   ],
   "source": [
    "# Calculate total carbon stocks for Y2Y\n",
    "biomass_y2y_k3 = (\n",
    "    bio\n",
    "    .reduce(ee.Reducer.sum()) # sum biomass layers\n",
    "    .multiply(pixel_area_ha)\n",
    "    .updateMask(k3) # mask for mountains\n",
    "    .rename(['bio_t'])\n",
    "    .reduceRegion( # calc sum\n",
    "        reducer=ee.Reducer.sum(),\n",
    "        geometry=y2y.geometry(),\n",
    "        scale=bio.projection().nominalScale(),\n",
    "        maxPixels=1e20\n",
    "    )\n",
    ")\n",
    "\n",
    "biomass_y2y_not_k3 = (\n",
    "    bio\n",
    "    .reduce(ee.Reducer.sum()) # sum biomass layers\n",
    "    .multiply(pixel_area_ha)\n",
    "    .updateMask(k3.Not()) # mask for not mountains\n",
    "    .rename(['bio_t'])\n",
    "    .reduceRegion( # calc sum\n",
    "        reducer=ee.Reducer.sum(),\n",
    "        geometry=y2y.geometry(),\n",
    "        scale=bio.projection().nominalScale(),\n",
    "        maxPixels=1e20\n",
    "    )\n",
    ")\n",
    "\n",
    "# mask soc for Y2Y only\n",
    "soc_y2y_k3 = (\n",
    "    soc_blend\n",
    "    .multiply(pixel_area_ha)\n",
    "    .updateMask(k3) # mask for not mountains\n",
    "    .reduceRegion( # calc sum\n",
    "        reducer=ee.Reducer.sum(),\n",
    "        geometry=y2y.geometry(),\n",
    "        scale=soc_blend.projection().nominalScale(),\n",
    "        maxPixels=1e20\n",
    "    )\n",
    ")\n",
    "\n",
    "soc_y2y_not_k3 = (\n",
    "    soc_blend\n",
    "    .multiply(pixel_area_ha)\n",
    "    .updateMask(k3.Not()) # mask for not mountains\n",
    "    .reduceRegion( # calc sum\n",
    "        reducer=ee.Reducer.sum(),\n",
    "        geometry=y2y.geometry(),\n",
    "        scale=soc_blend.projection().nominalScale(),\n",
    "        maxPixels=1e20\n",
    "    )\n",
    ")\n",
    "\n",
    "# export to drive\n",
    "ee.batch.Export.table.toDrive(\n",
    "    collection=ee.FeatureCollection([\n",
    "        ee.Feature(None, {\n",
    "            \"biomass_y2y_k3\": biomass_y2y_k3,\n",
    "            \"biomass_y2y_not_k3\": biomass_y2y_not_k3,\n",
    "            \"soc_y2y_k3\": soc_y2y_k3,\n",
    "            \"soc_y2y_not_k3\": soc_y2y_not_k3\n",
    "            })]),\n",
    "    description=\"carbon_stock_stats_y2y_k3\",\n",
    "    folder=\"\",\n",
    "    fileFormat=\"CSV\"\n",
    ").start()"
   ]
  },
  {
   "cell_type": "markdown",
   "id": "e0133b58",
   "metadata": {},
   "source": [
    "## General Area Stats"
   ]
  },
  {
   "cell_type": "code",
   "execution_count": 12,
   "id": "d769009d",
   "metadata": {},
   "outputs": [
    {
     "data": {
      "text/html": [
       "\n",
       "            <style>\n",
       "                .geemap-dark {\n",
       "                    --jp-widgets-color: white;\n",
       "                    --jp-widgets-label-color: white;\n",
       "                    --jp-ui-font-color1: white;\n",
       "                    --jp-layout-color2: #454545;\n",
       "                    background-color: #383838;\n",
       "                }\n",
       "\n",
       "                .geemap-dark .jupyter-button {\n",
       "                    --jp-layout-color3: #383838;\n",
       "                }\n",
       "\n",
       "                .geemap-colab {\n",
       "                    background-color: var(--colab-primary-surface-color, white);\n",
       "                }\n",
       "\n",
       "                .geemap-colab .jupyter-button {\n",
       "                    --jp-layout-color3: var(--colab-primary-surface-color, white);\n",
       "                }\n",
       "            </style>\n",
       "            "
      ],
      "text/plain": [
       "<IPython.core.display.HTML object>"
      ]
     },
     "metadata": {},
     "output_type": "display_data"
    },
    {
     "name": "stdout",
     "output_type": "stream",
     "text": [
      "{'area': 121165313.08041003}\n",
      "{'area': 15829621.282585807}\n"
     ]
    }
   ],
   "source": [
    "# Y2Y in k3\n",
    "y2y_k3 = (\n",
    "    pixel_area_ha\n",
    "    .updateMask(k3) # mask for mountains only\n",
    "    .reduceRegion( # calc total ha\n",
    "        reducer=ee.Reducer.sum(),\n",
    "        geometry=y2y.geometry(),\n",
    "        scale=100,\n",
    "        maxPixels=1e20\n",
    "    )\n",
    ")\n",
    "\n",
    "# Y2Y not in k3\n",
    "y2y_not_k3 = (\n",
    "    pixel_area_ha\n",
    "    .updateMask(k3.Not()) # mask for not mountains only\n",
    "    .reduceRegion( # calc total ha\n",
    "        reducer=ee.Reducer.sum(),\n",
    "        geometry=y2y.geometry(),\n",
    "        scale=100,\n",
    "        maxPixels=1e20\n",
    "    )\n",
    ")\n",
    "\n",
    "print(y2y_k3.getInfo())\n",
    "print(y2y_not_k3.getInfo())"
   ]
  },
  {
   "cell_type": "code",
   "execution_count": 13,
   "id": "aa5d9625",
   "metadata": {},
   "outputs": [
    {
     "data": {
      "text/html": [
       "\n",
       "            <style>\n",
       "                .geemap-dark {\n",
       "                    --jp-widgets-color: white;\n",
       "                    --jp-widgets-label-color: white;\n",
       "                    --jp-ui-font-color1: white;\n",
       "                    --jp-layout-color2: #454545;\n",
       "                    background-color: #383838;\n",
       "                }\n",
       "\n",
       "                .geemap-dark .jupyter-button {\n",
       "                    --jp-layout-color3: #383838;\n",
       "                }\n",
       "\n",
       "                .geemap-colab {\n",
       "                    background-color: var(--colab-primary-surface-color, white);\n",
       "                }\n",
       "\n",
       "                .geemap-colab .jupyter-button {\n",
       "                    --jp-layout-color3: var(--colab-primary-surface-color, white);\n",
       "                }\n",
       "            </style>\n",
       "            "
      ],
      "text/plain": [
       "<IPython.core.display.HTML object>"
      ]
     },
     "metadata": {},
     "output_type": "display_data"
    }
   ],
   "source": [
    "# US/CAN in k3\n",
    "us_can_k3 = (\n",
    "    pixel_area_ha\n",
    "    .clipToCollection(us_can)\n",
    "    .updateMask(k3) # mask for mountains only\n",
    "    .reduceRegion( # calc total ha\n",
    "        reducer=ee.Reducer.sum(),\n",
    "        geometry=big_geo,\n",
    "        scale=100,\n",
    "        maxPixels=1e20\n",
    "    )\n",
    ")\n",
    "\n",
    "# US/CAN not in k3\n",
    "us_can_not_k3 = (\n",
    "    pixel_area_ha\n",
    "    .clipToCollection(us_can)\n",
    "    .updateMask(k3.Not()) # mask for not mountains only\n",
    "    .reduceRegion( # calc total ha\n",
    "        reducer=ee.Reducer.sum(),\n",
    "        geometry=big_geo,\n",
    "        scale=100,\n",
    "        maxPixels=1e20\n",
    "    )\n",
    ")\n",
    "\n",
    "# export to drive\n",
    "ee.batch.Export.table.toDrive(\n",
    "    collection=ee.FeatureCollection([\n",
    "        ee.Feature(None, {\n",
    "            \"us_can_k3\": us_can_k3,\n",
    "            \"us_can_not_k3\": us_can_not_k3\n",
    "            })]),\n",
    "    description=\"us_can_k3_area_stats\",\n",
    "    folder=\"\",\n",
    "    fileFormat=\"CSV\"\n",
    ").start()"
   ]
  },
  {
   "cell_type": "markdown",
   "id": "e23fc8c3",
   "metadata": {},
   "source": [
    "## Add layers to map"
   ]
  },
  {
   "cell_type": "code",
   "execution_count": 14,
   "id": "9e7b81e8",
   "metadata": {},
   "outputs": [
    {
     "data": {
      "text/html": [
       "\n",
       "            <style>\n",
       "                .geemap-dark {\n",
       "                    --jp-widgets-color: white;\n",
       "                    --jp-widgets-label-color: white;\n",
       "                    --jp-ui-font-color1: white;\n",
       "                    --jp-layout-color2: #454545;\n",
       "                    background-color: #383838;\n",
       "                }\n",
       "\n",
       "                .geemap-dark .jupyter-button {\n",
       "                    --jp-layout-color3: #383838;\n",
       "                }\n",
       "\n",
       "                .geemap-colab {\n",
       "                    background-color: var(--colab-primary-surface-color, white);\n",
       "                }\n",
       "\n",
       "                .geemap-colab .jupyter-button {\n",
       "                    --jp-layout-color3: var(--colab-primary-surface-color, white);\n",
       "                }\n",
       "            </style>\n",
       "            "
      ],
      "text/plain": [
       "<IPython.core.display.HTML object>"
      ]
     },
     "metadata": {},
     "output_type": "display_data"
    }
   ],
   "source": [
    "# set biomass palette\n",
    "biomass_palette = [\n",
    "    \"#C6ECAE\", \"#A1D490\", \"#7CB970\", \"#57A751\", \"#348E32\",\n",
    "    \"#267A29\", \"#176520\", \"#0C4E15\", \"#07320D\", \"#031807\"\n",
    "]\n",
    "\n",
    "# set land cover palette\n",
    "lc_palette = [\n",
    "    \"#033e00\",  # Temperate or sub-polar needleleaf forest\n",
    "    \"#939b71\",  # Sub-polar taiga needleleaf forest\n",
    "    \"#196d12\",  # Tropical or sub-tropical broadleaf evergreen forest\n",
    "    \"#1fab01\",  # Tropical or sub-tropical broadleaf deciduous forest\n",
    "    \"#5b725c\",  # Temperate or sub-polar broadleaf deciduous forest\n",
    "    \"#6b7d2c\",  # Mixed forest\n",
    "    \"#b29d29\",  # Tropical or sub-tropical shrubland\n",
    "    \"#b48833\",  # Temperate or sub-polar shrubland\n",
    "    \"#e9da5d\",  # Tropical or sub-tropical grassland\n",
    "    \"#e0cd88\",  # Temperate or sub-polar grassland\n",
    "    \"#a07451\",  # Sub-polar or polar shrubland-lichen-moss\n",
    "    \"#bad292\",  # Sub-polar or polar grassland-lichen-moss\n",
    "    \"#3f8970\",  # Sub-polar or polar barren-lichen-moss\n",
    "    \"#6ca289\",  # Wetland\n",
    "    \"#e6ad6a\",  # Cropland\n",
    "    \"#a9abae\",  # Barren land\n",
    "    \"#db2126\",  # Urban and built-up\n",
    "    \"#4c73a1\",  # Water\n",
    "    \"#fff7fe\",  # Snow and ice\n",
    "]"
   ]
  },
  {
   "cell_type": "code",
   "execution_count": null,
   "id": "b7c719ce",
   "metadata": {},
   "outputs": [
    {
     "data": {
      "text/html": [
       "\n",
       "            <style>\n",
       "                .geemap-dark {\n",
       "                    --jp-widgets-color: white;\n",
       "                    --jp-widgets-label-color: white;\n",
       "                    --jp-ui-font-color1: white;\n",
       "                    --jp-layout-color2: #454545;\n",
       "                    background-color: #383838;\n",
       "                }\n",
       "\n",
       "                .geemap-dark .jupyter-button {\n",
       "                    --jp-layout-color3: #383838;\n",
       "                }\n",
       "\n",
       "                .geemap-colab {\n",
       "                    background-color: var(--colab-primary-surface-color, white);\n",
       "                }\n",
       "\n",
       "                .geemap-colab .jupyter-button {\n",
       "                    --jp-layout-color3: var(--colab-primary-surface-color, white);\n",
       "                }\n",
       "            </style>\n",
       "            "
      ],
      "text/plain": [
       "<IPython.core.display.HTML object>"
      ]
     },
     "metadata": {},
     "output_type": "display_data"
    },
    {
     "data": {
      "application/vnd.jupyter.widget-view+json": {
       "model_id": "d70b4044a831479f831c9bfe04df8e9a",
       "version_major": 2,
       "version_minor": 0
      },
      "text/plain": [
       "Map(center=[0, 0], controls=(WidgetControl(options=['position', 'transparent_bg'], widget=SearchDataGUI(childr…"
      ]
     },
     "execution_count": 21,
     "metadata": {},
     "output_type": "execute_result"
    }
   ],
   "source": [
    "# create a map\n",
    "m = geemap.Map()\n",
    "\n",
    "# add layers\n",
    "# m.addLayer(soc_blend, {\"min\": 1, \"max\": 450, \"palette\": biomass_palette}, \"SOC Density Blend 0-1m\")\n",
    "# m.addLayer(soc_olm_reproj_sothe, {\"min\": 1, \"max\": 450, \"palette\": biomass_palette}, \"SOC OLM Density 0-1m\")\n",
    "# m.addLayer(soc_sothe, {\"min\": 1, \"max\": 450, \"palette\": biomass_palette}, \"SOC Sothe Density 0-1m\")\n",
    "# m.addLayer(rsr, {}, 'Root-to-Shoot Ratio Global')\n",
    "m.addLayer(bio_us_can.select(['agb_t_ha']), {\n",
    "          \"min\": 1, \"max\": 100, \"palette\": biomass_palette}, 'CCI AGB Density')\n",
    "# m.addLayer(bio.select(['dpm_t_ha']).clip(y2y), {\"min\": 1, \"max\": 60, \"palette\": biomass_palette}, 'DPM Density')\n",
    "# m.addLayer(pixel_area_agb_extent.clip(y2y), {}, 'Carbon Mask')\n",
    "# m.addLayer(lc, {\"min\": 1, \"max\": 19,\n",
    "#                 \"palette\": lc_palette}, 'Landcover')\n",
    "# m.addLayer(lc.mask(), {}, 'LC Mask')\n",
    "m.addLayer(y2y, {}, 'Y2Y Extent')\n",
    "m.addLayer(big_geo, {}, 'Big Geo')\n",
    "# m.addLayer(bio.select(['agb_t_ha']), {\n",
    "        #   \"min\": 1, \"max\": 100, \"palette\": biomass_palette}, 'CCI AGB Density')\n",
    "# m.addLayer(agb_2021.select(['AGB']), {\n",
    "#     \"min\": 1, \"max\": 100, \"palette\": biomass_palette}, 'CCI AGB Density')\n",
    "# m.addLayer(k3, {\"min\": 0, \"max\": 1}, 'k3 Mountain Classification')\n",
    "# m.addLayer(wte.updateMask(lc.mask()), {\"min\": 1, \"max\": 450, \"palette\": biomass_palette}, \"WTE\")\n",
    "# m.addLayer(irr_carbon_biomass, {\"min\": 1, \"max\": 450, \"palette\": biomass_palette}, \"Irrecoverable Carbon Biomass 2018\")\n",
    "# m.addLayer(irr_carbon_soc, {\"min\": 1, \"max\": 450, \"palette\": biomass_palette}, \"Irrecoverable Carbon SOC 2018\")\n",
    "# m.addLayer(irr_carbon.updateMask(k3), {\"min\": 1, \"max\": 450, \"palette\": biomass_palette}, \"Irrecoverable Carbon k3 2018\")\n",
    "# m.addLayer(irr_carbon.updateMask(k3.Not()), {\"min\": 1, \"max\": 450, \"palette\": biomass_palette}, \"Irrecoverable Carbon Not k3 2018\")\n",
    "# m.addLayer(countries, {}, 'Countries')\n",
    "# m.addLayer(us_can, {}, 'US and Canada')\n",
    " #m.addLayer(pixel_area_ha.clipToCollection(us_can).updateMask(k3.Not()), {}, \"Pixel Area Ha in k3\")\n",
    "\n",
    "# Display the map\n",
    "m"
   ]
  }
 ],
 "metadata": {
  "kernelspec": {
   "display_name": ".venv",
   "language": "python",
   "name": "python3"
  },
  "language_info": {
   "codemirror_mode": {
    "name": "ipython",
    "version": 3
   },
   "file_extension": ".py",
   "mimetype": "text/x-python",
   "name": "python",
   "nbconvert_exporter": "python",
   "pygments_lexer": "ipython3",
   "version": "3.12.6"
  }
 },
 "nbformat": 4,
 "nbformat_minor": 5
}
