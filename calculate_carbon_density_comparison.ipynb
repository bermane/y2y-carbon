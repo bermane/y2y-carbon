{
 "cells": [
  {
   "cell_type": "code",
   "execution_count": 3,
   "metadata": {},
   "outputs": [],
   "source": [
    "# load packages\n",
    "import os\n",
    "import geopandas as gpd\n",
    "import leafmap.foliumap as leafmap\n",
    "import requests\n",
    "import rioxarray as rxr\n",
    "import xarray\n",
    "import matplotlib.pyplot as plt\n",
    "import numpy as np\n",
    "from folium import Map\n",
    "from folium.raster_layers import ImageOverlay\n",
    "import leafmap.colormaps as cm\n",
    "from geocube.api.core import make_geocube\n",
    "import math\n",
    "import pandas as pd\n",
    "import warnings\n",
    "from pandas.api.types import is_numeric_dtype"
   ]
  },
  {
   "cell_type": "code",
   "execution_count": 4,
   "metadata": {},
   "outputs": [],
   "source": [
    "# define print raster function to help compare reprojections\n",
    "def print_raster(raster):\n",
    "    print(\n",
    "        f\"shape: {raster.rio.shape}\\n\"\n",
    "        f\"resolution: {raster.rio.resolution()}\\n\"\n",
    "        f\"bounds: {raster.rio.bounds()}\\n\"\n",
    "        f\"sum: {raster.sum().item()}\\n\"\n",
    "        f\"CRS: {raster.rio.crs}\\n\"\n",
    "        f\"NoDataValue: {raster.rio.nodata}\\n\"\n",
    "        f\"NoDataOriginalValues: {raster.rio.encoded_nodata}\\n\"\n",
    "    )"
   ]
  },
  {
   "cell_type": "code",
   "execution_count": 5,
   "metadata": {},
   "outputs": [
    {
     "name": "stdout",
     "output_type": "stream",
     "text": [
      "shape: (22330, 74495)\n",
      "resolution: (0.00224599624135848, -0.0022459534258844607)\n",
      "bounds: (-177.29286, 34.301659999999984, -9.977370000000006, 84.4538)\n",
      "sum: -inf\n",
      "CRS: EPSG:4326\n",
      "NoDataValue: -3.4028234663852886e+38\n",
      "NoDataOriginalValues: None\n",
      "\n"
     ]
    }
   ],
   "source": [
    "# load sothe canada wide biomass density raster\n",
    "canada_bio_c = rxr.open_rasterio('./carbon_stock_data/cstock_canada_sothe/McMaster_WWFCanada_forest_carbon_250m/McMaster_WWFCanada_forest_carbon_250m_kg-m2_version1.0.tif')\n",
    "print_raster(canada_bio_c)"
   ]
  },
  {
   "cell_type": "code",
   "execution_count": null,
   "metadata": {},
   "outputs": [],
   "source": []
  }
 ],
 "metadata": {
  "kernelspec": {
   "display_name": ".venv",
   "language": "python",
   "name": "python3"
  },
  "language_info": {
   "codemirror_mode": {
    "name": "ipython",
    "version": 3
   },
   "file_extension": ".py",
   "mimetype": "text/x-python",
   "name": "python",
   "nbconvert_exporter": "python",
   "pygments_lexer": "ipython3",
   "version": "3.12.6"
  }
 },
 "nbformat": 4,
 "nbformat_minor": 2
}
