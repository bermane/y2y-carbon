{
 "cells": [
  {
   "cell_type": "markdown",
   "id": "56ba47a3",
   "metadata": {},
   "source": [
    "## Load packages and initialize GEE"
   ]
  },
  {
   "cell_type": "code",
   "execution_count": 24,
   "id": "18bf9205",
   "metadata": {},
   "outputs": [
    {
     "data": {
      "text/html": [
       "\n",
       "            <style>\n",
       "                .geemap-dark {\n",
       "                    --jp-widgets-color: white;\n",
       "                    --jp-widgets-label-color: white;\n",
       "                    --jp-ui-font-color1: white;\n",
       "                    --jp-layout-color2: #454545;\n",
       "                    background-color: #383838;\n",
       "                }\n",
       "\n",
       "                .geemap-dark .jupyter-button {\n",
       "                    --jp-layout-color3: #383838;\n",
       "                }\n",
       "\n",
       "                .geemap-colab {\n",
       "                    background-color: var(--colab-primary-surface-color, white);\n",
       "                }\n",
       "\n",
       "                .geemap-colab .jupyter-button {\n",
       "                    --jp-layout-color3: var(--colab-primary-surface-color, white);\n",
       "                }\n",
       "            </style>\n",
       "            "
      ],
      "text/plain": [
       "<IPython.core.display.HTML object>"
      ]
     },
     "metadata": {},
     "output_type": "display_data"
    }
   ],
   "source": [
    "# import packages\n",
    "import ee\n",
    "import geemap\n",
    "import pandas as pd"
   ]
  },
  {
   "cell_type": "code",
   "execution_count": 25,
   "id": "148c9231",
   "metadata": {},
   "outputs": [
    {
     "data": {
      "text/html": [
       "\n",
       "            <style>\n",
       "                .geemap-dark {\n",
       "                    --jp-widgets-color: white;\n",
       "                    --jp-widgets-label-color: white;\n",
       "                    --jp-ui-font-color1: white;\n",
       "                    --jp-layout-color2: #454545;\n",
       "                    background-color: #383838;\n",
       "                }\n",
       "\n",
       "                .geemap-dark .jupyter-button {\n",
       "                    --jp-layout-color3: #383838;\n",
       "                }\n",
       "\n",
       "                .geemap-colab {\n",
       "                    background-color: var(--colab-primary-surface-color, white);\n",
       "                }\n",
       "\n",
       "                .geemap-colab .jupyter-button {\n",
       "                    --jp-layout-color3: var(--colab-primary-surface-color, white);\n",
       "                }\n",
       "            </style>\n",
       "            "
      ],
      "text/plain": [
       "<IPython.core.display.HTML object>"
      ]
     },
     "metadata": {},
     "output_type": "display_data"
    }
   ],
   "source": [
    "# authenticate the EE api\n",
    "# ee.Authenticate()"
   ]
  },
  {
   "cell_type": "code",
   "execution_count": 26,
   "id": "eba41633",
   "metadata": {},
   "outputs": [
    {
     "data": {
      "text/html": [
       "\n",
       "            <style>\n",
       "                .geemap-dark {\n",
       "                    --jp-widgets-color: white;\n",
       "                    --jp-widgets-label-color: white;\n",
       "                    --jp-ui-font-color1: white;\n",
       "                    --jp-layout-color2: #454545;\n",
       "                    background-color: #383838;\n",
       "                }\n",
       "\n",
       "                .geemap-dark .jupyter-button {\n",
       "                    --jp-layout-color3: #383838;\n",
       "                }\n",
       "\n",
       "                .geemap-colab {\n",
       "                    background-color: var(--colab-primary-surface-color, white);\n",
       "                }\n",
       "\n",
       "                .geemap-colab .jupyter-button {\n",
       "                    --jp-layout-color3: var(--colab-primary-surface-color, white);\n",
       "                }\n",
       "            </style>\n",
       "            "
      ],
      "text/plain": [
       "<IPython.core.display.HTML object>"
      ]
     },
     "metadata": {},
     "output_type": "display_data"
    }
   ],
   "source": [
    "# initialize the EE api\n",
    "ee.Initialize(project='ee-bermane')"
   ]
  },
  {
   "cell_type": "markdown",
   "id": "e92f4189",
   "metadata": {},
   "source": [
    "## Define GEE datasets"
   ]
  },
  {
   "cell_type": "code",
   "execution_count": 53,
   "id": "64f04d8e",
   "metadata": {},
   "outputs": [
    {
     "data": {
      "text/html": [
       "\n",
       "            <style>\n",
       "                .geemap-dark {\n",
       "                    --jp-widgets-color: white;\n",
       "                    --jp-widgets-label-color: white;\n",
       "                    --jp-ui-font-color1: white;\n",
       "                    --jp-layout-color2: #454545;\n",
       "                    background-color: #383838;\n",
       "                }\n",
       "\n",
       "                .geemap-dark .jupyter-button {\n",
       "                    --jp-layout-color3: #383838;\n",
       "                }\n",
       "\n",
       "                .geemap-colab {\n",
       "                    background-color: var(--colab-primary-surface-color, white);\n",
       "                }\n",
       "\n",
       "                .geemap-colab .jupyter-button {\n",
       "                    --jp-layout-color3: var(--colab-primary-surface-color, white);\n",
       "                }\n",
       "            </style>\n",
       "            "
      ],
      "text/plain": [
       "<IPython.core.display.HTML object>"
      ]
     },
     "metadata": {},
     "output_type": "display_data"
    }
   ],
   "source": [
    "# define EE datasets\n",
    "# biomass\n",
    "agb = ee.ImageCollection(\"projects/sat-io/open-datasets/ESA/ESA_CCI_AGB\")\n",
    "rsr = ee.Image(\"projects/ee-bermane/assets/Root_shoot_ratio_Map_Merged\")\n",
    "\n",
    "# soc\n",
    "soc_olm = ee.Image(\"projects/ee-bermane/assets/soc_0_1m_kg_m2_olm\")\n",
    "soc_sothe = ee.Image(\n",
    "    \"projects/ee-bermane/assets/McMaster_WWFCanada_soil_carbon1m_250m_kg-m2_version3\")\n",
    "soc_0_10_olm_global = ee.Image(\n",
    "    \"projects/ee-bermane/assets/soc_0_10cm_kg_m2_olm_global\")\n",
    "soc_10_30_olm_global = ee.Image(\n",
    "    \"projects/ee-bermane/assets/soc_10_30cm_kg_m2_olm_global\")\n",
    "soc_30_60_olm_global = ee.Image(\n",
    "    \"projects/ee-bermane/assets/soc_30_60cm_kg_m2_olm_global\")\n",
    "soc_60_100_olm_global = ee.Image(\n",
    "    \"projects/ee-bermane/assets/soc_60_100cm_kg_m2_olm_global\")\n",
    "\n",
    "# peatlands\n",
    "peat = ee.Image(\"projects/sat-io/open-datasets/GLOBAL-PEATLAND-DATABASE\")\n",
    "\n",
    "# landcover\n",
    "lc = ee.Image(\"USGS/NLCD_RELEASES/2020_REL/NALCMS\")\n",
    "wte = ee.Image(\"projects/ee-bermane/assets/WTE_2020\")\n",
    "k1 = ee.Image(\"projects/ee-bermane/assets/k1_us_can\")\n",
    "\n",
    "# netflux\n",
    "netflux = ee.ImageCollection(\n",
    "    \"projects/wri-datalab/gfw-data-lake/net-flux-forest-extent-per-ha-v1-3-2-2001-2023/net-flux-global-forest-extent-per-ha-2001-2023\"\n",
    ")\n",
    "\n",
    "# vector\n",
    "y2y = ee.FeatureCollection(\"projects/ee-bermane/assets/y2y\")\n",
    "y2y_ecoregions = ee.FeatureCollection(\n",
    "    \"projects/ee-bermane/assets/y2y_ecoregions\")\n",
    "y2y_biomes = ee.FeatureCollection(\"projects/ee-bermane/assets/y2y_biomes\")\n",
    "rra = ee.FeatureCollection(\"projects/ee-bermane/assets/ross_river_ipca\")\n",
    "countries = ee.FeatureCollection(\"USDOS/LSIB/2017\")\n",
    "y2y_protected_areas = ee.FeatureCollection(\n",
    "    \"projects/ee-bermane/assets/y2y_protected_areas\")\n",
    "y2y_protected_areas_canada = ee.FeatureCollection(\n",
    "    \"projects/ee-bermane/assets/y2y_protected_areas_canada\")\n",
    "us_can = ee.FeatureCollection(\"projects/ee-bermane/assets/us_can_simple\")"
   ]
  },
  {
   "cell_type": "markdown",
   "id": "f49ae14d",
   "metadata": {},
   "source": [
    "## Calculate north america biomass"
   ]
  },
  {
   "cell_type": "code",
   "execution_count": 54,
   "id": "1ddd5f8a",
   "metadata": {},
   "outputs": [
    {
     "data": {
      "text/html": [
       "\n",
       "            <style>\n",
       "                .geemap-dark {\n",
       "                    --jp-widgets-color: white;\n",
       "                    --jp-widgets-label-color: white;\n",
       "                    --jp-ui-font-color1: white;\n",
       "                    --jp-layout-color2: #454545;\n",
       "                    background-color: #383838;\n",
       "                }\n",
       "\n",
       "                .geemap-dark .jupyter-button {\n",
       "                    --jp-layout-color3: #383838;\n",
       "                }\n",
       "\n",
       "                .geemap-colab {\n",
       "                    background-color: var(--colab-primary-surface-color, white);\n",
       "                }\n",
       "\n",
       "                .geemap-colab .jupyter-button {\n",
       "                    --jp-layout-color3: var(--colab-primary-surface-color, white);\n",
       "                }\n",
       "            </style>\n",
       "            "
      ],
      "text/plain": [
       "<IPython.core.display.HTML object>"
      ]
     },
     "metadata": {},
     "output_type": "display_data"
    }
   ],
   "source": [
    "# calc 2021 ESA CCI biomass\n",
    "# grab the 2021 AGB images\n",
    "agb_2021 = agb.filter(ee.Filter.stringContains(\"system:index\", \"2021\")).first()\n",
    "\n",
    "# create image for litter using Harris ratio (4%)\n",
    "# leave out dead wood since it is likely sensed already\n",
    "# mask litter only for forested LC types\n",
    "# 1: \"#033e00\",  # Temperate or sub-polar needleleaf forest\n",
    "# 2: \"#939b71\",  # Sub-polar taiga needleleaf forest\n",
    "# 3: \"#196d12\",  # Tropical or sub-tropical broadleaf evergreen forest\n",
    "# 4: \"#1fab01\",  # Tropical or sub-tropical broadleaf deciduous forest\n",
    "# 5: \"#5b725c\",  # Temperate or sub-polar broadleaf deciduous forest\n",
    "# 6: \"#6b7d2c\",  # Mixed forest\n",
    "\n",
    "litter_mask = lc.gte(1).And(lc.lte(6))\n",
    "\n",
    "litter = agb_2021.select(['AGB']).multiply(0.04).multiply(litter_mask)\n",
    "\n",
    "# create image for BGB (using global rsr map)\n",
    "bgb = agb_2021.select(['AGB']).multiply(rsr).rename('BGB')\n",
    "\n",
    "# add AGB + litter and BGB together\n",
    "bio_2021 = agb_2021.select(['AGB']).add(litter).addBands(\n",
    "    bgb).rename(['agb_t_ha', 'bgb_t_ha'])\n",
    "\n",
    "# multiply values by 0.47 to get carbon density\n",
    "# 0.47 used by Harris et al. (2021)\n",
    "# mask barren ground, snow/ice and water\n",
    "bio_2021 = bio_2021.multiply(0.47).updateMask(\n",
    "    lc.neq(18).And(lc.neq(19)).And(lc.neq(16)))\n",
    "\n",
    "# compute per-pixel area in ha\n",
    "pixel_area_ha = ee.Image.pixelArea().divide(10000)\n",
    "\n",
    "# Create carbon layer mask to filter pixel area raster\n",
    "carbon_mask = bio_2021.select(['agb_t_ha']).mask().neq(0)\n",
    "\n",
    "# Mask pixel_area_ha to carbon layers\n",
    "pixel_area_agb_extent = pixel_area_ha.updateMask(carbon_mask)\n",
    "\n",
    "# calculate total biomass c per pixel and rename bands\n",
    "bio_stock_2021 = bio_2021.multiply(\n",
    "    pixel_area_ha\n",
    ").rename(\n",
    "    ['agb_t', 'bgb_t']\n",
    ").addBands(\n",
    "    pixel_area_agb_extent.rename(['pixel_area_agb_extent_ha'])\n",
    ").addBands(\n",
    "    pixel_area_ha.rename(['pixel_area_ha'])\n",
    ")"
   ]
  },
  {
   "cell_type": "markdown",
   "id": "e7b80f82",
   "metadata": {},
   "source": [
    "## Calculate soil carbon from Sothe Canada data and Open Land Map US data"
   ]
  },
  {
   "cell_type": "code",
   "execution_count": 55,
   "id": "e983814c",
   "metadata": {},
   "outputs": [
    {
     "data": {
      "text/html": [
       "\n",
       "            <style>\n",
       "                .geemap-dark {\n",
       "                    --jp-widgets-color: white;\n",
       "                    --jp-widgets-label-color: white;\n",
       "                    --jp-ui-font-color1: white;\n",
       "                    --jp-layout-color2: #454545;\n",
       "                    background-color: #383838;\n",
       "                }\n",
       "\n",
       "                .geemap-dark .jupyter-button {\n",
       "                    --jp-layout-color3: #383838;\n",
       "                }\n",
       "\n",
       "                .geemap-colab {\n",
       "                    background-color: var(--colab-primary-surface-color, white);\n",
       "                }\n",
       "\n",
       "                .geemap-colab .jupyter-button {\n",
       "                    --jp-layout-color3: var(--colab-primary-surface-color, white);\n",
       "                }\n",
       "            </style>\n",
       "            "
      ],
      "text/plain": [
       "<IPython.core.display.HTML object>"
      ]
     },
     "metadata": {},
     "output_type": "display_data"
    }
   ],
   "source": [
    "# calc open land map soc\n",
    "# add the layers together from 0-100cm\n",
    "soc_olm = soc_0_10_olm_global.add(soc_10_30_olm_global).add(\n",
    "    soc_30_60_olm_global\n",
    ").add(\n",
    "    soc_60_100_olm_global\n",
    ")\n",
    "# multiply by 10 to get t/ha\n",
    "# mask water/snow/ice\n",
    "soc_olm = soc_olm.multiply(10).rename(\n",
    "    'soc_dens').updateMask(lc.neq(18).And(lc.neq(19)))\n",
    "\n",
    "# reproject to match sothe to blend images\n",
    "soc_olm_reproj_sothe = soc_olm.resample('bilinear').toFloat()"
   ]
  },
  {
   "cell_type": "code",
   "execution_count": 56,
   "id": "03fdf458",
   "metadata": {},
   "outputs": [
    {
     "data": {
      "text/html": [
       "\n",
       "            <style>\n",
       "                .geemap-dark {\n",
       "                    --jp-widgets-color: white;\n",
       "                    --jp-widgets-label-color: white;\n",
       "                    --jp-ui-font-color1: white;\n",
       "                    --jp-layout-color2: #454545;\n",
       "                    background-color: #383838;\n",
       "                }\n",
       "\n",
       "                .geemap-dark .jupyter-button {\n",
       "                    --jp-layout-color3: #383838;\n",
       "                }\n",
       "\n",
       "                .geemap-colab {\n",
       "                    background-color: var(--colab-primary-surface-color, white);\n",
       "                }\n",
       "\n",
       "                .geemap-colab .jupyter-button {\n",
       "                    --jp-layout-color3: var(--colab-primary-surface-color, white);\n",
       "                }\n",
       "            </style>\n",
       "            "
      ],
      "text/plain": [
       "<IPython.core.display.HTML object>"
      ]
     },
     "metadata": {},
     "output_type": "display_data"
    }
   ],
   "source": [
    "# calc sothe soc\n",
    "# multiply by 10 to get t/ha\n",
    "# mask water/snow/ice\n",
    "soc_sothe = soc_sothe.multiply(10).rename(\n",
    "    'soc_dens').updateMask(lc.neq(18).And(lc.neq(19)))\n",
    "\n",
    "# blend sothe and olm carbon across y2y\n",
    "soc_blend = ee.ImageCollection([soc_olm_reproj_sothe, soc_sothe]).mosaic().rename('soc_t_ha').reproject(\n",
    "    crs=soc_sothe.projection(),\n",
    "    crsTransform=soc_sothe.projection().getInfo().get('transform')\n",
    ").updateMask(lc.neq(18).And(lc.neq(19)))  # mask snow/ice, water\n",
    "\n",
    "# Create soc layer mask to filter pixel area raster\n",
    "soc_mask = soc_blend.mask().neq(0)\n",
    "\n",
    "# Mask pixel_area_ha to carbon layers\n",
    "pixel_area_soc_extent = pixel_area_ha.updateMask(soc_mask)\n",
    "\n",
    "# multiply by pixel area to get total carbon per pixel\n",
    "soc_blend_stock = soc_blend.multiply(pixel_area_ha).rename('soc_t').addBands(\n",
    "    pixel_area_soc_extent.rename(['pixel_area_soc_extent_ha'])\n",
    ").addBands(\n",
    "    pixel_area_ha.rename(['pixel_area_ha'])\n",
    ")"
   ]
  },
  {
   "cell_type": "markdown",
   "id": "59e8c5b8",
   "metadata": {},
   "source": [
    "## Calculate average carbon density in mountains vs. non-mountains in US and Canada combined\n",
    "\n",
    "do I need to mask for values >0 as well to make sure we are fairly counting where there is actually biomass??? or is that already done?"
   ]
  },
  {
   "cell_type": "code",
   "execution_count": 63,
   "id": "a08c3f7a",
   "metadata": {},
   "outputs": [
    {
     "data": {
      "text/html": [
       "\n",
       "            <style>\n",
       "                .geemap-dark {\n",
       "                    --jp-widgets-color: white;\n",
       "                    --jp-widgets-label-color: white;\n",
       "                    --jp-ui-font-color1: white;\n",
       "                    --jp-layout-color2: #454545;\n",
       "                    background-color: #383838;\n",
       "                }\n",
       "\n",
       "                .geemap-dark .jupyter-button {\n",
       "                    --jp-layout-color3: #383838;\n",
       "                }\n",
       "\n",
       "                .geemap-colab {\n",
       "                    background-color: var(--colab-primary-surface-color, white);\n",
       "                }\n",
       "\n",
       "                .geemap-colab .jupyter-button {\n",
       "                    --jp-layout-color3: var(--colab-primary-surface-color, white);\n",
       "                }\n",
       "            </style>\n",
       "            "
      ],
      "text/plain": [
       "<IPython.core.display.HTML object>"
      ]
     },
     "metadata": {},
     "output_type": "display_data"
    }
   ],
   "source": [
    "# mask biomass with k1 mountain layer\n",
    "# reduce to single image\n",
    "biomass_k1 = (\n",
    "    bio_2021\n",
    "    .updateMask(k1) # mask for mountains only\n",
    "    .reduce(ee.Reducer.sum()) # sum biomass layers\n",
    "    .reduceRegion( # calc mean biomass density\n",
    "        reducer=ee.Reducer.mean(),\n",
    "        geometry=us_can.geometry(),\n",
    "        scale=bio_2021.projection().nominalScale(),\n",
    "        maxPixels=1e20\n",
    "    )\n",
    ")\n",
    "\n",
    "# export to drive\n",
    "# too big a process to load directly\n",
    "ee.batch.Export.table.toDrive(\n",
    "    collection=ee.FeatureCollection([\n",
    "        ee.Feature(None, biomass_k1)]),\n",
    "    description=\"biomass_k1_mean_density\",\n",
    "    folder=\"\",\n",
    "    fileFormat=\"CSV\"\n",
    ").start()\n"
   ]
  },
  {
   "cell_type": "code",
   "execution_count": 64,
   "id": "ddadb2e1",
   "metadata": {},
   "outputs": [
    {
     "data": {
      "text/html": [
       "\n",
       "            <style>\n",
       "                .geemap-dark {\n",
       "                    --jp-widgets-color: white;\n",
       "                    --jp-widgets-label-color: white;\n",
       "                    --jp-ui-font-color1: white;\n",
       "                    --jp-layout-color2: #454545;\n",
       "                    background-color: #383838;\n",
       "                }\n",
       "\n",
       "                .geemap-dark .jupyter-button {\n",
       "                    --jp-layout-color3: #383838;\n",
       "                }\n",
       "\n",
       "                .geemap-colab {\n",
       "                    background-color: var(--colab-primary-surface-color, white);\n",
       "                }\n",
       "\n",
       "                .geemap-colab .jupyter-button {\n",
       "                    --jp-layout-color3: var(--colab-primary-surface-color, white);\n",
       "                }\n",
       "            </style>\n",
       "            "
      ],
      "text/plain": [
       "<IPython.core.display.HTML object>"
      ]
     },
     "metadata": {},
     "output_type": "display_data"
    }
   ],
   "source": [
    "# mask biomass with not k1 mountain layer\n",
    "# reduce to single image\n",
    "biomass_not_k1 = (\n",
    "    bio_2021\n",
    "    .updateMask(k1.Not()) # mask for not mountains\n",
    "    .reduce(ee.Reducer.sum()) # sum biomass layers\n",
    "    .reduceRegion( # calc mean biomass density\n",
    "        reducer=ee.Reducer.mean(),\n",
    "        geometry=us_can.geometry(),\n",
    "        scale=bio_2021.projection().nominalScale(),\n",
    "        maxPixels=1e20\n",
    "    )\n",
    ")\n",
    "\n",
    "# export to drive\n",
    "# too big a process to load directly\n",
    "ee.batch.Export.table.toDrive(\n",
    "    collection=ee.FeatureCollection([\n",
    "        ee.Feature(None, biomass_not_k1)]),\n",
    "    description=\"biomass_not_k1_mean_density\",\n",
    "    folder=\"\",\n",
    "    fileFormat=\"CSV\"\n",
    ").start()"
   ]
  },
  {
   "cell_type": "code",
   "execution_count": 67,
   "id": "cea774bd",
   "metadata": {},
   "outputs": [
    {
     "data": {
      "text/html": [
       "\n",
       "            <style>\n",
       "                .geemap-dark {\n",
       "                    --jp-widgets-color: white;\n",
       "                    --jp-widgets-label-color: white;\n",
       "                    --jp-ui-font-color1: white;\n",
       "                    --jp-layout-color2: #454545;\n",
       "                    background-color: #383838;\n",
       "                }\n",
       "\n",
       "                .geemap-dark .jupyter-button {\n",
       "                    --jp-layout-color3: #383838;\n",
       "                }\n",
       "\n",
       "                .geemap-colab {\n",
       "                    background-color: var(--colab-primary-surface-color, white);\n",
       "                }\n",
       "\n",
       "                .geemap-colab .jupyter-button {\n",
       "                    --jp-layout-color3: var(--colab-primary-surface-color, white);\n",
       "                }\n",
       "            </style>\n",
       "            "
      ],
      "text/plain": [
       "<IPython.core.display.HTML object>"
      ]
     },
     "metadata": {},
     "output_type": "display_data"
    }
   ],
   "source": [
    "# mask soc with k1 mountain layer\n",
    "# reduce to single image\n",
    "soc_k1 = (\n",
    "    soc_blend\n",
    "    .updateMask(k1) # mask for mountains only\n",
    "    .reduceRegion( # calc mean biomass density\n",
    "        reducer=ee.Reducer.mean(),\n",
    "        geometry=us_can.geometry(),\n",
    "        scale=soc_blend.projection().nominalScale(),\n",
    "        maxPixels=1e20\n",
    "    )\n",
    ")\n",
    "\n",
    "soc_not_k1 = (\n",
    "    soc_blend\n",
    "    .updateMask(k1.Not()) # mask for not mountains\n",
    "    .reduceRegion( # calc mean biomass density\n",
    "        reducer=ee.Reducer.mean(),\n",
    "        geometry=us_can.geometry(),\n",
    "        scale=soc_blend.projection().nominalScale(),\n",
    "        maxPixels=1e20\n",
    "    )\n",
    ")\n",
    "\n",
    "# export to drive\n",
    "# too big a process to load directly\n",
    "ee.batch.Export.table.toDrive(\n",
    "    collection=ee.FeatureCollection([\n",
    "        ee.Feature(None, {\"soc_k1\": soc_k1, \"soc_not_k1\": soc_not_k1})]),\n",
    "    description=\"soc_k1_mean_density\",\n",
    "    folder=\"\",\n",
    "    fileFormat=\"CSV\"\n",
    ").start()\n"
   ]
  },
  {
   "cell_type": "code",
   "execution_count": 71,
   "id": "42b99600",
   "metadata": {},
   "outputs": [
    {
     "data": {
      "text/html": [
       "\n",
       "            <style>\n",
       "                .geemap-dark {\n",
       "                    --jp-widgets-color: white;\n",
       "                    --jp-widgets-label-color: white;\n",
       "                    --jp-ui-font-color1: white;\n",
       "                    --jp-layout-color2: #454545;\n",
       "                    background-color: #383838;\n",
       "                }\n",
       "\n",
       "                .geemap-dark .jupyter-button {\n",
       "                    --jp-layout-color3: #383838;\n",
       "                }\n",
       "\n",
       "                .geemap-colab {\n",
       "                    background-color: var(--colab-primary-surface-color, white);\n",
       "                }\n",
       "\n",
       "                .geemap-colab .jupyter-button {\n",
       "                    --jp-layout-color3: var(--colab-primary-surface-color, white);\n",
       "                }\n",
       "            </style>\n",
       "            "
      ],
      "text/plain": [
       "<IPython.core.display.HTML object>"
      ]
     },
     "metadata": {},
     "output_type": "display_data"
    },
    {
     "data": {
      "text/plain": [
       "{'sum': 56.21426028703218}"
      ]
     },
     "execution_count": 71,
     "metadata": {},
     "output_type": "execute_result"
    }
   ],
   "source": [
    "# mask biomass k1 for Y2Y only\n",
    "biomass_k1_y2y = (\n",
    "    bio_2021\n",
    "    .updateMask(k1) # mask for mountains only\n",
    "    .reduce(ee.Reducer.sum()) # sum biomass layers\n",
    "    .reduceRegion( # calc mean biomass density\n",
    "        reducer=ee.Reducer.mean(),\n",
    "        geometry=y2y.geometry(),\n",
    "        scale=bio_2021.projection().nominalScale(),\n",
    "        maxPixels=1e20\n",
    "    )\n",
    ")\n",
    "\n",
    "biomass_k1_y2y.getInfo()"
   ]
  },
  {
   "cell_type": "code",
   "execution_count": 72,
   "id": "b5f5256e",
   "metadata": {},
   "outputs": [
    {
     "data": {
      "text/html": [
       "\n",
       "            <style>\n",
       "                .geemap-dark {\n",
       "                    --jp-widgets-color: white;\n",
       "                    --jp-widgets-label-color: white;\n",
       "                    --jp-ui-font-color1: white;\n",
       "                    --jp-layout-color2: #454545;\n",
       "                    background-color: #383838;\n",
       "                }\n",
       "\n",
       "                .geemap-dark .jupyter-button {\n",
       "                    --jp-layout-color3: #383838;\n",
       "                }\n",
       "\n",
       "                .geemap-colab {\n",
       "                    background-color: var(--colab-primary-surface-color, white);\n",
       "                }\n",
       "\n",
       "                .geemap-colab .jupyter-button {\n",
       "                    --jp-layout-color3: var(--colab-primary-surface-color, white);\n",
       "                }\n",
       "            </style>\n",
       "            "
      ],
      "text/plain": [
       "<IPython.core.display.HTML object>"
      ]
     },
     "metadata": {},
     "output_type": "display_data"
    },
    {
     "data": {
      "text/plain": [
       "{'soc_t_ha': 208.6348971535799}"
      ]
     },
     "execution_count": 72,
     "metadata": {},
     "output_type": "execute_result"
    }
   ],
   "source": [
    "# mask soc k1 for Y2Y only\n",
    "soc_k1_y2y = (\n",
    "    soc_blend\n",
    "    .updateMask(k1) # mask for mountains only\n",
    "    .reduceRegion( # calc mean biomass density\n",
    "        reducer=ee.Reducer.mean(),\n",
    "        geometry=y2y.geometry(),\n",
    "        scale=soc_blend.projection().nominalScale(),\n",
    "        maxPixels=1e20\n",
    "    )\n",
    ")\n",
    "\n",
    "soc_k1_y2y.getInfo()"
   ]
  },
  {
   "cell_type": "markdown",
   "id": "4549c738",
   "metadata": {},
   "source": [
    "## Calculate average carbon density in different WTE classes in US and Canada combined"
   ]
  },
  {
   "cell_type": "markdown",
   "id": "e23fc8c3",
   "metadata": {},
   "source": [
    "## Add layers to map"
   ]
  },
  {
   "cell_type": "code",
   "execution_count": 20,
   "id": "9e7b81e8",
   "metadata": {},
   "outputs": [
    {
     "data": {
      "text/html": [
       "\n",
       "            <style>\n",
       "                .geemap-dark {\n",
       "                    --jp-widgets-color: white;\n",
       "                    --jp-widgets-label-color: white;\n",
       "                    --jp-ui-font-color1: white;\n",
       "                    --jp-layout-color2: #454545;\n",
       "                    background-color: #383838;\n",
       "                }\n",
       "\n",
       "                .geemap-dark .jupyter-button {\n",
       "                    --jp-layout-color3: #383838;\n",
       "                }\n",
       "\n",
       "                .geemap-colab {\n",
       "                    background-color: var(--colab-primary-surface-color, white);\n",
       "                }\n",
       "\n",
       "                .geemap-colab .jupyter-button {\n",
       "                    --jp-layout-color3: var(--colab-primary-surface-color, white);\n",
       "                }\n",
       "            </style>\n",
       "            "
      ],
      "text/plain": [
       "<IPython.core.display.HTML object>"
      ]
     },
     "metadata": {},
     "output_type": "display_data"
    }
   ],
   "source": [
    "# set biomass palette\n",
    "biomass_palette = [\n",
    "    \"#C6ECAE\", \"#A1D490\", \"#7CB970\", \"#57A751\", \"#348E32\",\n",
    "    \"#267A29\", \"#176520\", \"#0C4E15\", \"#07320D\", \"#031807\"\n",
    "]\n",
    "\n",
    "# set land cover palette\n",
    "lc_palette = [\n",
    "    \"#033e00\",  # Temperate or sub-polar needleleaf forest\n",
    "    \"#939b71\",  # Sub-polar taiga needleleaf forest\n",
    "    \"#196d12\",  # Tropical or sub-tropical broadleaf evergreen forest\n",
    "    \"#1fab01\",  # Tropical or sub-tropical broadleaf deciduous forest\n",
    "    \"#5b725c\",  # Temperate or sub-polar broadleaf deciduous forest\n",
    "    \"#6b7d2c\",  # Mixed forest\n",
    "    \"#b29d29\",  # Tropical or sub-tropical shrubland\n",
    "    \"#b48833\",  # Temperate or sub-polar shrubland\n",
    "    \"#e9da5d\",  # Tropical or sub-tropical grassland\n",
    "    \"#e0cd88\",  # Temperate or sub-polar grassland\n",
    "    \"#a07451\",  # Sub-polar or polar shrubland-lichen-moss\n",
    "    \"#bad292\",  # Sub-polar or polar grassland-lichen-moss\n",
    "    \"#3f8970\",  # Sub-polar or polar barren-lichen-moss\n",
    "    \"#6ca289\",  # Wetland\n",
    "    \"#e6ad6a\",  # Cropland\n",
    "    \"#a9abae\",  # Barren land\n",
    "    \"#db2126\",  # Urban and built-up\n",
    "    \"#4c73a1\",  # Water\n",
    "    \"#fff7fe\",  # Snow and ice\n",
    "]"
   ]
  },
  {
   "cell_type": "code",
   "execution_count": 69,
   "id": "b7c719ce",
   "metadata": {},
   "outputs": [
    {
     "data": {
      "text/html": [
       "\n",
       "            <style>\n",
       "                .geemap-dark {\n",
       "                    --jp-widgets-color: white;\n",
       "                    --jp-widgets-label-color: white;\n",
       "                    --jp-ui-font-color1: white;\n",
       "                    --jp-layout-color2: #454545;\n",
       "                    background-color: #383838;\n",
       "                }\n",
       "\n",
       "                .geemap-dark .jupyter-button {\n",
       "                    --jp-layout-color3: #383838;\n",
       "                }\n",
       "\n",
       "                .geemap-colab {\n",
       "                    background-color: var(--colab-primary-surface-color, white);\n",
       "                }\n",
       "\n",
       "                .geemap-colab .jupyter-button {\n",
       "                    --jp-layout-color3: var(--colab-primary-surface-color, white);\n",
       "                }\n",
       "            </style>\n",
       "            "
      ],
      "text/plain": [
       "<IPython.core.display.HTML object>"
      ]
     },
     "metadata": {},
     "output_type": "display_data"
    },
    {
     "data": {
      "application/vnd.jupyter.widget-view+json": {
       "model_id": "62af09667ce6452f824efdab3965f395",
       "version_major": 2,
       "version_minor": 0
      },
      "text/plain": [
       "Map(center=[0, 0], controls=(WidgetControl(options=['position', 'transparent_bg'], widget=SearchDataGUI(childr…"
      ]
     },
     "execution_count": 69,
     "metadata": {},
     "output_type": "execute_result"
    }
   ],
   "source": [
    "# create a map\n",
    "m = geemap.Map()\n",
    "\n",
    "# add layers\n",
    "# m.addLayer(soc_blend, {\"min\": 1, \"max\": 450, \"palette\": biomass_palette}, \"SOC Density Blend 0-1m\")\n",
    "# m.addLayer(soc_olm_reproj_sothe, {\"min\": 1, \"max\": 450, \"palette\": biomass_palette}, \"SOC OLM Density 0-1m\")\n",
    "# m.addLayer(soc_sothe, {\"min\": 1, \"max\": 450, \"palette\": biomass_palette}, \"SOC Sothe Density 0-1m\")\n",
    "# m.addLayer(rsr, {}, 'Root-to-Shoot Ratio Global')\n",
    "# m.addLayer(bio_2021.select(['agb_t_ha']).clip(y2y), {\n",
    "#           \"min\": 1, \"max\": 100, \"palette\": biomass_palette}, 'CCI AGB Density')\n",
    "# m.addLayer(bio_2021.select(['dpm_t_ha']).clip(y2y), {\"min\": 1, \"max\": 60, \"palette\": biomass_palette}, 'DPM Density')\n",
    "# m.addLayer(pixel_area_agb_extent.clip(y2y), {}, 'Carbon Mask')\n",
    "m.addLayer(lc, {\"min\": 1, \"max\": 19,\n",
    "                \"palette\": lc_palette}, 'Landcover')\n",
    "m.addLayer(lc.mask(), {}, 'LC Mask')\n",
    "# m.addLayer(y2y_can, {}, 'Y2Y Canada Extent')\n",
    "# m.addLayer(big_fc, {}, 'Big Geo')\n",
    "# m.addLayer(bio_2021.select(['agb_t_ha']).updateMask(k1.Not()), {\n",
    "#           \"min\": 1, \"max\": 100, \"palette\": biomass_palette}, 'CCI AGB Density')\n",
    "# m.addLayer(agb_2021.select(['AGB']), {\n",
    "#     \"min\": 1, \"max\": 100, \"palette\": biomass_palette}, 'CCI AGB Density')\n",
    "# m.addLayer(k1, {\"min\": 0, \"max\": 1}, 'K1 Mountain Classification')\n",
    "m.addLayer(wte.updateMask(lc.mask()), {\"min\": 1, \"max\": 450, \"palette\": biomass_palette}, \"WTE\")\n",
    "\n",
    "# Display the map\n",
    "m"
   ]
  },
  {
   "cell_type": "code",
   "execution_count": null,
   "id": "eb434725",
   "metadata": {},
   "outputs": [],
   "source": []
  }
 ],
 "metadata": {
  "kernelspec": {
   "display_name": ".venv",
   "language": "python",
   "name": "python3"
  },
  "language_info": {
   "codemirror_mode": {
    "name": "ipython",
    "version": 3
   },
   "file_extension": ".py",
   "mimetype": "text/x-python",
   "name": "python",
   "nbconvert_exporter": "python",
   "pygments_lexer": "ipython3",
   "version": "3.12.6"
  }
 },
 "nbformat": 4,
 "nbformat_minor": 5
}
