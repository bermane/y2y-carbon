{
 "cells": [
  {
   "cell_type": "markdown",
   "id": "56ba47a3",
   "metadata": {},
   "source": [
    "## Load packages and initialize GEE"
   ]
  },
  {
   "cell_type": "code",
   "execution_count": 1,
   "id": "18bf9205",
   "metadata": {},
   "outputs": [],
   "source": [
    "# import packages\n",
    "import ee\n",
    "import geemap\n",
    "import pandas as pd"
   ]
  },
  {
   "cell_type": "code",
   "execution_count": null,
   "id": "148c9231",
   "metadata": {},
   "outputs": [
    {
     "data": {
      "text/html": [
       "\n",
       "            <style>\n",
       "                .geemap-dark {\n",
       "                    --jp-widgets-color: white;\n",
       "                    --jp-widgets-label-color: white;\n",
       "                    --jp-ui-font-color1: white;\n",
       "                    --jp-layout-color2: #454545;\n",
       "                    background-color: #383838;\n",
       "                }\n",
       "\n",
       "                .geemap-dark .jupyter-button {\n",
       "                    --jp-layout-color3: #383838;\n",
       "                }\n",
       "\n",
       "                .geemap-colab {\n",
       "                    background-color: var(--colab-primary-surface-color, white);\n",
       "                }\n",
       "\n",
       "                .geemap-colab .jupyter-button {\n",
       "                    --jp-layout-color3: var(--colab-primary-surface-color, white);\n",
       "                }\n",
       "            </style>\n",
       "            "
      ],
      "text/plain": [
       "<IPython.core.display.HTML object>"
      ]
     },
     "metadata": {},
     "output_type": "display_data"
    },
    {
     "data": {
      "text/html": [
       "<p>To authorize access needed by Earth Engine, open the following\n",
       "        URL in a web browser and follow the instructions:</p>\n",
       "        <p><a href=https://code.earthengine.google.com/client-auth?scopes=https%3A//www.googleapis.com/auth/earthengine%20https%3A//www.googleapis.com/auth/cloud-platform%20https%3A//www.googleapis.com/auth/devstorage.full_control&request_id=TKu7Edt6Wf3XfpTrGud-7vFhzglTbYCZpNs-1qSxPko&tc=GCEXzkAuqUSzslonDLrdvGJWWe8WeBkv6bo9a7xb2uQ&cc=0r4n7J6tMfZwF3X5DGBHgVebI3cHUvSVQNlf7ZFtMMs>https://code.earthengine.google.com/client-auth?scopes=https%3A//www.googleapis.com/auth/earthengine%20https%3A//www.googleapis.com/auth/cloud-platform%20https%3A//www.googleapis.com/auth/devstorage.full_control&request_id=TKu7Edt6Wf3XfpTrGud-7vFhzglTbYCZpNs-1qSxPko&tc=GCEXzkAuqUSzslonDLrdvGJWWe8WeBkv6bo9a7xb2uQ&cc=0r4n7J6tMfZwF3X5DGBHgVebI3cHUvSVQNlf7ZFtMMs</a></p>\n",
       "        <p>The authorization workflow will generate a code, which you should paste in the box below.</p>\n",
       "        "
      ],
      "text/plain": [
       "<IPython.core.display.HTML object>"
      ]
     },
     "metadata": {},
     "output_type": "display_data"
    },
    {
     "name": "stdout",
     "output_type": "stream",
     "text": [
      "\n",
      "Successfully saved authorization token.\n"
     ]
    }
   ],
   "source": [
    "# authenticate the EE api\n",
    "# ee.Authenticate()"
   ]
  },
  {
   "cell_type": "code",
   "execution_count": 5,
   "id": "eba41633",
   "metadata": {},
   "outputs": [
    {
     "data": {
      "text/html": [
       "\n",
       "            <style>\n",
       "                .geemap-dark {\n",
       "                    --jp-widgets-color: white;\n",
       "                    --jp-widgets-label-color: white;\n",
       "                    --jp-ui-font-color1: white;\n",
       "                    --jp-layout-color2: #454545;\n",
       "                    background-color: #383838;\n",
       "                }\n",
       "\n",
       "                .geemap-dark .jupyter-button {\n",
       "                    --jp-layout-color3: #383838;\n",
       "                }\n",
       "\n",
       "                .geemap-colab {\n",
       "                    background-color: var(--colab-primary-surface-color, white);\n",
       "                }\n",
       "\n",
       "                .geemap-colab .jupyter-button {\n",
       "                    --jp-layout-color3: var(--colab-primary-surface-color, white);\n",
       "                }\n",
       "            </style>\n",
       "            "
      ],
      "text/plain": [
       "<IPython.core.display.HTML object>"
      ]
     },
     "metadata": {},
     "output_type": "display_data"
    }
   ],
   "source": [
    "# initialize the EE api\n",
    "ee.Initialize(project='ee-bermane')"
   ]
  },
  {
   "cell_type": "markdown",
   "id": "e92f4189",
   "metadata": {},
   "source": [
    "## Define GEE datasets"
   ]
  },
  {
   "cell_type": "code",
   "execution_count": 6,
   "id": "64f04d8e",
   "metadata": {},
   "outputs": [
    {
     "data": {
      "text/html": [
       "\n",
       "            <style>\n",
       "                .geemap-dark {\n",
       "                    --jp-widgets-color: white;\n",
       "                    --jp-widgets-label-color: white;\n",
       "                    --jp-ui-font-color1: white;\n",
       "                    --jp-layout-color2: #454545;\n",
       "                    background-color: #383838;\n",
       "                }\n",
       "\n",
       "                .geemap-dark .jupyter-button {\n",
       "                    --jp-layout-color3: #383838;\n",
       "                }\n",
       "\n",
       "                .geemap-colab {\n",
       "                    background-color: var(--colab-primary-surface-color, white);\n",
       "                }\n",
       "\n",
       "                .geemap-colab .jupyter-button {\n",
       "                    --jp-layout-color3: var(--colab-primary-surface-color, white);\n",
       "                }\n",
       "            </style>\n",
       "            "
      ],
      "text/plain": [
       "<IPython.core.display.HTML object>"
      ]
     },
     "metadata": {},
     "output_type": "display_data"
    }
   ],
   "source": [
    "# define EE datasets\n",
    "# biomass\n",
    "agb = ee.ImageCollection(\"projects/sat-io/open-datasets/ESA/ESA_CCI_AGB\")\n",
    "rsr = ee.Image(\"projects/ee-bermane/assets/Root_shoot_ratio_Map_Merged\")\n",
    "\n",
    "# soc\n",
    "soc_olm = ee.Image(\"projects/ee-bermane/assets/soc_0_1m_kg_m2_olm\")\n",
    "soc_sothe = ee.Image(\n",
    "    \"projects/ee-bermane/assets/McMaster_WWFCanada_soil_carbon1m_250m_kg-m2_version3\")\n",
    "soc_0_10_olm_global = ee.Image(\n",
    "    \"projects/ee-bermane/assets/soc_0_10cm_kg_m2_olm_global\")\n",
    "soc_10_30_olm_global = ee.Image(\n",
    "    \"projects/ee-bermane/assets/soc_10_30cm_kg_m2_olm_global\")\n",
    "soc_30_60_olm_global = ee.Image(\n",
    "    \"projects/ee-bermane/assets/soc_30_60cm_kg_m2_olm_global\")\n",
    "soc_60_100_olm_global = ee.Image(\n",
    "    \"projects/ee-bermane/assets/soc_60_100cm_kg_m2_olm_global\")\n",
    "\n",
    "# peatlands\n",
    "peat = ee.Image(\"projects/sat-io/open-datasets/GLOBAL-PEATLAND-DATABASE\")\n",
    "\n",
    "# landcover\n",
    "lc = ee.Image(\"USGS/NLCD_RELEASES/2020_REL/NALCMS\")\n",
    "wte = ee.Image(\"projects/ee-bermane/assets/WTE_2020\")\n",
    "k1 = ee.Image(\"projects/ee-bermane/assets/k1_global\")\n",
    "\n",
    "# netflux\n",
    "netflux = ee.ImageCollection(\n",
    "    \"projects/wri-datalab/gfw-data-lake/net-flux-forest-extent-per-ha-v1-3-2-2001-2023/net-flux-global-forest-extent-per-ha-2001-2023\"\n",
    ")\n",
    "\n",
    "# irrecoverable carbon\n",
    "irr_carbon = ee.Image(\"projects/sat-io/open-datasets/irrecoverable_carbon/carbon_total/carbon_total_2018\")\n",
    "\n",
    "# vector\n",
    "y2y = ee.FeatureCollection(\"projects/ee-bermane/assets/y2y\")\n",
    "y2y_ecoregions = ee.FeatureCollection(\n",
    "    \"projects/ee-bermane/assets/y2y_ecoregions\")\n",
    "y2y_biomes = ee.FeatureCollection(\"projects/ee-bermane/assets/y2y_biomes\")\n",
    "rra = ee.FeatureCollection(\"projects/ee-bermane/assets/ross_river_ipca\")\n",
    "countries = ee.FeatureCollection(\"USDOS/LSIB/2017\")\n",
    "y2y_protected_areas = ee.FeatureCollection(\n",
    "    \"projects/ee-bermane/assets/y2y_protected_areas\")\n",
    "y2y_protected_areas_canada = ee.FeatureCollection(\n",
    "    \"projects/ee-bermane/assets/y2y_protected_areas_canada\")\n",
    "us_can = ee.FeatureCollection(\"projects/ee-bermane/assets/us_can_simple\")"
   ]
  },
  {
   "cell_type": "markdown",
   "id": "f49ae14d",
   "metadata": {},
   "source": [
    "## Calculate north america biomass"
   ]
  },
  {
   "cell_type": "code",
   "execution_count": 7,
   "id": "1ddd5f8a",
   "metadata": {},
   "outputs": [
    {
     "data": {
      "text/html": [
       "\n",
       "            <style>\n",
       "                .geemap-dark {\n",
       "                    --jp-widgets-color: white;\n",
       "                    --jp-widgets-label-color: white;\n",
       "                    --jp-ui-font-color1: white;\n",
       "                    --jp-layout-color2: #454545;\n",
       "                    background-color: #383838;\n",
       "                }\n",
       "\n",
       "                .geemap-dark .jupyter-button {\n",
       "                    --jp-layout-color3: #383838;\n",
       "                }\n",
       "\n",
       "                .geemap-colab {\n",
       "                    background-color: var(--colab-primary-surface-color, white);\n",
       "                }\n",
       "\n",
       "                .geemap-colab .jupyter-button {\n",
       "                    --jp-layout-color3: var(--colab-primary-surface-color, white);\n",
       "                }\n",
       "            </style>\n",
       "            "
      ],
      "text/plain": [
       "<IPython.core.display.HTML object>"
      ]
     },
     "metadata": {},
     "output_type": "display_data"
    }
   ],
   "source": [
    "# calc 2021 ESA CCI biomass\n",
    "# grab the 2021 AGB images\n",
    "agb_2021 = agb.filter(ee.Filter.stringContains(\"system:index\", \"2021\")).first()\n",
    "\n",
    "# create image for litter using Harris ratio (4%)\n",
    "# leave out dead wood since it is likely sensed already\n",
    "# mask litter only for forested LC types\n",
    "# 1: \"#033e00\",  # Temperate or sub-polar needleleaf forest\n",
    "# 2: \"#939b71\",  # Sub-polar taiga needleleaf forest\n",
    "# 3: \"#196d12\",  # Tropical or sub-tropical broadleaf evergreen forest\n",
    "# 4: \"#1fab01\",  # Tropical or sub-tropical broadleaf deciduous forest\n",
    "# 5: \"#5b725c\",  # Temperate or sub-polar broadleaf deciduous forest\n",
    "# 6: \"#6b7d2c\",  # Mixed forest\n",
    "\n",
    "litter_mask = lc.gte(1).And(lc.lte(6))\n",
    "\n",
    "litter = agb_2021.select(['AGB']).multiply(0.04).multiply(litter_mask)\n",
    "\n",
    "# create image for BGB (using global rsr map)\n",
    "bgb = agb_2021.select(['AGB']).multiply(rsr).rename('BGB')\n",
    "\n",
    "# add AGB + litter and BGB together\n",
    "bio_2021 = agb_2021.select(['AGB']).add(litter).addBands(\n",
    "    bgb).rename(['agb_t_ha', 'bgb_t_ha'])\n",
    "\n",
    "# multiply values by 0.47 to get carbon density\n",
    "# 0.47 used by Harris et al. (2021)\n",
    "# mask barren ground, snow/ice and water\n",
    "bio_2021 = bio_2021.multiply(0.47).updateMask(\n",
    "    lc.neq(18).And(lc.neq(19)).And(lc.neq(16)))\n",
    "\n",
    "# compute per-pixel area in ha\n",
    "pixel_area_ha = ee.Image.pixelArea().divide(10000)\n",
    "\n",
    "# Create carbon layer mask to filter pixel area raster\n",
    "carbon_mask = bio_2021.select(['agb_t_ha']).mask().neq(0)\n",
    "\n",
    "# Mask pixel_area_ha to carbon layers\n",
    "pixel_area_agb_extent = pixel_area_ha.updateMask(carbon_mask)\n",
    "\n",
    "# calculate total biomass c per pixel and rename bands\n",
    "bio_stock_2021 = bio_2021.multiply(\n",
    "    pixel_area_ha\n",
    ").rename(\n",
    "    ['agb_t', 'bgb_t']\n",
    ").addBands(\n",
    "    pixel_area_agb_extent.rename(['pixel_area_agb_extent_ha'])\n",
    ").addBands(\n",
    "    pixel_area_ha.rename(['pixel_area_ha'])\n",
    ")"
   ]
  },
  {
   "cell_type": "markdown",
   "id": "e7b80f82",
   "metadata": {},
   "source": [
    "## Calculate soil carbon from Sothe Canada data and Open Land Map US data"
   ]
  },
  {
   "cell_type": "code",
   "execution_count": 8,
   "id": "e983814c",
   "metadata": {},
   "outputs": [
    {
     "data": {
      "text/html": [
       "\n",
       "            <style>\n",
       "                .geemap-dark {\n",
       "                    --jp-widgets-color: white;\n",
       "                    --jp-widgets-label-color: white;\n",
       "                    --jp-ui-font-color1: white;\n",
       "                    --jp-layout-color2: #454545;\n",
       "                    background-color: #383838;\n",
       "                }\n",
       "\n",
       "                .geemap-dark .jupyter-button {\n",
       "                    --jp-layout-color3: #383838;\n",
       "                }\n",
       "\n",
       "                .geemap-colab {\n",
       "                    background-color: var(--colab-primary-surface-color, white);\n",
       "                }\n",
       "\n",
       "                .geemap-colab .jupyter-button {\n",
       "                    --jp-layout-color3: var(--colab-primary-surface-color, white);\n",
       "                }\n",
       "            </style>\n",
       "            "
      ],
      "text/plain": [
       "<IPython.core.display.HTML object>"
      ]
     },
     "metadata": {},
     "output_type": "display_data"
    }
   ],
   "source": [
    "# calc open land map soc\n",
    "# add the layers together from 0-100cm\n",
    "soc_olm = soc_0_10_olm_global.add(soc_10_30_olm_global).add(\n",
    "    soc_30_60_olm_global\n",
    ").add(\n",
    "    soc_60_100_olm_global\n",
    ")\n",
    "# multiply by 10 to get t/ha\n",
    "# mask water/snow/ice\n",
    "soc_olm = soc_olm.multiply(10).rename(\n",
    "    'soc_dens').updateMask(lc.neq(18).And(lc.neq(19)))\n",
    "\n",
    "# reproject to match sothe to blend images\n",
    "soc_olm_reproj_sothe = soc_olm.resample('bilinear').toFloat()"
   ]
  },
  {
   "cell_type": "code",
   "execution_count": 9,
   "id": "03fdf458",
   "metadata": {},
   "outputs": [
    {
     "data": {
      "text/html": [
       "\n",
       "            <style>\n",
       "                .geemap-dark {\n",
       "                    --jp-widgets-color: white;\n",
       "                    --jp-widgets-label-color: white;\n",
       "                    --jp-ui-font-color1: white;\n",
       "                    --jp-layout-color2: #454545;\n",
       "                    background-color: #383838;\n",
       "                }\n",
       "\n",
       "                .geemap-dark .jupyter-button {\n",
       "                    --jp-layout-color3: #383838;\n",
       "                }\n",
       "\n",
       "                .geemap-colab {\n",
       "                    background-color: var(--colab-primary-surface-color, white);\n",
       "                }\n",
       "\n",
       "                .geemap-colab .jupyter-button {\n",
       "                    --jp-layout-color3: var(--colab-primary-surface-color, white);\n",
       "                }\n",
       "            </style>\n",
       "            "
      ],
      "text/plain": [
       "<IPython.core.display.HTML object>"
      ]
     },
     "metadata": {},
     "output_type": "display_data"
    }
   ],
   "source": [
    "# calc sothe soc\n",
    "# multiply by 10 to get t/ha\n",
    "# mask water/snow/ice\n",
    "soc_sothe = soc_sothe.multiply(10).rename(\n",
    "    'soc_dens').updateMask(lc.neq(18).And(lc.neq(19)))\n",
    "\n",
    "# blend sothe and olm carbon across y2y\n",
    "soc_blend = ee.ImageCollection([soc_olm_reproj_sothe, soc_sothe]).mosaic().rename('soc_t_ha').reproject(\n",
    "    crs=soc_sothe.projection(),\n",
    "    crsTransform=soc_sothe.projection().getInfo().get('transform')\n",
    ").updateMask(lc.neq(18).And(lc.neq(19)))  # mask snow/ice, water\n",
    "\n",
    "# Create soc layer mask to filter pixel area raster\n",
    "soc_mask = soc_blend.mask().neq(0)\n",
    "\n",
    "# Mask pixel_area_ha to carbon layers\n",
    "pixel_area_soc_extent = pixel_area_ha.updateMask(soc_mask)\n",
    "\n",
    "# multiply by pixel area to get total carbon per pixel\n",
    "soc_blend_stock = soc_blend.multiply(pixel_area_ha).rename('soc_t').addBands(\n",
    "    pixel_area_soc_extent.rename(['pixel_area_soc_extent_ha'])\n",
    ").addBands(\n",
    "    pixel_area_ha.rename(['pixel_area_ha'])\n",
    ")"
   ]
  },
  {
   "cell_type": "markdown",
   "id": "59e8c5b8",
   "metadata": {},
   "source": [
    "## Calculate average carbon density in mountains vs. non-mountains in US and Canada combined\n",
    "\n",
    "do I need to mask for values >0 as well to make sure we are fairly counting where there is actually biomass??? or is that already done?"
   ]
  },
  {
   "cell_type": "code",
   "execution_count": 12,
   "id": "1f7f0fe9",
   "metadata": {},
   "outputs": [
    {
     "data": {
      "text/html": [
       "\n",
       "            <style>\n",
       "                .geemap-dark {\n",
       "                    --jp-widgets-color: white;\n",
       "                    --jp-widgets-label-color: white;\n",
       "                    --jp-ui-font-color1: white;\n",
       "                    --jp-layout-color2: #454545;\n",
       "                    background-color: #383838;\n",
       "                }\n",
       "\n",
       "                .geemap-dark .jupyter-button {\n",
       "                    --jp-layout-color3: #383838;\n",
       "                }\n",
       "\n",
       "                .geemap-colab {\n",
       "                    background-color: var(--colab-primary-surface-color, white);\n",
       "                }\n",
       "\n",
       "                .geemap-colab .jupyter-button {\n",
       "                    --jp-layout-color3: var(--colab-primary-surface-color, white);\n",
       "                }\n",
       "            </style>\n",
       "            "
      ],
      "text/plain": [
       "<IPython.core.display.HTML object>"
      ]
     },
     "metadata": {},
     "output_type": "display_data"
    },
    {
     "data": {
      "text/html": [
       "<div><style>:root {\n",
       "  --font-color-primary: var(--jp-content-font-color0, rgba(0, 0, 0, 1));\n",
       "  --font-color-secondary: var(--jp-content-font-color2, rgba(0, 0, 0, 0.6));\n",
       "  --font-color-accent: rgba(123, 31, 162, 1);\n",
       "  --border-color: var(--jp-border-color2, #e0e0e0);\n",
       "  --background-color: var(--jp-layout-color0, white);\n",
       "  --background-color-row-even: var(--jp-layout-color1, white);\n",
       "  --background-color-row-odd: var(--jp-layout-color2, #eeeeee);\n",
       "}\n",
       "\n",
       "html[theme=\"dark\"],\n",
       "body[data-theme=\"dark\"],\n",
       "body.vscode-dark {\n",
       "  --font-color-primary: rgba(255, 255, 255, 1);\n",
       "  --font-color-secondary: rgba(255, 255, 255, 0.6);\n",
       "  --font-color-accent: rgb(173, 132, 190);\n",
       "  --border-color: #2e2e2e;\n",
       "  --background-color: #111111;\n",
       "  --background-color-row-even: #111111;\n",
       "  --background-color-row-odd: #313131;\n",
       "}\n",
       "\n",
       ".ee {\n",
       "  padding: 1em;\n",
       "  line-height: 1.5em;\n",
       "  min-width: 300px;\n",
       "  max-width: 1200px;\n",
       "  overflow-y: scroll;\n",
       "  max-height: 600px;\n",
       "  border: 1px solid var(--border-color);\n",
       "  font-family: monospace;\n",
       "}\n",
       "\n",
       ".ee li {\n",
       "  list-style-type: none;\n",
       "}\n",
       "\n",
       ".ee ul {\n",
       "  padding-left: 1.5em !important;\n",
       "  margin: 0;\n",
       "}\n",
       "\n",
       ".ee > ul {\n",
       "  padding-left: 0 !important;\n",
       "}\n",
       "\n",
       ".ee-open,\n",
       ".ee-shut {\n",
       "  color: var(--font-color-secondary);\n",
       "  cursor: pointer;\n",
       "  margin: 0;\n",
       "}\n",
       "\n",
       ".ee-open:hover,\n",
       ".ee-shut:hover {\n",
       "  color: var(--font-color-primary);\n",
       "}\n",
       "\n",
       ".ee-k {\n",
       "  color: var(--font-color-accent);\n",
       "  margin-right: 6px;\n",
       "}\n",
       "\n",
       ".ee-v {\n",
       "  color: var(--font-color-primary);\n",
       "}\n",
       "\n",
       ".ee-toggle {\n",
       "  display: none;\n",
       "}\n",
       "\n",
       ".ee-shut + ul {\n",
       "  display: none;\n",
       "}\n",
       "\n",
       ".ee-open + ul {\n",
       "  display: block;\n",
       "}\n",
       "\n",
       ".ee-shut::before {\n",
       "  display: inline-block;\n",
       "  content: \"▼\";\n",
       "  margin-right: 6px;\n",
       "  transform: rotate(-90deg);\n",
       "  transition: transform 0.2s;\n",
       "}\n",
       "\n",
       ".ee-open::before {\n",
       "  transform: rotate(0deg);\n",
       "  display: inline-block;\n",
       "  content: \"▼\";\n",
       "  margin-right: 6px;\n",
       "  transition: transform 0.2s;\n",
       "}\n",
       "</style><div class='ee'><ul><li><label class='ee-shut'>Polygon (5 vertices)<input type='checkbox' class='ee-toggle'></label><ul><li><span class='ee-k'>type:</span><span class='ee-v'>Polygon</span></li><li><label class='ee-shut'>coordinates: List (1 element)<input type='checkbox' class='ee-toggle'></label><ul><li><label class='ee-shut'>0: List (5 elements)<input type='checkbox' class='ee-toggle'></label><ul><li><label class='ee-shut'>0: [172.44416636303686, 18.91236300841896]<input type='checkbox' class='ee-toggle'></label><ul><li><span class='ee-k'>0:</span><span class='ee-v'>172.44416636303686</span></li><li><span class='ee-k'>1:</span><span class='ee-v'>18.91236300841896</span></li></ul></li><li><label class='ee-shut'>1: [307.378193116849, 18.91236300841896]<input type='checkbox' class='ee-toggle'></label><ul><li><span class='ee-k'>0:</span><span class='ee-v'>307.378193116849</span></li><li><span class='ee-k'>1:</span><span class='ee-v'>18.91236300841896</span></li></ul></li><li><label class='ee-shut'>2: [307.378193116849, 83.21258679847948]<input type='checkbox' class='ee-toggle'></label><ul><li><span class='ee-k'>0:</span><span class='ee-v'>307.378193116849</span></li><li><span class='ee-k'>1:</span><span class='ee-v'>83.21258679847948</span></li></ul></li><li><label class='ee-shut'>3: [172.44416636303686, 83.21258679847948]<input type='checkbox' class='ee-toggle'></label><ul><li><span class='ee-k'>0:</span><span class='ee-v'>172.44416636303686</span></li><li><span class='ee-k'>1:</span><span class='ee-v'>83.21258679847948</span></li></ul></li><li><label class='ee-shut'>4: [172.44416636303686, 18.91236300841896]<input type='checkbox' class='ee-toggle'></label><ul><li><span class='ee-k'>0:</span><span class='ee-v'>172.44416636303686</span></li><li><span class='ee-k'>1:</span><span class='ee-v'>18.91236300841896</span></li></ul></li></ul></li></ul></li><li><span class='ee-k'>geodesic:</span><span class='ee-v'>False</span></li></ul></li></ul></div><script>function toggleHeader() {\n",
       "    const parent = this.parentElement;\n",
       "    parent.className = parent.className === \"ee-open\" ? \"ee-shut\" : \"ee-open\";\n",
       "}\n",
       "\n",
       "for (let c of document.getElementsByClassName(\"ee-toggle\")) {\n",
       "    c.onclick = toggleHeader;\n",
       "}</script></div>"
      ],
      "text/plain": [
       "ee.Geometry({\n",
       "  \"functionInvocationValue\": {\n",
       "    \"functionName\": \"Geometry.bounds\",\n",
       "    \"arguments\": {\n",
       "      \"geometry\": {\n",
       "        \"functionInvocationValue\": {\n",
       "          \"functionName\": \"Collection.geometry\",\n",
       "          \"arguments\": {\n",
       "            \"collection\": {\n",
       "              \"functionInvocationValue\": {\n",
       "                \"functionName\": \"Collection.loadTable\",\n",
       "                \"arguments\": {\n",
       "                  \"tableId\": {\n",
       "                    \"constantValue\": \"projects/ee-bermane/assets/us_can_simple\"\n",
       "                  }\n",
       "                }\n",
       "              }\n",
       "            }\n",
       "          }\n",
       "        }\n",
       "      }\n",
       "    }\n",
       "  }\n",
       "})"
      ]
     },
     "execution_count": 12,
     "metadata": {},
     "output_type": "execute_result"
    }
   ],
   "source": [
    "us_can.geometry().bounds()"
   ]
  },
  {
   "cell_type": "code",
   "execution_count": null,
   "id": "ac76da5e",
   "metadata": {},
   "outputs": [
    {
     "data": {
      "text/html": [
       "\n",
       "            <style>\n",
       "                .geemap-dark {\n",
       "                    --jp-widgets-color: white;\n",
       "                    --jp-widgets-label-color: white;\n",
       "                    --jp-ui-font-color1: white;\n",
       "                    --jp-layout-color2: #454545;\n",
       "                    background-color: #383838;\n",
       "                }\n",
       "\n",
       "                .geemap-dark .jupyter-button {\n",
       "                    --jp-layout-color3: #383838;\n",
       "                }\n",
       "\n",
       "                .geemap-colab {\n",
       "                    background-color: var(--colab-primary-surface-color, white);\n",
       "                }\n",
       "\n",
       "                .geemap-colab .jupyter-button {\n",
       "                    --jp-layout-color3: var(--colab-primary-surface-color, white);\n",
       "                }\n",
       "            </style>\n",
       "            "
      ],
      "text/plain": [
       "<IPython.core.display.HTML object>"
      ]
     },
     "metadata": {},
     "output_type": "display_data"
    }
   ],
   "source": [
    "# clip data to us/canada feature collection\n",
    "# since us/canada is big and complex image collection\n",
    "bio_2021_us_can = bio_2021.clipToCollection(us_can)\n",
    "soc_blend_us_can = soc_blend.clipToCollection(us_can)\n",
    "\n",
    "# define geometry bigger than us/canada\n",
    "big_geo = ee.Geometry.Rectangle(\n",
    "    coords=[171, 18, 308, 84],\n",
    "    proj=ee.Projection('EPSG:4326'),  # Explicitly defining the projection,\n",
    "    geodesic=False)\n",
    "\n",
    "# Create a Feature with this geometry\n",
    "big_feature = ee.Feature(big_geo, {\"name\": \"Bigger than US/CAN\"})\n",
    "\n",
    "# Create a FeatureCollection\n",
    "big_fc = ee.FeatureCollection([big_feature])\n",
    "\n",
    "# mask biomass with k1 mountain layer\n",
    "# reduce to single image\n",
    "biomass_k1 = (\n",
    "    bio_2021_us_can\n",
    "    .updateMask(k1) # mask for mountains only\n",
    "    .reduce(ee.Reducer.sum()) # sum biomass layers\n",
    "    .reduceRegion( # calc mean density\n",
    "        reducer=ee.Reducer.mean(),\n",
    "        geometry=big_fc.geometry(),\n",
    "        scale=bio_2021_us_can.projection().nominalScale(),\n",
    "        maxPixels=1e20\n",
    "    )\n",
    ")\n",
    "\n",
    "# mask biomass with not k1 mountain layer\n",
    "# reduce to single image\n",
    "biomass_not_k1 = (\n",
    "    bio_2021_us_can\n",
    "    .updateMask(k1.Not()) # mask for not mountains\n",
    "    .reduce(ee.Reducer.sum()) # sum biomass layers\n",
    "    .reduceRegion( # calc mean density\n",
    "        reducer=ee.Reducer.mean(),\n",
    "        geometry=big_fc.geometry(),\n",
    "        scale=bio_2021_us_can.projection().nominalScale(),\n",
    "        maxPixels=1e20\n",
    "    )\n",
    ")\n",
    "\n",
    "# mask soc with k1 mountain layer\n",
    "soc_k1 = (\n",
    "    soc_blend_us_can\n",
    "    .updateMask(k1) # mask for mountains only\n",
    "    .reduceRegion( # calc mean density\n",
    "        reducer=ee.Reducer.mean(),\n",
    "        geometry=big_fc.geometry(),\n",
    "        scale=soc_blend_us_can.projection().nominalScale(),\n",
    "        maxPixels=1e20\n",
    "    )\n",
    ")\n",
    "\n",
    "# mask soc with not k1 mountain layer\n",
    "soc_not_k1 = (\n",
    "    soc_blend_us_can\n",
    "    .updateMask(k1.Not()) # mask for not mountains\n",
    "    .reduceRegion( # calc mean density\n",
    "        reducer=ee.Reducer.mean(),\n",
    "        geometry=big_fc.geometry(),\n",
    "        scale=soc_blend_us_can.projection().nominalScale(),\n",
    "        maxPixels=1e20\n",
    "    )\n",
    ")\n",
    "\n",
    "# export to drive\n",
    "ee.batch.Export.table.toDrive(\n",
    "    collection=ee.FeatureCollection([\n",
    "        ee.Feature(None, {\n",
    "            \"biomass_k1\": biomass_k1,\n",
    "            \"biomass_not_k1\": biomass_not_k1,\n",
    "            \"soc_k1\": soc_k1, \n",
    "            \"soc_not_k1\": soc_not_k1\n",
    "            })]),\n",
    "    description=\"carbon_k1_stats_us_can\",\n",
    "    folder=\"\",\n",
    "    fileFormat=\"CSV\"\n",
    ").start()"
   ]
  },
  {
   "cell_type": "code",
   "execution_count": null,
   "id": "a08c3f7a",
   "metadata": {},
   "outputs": [
    {
     "data": {
      "text/html": [
       "\n",
       "            <style>\n",
       "                .geemap-dark {\n",
       "                    --jp-widgets-color: white;\n",
       "                    --jp-widgets-label-color: white;\n",
       "                    --jp-ui-font-color1: white;\n",
       "                    --jp-layout-color2: #454545;\n",
       "                    background-color: #383838;\n",
       "                }\n",
       "\n",
       "                .geemap-dark .jupyter-button {\n",
       "                    --jp-layout-color3: #383838;\n",
       "                }\n",
       "\n",
       "                .geemap-colab {\n",
       "                    background-color: var(--colab-primary-surface-color, white);\n",
       "                }\n",
       "\n",
       "                .geemap-colab .jupyter-button {\n",
       "                    --jp-layout-color3: var(--colab-primary-surface-color, white);\n",
       "                }\n",
       "            </style>\n",
       "            "
      ],
      "text/plain": [
       "<IPython.core.display.HTML object>"
      ]
     },
     "metadata": {},
     "output_type": "display_data"
    }
   ],
   "source": [
    "# # mask biomass k1 for Y2Y only\n",
    "# biomass_k1_y2y = (\n",
    "#     bio_2021\n",
    "#     .updateMask(k1) # mask for mountains only\n",
    "#     .reduce(ee.Reducer.sum()) # sum biomass layers\n",
    "#     .reduceRegion( # calc mean density\n",
    "#         reducer=ee.Reducer.mean(),\n",
    "#         geometry=y2y.geometry(),\n",
    "#         #scale=bio_2021.projection().nominalScale(),\n",
    "#         scale=1000,\n",
    "#         maxPixels=1e20\n",
    "#     )\n",
    "# )\n",
    "\n",
    "# # mask soc k1 for Y2Y only\n",
    "# soc_k1_y2y = (\n",
    "#     soc_blend\n",
    "#     .updateMask(k1) # mask for mountains only\n",
    "#     .reduceRegion( # calc mean density\n",
    "#         reducer=ee.Reducer.mean(),\n",
    "#         geometry=y2y.geometry(),\n",
    "#         #scale=soc_blend.projection().nominalScale(),\n",
    "#         scale=1000,\n",
    "#         maxPixels=1e20\n",
    "#     )\n",
    "# )\n",
    "\n",
    "# mask biomass for Y2Y only\n",
    "biomass_y2y = (\n",
    "    bio_2021\n",
    "    .reduce(ee.Reducer.sum()) # sum biomass layers\n",
    "    .reduceRegion( # calc mean density\n",
    "        reducer=ee.Reducer.mean(),\n",
    "        geometry=y2y.geometry(),\n",
    "        scale=bio_2021.projection().nominalScale(),\n",
    "        maxPixels=1e20\n",
    "    )\n",
    ")\n",
    "\n",
    "# mask soc for Y2Y only\n",
    "soc_y2y = (\n",
    "    soc_blend\n",
    "    .reduceRegion( # calc mean density\n",
    "        reducer=ee.Reducer.mean(),\n",
    "        geometry=y2y.geometry(),\n",
    "        scale=soc_blend.projection().nominalScale(),\n",
    "        maxPixels=1e20\n",
    "    )\n",
    ")\n",
    "\n",
    "# export to drive\n",
    "ee.batch.Export.table.toDrive(\n",
    "    collection=ee.FeatureCollection([\n",
    "        ee.Feature(None, {\n",
    "            \"biomass_y2y\": biomass_y2y,\n",
    "            \"soc_y2y\": soc_y2y\n",
    "            })]),\n",
    "    description=\"carbon_k1_stats4\",\n",
    "    folder=\"\",\n",
    "    fileFormat=\"CSV\"\n",
    ").start()"
   ]
  },
  {
   "cell_type": "code",
   "execution_count": null,
   "id": "cfbf31dc",
   "metadata": {},
   "outputs": [
    {
     "data": {
      "text/html": [
       "\n",
       "            <style>\n",
       "                .geemap-dark {\n",
       "                    --jp-widgets-color: white;\n",
       "                    --jp-widgets-label-color: white;\n",
       "                    --jp-ui-font-color1: white;\n",
       "                    --jp-layout-color2: #454545;\n",
       "                    background-color: #383838;\n",
       "                }\n",
       "\n",
       "                .geemap-dark .jupyter-button {\n",
       "                    --jp-layout-color3: #383838;\n",
       "                }\n",
       "\n",
       "                .geemap-colab {\n",
       "                    background-color: var(--colab-primary-surface-color, white);\n",
       "                }\n",
       "\n",
       "                .geemap-colab .jupyter-button {\n",
       "                    --jp-layout-color3: var(--colab-primary-surface-color, white);\n",
       "                }\n",
       "            </style>\n",
       "            "
      ],
      "text/plain": [
       "<IPython.core.display.HTML object>"
      ]
     },
     "metadata": {},
     "output_type": "display_data"
    }
   ],
   "source": [
    "# export to drive\n",
    "ee.batch.Export.table.toDrive(\n",
    "    collection=ee.FeatureCollection([\n",
    "        ee.Feature(None, {\n",
    "            \"biomass_k1\": biomass_k1,\n",
    "            \"biomass_not_k1\": biomass_not_k1,\n",
    "            \"soc_k1\": soc_k1, \n",
    "            \"soc_not_k1\": soc_not_k1,\n",
    "            \"biomass_k1_y2y\": biomass_k1_y2y,\n",
    "            \"soc_k1_y2y\": soc_k1_y2y\n",
    "            })]),\n",
    "    description=\"carbon_k1_stats\",\n",
    "    folder=\"\",\n",
    "    fileFormat=\"CSV\"\n",
    ").start()"
   ]
  },
  {
   "cell_type": "markdown",
   "id": "0e4ff4b8",
   "metadata": {},
   "source": [
    "## Calculate irrecoverable carbon in mountains"
   ]
  },
  {
   "cell_type": "code",
   "execution_count": 62,
   "id": "9f3b2267",
   "metadata": {},
   "outputs": [
    {
     "data": {
      "text/html": [
       "\n",
       "            <style>\n",
       "                .geemap-dark {\n",
       "                    --jp-widgets-color: white;\n",
       "                    --jp-widgets-label-color: white;\n",
       "                    --jp-ui-font-color1: white;\n",
       "                    --jp-layout-color2: #454545;\n",
       "                    background-color: #383838;\n",
       "                }\n",
       "\n",
       "                .geemap-dark .jupyter-button {\n",
       "                    --jp-layout-color3: #383838;\n",
       "                }\n",
       "\n",
       "                .geemap-colab {\n",
       "                    background-color: var(--colab-primary-surface-color, white);\n",
       "                }\n",
       "\n",
       "                .geemap-colab .jupyter-button {\n",
       "                    --jp-layout-color3: var(--colab-primary-surface-color, white);\n",
       "                }\n",
       "            </style>\n",
       "            "
      ],
      "text/plain": [
       "<IPython.core.display.HTML object>"
      ]
     },
     "metadata": {},
     "output_type": "display_data"
    }
   ],
   "source": [
    "# create a global geometry to reduce over\n",
    "globe = ee.Geometry.Rectangle([-180, -89, 180, 89])\n",
    "\n",
    "global_geometry = ee.Geometry.Polygon(\n",
    "    [[[-180, -90], \n",
    "      [-180, 90], \n",
    "      [180, 90], \n",
    "      [180, -90], \n",
    "      [-180, -90]]]\n",
    ")"
   ]
  },
  {
   "cell_type": "code",
   "execution_count": 78,
   "id": "93732271",
   "metadata": {},
   "outputs": [
    {
     "data": {
      "text/html": [
       "\n",
       "            <style>\n",
       "                .geemap-dark {\n",
       "                    --jp-widgets-color: white;\n",
       "                    --jp-widgets-label-color: white;\n",
       "                    --jp-ui-font-color1: white;\n",
       "                    --jp-layout-color2: #454545;\n",
       "                    background-color: #383838;\n",
       "                }\n",
       "\n",
       "                .geemap-dark .jupyter-button {\n",
       "                    --jp-layout-color3: #383838;\n",
       "                }\n",
       "\n",
       "                .geemap-colab {\n",
       "                    background-color: var(--colab-primary-surface-color, white);\n",
       "                }\n",
       "\n",
       "                .geemap-colab .jupyter-button {\n",
       "                    --jp-layout-color3: var(--colab-primary-surface-color, white);\n",
       "                }\n",
       "            </style>\n",
       "            "
      ],
      "text/plain": [
       "<IPython.core.display.HTML object>"
      ]
     },
     "metadata": {},
     "output_type": "display_data"
    }
   ],
   "source": [
    "# carbon density 2018\n",
    "# mask irr_carbon 2018 with k1 mountain layer\n",
    "irr_carbon_k1 = (\n",
    "    irr_carbon\n",
    "    .updateMask(k1) # mask for mountains only\n",
    "    .reduceRegion( # calc mean density\n",
    "        reducer=ee.Reducer.mean(),\n",
    "        geometry=global_geometry,\n",
    "        #scale=bio_2021.projection().nominalScale(),\n",
    "        scale=10000,\n",
    "        maxPixels=1e20\n",
    "    )\n",
    ")\n",
    "\n",
    "# mask irr_carbon 2018 with k1 mountain layer\n",
    "irr_carbon_not_k1 = (\n",
    "    irr_carbon\n",
    "    .updateMask(k1.Not()) # mask for not mountains only\n",
    "    .reduceRegion( # calc mean density\n",
    "        reducer=ee.Reducer.mean(),\n",
    "        geometry=global_geometry,\n",
    "        #scale=bio_2021.projection().nominalScale(),\n",
    "        scale=10000,\n",
    "        maxPixels=1e20\n",
    "    )\n",
    ")\n",
    "\n",
    "# do the same for total carbon\n"
   ]
  },
  {
   "cell_type": "code",
   "execution_count": 80,
   "id": "c1189b8d",
   "metadata": {},
   "outputs": [
    {
     "data": {
      "text/html": [
       "\n",
       "            <style>\n",
       "                .geemap-dark {\n",
       "                    --jp-widgets-color: white;\n",
       "                    --jp-widgets-label-color: white;\n",
       "                    --jp-ui-font-color1: white;\n",
       "                    --jp-layout-color2: #454545;\n",
       "                    background-color: #383838;\n",
       "                }\n",
       "\n",
       "                .geemap-dark .jupyter-button {\n",
       "                    --jp-layout-color3: #383838;\n",
       "                }\n",
       "\n",
       "                .geemap-colab {\n",
       "                    background-color: var(--colab-primary-surface-color, white);\n",
       "                }\n",
       "\n",
       "                .geemap-colab .jupyter-button {\n",
       "                    --jp-layout-color3: var(--colab-primary-surface-color, white);\n",
       "                }\n",
       "            </style>\n",
       "            "
      ],
      "text/plain": [
       "<IPython.core.display.HTML object>"
      ]
     },
     "metadata": {},
     "output_type": "display_data"
    }
   ],
   "source": [
    "# export to drive\n",
    "ee.batch.Export.table.toDrive(\n",
    "    collection=ee.FeatureCollection([\n",
    "        ee.Feature(None, {\n",
    "            \"irr_carbon_k1\": irr_carbon_k1,\n",
    "            \"irr_carbon_not_k1\": irr_carbon_not_k1\n",
    "            })]),\n",
    "    description=\"noon_global_irr_carbon_k1_stats_scale_10000\",\n",
    "    folder=\"\",\n",
    "    fileFormat=\"CSV\"\n",
    ").start()"
   ]
  },
  {
   "cell_type": "markdown",
   "id": "4549c738",
   "metadata": {},
   "source": [
    "## Calculate average carbon density in different WTE classes in US and Canada combined"
   ]
  },
  {
   "cell_type": "markdown",
   "id": "e23fc8c3",
   "metadata": {},
   "source": [
    "## Add layers to map"
   ]
  },
  {
   "cell_type": "code",
   "execution_count": 34,
   "id": "9e7b81e8",
   "metadata": {},
   "outputs": [
    {
     "data": {
      "text/html": [
       "\n",
       "            <style>\n",
       "                .geemap-dark {\n",
       "                    --jp-widgets-color: white;\n",
       "                    --jp-widgets-label-color: white;\n",
       "                    --jp-ui-font-color1: white;\n",
       "                    --jp-layout-color2: #454545;\n",
       "                    background-color: #383838;\n",
       "                }\n",
       "\n",
       "                .geemap-dark .jupyter-button {\n",
       "                    --jp-layout-color3: #383838;\n",
       "                }\n",
       "\n",
       "                .geemap-colab {\n",
       "                    background-color: var(--colab-primary-surface-color, white);\n",
       "                }\n",
       "\n",
       "                .geemap-colab .jupyter-button {\n",
       "                    --jp-layout-color3: var(--colab-primary-surface-color, white);\n",
       "                }\n",
       "            </style>\n",
       "            "
      ],
      "text/plain": [
       "<IPython.core.display.HTML object>"
      ]
     },
     "metadata": {},
     "output_type": "display_data"
    }
   ],
   "source": [
    "# set biomass palette\n",
    "biomass_palette = [\n",
    "    \"#C6ECAE\", \"#A1D490\", \"#7CB970\", \"#57A751\", \"#348E32\",\n",
    "    \"#267A29\", \"#176520\", \"#0C4E15\", \"#07320D\", \"#031807\"\n",
    "]\n",
    "\n",
    "# set land cover palette\n",
    "lc_palette = [\n",
    "    \"#033e00\",  # Temperate or sub-polar needleleaf forest\n",
    "    \"#939b71\",  # Sub-polar taiga needleleaf forest\n",
    "    \"#196d12\",  # Tropical or sub-tropical broadleaf evergreen forest\n",
    "    \"#1fab01\",  # Tropical or sub-tropical broadleaf deciduous forest\n",
    "    \"#5b725c\",  # Temperate or sub-polar broadleaf deciduous forest\n",
    "    \"#6b7d2c\",  # Mixed forest\n",
    "    \"#b29d29\",  # Tropical or sub-tropical shrubland\n",
    "    \"#b48833\",  # Temperate or sub-polar shrubland\n",
    "    \"#e9da5d\",  # Tropical or sub-tropical grassland\n",
    "    \"#e0cd88\",  # Temperate or sub-polar grassland\n",
    "    \"#a07451\",  # Sub-polar or polar shrubland-lichen-moss\n",
    "    \"#bad292\",  # Sub-polar or polar grassland-lichen-moss\n",
    "    \"#3f8970\",  # Sub-polar or polar barren-lichen-moss\n",
    "    \"#6ca289\",  # Wetland\n",
    "    \"#e6ad6a\",  # Cropland\n",
    "    \"#a9abae\",  # Barren land\n",
    "    \"#db2126\",  # Urban and built-up\n",
    "    \"#4c73a1\",  # Water\n",
    "    \"#fff7fe\",  # Snow and ice\n",
    "]"
   ]
  },
  {
   "cell_type": "code",
   "execution_count": 77,
   "id": "b7c719ce",
   "metadata": {},
   "outputs": [
    {
     "data": {
      "text/html": [
       "\n",
       "            <style>\n",
       "                .geemap-dark {\n",
       "                    --jp-widgets-color: white;\n",
       "                    --jp-widgets-label-color: white;\n",
       "                    --jp-ui-font-color1: white;\n",
       "                    --jp-layout-color2: #454545;\n",
       "                    background-color: #383838;\n",
       "                }\n",
       "\n",
       "                .geemap-dark .jupyter-button {\n",
       "                    --jp-layout-color3: #383838;\n",
       "                }\n",
       "\n",
       "                .geemap-colab {\n",
       "                    background-color: var(--colab-primary-surface-color, white);\n",
       "                }\n",
       "\n",
       "                .geemap-colab .jupyter-button {\n",
       "                    --jp-layout-color3: var(--colab-primary-surface-color, white);\n",
       "                }\n",
       "            </style>\n",
       "            "
      ],
      "text/plain": [
       "<IPython.core.display.HTML object>"
      ]
     },
     "metadata": {},
     "output_type": "display_data"
    },
    {
     "data": {
      "application/vnd.jupyter.widget-view+json": {
       "model_id": "7296c9ea38424e288226bb3e252b01fc",
       "version_major": 2,
       "version_minor": 0
      },
      "text/plain": [
       "Map(center=[0, 0], controls=(WidgetControl(options=['position', 'transparent_bg'], widget=SearchDataGUI(childr…"
      ]
     },
     "execution_count": 77,
     "metadata": {},
     "output_type": "execute_result"
    }
   ],
   "source": [
    "# create a map\n",
    "m = geemap.Map()\n",
    "\n",
    "# add layers\n",
    "# m.addLayer(soc_blend, {\"min\": 1, \"max\": 450, \"palette\": biomass_palette}, \"SOC Density Blend 0-1m\")\n",
    "# m.addLayer(soc_olm_reproj_sothe, {\"min\": 1, \"max\": 450, \"palette\": biomass_palette}, \"SOC OLM Density 0-1m\")\n",
    "# m.addLayer(soc_sothe, {\"min\": 1, \"max\": 450, \"palette\": biomass_palette}, \"SOC Sothe Density 0-1m\")\n",
    "# m.addLayer(rsr, {}, 'Root-to-Shoot Ratio Global')\n",
    "# m.addLayer(bio_2021.select(['agb_t_ha']).clip(y2y), {\n",
    "#           \"min\": 1, \"max\": 100, \"palette\": biomass_palette}, 'CCI AGB Density')\n",
    "# m.addLayer(bio_2021.select(['dpm_t_ha']).clip(y2y), {\"min\": 1, \"max\": 60, \"palette\": biomass_palette}, 'DPM Density')\n",
    "# m.addLayer(pixel_area_agb_extent.clip(y2y), {}, 'Carbon Mask')\n",
    "# m.addLayer(lc, {\"min\": 1, \"max\": 19,\n",
    "#                 \"palette\": lc_palette}, 'Landcover')\n",
    "# m.addLayer(lc.mask(), {}, 'LC Mask')\n",
    "# m.addLayer(y2y_can, {}, 'Y2Y Canada Extent')\n",
    "# m.addLayer(big_fc, {}, 'Big Geo')\n",
    "# m.addLayer(bio_2021.select(['agb_t_ha']).updateMask(k1), {\n",
    "#           \"min\": 1, \"max\": 100, \"palette\": biomass_palette}, 'CCI AGB Density')\n",
    "# m.addLayer(agb_2021.select(['AGB']), {\n",
    "#     \"min\": 1, \"max\": 100, \"palette\": biomass_palette}, 'CCI AGB Density')\n",
    "# m.addLayer(k1, {\"min\": 0, \"max\": 1}, 'K1 Mountain Classification')\n",
    "# m.addLayer(wte.updateMask(lc.mask()), {\"min\": 1, \"max\": 450, \"palette\": biomass_palette}, \"WTE\")\n",
    "m.addLayer(irr_carbon.updateMask(k1), {\"min\": 1, \"max\": 450, \"palette\": biomass_palette}, \"Irrecoverable Carbon K1 2018\")\n",
    "m.addLayer(irr_carbon.updateMask(k1.Not()), {\"min\": 1, \"max\": 450, \"palette\": biomass_palette}, \"Irrecoverable Carbon Not K1 2018\")\n",
    "# m.addLayer(countries, {}, 'Countries')\n",
    "\n",
    "# Display the map\n",
    "m"
   ]
  },
  {
   "cell_type": "code",
   "execution_count": null,
   "id": "eb434725",
   "metadata": {},
   "outputs": [],
   "source": []
  }
 ],
 "metadata": {
  "kernelspec": {
   "display_name": ".venv",
   "language": "python",
   "name": "python3"
  },
  "language_info": {
   "codemirror_mode": {
    "name": "ipython",
    "version": 3
   },
   "file_extension": ".py",
   "mimetype": "text/x-python",
   "name": "python",
   "nbconvert_exporter": "python",
   "pygments_lexer": "ipython3",
   "version": "3.12.6"
  }
 },
 "nbformat": 4,
 "nbformat_minor": 5
}
