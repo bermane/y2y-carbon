{
 "cells": [
  {
   "cell_type": "markdown",
   "metadata": {},
   "source": [
    "Many of the data inputs used in this analysis were either available directly on GEE or were downloaded directly from the data provider and uploaded to GEE without any further manipulation. I downloaded the soil organic carbon stock layers from open land map and used this code to sum together the layers corresponding to different soil depth intervals. I output layers representing soil carbon from 0-30cm and 0-100cm depth. I initially used the code to clip all of the raster inputs to the Y2Y extent but in the end I uploaded the raw layers to GEE and let GEE handle clipping, reprojecting, masking, etc."
   ]
  },
  {
   "cell_type": "markdown",
   "metadata": {},
   "source": [
    "## Load packages and create functions"
   ]
  },
  {
   "cell_type": "code",
   "execution_count": 1,
   "metadata": {},
   "outputs": [],
   "source": [
    "# import packages\n",
    "import rasterio\n",
    "from rasterio.mask import mask\n",
    "from rasterio.warp import calculate_default_transform, reproject, Resampling\n",
    "import geopandas as gpd\n",
    "import numpy as np\n",
    "import glob\n",
    "import rioxarray as rxr\n",
    "import xarray as xr\n",
    "from shapely.geometry import box"
   ]
  },
  {
   "cell_type": "code",
   "execution_count": null,
   "metadata": {},
   "outputs": [],
   "source": [
    "# create function to clip raster extent and save to file without reprojecting\n",
    "def clip_raster_no_reprojection(in_path_ras, in_path_vec, out_path):\n",
    "\n",
    "    # Load vector data\n",
    "    vector = gpd.read_file(in_path_vec)\n",
    "\n",
    "    # Open the raster file\n",
    "    with rasterio.open(in_path_ras) as src:\n",
    "        \n",
    "        # Reproject the vector to match the raster CRS\n",
    "        vector = vector.to_crs(src.crs)\n",
    "\n",
    "        # Convert vector geometry to GeoJSON format\n",
    "        geometries = [geom for geom in vector.geometry]\n",
    "\n",
    "        # Clip the raster\n",
    "        clipped_raster, clipped_transform = mask(src, geometries, crop=True)\n",
    "\n",
    "        # Update the metadata\n",
    "        out_meta = src.meta.copy()\n",
    "\n",
    "        # Check if NoData is defined\n",
    "        if src.nodata is None:  # Apply changes only if NoData is not defined\n",
    "        # Set a NoData value (e.g., -9999)\n",
    "            clipped_raster[clipped_raster == 0] = -9999  # Replace 0 if needed\n",
    "            out_meta.update({\"nodata\": -9999})\n",
    "\n",
    "        out_meta.update({\n",
    "            \"driver\": \"GTiff\",\n",
    "            \"height\": clipped_raster.shape[1],\n",
    "            \"width\": clipped_raster.shape[2],\n",
    "            \"transform\": clipped_transform\n",
    "        })\n",
    "\n",
    "        # Save the clipped raster\n",
    "        with rasterio.open(out_path, \"w\", **out_meta) as dest:\n",
    "            dest.write(clipped_raster)\n",
    "\n",
    "    print(f\"Clipped raster saved to {out_path} in original CRS {src.crs}\")"
   ]
  },
  {
   "cell_type": "code",
   "execution_count": 3,
   "metadata": {},
   "outputs": [],
   "source": [
    "# define print raster function to help compare reprojections\n",
    "def print_raster(raster):\n",
    "    print(\n",
    "        f\"shape: {raster.rio.shape}\\n\"\n",
    "        f\"resolution: {raster.rio.resolution()}\\n\"\n",
    "        f\"bounds: {raster.rio.bounds()}\\n\"\n",
    "        f\"sum: {raster.sum().item()}\\n\"\n",
    "        f\"CRS: {raster.rio.crs}\\n\"\n",
    "        f\"NoDataValue: {raster.rio.nodata}\\n\"\n",
    "        f\"NoDataOriginalValues: {raster.rio.encoded_nodata}\\n\"\n",
    "    )"
   ]
  },
  {
   "cell_type": "markdown",
   "metadata": {},
   "source": [
    "## Process Spawn and Sothe data"
   ]
  },
  {
   "cell_type": "code",
   "execution_count": null,
   "metadata": {},
   "outputs": [],
   "source": [
    "# set file paths \n",
    "# spawn 2010 datasets in paths\n",
    "agb = './carbon_stock_data/cstock_spawn/agb_2010.tif'\n",
    "agb_uncertainty = './carbon_stock_data/cstock_spawn/agb_uncertainty_2010.tif'\n",
    "bgb = './carbon_stock_data/cstock_spawn/bgb_2010.tif'\n",
    "bgb_uncertainty = './carbon_stock_data/cstock_spawn/bgb_uncertainty_2010.tif'\n",
    "\n",
    "# spawn 2010 datasets out paths\n",
    "agb_out = './carbon_stock_data/final_layers_clipped/agb_mg_ha_spawn_2010.tif'\n",
    "agb_uncertainty_out = './carbon_stock_data/final_layers_clipped/agb_uncertainty_mg_ha_spawn_2010.tif'\n",
    "bgb_out = './carbon_stock_data/final_layers_clipped/bgb_mg_ha_spawn_2010.tif'\n",
    "bgb_uncertainty_out = './carbon_stock_data/final_layers_clipped/bgb_uncertainty_mg_ha_spawn_2010.tif'\n",
    "\n",
    "# sothe datasets in paths\n",
    "fc = './carbon_stock_data/cstock_canada_sothe/McMaster_WWFCanada_forest_carbon_250m/McMaster_WWFCanada_forest_carbon_250m_kg-m2_version1.0.tif'\n",
    "fc_uncertainty = './carbon_stock_data/cstock_canada_sothe/McMaster_WWFCanada_forest_carbon_250m/McMaster_WWFCanada_forest_carbon_250m_kg-m2_uncertainty_version1.0.tif'\n",
    "soc1m = './carbon_stock_data/cstock_canada_sothe/McMaster_WWFCanada_soil_carbon_250m_kg-m2_version3.0/McMaster_WWFCanada_soil_carbon1m_250m_kg-m2_version3.0.tif'\n",
    "soc1m_uncertainty = './carbon_stock_data/cstock_canada_sothe/McMaster_WWFCanada_soil_carbon_250m_kg-m2_version3.0/McMaster_WWFCanada_soil_carbon1m_uncertainty_250m_kg-m2_version3.0.tif'\n",
    "\n",
    "# sothe datasets out paths\n",
    "fc_out = './carbon_stock_data/final_layers_clipped/forest_carbon_kg_m2_sothe.tif'\n",
    "fc_uncertainty_out = './carbon_stock_data/final_layers_clipped/forest_carbon_uncertainty_kg_m2_sothe.tif'\n",
    "soc1m_out = './carbon_stock_data/final_layers_clipped/soc_0_1m_kg_m2_sothe.tif'\n",
    "soc1m_uncertainty_out = './carbon_stock_data/final_layers_clipped/soc_uncertainty_0_1m_kg_m2_sothe.tif'\n",
    "\n",
    "# y2y boundary\n",
    "y2y = './study_area/Y2Y_RegionBoundary_Final2013/Y2Y_RegionBoundary.shp'\n"
   ]
  },
  {
   "cell_type": "code",
   "execution_count": null,
   "metadata": {},
   "outputs": [],
   "source": [
    "# clip rasters\n",
    "# spawn\n",
    "clip_raster_no_reprojection(agb, y2y, agb_out)\n",
    "clip_raster_no_reprojection(agb_uncertainty, y2y, agb_uncertainty_out)\n",
    "clip_raster_no_reprojection(bgb, y2y, bgb_out)\n",
    "clip_raster_no_reprojection(bgb_uncertainty, y2y, bgb_uncertainty_out)\n",
    "\n",
    "# sothe\n",
    "clip_raster_no_reprojection(fc, y2y, fc_out)\n",
    "clip_raster_no_reprojection(fc_uncertainty, y2y, fc_uncertainty_out)\n",
    "clip_raster_no_reprojection(soc1m, y2y, soc1m_out)\n",
    "clip_raster_no_reprojection(soc1m_uncertainty, y2y, soc1m_uncertainty_out)\n"
   ]
  },
  {
   "cell_type": "markdown",
   "metadata": {},
   "source": [
    "## Process Soilgrids data"
   ]
  },
  {
   "cell_type": "code",
   "execution_count": null,
   "metadata": {},
   "outputs": [],
   "source": [
    "# list file names of soilgrids products\n",
    "soc = './carbon_stock_data/soc_soilgrids/ocs_0-30cm_mean.tif'\n",
    "soc_out = './carbon_stock_data/final_layers_clipped/soc_mean_0_30cm_t_ha_soilgrids.tif'\n",
    "\n",
    "soc_05 = './carbon_stock_data/soc_soilgrids/ocs_0-30cm_Q0.05.tif'\n",
    "soc_05_out = './carbon_stock_data/final_layers_clipped/soc_q05_0_30cm_t_ha_soilgrids.tif'\n",
    "\n",
    "soc_95 = './carbon_stock_data/soc_soilgrids/ocs_0-30cm_Q0.95.tif'\n",
    "soc_95_out = './carbon_stock_data/final_layers_clipped/soc_q95_0_30cm_t_ha_soilgrids.tif'\n",
    "\n",
    "soc_uncertainty = './carbon_stock_data/soc_soilgrids/ocs_0-30cm_uncertainty.tif'\n",
    "soc_uncertainty_out = './carbon_stock_data/final_layers_clipped/soc_uncertainty_0_30cm_t_ha_soilgrids.tif'"
   ]
  },
  {
   "cell_type": "code",
   "execution_count": null,
   "metadata": {},
   "outputs": [],
   "source": [
    "# # clip rasters\n",
    "# clip_raster(soc, y2y, soc_out, target_crs)\n",
    "# clip_raster(soc_05, y2y, soc_05_out, target_crs)\n",
    "# clip_raster(soc_95, y2y, soc_95_out, target_crs)\n",
    "# clip_raster(soc_uncertainty, y2y, soc_uncertainty_out, target_crs)\n",
    "\n",
    "clip_raster_no_reprojection(soc, y2y, soc_out)\n",
    "clip_raster_no_reprojection(soc_05, y2y, soc_05_out)\n",
    "clip_raster_no_reprojection(soc_95, y2y, soc_95_out)\n",
    "clip_raster_no_reprojection(soc_uncertainty, y2y, soc_uncertainty_out)"
   ]
  },
  {
   "cell_type": "markdown",
   "metadata": {},
   "source": [
    "## Process Open Land Map Data"
   ]
  },
  {
   "cell_type": "code",
   "execution_count": 4,
   "metadata": {},
   "outputs": [],
   "source": [
    "# moving on to the soc maps from openlandmap\n",
    "# load file paths\n",
    "soc_0_10 = './carbon_stock_data/soc_openlandmap/sol_organic.carbon.stock_msa.kgm2_m_250m_b0..10cm_1950..2017_v0.2.tif'\n",
    "soc_10_30 = './carbon_stock_data/soc_openlandmap/sol_organic.carbon.stock_msa.kgm2_m_250m_b10..30cm_1950..2017_v0.2.tif'\n",
    "soc_30_60 = './carbon_stock_data/soc_openlandmap/sol_organic.carbon.stock_msa.kgm2_m_250m_b30..60cm_1950..2017_v0.2.tif'\n",
    "soc_60_100 = './carbon_stock_data/soc_openlandmap/sol_organic.carbon.stock_msa.kgm2_m_250m_b60..100cm_1950..2017_v0.2.tif'"
   ]
  },
  {
   "cell_type": "code",
   "execution_count": 5,
   "metadata": {},
   "outputs": [],
   "source": [
    "# list all layers\n",
    "soc_dir = [soc_0_10, soc_10_30, soc_30_60, soc_60_100]"
   ]
  },
  {
   "cell_type": "code",
   "execution_count": null,
   "metadata": {},
   "outputs": [],
   "source": [
    "# already clipped and deleted original\n",
    "\n",
    "# # clip layers to y2y extent\n",
    "# for rast in soc_dir:\n",
    "#     clip_raster_no_reprojection(rast, y2y, rast.replace('.tif', '_clipped.tif'))"
   ]
  },
  {
   "cell_type": "code",
   "execution_count": null,
   "metadata": {},
   "outputs": [],
   "source": [
    "# now add all layers together (y2y extent)\n",
    "for i in range(0, len(soc_dir)):\n",
    "    if i == 0:\n",
    "        soc = xr.open_dataarray(soc_dir[i].replace('.tif', '_clipped.tif'))\n",
    "    else:\n",
    "        soc += xr.open_dataarray(soc_dir[i].replace('.tif', '_clipped.tif'))\n",
    "\n",
    "print_raster(soc)"
   ]
  },
  {
   "cell_type": "code",
   "execution_count": null,
   "metadata": {},
   "outputs": [],
   "source": [
    "# write to disk\n",
    "soc.rio.to_raster('./carbon_stock_data/final_layers_clipped/soc_0_1m_kg_m2_openlandmap.tif')"
   ]
  },
  {
   "cell_type": "code",
   "execution_count": null,
   "metadata": {},
   "outputs": [],
   "source": [
    "# list layers from 30-100\n",
    "soc_dir_30_100 = [soc_30_60, soc_60_100]\n",
    "\n",
    "# now add layers together\n",
    "for i in range(0, len(soc_dir_30_100)):\n",
    "    if i == 0:\n",
    "        soc_30_100 = xr.open_dataarray(soc_dir[i].replace('.tif', '_clipped.tif'))\n",
    "    else:\n",
    "        soc_30_100 += xr.open_dataarray(soc_dir[i].replace('.tif', '_clipped.tif'))\n",
    "\n",
    "print_raster(soc_30_100)"
   ]
  },
  {
   "cell_type": "code",
   "execution_count": null,
   "metadata": {},
   "outputs": [],
   "source": [
    "# write to disk\n",
    "soc_30_100.rio.to_raster('./carbon_stock_data/final_layers_clipped/soc_30_100cm_kg_m2_openlandmap.tif')"
   ]
  },
  {
   "cell_type": "code",
   "execution_count": null,
   "metadata": {},
   "outputs": [],
   "source": [
    "# list layers from 0-30\n",
    "soc_dir_0_30 = [soc_0_10, soc_10_30]\n",
    "\n",
    "# now add layers together\n",
    "for i in range(0, len(soc_dir_0_30)):\n",
    "    if i == 0:\n",
    "        soc_0_30 = xr.open_dataarray(soc_dir[i].replace('.tif', '_clipped.tif'))\n",
    "    else:\n",
    "        soc_0_30 += xr.open_dataarray(soc_dir[i].replace('.tif', '_clipped.tif'))\n",
    "\n",
    "print_raster(soc_0_30)"
   ]
  },
  {
   "cell_type": "code",
   "execution_count": null,
   "metadata": {},
   "outputs": [],
   "source": [
    "# write to disk\n",
    "soc_0_30.rio.to_raster('./carbon_stock_data/final_layers_clipped/soc_0_30cm_kg_m2_openlandmap.tif')"
   ]
  }
 ],
 "metadata": {
  "kernelspec": {
   "display_name": ".venv",
   "language": "python",
   "name": "python3"
  },
  "language_info": {
   "codemirror_mode": {
    "name": "ipython",
    "version": 3
   },
   "file_extension": ".py",
   "mimetype": "text/x-python",
   "name": "python",
   "nbconvert_exporter": "python",
   "pygments_lexer": "ipython3",
   "version": "3.12.6"
  }
 },
 "nbformat": 4,
 "nbformat_minor": 2
}
