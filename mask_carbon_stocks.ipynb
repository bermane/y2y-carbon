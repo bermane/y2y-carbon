{
 "cells": [
  {
   "cell_type": "code",
   "execution_count": 1,
   "metadata": {},
   "outputs": [],
   "source": [
    "# import packages\n",
    "import rasterio\n",
    "from rasterio.mask import mask\n",
    "from rasterio.warp import calculate_default_transform, reproject, Resampling\n",
    "import geopandas as gpd\n",
    "import numpy as np\n",
    "import glob\n",
    "import rioxarray\n",
    "import xarray"
   ]
  },
  {
   "cell_type": "code",
   "execution_count": 2,
   "metadata": {},
   "outputs": [],
   "source": [
    "# create function to clip raster extent and save to file\n",
    "def clip_raster(in_path_ras, in_path_vec, out_path, target_crs):\n",
    "    \n",
    "    # load vector data\n",
    "    vector = gpd.read_file(in_path_vec)\n",
    "\n",
    "    # with raster loaded\n",
    "    with rasterio.open(in_path_ras) as src:\n",
    "        \n",
    "        # reproject vector to match raster CRS\n",
    "        vector = vector.to_crs(src.crs)\n",
    "\n",
    "        # convert vector geometry to GeoJSON format\n",
    "        geometries = [geom for geom in vector.geometry]\n",
    "\n",
    "        # clip raster\n",
    "        clipped_raster, clipped_transform = mask(src, geometries, crop=True)\n",
    "\n",
    "        # Calculate transform for the target CRS\n",
    "        transform, width, height = calculate_default_transform(\n",
    "            src.crs, target_crs, clipped_raster.shape[2], clipped_raster.shape[1], *src.bounds\n",
    "            )\n",
    "\n",
    "        # update metadata\n",
    "        out_meta = src.meta.copy()\n",
    "        out_meta.update({\n",
    "            \"driver\": \"GTiff\",\n",
    "            \"crs\": target_crs,\n",
    "            \"height\": height,\n",
    "            \"width\": width,\n",
    "            \"transform\": transform\n",
    "        })\n",
    "\n",
    "        # save clipped raster\n",
    "        with rasterio.open(out_path, \"w\", **out_meta) as dest:\n",
    "            reproject(\n",
    "                source=clipped_raster,\n",
    "                destination=rasterio.band(dest, 1),\n",
    "                src_transform=clipped_transform,\n",
    "                src_crs=src.crs,\n",
    "                dst_transform=transform,\n",
    "                dst_crs=target_crs,\n",
    "                resampling=Resampling.nearest  \n",
    "            )\n",
    "\n",
    "    print(f\"Clipped raster saved to {out_path} in CRS {target_crs}\")"
   ]
  },
  {
   "cell_type": "code",
   "execution_count": 3,
   "metadata": {},
   "outputs": [],
   "source": [
    "# create function to clip raster extent and save to file without reprojecting\n",
    "def clip_raster_no_reprojection(in_path_ras, in_path_vec, out_path):\n",
    "\n",
    "    # Load vector data\n",
    "    vector = gpd.read_file(in_path_vec)\n",
    "\n",
    "    # Open the raster file\n",
    "    with rasterio.open(in_path_ras) as src:\n",
    "        # Reproject the vector to match the raster CRS\n",
    "        vector = vector.to_crs(src.crs)\n",
    "\n",
    "        # Convert vector geometry to GeoJSON format\n",
    "        geometries = [geom for geom in vector.geometry]\n",
    "\n",
    "        # Clip the raster\n",
    "        clipped_raster, clipped_transform = mask(src, geometries, crop=True)\n",
    "\n",
    "        # Update the metadata\n",
    "        out_meta = src.meta.copy()\n",
    "        out_meta.update({\n",
    "            \"driver\": \"GTiff\",\n",
    "            \"height\": clipped_raster.shape[1],\n",
    "            \"width\": clipped_raster.shape[2],\n",
    "            \"transform\": clipped_transform\n",
    "        })\n",
    "\n",
    "        # Save the clipped raster\n",
    "        with rasterio.open(out_path, \"w\", **out_meta) as dest:\n",
    "            dest.write(clipped_raster)\n",
    "\n",
    "    print(f\"Clipped raster saved to {out_path} in original CRS {src.crs}\")"
   ]
  },
  {
   "cell_type": "code",
   "execution_count": 4,
   "metadata": {},
   "outputs": [],
   "source": [
    "# define function to read raster\n",
    "def read_raster(name, as_type=float):\n",
    "    \"\"\"\n",
    "    This is a simple function that reads the first band of the raster\n",
    "    file \"name\" using rasterio. It is used in the function below.\n",
    "    \"\"\"\n",
    "    r = rasterio.open(name)\n",
    "    b = r.read(1)\n",
    "    a = b.astype(as_type)\n",
    "    return a\n",
    "\n",
    "# define function to average rasters\n",
    "def average_rasters(rasters, out_path):\n",
    "\n",
    "    # Empty list to append input raster values\n",
    "    all_read_rasters = []\n",
    "\n",
    "    total_input_rasters = len(rasters)\n",
    "\n",
    "    for r in range(0, total_input_rasters):\n",
    "        rr = read_raster(rasters[r])\n",
    "        all_read_rasters.append(rr)\n",
    "\n",
    "    array_pixel_values = np.array(all_read_rasters)\n",
    "\n",
    "    # 3D array, calculate along Z axis (\"0\")\n",
    "    mean_array = np.nanmean(array_pixel_values, axis=0).round()\n",
    "\n",
    "    # Open the first raster in order to get geoinfo!\n",
    "    with rasterio.open(rasters[0]) as temp:\n",
    "        # update metadata\n",
    "        out_meta = temp.meta.copy()\n",
    "\n",
    "    with rasterio.open(out_path, 'w', **out_meta) as mean_raster:\n",
    "        mean_raster.write(mean_array, 1)\n",
    "        mean_raster.close()"
   ]
  },
  {
   "cell_type": "code",
   "execution_count": 5,
   "metadata": {},
   "outputs": [],
   "source": [
    "# set file paths \n",
    "# spawn 2010 datasets in paths\n",
    "agb = './carbon_stock_data/cstock_spawn/agb_2010.tif'\n",
    "agb_uncertainty = './carbon_stock_data/cstock_spawn/agb_uncertainty_2010.tif'\n",
    "bgb = './carbon_stock_data/cstock_spawn/bgb_2010.tif'\n",
    "bgb_uncertainty = './carbon_stock_data/cstock_spawn/bgb_uncertainty_2010.tif'\n",
    "\n",
    "# spawn 2010 datasets out paths\n",
    "agb_out = './carbon_stock_data/final_layers_clipped/agb_mg_ha_spawn_2010.tif'\n",
    "agb_uncertainty_out = './carbon_stock_data/final_layers_clipped/agb_uncertainty_mg_ha_spawn_2010.tif'\n",
    "bgb_out = './carbon_stock_data/final_layers_clipped/bgb_mg_ha_spawn_2010.tif'\n",
    "bgb_uncertainty_out = './carbon_stock_data/final_layers_clipped/bgb_uncertainty_mg_ha_spawn_2010.tif'\n",
    "\n",
    "# sothe datasets in paths\n",
    "fc = './carbon_stock_data/cstock_canada_sothe/McMaster_WWFCanada_forest_carbon_250m/McMaster_WWFCanada_forest_carbon_250m_kg-m2_version1.0.tif'\n",
    "fc_uncertainty = './carbon_stock_data/cstock_canada_sothe/McMaster_WWFCanada_forest_carbon_250m/McMaster_WWFCanada_forest_carbon_250m_kg-m2_uncertainty_version1.0.tif'\n",
    "soc1m = './carbon_stock_data/cstock_canada_sothe/McMaster_WWFCanada_soil_carbon_250m_kg-m2_version3.0/McMaster_WWFCanada_soil_carbon1m_250m_kg-m2_version3.0.tif'\n",
    "soc1m_uncertainty = './carbon_stock_data/cstock_canada_sothe/McMaster_WWFCanada_soil_carbon_250m_kg-m2_version3.0/McMaster_WWFCanada_soil_carbon1m_uncertainty_250m_kg-m2_version3.0.tif'\n",
    "\n",
    "# sothe datasets out paths\n",
    "fc_out = './carbon_stock_data/final_layers_clipped/forest_carbon_kg_m2_sothe.tif'\n",
    "fc_uncertainty_out = './carbon_stock_data/final_layers_clipped/forest_carbon_uncertainty_kg_m2_sothe.tif'\n",
    "soc1m_out = './carbon_stock_data/final_layers_clipped/soc_0_1m_kg_m2_sothe.tif'\n",
    "soc1m_uncertainty_out = './carbon_stock_data/final_layers_clipped/soc_uncertainty_0_1m_kg_m2_sothe.tif'\n",
    "\n",
    "# y2y boundary\n",
    "y2y = './study_area/Y2Y_RegionBoundary_Final2013/Y2Y_RegionBoundary.shp'\n"
   ]
  },
  {
   "cell_type": "code",
   "execution_count": 6,
   "metadata": {},
   "outputs": [
    {
     "name": "stdout",
     "output_type": "stream",
     "text": [
      "Latitude: 54.53624536240069, Longitude: -124.66760996293321\n"
     ]
    }
   ],
   "source": [
    "# find center of y2y region\n",
    "# Load the shapefile\n",
    "gdf = gpd.read_file(y2y)\n",
    "\n",
    "# Reproject to WGS84 if necessary\n",
    "if gdf.crs != \"EPSG:4326\":\n",
    "    gdf = gdf.to_crs(\"EPSG:4326\")\n",
    "\n",
    "# Get the bounding box (minx, miny, maxx, maxy)\n",
    "minx, miny, maxx, maxy = gdf.total_bounds\n",
    "\n",
    "# Calculate the center (midpoint of the bounding box)\n",
    "center_lon = (minx + maxx) / 2\n",
    "center_lat = (miny + maxy) / 2\n",
    "\n",
    "print(f\"Latitude: {center_lat}, Longitude: {center_lon}\")"
   ]
  },
  {
   "cell_type": "code",
   "execution_count": 7,
   "metadata": {},
   "outputs": [],
   "source": [
    "# define output CRS we want to use\n",
    "# target_crs = '+proj=aea +lat_0=55 +lon_0=-125 +lat_1=42 +lat_2=68 +x_0=0 +y_0=0 +datum=WGS84 +units=m +no_defs +type=crs'\n",
    "target_crs = 'EPSG:4326'\n"
   ]
  },
  {
   "cell_type": "code",
   "execution_count": 51,
   "metadata": {},
   "outputs": [
    {
     "name": "stdout",
     "output_type": "stream",
     "text": [
      "Clipped raster saved to ./carbon_stock_data/final_layers_clipped/agb_mg_ha_spawn_2010.tif in original CRS EPSG:4326\n",
      "Clipped raster saved to ./carbon_stock_data/final_layers_clipped/agb_uncertainty_mg_ha_spawn_2010.tif in original CRS EPSG:4326\n",
      "Clipped raster saved to ./carbon_stock_data/final_layers_clipped/bgb_mg_ha_spawn_2010.tif in original CRS EPSG:4326\n",
      "Clipped raster saved to ./carbon_stock_data/final_layers_clipped/bgb_uncertainty_mg_ha_spawn_2010.tif in original CRS EPSG:4326\n",
      "Clipped raster saved to ./carbon_stock_data/final_layers_clipped/forest_carbon_kg_m2_sothe.tif in original CRS EPSG:4326\n",
      "Clipped raster saved to ./carbon_stock_data/final_layers_clipped/forest_carbon_uncertainty_kg_m2_sothe.tif in original CRS EPSG:4326\n",
      "Clipped raster saved to ./carbon_stock_data/final_layers_clipped/soc_0_1m_kg_m2_sothe.tif in original CRS EPSG:4326\n",
      "Clipped raster saved to ./carbon_stock_data/final_layers_clipped/soc_uncertainty_0_1m_kg_m2_sothe.tif in original CRS EPSG:4326\n"
     ]
    }
   ],
   "source": [
    "# clip rasters\n",
    "# # spawn\n",
    "# clip_raster(agb, y2y, agb_out, target_crs)\n",
    "# clip_raster(agb_uncertainty, y2y, agb_uncertainty_out, target_crs)\n",
    "# clip_raster(bgb, y2y, bgb_out, target_crs)\n",
    "# clip_raster(bgb_uncertainty, y2y, bgb_uncertainty_out, target_crs)\n",
    "\n",
    "# spawn\n",
    "clip_raster_no_reprojection(agb, y2y, agb_out)\n",
    "clip_raster_no_reprojection(agb_uncertainty, y2y, agb_uncertainty_out)\n",
    "clip_raster_no_reprojection(bgb, y2y, bgb_out)\n",
    "clip_raster_no_reprojection(bgb_uncertainty, y2y, bgb_uncertainty_out)\n",
    "\n",
    "# # sothe\n",
    "# clip_raster(fc, y2y, fc_out, target_crs)\n",
    "# clip_raster(fc_uncertainty, y2y, fc_uncertainty_out, target_crs)\n",
    "# clip_raster(soc1m, y2y, soc1m_out, target_crs)\n",
    "# clip_raster(soc1m_uncertainty, y2y, soc1m_uncertainty_out, target_crs)\n",
    "\n",
    "# sothe\n",
    "clip_raster_no_reprojection(fc, y2y, fc_out)\n",
    "clip_raster_no_reprojection(fc_uncertainty, y2y, fc_uncertainty_out)\n",
    "clip_raster_no_reprojection(soc1m, y2y, soc1m_out)\n",
    "clip_raster_no_reprojection(soc1m_uncertainty, y2y, soc1m_uncertainty_out)\n"
   ]
  },
  {
   "cell_type": "code",
   "execution_count": 8,
   "metadata": {},
   "outputs": [
    {
     "data": {
      "text/plain": [
       "['./carbon_stock_data/cstock_conus_cms/CONUS_deadagb_2015_v1clipped.tif',\n",
       " './carbon_stock_data/cstock_conus_cms/CONUS_carbonlitter_2017_v1clipped.tif',\n",
       " './carbon_stock_data/cstock_conus_cms/CONUS_deadbgb_2017_v1clipped.tif',\n",
       " './carbon_stock_data/cstock_conus_cms/CONUS_deadagb_2016_v1clipped.tif',\n",
       " './carbon_stock_data/cstock_conus_cms/CONUS_carbonsoilorg_2017_v1clipped.tif',\n",
       " './carbon_stock_data/cstock_conus_cms/CONUS_bgb_2017_v1clipped.tif',\n",
       " './carbon_stock_data/cstock_conus_cms/CONUS_agb_2016_v1clipped.tif',\n",
       " './carbon_stock_data/cstock_conus_cms/CONUS_agb_2015_v1clipped.tif',\n",
       " './carbon_stock_data/cstock_conus_cms/CONUS_bgb_2015_v1clipped.tif',\n",
       " './carbon_stock_data/cstock_conus_cms/CONUS_bgb_2016_v1clipped.tif',\n",
       " './carbon_stock_data/cstock_conus_cms/CONUS_agb_2017_v1clipped.tif',\n",
       " './carbon_stock_data/cstock_conus_cms/CONUS_carbonlitter_2015_v1clipped.tif',\n",
       " './carbon_stock_data/cstock_conus_cms/CONUS_deadbgb_2016_v1clipped.tif',\n",
       " './carbon_stock_data/cstock_conus_cms/CONUS_carbonsoilorg_2016_v1clipped.tif',\n",
       " './carbon_stock_data/cstock_conus_cms/CONUS_deadagb_2017_v1clipped.tif',\n",
       " './carbon_stock_data/cstock_conus_cms/CONUS_carbonsoilorg_2015_v1clipped.tif',\n",
       " './carbon_stock_data/cstock_conus_cms/CONUS_carbonlitter_2016_v1clipped.tif',\n",
       " './carbon_stock_data/cstock_conus_cms/CONUS_deadbgb_2015_v1clipped.tif']"
      ]
     },
     "execution_count": 8,
     "metadata": {},
     "output_type": "execute_result"
    }
   ],
   "source": [
    "# average rasters from years 2015-2017 of CONUS carbon\n",
    "# because Sothe Canada layers are 2015-2019 (we only have until 2017 on the CONUS layers)\n",
    "# function will output any data values available when one or more layers have no data in a pixel\n",
    "\n",
    "# define folder path\n",
    "conus_cstock_path = './carbon_stock_data/cstock_conus_cms/'\n",
    "\n",
    "# create list of all raster names to clip\n",
    "cms_conus_rasters = glob.glob(conus_cstock_path + '*.tif')\n",
    "cms_conus_rasters\n"
   ]
  },
  {
   "cell_type": "code",
   "execution_count": 46,
   "metadata": {},
   "outputs": [
    {
     "name": "stdout",
     "output_type": "stream",
     "text": [
      "Clipped raster saved to ./carbon_stock_data/cstock_conus_cms/CONUS_deadagb_2015_v1clipped.tif in original CRS EPSG:5070\n",
      "Clipped raster saved to ./carbon_stock_data/cstock_conus_cms/CONUS_deadbgb_2017_v1clipped.tif in original CRS EPSG:5070\n",
      "Clipped raster saved to ./carbon_stock_data/cstock_conus_cms/CONUS_carbonlitter_2015_v1clipped.tif in original CRS EPSG:5070\n",
      "Clipped raster saved to ./carbon_stock_data/cstock_conus_cms/CONUS_deadbgb_2015_v1clipped.tif in original CRS EPSG:5070\n",
      "Clipped raster saved to ./carbon_stock_data/cstock_conus_cms/CONUS_deadagb_2017_v1clipped.tif in original CRS EPSG:5070\n",
      "Clipped raster saved to ./carbon_stock_data/cstock_conus_cms/CONUS_carbonsoilorg_2016_v1clipped.tif in original CRS EPSG:5070\n",
      "Clipped raster saved to ./carbon_stock_data/cstock_conus_cms/CONUS_carbonlitter_2017_v1clipped.tif in original CRS EPSG:5070\n",
      "Clipped raster saved to ./carbon_stock_data/cstock_conus_cms/CONUS_agb_2017_v1clipped.tif in original CRS EPSG:5070\n",
      "Clipped raster saved to ./carbon_stock_data/cstock_conus_cms/CONUS_bgb_2015_v1clipped.tif in original CRS EPSG:5070\n",
      "Clipped raster saved to ./carbon_stock_data/cstock_conus_cms/CONUS_bgb_2017_v1clipped.tif in original CRS EPSG:5070\n",
      "Clipped raster saved to ./carbon_stock_data/cstock_conus_cms/CONUS_agb_2015_v1clipped.tif in original CRS EPSG:5070\n",
      "Clipped raster saved to ./carbon_stock_data/cstock_conus_cms/CONUS_carbonsoilorg_2015_v1clipped.tif in original CRS EPSG:5070\n",
      "Clipped raster saved to ./carbon_stock_data/cstock_conus_cms/CONUS_deadbgb_2016_v1clipped.tif in original CRS EPSG:5070\n",
      "Clipped raster saved to ./carbon_stock_data/cstock_conus_cms/CONUS_carbonlitter_2016_v1clipped.tif in original CRS EPSG:5070\n",
      "Clipped raster saved to ./carbon_stock_data/cstock_conus_cms/CONUS_carbonsoilorg_2017_v1clipped.tif in original CRS EPSG:5070\n",
      "Clipped raster saved to ./carbon_stock_data/cstock_conus_cms/CONUS_deadagb_2016_v1clipped.tif in original CRS EPSG:5070\n",
      "Clipped raster saved to ./carbon_stock_data/cstock_conus_cms/CONUS_agb_2016_v1clipped.tif in original CRS EPSG:5070\n",
      "Clipped raster saved to ./carbon_stock_data/cstock_conus_cms/CONUS_bgb_2016_v1clipped.tif in original CRS EPSG:5070\n"
     ]
    }
   ],
   "source": [
    "# # clip rasters first for faster averaging of just our ROI\n",
    "# for rast in cms_conus_rasters:\n",
    "#     clip_raster(rast, y2y, rast.replace('.tif', 'clipped.tif'), target_crs)\n",
    "\n",
    "for rast in cms_conus_rasters:\n",
    "    clip_raster_no_reprojection(rast, y2y, rast.replace('.tif', 'clipped.tif'))"
   ]
  },
  {
   "cell_type": "code",
   "execution_count": 9,
   "metadata": {},
   "outputs": [
    {
     "name": "stdout",
     "output_type": "stream",
     "text": [
      "['./carbon_stock_data/cstock_conus_cms/CONUS_agb_2016_v1clipped.tif', './carbon_stock_data/cstock_conus_cms/CONUS_agb_2015_v1clipped.tif', './carbon_stock_data/cstock_conus_cms/CONUS_agb_2017_v1clipped.tif']\n",
      "['./carbon_stock_data/cstock_conus_cms/CONUS_bgb_2017_v1clipped.tif', './carbon_stock_data/cstock_conus_cms/CONUS_bgb_2015_v1clipped.tif', './carbon_stock_data/cstock_conus_cms/CONUS_bgb_2016_v1clipped.tif']\n",
      "['./carbon_stock_data/cstock_conus_cms/CONUS_deadagb_2015_v1clipped.tif', './carbon_stock_data/cstock_conus_cms/CONUS_deadagb_2016_v1clipped.tif', './carbon_stock_data/cstock_conus_cms/CONUS_deadagb_2017_v1clipped.tif']\n",
      "['./carbon_stock_data/cstock_conus_cms/CONUS_deadbgb_2017_v1clipped.tif', './carbon_stock_data/cstock_conus_cms/CONUS_deadbgb_2016_v1clipped.tif', './carbon_stock_data/cstock_conus_cms/CONUS_deadbgb_2015_v1clipped.tif']\n",
      "['./carbon_stock_data/cstock_conus_cms/CONUS_carbonlitter_2017_v1clipped.tif', './carbon_stock_data/cstock_conus_cms/CONUS_carbonlitter_2015_v1clipped.tif', './carbon_stock_data/cstock_conus_cms/CONUS_carbonlitter_2016_v1clipped.tif']\n",
      "['./carbon_stock_data/cstock_conus_cms/CONUS_carbonsoilorg_2017_v1clipped.tif', './carbon_stock_data/cstock_conus_cms/CONUS_carbonsoilorg_2016_v1clipped.tif', './carbon_stock_data/cstock_conus_cms/CONUS_carbonsoilorg_2015_v1clipped.tif']\n"
     ]
    }
   ],
   "source": [
    "# list file names for rasters we want to average\n",
    "agb_rasters = glob.glob(conus_cstock_path + '*_agb_????_v1clipped.tif')\n",
    "print(agb_rasters)\n",
    "\n",
    "bgb_rasters = glob.glob(conus_cstock_path + '*_bgb_????_v1clipped.tif')\n",
    "print(bgb_rasters)\n",
    "\n",
    "deadagb_rasters = glob.glob(conus_cstock_path + '*deadagb_????_v1clipped.tif')\n",
    "print(deadagb_rasters)\n",
    "\n",
    "deadbgb_rasters = glob.glob(conus_cstock_path + '*deadbgb_????_v1clipped.tif')\n",
    "print(deadbgb_rasters)\n",
    "\n",
    "litter_rasters = glob.glob(conus_cstock_path + '*litter_????_v1clipped.tif')\n",
    "print(litter_rasters)\n",
    "\n",
    "soc_rasters = glob.glob(conus_cstock_path + '*carbonsoilorg_????_v1clipped.tif')\n",
    "print(soc_rasters)"
   ]
  },
  {
   "cell_type": "code",
   "execution_count": 48,
   "metadata": {},
   "outputs": [],
   "source": [
    "# # average rasters for years 2015-2017\n",
    "average_rasters(agb_rasters, './carbon_stock_data/final_layers_clipped/agb_mg_ha_cms_2015_2017.tif')\n",
    "average_rasters(bgb_rasters, './carbon_stock_data/final_layers_clipped/bgb_mg_ha_cms_2015_2017.tif')\n",
    "average_rasters(deadagb_rasters, './carbon_stock_data/final_layers_clipped/deadagb_mg_ha_cms_2015_2017.tif')\n",
    "average_rasters(deadbgb_rasters, './carbon_stock_data/final_layers_clipped/deadbgb_mg_ha_cms_2015_2017.tif')\n",
    "average_rasters(litter_rasters, './carbon_stock_data/final_layers_clipped/litter_mg_ha_cms_2015_2017.tif')\n",
    "average_rasters(soc_rasters, './carbon_stock_data/final_layers_clipped/soc_mg_ha_cms_2015_2017.tif')"
   ]
  },
  {
   "cell_type": "code",
   "execution_count": 10,
   "metadata": {},
   "outputs": [],
   "source": [
    "# list file names of soilgrids products\n",
    "soc = './carbon_stock_data/soc_soilgrids/ocs_0-30cm_mean.tif'\n",
    "soc_out = './carbon_stock_data/final_layers_clipped/soc_mean_0_30cm_t_ha_soilgrids.tif'\n",
    "\n",
    "soc_05 = './carbon_stock_data/soc_soilgrids/ocs_0-30cm_Q0.05.tif'\n",
    "soc_05_out = './carbon_stock_data/final_layers_clipped/soc_q05_0_30cm_t_ha_soilgrids.tif'\n",
    "\n",
    "soc_95 = './carbon_stock_data/soc_soilgrids/ocs_0-30cm_Q0.95.tif'\n",
    "soc_95_out = './carbon_stock_data/final_layers_clipped/soc_q95_0_30cm_t_ha_soilgrids.tif'\n",
    "\n",
    "soc_uncertainty = './carbon_stock_data/soc_soilgrids/ocs_0-30cm_uncertainty.tif'\n",
    "soc_uncertainty_out = './carbon_stock_data/final_layers_clipped/soc_uncertainty_0_30cm_t_ha_soilgrids.tif'"
   ]
  },
  {
   "cell_type": "code",
   "execution_count": 50,
   "metadata": {},
   "outputs": [
    {
     "name": "stdout",
     "output_type": "stream",
     "text": [
      "Clipped raster saved to ./carbon_stock_data/final_layers_clipped/soc_mean_0_30cm_t_ha_soilgrids.tif in original CRS PROJCS[\"Interrupted_Goode_Homolosine\",GEOGCS[\"WGS 84\",DATUM[\"WGS_1984\",SPHEROID[\"WGS 84\",6378137,298.257223563,AUTHORITY[\"EPSG\",\"7030\"]],AUTHORITY[\"EPSG\",\"6326\"]],PRIMEM[\"Greenwich\",0],UNIT[\"Degree\",0.0174532925199433]],PROJECTION[\"Interrupted_Goode_Homolosine\"],UNIT[\"metre\",1,AUTHORITY[\"EPSG\",\"9001\"]],AXIS[\"Easting\",EAST],AXIS[\"Northing\",NORTH]]\n",
      "Clipped raster saved to ./carbon_stock_data/final_layers_clipped/soc_q05_0_30cm_t_ha_soilgrids.tif in original CRS PROJCS[\"Interrupted_Goode_Homolosine\",GEOGCS[\"WGS 84\",DATUM[\"WGS_1984\",SPHEROID[\"WGS 84\",6378137,298.257223563,AUTHORITY[\"EPSG\",\"7030\"]],AUTHORITY[\"EPSG\",\"6326\"]],PRIMEM[\"Greenwich\",0],UNIT[\"Degree\",0.0174532925199433]],PROJECTION[\"Interrupted_Goode_Homolosine\"],UNIT[\"metre\",1,AUTHORITY[\"EPSG\",\"9001\"]],AXIS[\"Easting\",EAST],AXIS[\"Northing\",NORTH]]\n",
      "Clipped raster saved to ./carbon_stock_data/final_layers_clipped/soc_q95_0_30cm_t_ha_soilgrids.tif in original CRS PROJCS[\"Interrupted_Goode_Homolosine\",GEOGCS[\"WGS 84\",DATUM[\"WGS_1984\",SPHEROID[\"WGS 84\",6378137,298.257223563,AUTHORITY[\"EPSG\",\"7030\"]],AUTHORITY[\"EPSG\",\"6326\"]],PRIMEM[\"Greenwich\",0],UNIT[\"Degree\",0.0174532925199433]],PROJECTION[\"Interrupted_Goode_Homolosine\"],UNIT[\"metre\",1,AUTHORITY[\"EPSG\",\"9001\"]],AXIS[\"Easting\",EAST],AXIS[\"Northing\",NORTH]]\n",
      "Clipped raster saved to ./carbon_stock_data/final_layers_clipped/soc_uncertainty_0_30cm_t_ha_soilgrids.tif in original CRS PROJCS[\"Interrupted_Goode_Homolosine\",GEOGCS[\"WGS 84\",DATUM[\"WGS_1984\",SPHEROID[\"WGS 84\",6378137,298.257223563,AUTHORITY[\"EPSG\",\"7030\"]],AUTHORITY[\"EPSG\",\"6326\"]],PRIMEM[\"Greenwich\",0],UNIT[\"Degree\",0.0174532925199433]],PROJECTION[\"Interrupted_Goode_Homolosine\"],UNIT[\"metre\",1,AUTHORITY[\"EPSG\",\"9001\"]],AXIS[\"Easting\",EAST],AXIS[\"Northing\",NORTH]]\n"
     ]
    }
   ],
   "source": [
    "# # clip rasters\n",
    "# clip_raster(soc, y2y, soc_out, target_crs)\n",
    "# clip_raster(soc_05, y2y, soc_05_out, target_crs)\n",
    "# clip_raster(soc_95, y2y, soc_95_out, target_crs)\n",
    "# clip_raster(soc_uncertainty, y2y, soc_uncertainty_out, target_crs)\n",
    "\n",
    "clip_raster_no_reprojection(soc, y2y, soc_out)\n",
    "clip_raster_no_reprojection(soc_05, y2y, soc_05_out)\n",
    "clip_raster_no_reprojection(soc_95, y2y, soc_95_out)\n",
    "clip_raster_no_reprojection(soc_uncertainty, y2y, soc_uncertainty_out)"
   ]
  },
  {
   "cell_type": "code",
   "execution_count": null,
   "metadata": {},
   "outputs": [],
   "source": [
    "# moving on to the soc maps from openlandmap\n",
    "# load file paths\n",
    "soc_0_10 = './carbon_stock_data/soc_openlandmap/sol_organic.carbon.stock_msa.kgm2_m_250m_b0..10cm_1950..2017_v0.2.tif'\n",
    "soc_10_30 = './carbon_stock_data/soc_openlandmap/sol_organic.carbon.stock_msa.kgm2_m_250m_b10..30cm_1950..2017_v0.2.tif'\n",
    "soc_30_60 = './carbon_stock_data/soc_openlandmap/sol_organic.carbon.stock_msa.kgm2_m_250m_b30..60cm_1950..2017_v0.2.tif'\n",
    "soc_60_100 = './carbon_stock_data/soc_openlandmap/sol_organic.carbon.stock_msa.kgm2_m_250m_b60..100cm_1950..2017_v0.2.tif'"
   ]
  },
  {
   "cell_type": "code",
   "execution_count": null,
   "metadata": {},
   "outputs": [],
   "source": [
    "# first add all layers together\n",
    "soc_dir = [soc_0_10, soc_10_30, soc_30_60, soc_60_100]\n",
    "\n",
    "for i in range(0, len(soc_dir)):\n",
    "    if i == 0:\n",
    "        soc = xarray.open_dataarray(soc_dir[i])\n",
    "    else:\n",
    "        soc += xarray.open_dataarray(soc_dir[i])"
   ]
  }
 ],
 "metadata": {
  "kernelspec": {
   "display_name": ".venv",
   "language": "python",
   "name": "python3"
  },
  "language_info": {
   "codemirror_mode": {
    "name": "ipython",
    "version": 3
   },
   "file_extension": ".py",
   "mimetype": "text/x-python",
   "name": "python",
   "nbconvert_exporter": "python",
   "pygments_lexer": "ipython3",
   "version": "3.12.6"
  }
 },
 "nbformat": 4,
 "nbformat_minor": 2
}
