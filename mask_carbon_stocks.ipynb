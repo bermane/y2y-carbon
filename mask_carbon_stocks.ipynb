{
 "cells": [
  {
   "cell_type": "code",
   "execution_count": 28,
   "metadata": {},
   "outputs": [],
   "source": [
    "# import packages\n",
    "import rasterio\n",
    "from rasterio.mask import mask\n",
    "from rasterio.warp import calculate_default_transform, reproject, Resampling\n",
    "import geopandas as gpd\n",
    "import numpy as np\n",
    "import glob\n",
    "import rioxarray as rxr\n",
    "import xarray as xr"
   ]
  },
  {
   "cell_type": "code",
   "execution_count": 11,
   "metadata": {},
   "outputs": [],
   "source": [
    "# create function to clip raster extent and save to file without reprojecting\n",
    "def clip_raster_no_reprojection(in_path_ras, in_path_vec, out_path):\n",
    "\n",
    "    # Load vector data\n",
    "    vector = gpd.read_file(in_path_vec)\n",
    "\n",
    "    # Open the raster file\n",
    "    with rasterio.open(in_path_ras) as src:\n",
    "        # Reproject the vector to match the raster CRS\n",
    "        vector = vector.to_crs(src.crs)\n",
    "\n",
    "        # Convert vector geometry to GeoJSON format\n",
    "        geometries = [geom for geom in vector.geometry]\n",
    "\n",
    "        # Clip the raster\n",
    "        clipped_raster, clipped_transform = mask(src, geometries, crop=True)\n",
    "\n",
    "        # Update the metadata\n",
    "        out_meta = src.meta.copy()\n",
    "\n",
    "        # Check if NoData is defined\n",
    "        if src.nodata is None:  # Apply changes only if NoData is not defined\n",
    "        # Set a NoData value (e.g., -9999)\n",
    "            clipped_raster[clipped_raster == 0] = -9999  # Replace 0 if needed\n",
    "            out_meta.update({\"nodata\": -9999})\n",
    "\n",
    "        out_meta.update({\n",
    "            \"driver\": \"GTiff\",\n",
    "            \"height\": clipped_raster.shape[1],\n",
    "            \"width\": clipped_raster.shape[2],\n",
    "            \"transform\": clipped_transform\n",
    "        })\n",
    "\n",
    "        # Save the clipped raster\n",
    "        with rasterio.open(out_path, \"w\", **out_meta) as dest:\n",
    "            dest.write(clipped_raster)\n",
    "\n",
    "    print(f\"Clipped raster saved to {out_path} in original CRS {src.crs}\")"
   ]
  },
  {
   "cell_type": "code",
   "execution_count": 25,
   "metadata": {},
   "outputs": [],
   "source": [
    "# define print raster function to help compare reprojections\n",
    "def print_raster(raster):\n",
    "    print(\n",
    "        f\"shape: {raster.rio.shape}\\n\"\n",
    "        f\"resolution: {raster.rio.resolution()}\\n\"\n",
    "        f\"bounds: {raster.rio.bounds()}\\n\"\n",
    "        f\"sum: {raster.sum().item()}\\n\"\n",
    "        f\"CRS: {raster.rio.crs}\\n\"\n",
    "        f\"NoDataValue: {raster.rio.nodata}\\n\"\n",
    "        f\"NoDataOriginalValues: {raster.rio.encoded_nodata}\\n\"\n",
    "    )"
   ]
  },
  {
   "cell_type": "code",
   "execution_count": 12,
   "metadata": {},
   "outputs": [],
   "source": [
    "# set file paths \n",
    "# spawn 2010 datasets in paths\n",
    "agb = './carbon_stock_data/cstock_spawn/agb_2010.tif'\n",
    "agb_uncertainty = './carbon_stock_data/cstock_spawn/agb_uncertainty_2010.tif'\n",
    "bgb = './carbon_stock_data/cstock_spawn/bgb_2010.tif'\n",
    "bgb_uncertainty = './carbon_stock_data/cstock_spawn/bgb_uncertainty_2010.tif'\n",
    "\n",
    "# spawn 2010 datasets out paths\n",
    "agb_out = './carbon_stock_data/final_layers_clipped/agb_mg_ha_spawn_2010.tif'\n",
    "agb_uncertainty_out = './carbon_stock_data/final_layers_clipped/agb_uncertainty_mg_ha_spawn_2010.tif'\n",
    "bgb_out = './carbon_stock_data/final_layers_clipped/bgb_mg_ha_spawn_2010.tif'\n",
    "bgb_uncertainty_out = './carbon_stock_data/final_layers_clipped/bgb_uncertainty_mg_ha_spawn_2010.tif'\n",
    "\n",
    "# sothe datasets in paths\n",
    "fc = './carbon_stock_data/cstock_canada_sothe/McMaster_WWFCanada_forest_carbon_250m/McMaster_WWFCanada_forest_carbon_250m_kg-m2_version1.0.tif'\n",
    "fc_uncertainty = './carbon_stock_data/cstock_canada_sothe/McMaster_WWFCanada_forest_carbon_250m/McMaster_WWFCanada_forest_carbon_250m_kg-m2_uncertainty_version1.0.tif'\n",
    "soc1m = './carbon_stock_data/cstock_canada_sothe/McMaster_WWFCanada_soil_carbon_250m_kg-m2_version3.0/McMaster_WWFCanada_soil_carbon1m_250m_kg-m2_version3.0.tif'\n",
    "soc1m_uncertainty = './carbon_stock_data/cstock_canada_sothe/McMaster_WWFCanada_soil_carbon_250m_kg-m2_version3.0/McMaster_WWFCanada_soil_carbon1m_uncertainty_250m_kg-m2_version3.0.tif'\n",
    "\n",
    "# sothe datasets out paths\n",
    "fc_out = './carbon_stock_data/final_layers_clipped/forest_carbon_kg_m2_sothe.tif'\n",
    "fc_uncertainty_out = './carbon_stock_data/final_layers_clipped/forest_carbon_uncertainty_kg_m2_sothe.tif'\n",
    "soc1m_out = './carbon_stock_data/final_layers_clipped/soc_0_1m_kg_m2_sothe.tif'\n",
    "soc1m_uncertainty_out = './carbon_stock_data/final_layers_clipped/soc_uncertainty_0_1m_kg_m2_sothe.tif'\n",
    "\n",
    "# y2y boundary\n",
    "y2y = './study_area/Y2Y_RegionBoundary_Final2013/Y2Y_RegionBoundary.shp'\n"
   ]
  },
  {
   "cell_type": "code",
   "execution_count": 14,
   "metadata": {},
   "outputs": [
    {
     "name": "stdout",
     "output_type": "stream",
     "text": [
      "Clipped raster saved to ./carbon_stock_data/final_layers_clipped/agb_mg_ha_spawn_2010.tif in original CRS EPSG:4326\n",
      "Clipped raster saved to ./carbon_stock_data/final_layers_clipped/agb_uncertainty_mg_ha_spawn_2010.tif in original CRS EPSG:4326\n",
      "Clipped raster saved to ./carbon_stock_data/final_layers_clipped/bgb_mg_ha_spawn_2010.tif in original CRS EPSG:4326\n",
      "Clipped raster saved to ./carbon_stock_data/final_layers_clipped/bgb_uncertainty_mg_ha_spawn_2010.tif in original CRS EPSG:4326\n",
      "Clipped raster saved to ./carbon_stock_data/final_layers_clipped/forest_carbon_kg_m2_sothe.tif in original CRS EPSG:4326\n",
      "Clipped raster saved to ./carbon_stock_data/final_layers_clipped/forest_carbon_uncertainty_kg_m2_sothe.tif in original CRS EPSG:4326\n",
      "Clipped raster saved to ./carbon_stock_data/final_layers_clipped/soc_0_1m_kg_m2_sothe.tif in original CRS EPSG:4326\n",
      "Clipped raster saved to ./carbon_stock_data/final_layers_clipped/soc_uncertainty_0_1m_kg_m2_sothe.tif in original CRS EPSG:4326\n"
     ]
    }
   ],
   "source": [
    "# clip rasters\n",
    "# spawn\n",
    "clip_raster_no_reprojection(agb, y2y, agb_out)\n",
    "clip_raster_no_reprojection(agb_uncertainty, y2y, agb_uncertainty_out)\n",
    "clip_raster_no_reprojection(bgb, y2y, bgb_out)\n",
    "clip_raster_no_reprojection(bgb_uncertainty, y2y, bgb_uncertainty_out)\n",
    "\n",
    "# sothe\n",
    "clip_raster_no_reprojection(fc, y2y, fc_out)\n",
    "clip_raster_no_reprojection(fc_uncertainty, y2y, fc_uncertainty_out)\n",
    "clip_raster_no_reprojection(soc1m, y2y, soc1m_out)\n",
    "clip_raster_no_reprojection(soc1m_uncertainty, y2y, soc1m_uncertainty_out)\n"
   ]
  },
  {
   "cell_type": "code",
   "execution_count": 15,
   "metadata": {},
   "outputs": [],
   "source": [
    "# list file names of soilgrids products\n",
    "soc = './carbon_stock_data/soc_soilgrids/ocs_0-30cm_mean.tif'\n",
    "soc_out = './carbon_stock_data/final_layers_clipped/soc_mean_0_30cm_t_ha_soilgrids.tif'\n",
    "\n",
    "soc_05 = './carbon_stock_data/soc_soilgrids/ocs_0-30cm_Q0.05.tif'\n",
    "soc_05_out = './carbon_stock_data/final_layers_clipped/soc_q05_0_30cm_t_ha_soilgrids.tif'\n",
    "\n",
    "soc_95 = './carbon_stock_data/soc_soilgrids/ocs_0-30cm_Q0.95.tif'\n",
    "soc_95_out = './carbon_stock_data/final_layers_clipped/soc_q95_0_30cm_t_ha_soilgrids.tif'\n",
    "\n",
    "soc_uncertainty = './carbon_stock_data/soc_soilgrids/ocs_0-30cm_uncertainty.tif'\n",
    "soc_uncertainty_out = './carbon_stock_data/final_layers_clipped/soc_uncertainty_0_30cm_t_ha_soilgrids.tif'"
   ]
  },
  {
   "cell_type": "code",
   "execution_count": 16,
   "metadata": {},
   "outputs": [
    {
     "name": "stdout",
     "output_type": "stream",
     "text": [
      "Clipped raster saved to ./carbon_stock_data/final_layers_clipped/soc_mean_0_30cm_t_ha_soilgrids.tif in original CRS PROJCS[\"Interrupted_Goode_Homolosine\",GEOGCS[\"WGS 84\",DATUM[\"WGS_1984\",SPHEROID[\"WGS 84\",6378137,298.257223563,AUTHORITY[\"EPSG\",\"7030\"]],AUTHORITY[\"EPSG\",\"6326\"]],PRIMEM[\"Greenwich\",0],UNIT[\"Degree\",0.0174532925199433]],PROJECTION[\"Interrupted_Goode_Homolosine\"],UNIT[\"metre\",1,AUTHORITY[\"EPSG\",\"9001\"]],AXIS[\"Easting\",EAST],AXIS[\"Northing\",NORTH]]\n",
      "Clipped raster saved to ./carbon_stock_data/final_layers_clipped/soc_q05_0_30cm_t_ha_soilgrids.tif in original CRS PROJCS[\"Interrupted_Goode_Homolosine\",GEOGCS[\"WGS 84\",DATUM[\"WGS_1984\",SPHEROID[\"WGS 84\",6378137,298.257223563,AUTHORITY[\"EPSG\",\"7030\"]],AUTHORITY[\"EPSG\",\"6326\"]],PRIMEM[\"Greenwich\",0],UNIT[\"Degree\",0.0174532925199433]],PROJECTION[\"Interrupted_Goode_Homolosine\"],UNIT[\"metre\",1,AUTHORITY[\"EPSG\",\"9001\"]],AXIS[\"Easting\",EAST],AXIS[\"Northing\",NORTH]]\n",
      "Clipped raster saved to ./carbon_stock_data/final_layers_clipped/soc_q95_0_30cm_t_ha_soilgrids.tif in original CRS PROJCS[\"Interrupted_Goode_Homolosine\",GEOGCS[\"WGS 84\",DATUM[\"WGS_1984\",SPHEROID[\"WGS 84\",6378137,298.257223563,AUTHORITY[\"EPSG\",\"7030\"]],AUTHORITY[\"EPSG\",\"6326\"]],PRIMEM[\"Greenwich\",0],UNIT[\"Degree\",0.0174532925199433]],PROJECTION[\"Interrupted_Goode_Homolosine\"],UNIT[\"metre\",1,AUTHORITY[\"EPSG\",\"9001\"]],AXIS[\"Easting\",EAST],AXIS[\"Northing\",NORTH]]\n",
      "Clipped raster saved to ./carbon_stock_data/final_layers_clipped/soc_uncertainty_0_30cm_t_ha_soilgrids.tif in original CRS PROJCS[\"Interrupted_Goode_Homolosine\",GEOGCS[\"WGS 84\",DATUM[\"WGS_1984\",SPHEROID[\"WGS 84\",6378137,298.257223563,AUTHORITY[\"EPSG\",\"7030\"]],AUTHORITY[\"EPSG\",\"6326\"]],PRIMEM[\"Greenwich\",0],UNIT[\"Degree\",0.0174532925199433]],PROJECTION[\"Interrupted_Goode_Homolosine\"],UNIT[\"metre\",1,AUTHORITY[\"EPSG\",\"9001\"]],AXIS[\"Easting\",EAST],AXIS[\"Northing\",NORTH]]\n"
     ]
    }
   ],
   "source": [
    "# # clip rasters\n",
    "# clip_raster(soc, y2y, soc_out, target_crs)\n",
    "# clip_raster(soc_05, y2y, soc_05_out, target_crs)\n",
    "# clip_raster(soc_95, y2y, soc_95_out, target_crs)\n",
    "# clip_raster(soc_uncertainty, y2y, soc_uncertainty_out, target_crs)\n",
    "\n",
    "clip_raster_no_reprojection(soc, y2y, soc_out)\n",
    "clip_raster_no_reprojection(soc_05, y2y, soc_05_out)\n",
    "clip_raster_no_reprojection(soc_95, y2y, soc_95_out)\n",
    "clip_raster_no_reprojection(soc_uncertainty, y2y, soc_uncertainty_out)"
   ]
  },
  {
   "cell_type": "code",
   "execution_count": 17,
   "metadata": {},
   "outputs": [],
   "source": [
    "# moving on to the soc maps from openlandmap\n",
    "# load file paths\n",
    "soc_0_10 = './carbon_stock_data/soc_openlandmap/sol_organic.carbon.stock_msa.kgm2_m_250m_b0..10cm_1950..2017_v0.2.tif'\n",
    "soc_10_30 = './carbon_stock_data/soc_openlandmap/sol_organic.carbon.stock_msa.kgm2_m_250m_b10..30cm_1950..2017_v0.2.tif'\n",
    "soc_30_60 = './carbon_stock_data/soc_openlandmap/sol_organic.carbon.stock_msa.kgm2_m_250m_b30..60cm_1950..2017_v0.2.tif'\n",
    "soc_60_100 = './carbon_stock_data/soc_openlandmap/sol_organic.carbon.stock_msa.kgm2_m_250m_b60..100cm_1950..2017_v0.2.tif'"
   ]
  },
  {
   "cell_type": "code",
   "execution_count": 23,
   "metadata": {},
   "outputs": [],
   "source": [
    "# list all layers\n",
    "soc_dir = [soc_0_10, soc_10_30, soc_30_60, soc_60_100]\n",
    "\n",
    "# already clipped and deleted original\n",
    "\n",
    "# # first clip layers to y2y extent\n",
    "# for rast in soc_dir:\n",
    "#     clip_raster_no_reprojection(rast, y2y, rast.replace('.tif', '_clipped.tif'))"
   ]
  },
  {
   "cell_type": "code",
   "execution_count": null,
   "metadata": {},
   "outputs": [
    {
     "name": "stdout",
     "output_type": "stream",
     "text": [
      "shape: (12274, 15713)\n",
      "resolution: (0.002083333, -0.002083333)\n",
      "bounds: (-141.035422901, 41.751257299, -108.30001147200001, 67.322086541)\n",
      "sum: 1455630080.0\n",
      "CRS: EPSG:4326\n",
      "NoDataValue: nan\n",
      "NoDataOriginalValues: -32768.0\n",
      "\n"
     ]
    }
   ],
   "source": [
    "# now add all layers together\n",
    "for i in range(0, len(soc_dir)):\n",
    "    if i == 0:\n",
    "        soc = xr.open_dataarray(soc_dir[i].replace('.tif', '_clipped.tif'))\n",
    "    else:\n",
    "        soc += xr.open_dataarray(soc_dir[i].replace('.tif', '_clipped.tif'))\n",
    "\n",
    "print_raster(soc)"
   ]
  },
  {
   "cell_type": "code",
   "execution_count": 27,
   "metadata": {},
   "outputs": [],
   "source": [
    "# write to disk\n",
    "soc.rio.to_raster('./carbon_stock_data/final_layers_clipped/soc_0_1m_kg_m2_openlandmap.tif')"
   ]
  },
  {
   "cell_type": "code",
   "execution_count": 29,
   "metadata": {},
   "outputs": [
    {
     "name": "stdout",
     "output_type": "stream",
     "text": [
      "shape: (12274, 15713)\n",
      "resolution: (0.002083333, -0.002083333)\n",
      "bounds: (-141.035422901, 41.751257299, -108.30001147200001, 67.322086541)\n",
      "sum: 707438976.0\n",
      "CRS: EPSG:4326\n",
      "NoDataValue: nan\n",
      "NoDataOriginalValues: -32768.0\n",
      "\n"
     ]
    }
   ],
   "source": [
    "# list layers from 30-100\n",
    "soc_dir_30_100 = [soc_30_60, soc_60_100]\n",
    "\n",
    "# now add layers together\n",
    "for i in range(0, len(soc_dir_30_100)):\n",
    "    if i == 0:\n",
    "        soc_30_100 = xr.open_dataarray(soc_dir[i].replace('.tif', '_clipped.tif'))\n",
    "    else:\n",
    "        soc_30_100 += xr.open_dataarray(soc_dir[i].replace('.tif', '_clipped.tif'))\n",
    "\n",
    "print_raster(soc_30_100)"
   ]
  },
  {
   "cell_type": "code",
   "execution_count": 30,
   "metadata": {},
   "outputs": [],
   "source": [
    "# write to disk\n",
    "soc_30_100.rio.to_raster('./carbon_stock_data/final_layers_clipped/soc_30_100cm_kg_m2_openlandmap.tif')"
   ]
  },
  {
   "cell_type": "code",
   "execution_count": null,
   "metadata": {},
   "outputs": [],
   "source": []
  }
 ],
 "metadata": {
  "kernelspec": {
   "display_name": ".venv",
   "language": "python",
   "name": "python3"
  },
  "language_info": {
   "codemirror_mode": {
    "name": "ipython",
    "version": 3
   },
   "file_extension": ".py",
   "mimetype": "text/x-python",
   "name": "python",
   "nbconvert_exporter": "python",
   "pygments_lexer": "ipython3",
   "version": "3.12.6"
  }
 },
 "nbformat": 4,
 "nbformat_minor": 2
}
