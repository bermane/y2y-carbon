{
 "cells": [
  {
   "cell_type": "code",
   "execution_count": 66,
   "metadata": {},
   "outputs": [],
   "source": [
    "# import packages\n",
    "from owslib.wcs import WebCoverageService\n",
    "import geopandas as gpd"
   ]
  },
  {
   "cell_type": "code",
   "execution_count": 67,
   "metadata": {},
   "outputs": [
    {
     "data": {
      "text/plain": [
       "['Acrisols',\n",
       " 'Albeluvisols',\n",
       " 'Alisols',\n",
       " 'Andosols',\n",
       " 'Arenosols',\n",
       " 'Calcisols',\n",
       " 'Cambisols',\n",
       " 'Chernozems',\n",
       " 'Cryosols',\n",
       " 'Durisols',\n",
       " 'Ferralsols',\n",
       " 'Fluvisols',\n",
       " 'Gleysols',\n",
       " 'Gypsisols',\n",
       " 'Histosols',\n",
       " 'Kastanozems',\n",
       " 'Leptosols',\n",
       " 'Lixisols',\n",
       " 'Luvisols',\n",
       " 'MostProbable',\n",
       " 'Nitisols',\n",
       " 'Phaeozems',\n",
       " 'Planosols',\n",
       " 'Plinthosols',\n",
       " 'Podzols',\n",
       " 'Regosols',\n",
       " 'Solonchaks',\n",
       " 'Solonetz',\n",
       " 'Stagnosols',\n",
       " 'Umbrisols',\n",
       " 'Vertisols']"
      ]
     },
     "execution_count": 67,
     "metadata": {},
     "output_type": "execute_result"
    }
   ],
   "source": [
    "# link to soil most probable class from SoilGrids\n",
    "wcs = WebCoverageService('https://maps.isric.org/mapserv?map=/map/wrb.map',\n",
    "                         version='1.0.0')\n",
    "\n",
    "# list available layers\n",
    "list(wcs.contents)"
   ]
  },
  {
   "cell_type": "code",
   "execution_count": 68,
   "metadata": {},
   "outputs": [
    {
     "data": {
      "text/plain": [
       "['GetCapabilities', 'DescribeCoverage', 'GetCoverage']"
      ]
     },
     "execution_count": 68,
     "metadata": {},
     "output_type": "execute_result"
    }
   ],
   "source": [
    "# list operations available\n",
    "[op.name for op in wcs.operations]"
   ]
  },
  {
   "cell_type": "code",
   "execution_count": 72,
   "metadata": {},
   "outputs": [
    {
     "name": "stdout",
     "output_type": "stream",
     "text": [
      "[urn:ogc:def:crs:EPSG::4326, urn:ogc:def:crs:EPSG::152160, urn:ogc:def:crs:EPSG::3857, urn:ogc:def:crs:EPSG::54009, urn:ogc:def:crs:EPSG::54012, urn:ogc:def:crs:EPSG::4326]\n",
      "['GEOTIFF_BYTE']\n",
      "[{'nativeSrs': 'EPSG:4326', 'bbox': (-180.0, -56.0008103940592, 179.999942400152, 83.999167206)}, {'nativeSrs': 'EPSG:4326', 'bbox': (-180.0, -56.0008103940592, 179.999942400152, 83.999167206)}]\n"
     ]
    }
   ],
   "source": [
    "# check coverage for one of the layers\n",
    "ocs = wcs.contents['Cryosols']\n",
    "\n",
    "# # supported CRS\n",
    "print(ocs.supportedCRS)\n",
    "\n",
    "# supported format\n",
    "print(ocs.supportedFormats)\n",
    "\n",
    "# bounding box\n",
    "print(ocs.boundingboxes)"
   ]
  },
  {
   "cell_type": "code",
   "execution_count": 70,
   "metadata": {},
   "outputs": [
    {
     "name": "stdout",
     "output_type": "stream",
     "text": [
      "EPSG:4326\n"
     ]
    },
    {
     "data": {
      "text/plain": [
       "array([-141.03487369,   41.75172775, -108.30034623,   67.32076298])"
      ]
     },
     "execution_count": 70,
     "metadata": {},
     "output_type": "execute_result"
    }
   ],
   "source": [
    "# import y2y shapefile\n",
    "y2y = gpd.read_file('./study_area/Y2Y_RegionBoundary_Final2013/Y2Y_RegionBoundary.shp')\n",
    "\n",
    "# target_crs based on CRS of wcs data\n",
    "target_crs = 'EPSG:4326'\n",
    "\n",
    "# convert y2y crs\n",
    "y2y = y2y.to_crs(target_crs)\n",
    "print(y2y.crs)\n",
    "\n",
    "# get bounding box of whole region\n",
    "bbox = y2y.total_bounds\n",
    "bbox\n"
   ]
  },
  {
   "cell_type": "code",
   "execution_count": 71,
   "metadata": {},
   "outputs": [],
   "source": [
    "# define slightly bigger bbox\n",
    "bbox = (-142, 40, -107, 68)"
   ]
  },
  {
   "cell_type": "code",
   "execution_count": 45,
   "metadata": {},
   "outputs": [
    {
     "data": {
      "text/plain": [
       "[('X', -55, -20), ('Y', 41, 68)]"
      ]
     },
     "execution_count": 45,
     "metadata": {},
     "output_type": "execute_result"
    }
   ],
   "source": [
    "# format bounding box into subset for WCS 2.0\n",
    "# something didn't work the first time so going to redownload all of them with a small buffer\n",
    "# just to get a slightly different output\n",
    "subsets = [('X', float(bbox[0]-1), float(bbox[2]+1)), ('Y', float(bbox[1]), float(bbox[3]))]\n",
    "subsets = [('X', -55, -20), ('Y', 41, 68)]\n",
    "subsets"
   ]
  },
  {
   "cell_type": "code",
   "execution_count": 74,
   "metadata": {},
   "outputs": [],
   "source": [
    "# download single cryosols layer\n",
    "# fetch map segment for layer\n",
    "response = wcs.getCoverage(identifier='Cryosols',\n",
    "                        crs='urn:ogc:def:crs:EPSG::4326',\n",
    "                        resx=250,\n",
    "                        resy=250,\n",
    "                        format='GEOTIFF_BYTE')\n",
    "\n",
    "# download data\n",
    "with open('./carbon_stock_data/soiltype_soilgrids/' + 'cryosols' + '.tif', 'wb') as file:\n",
    "    file.write(response.read())"
   ]
  },
  {
   "cell_type": "code",
   "execution_count": null,
   "metadata": {},
   "outputs": [],
   "source": [
    "# # loop through layers and download each\n",
    "# for layer in wcs.contents:\n",
    "\n",
    "#     # fetch map segment for layer\n",
    "#     response = wcs.getCoverage(identifier=[layer],\n",
    "#                             crs='http://www.opengis.net/def/crs/EPSG/0/152160',\n",
    "#                             subsets=subsets,\n",
    "#                             resx=250,\n",
    "#                             resy=250,\n",
    "#                             format='image/tiff')\n",
    "    \n",
    "#     # download data\n",
    "#     with open('./carbon_stock_data/soc_soilgrids/' + layer + '.tif', 'wb') as file:\n",
    "#         file.write(response.read())"
   ]
  },
  {
   "cell_type": "code",
   "execution_count": null,
   "metadata": {},
   "outputs": [],
   "source": []
  }
 ],
 "metadata": {
  "kernelspec": {
   "display_name": ".venv",
   "language": "python",
   "name": "python3"
  },
  "language_info": {
   "codemirror_mode": {
    "name": "ipython",
    "version": 3
   },
   "file_extension": ".py",
   "mimetype": "text/x-python",
   "name": "python",
   "nbconvert_exporter": "python",
   "pygments_lexer": "ipython3",
   "version": "3.12.6"
  }
 },
 "nbformat": 4,
 "nbformat_minor": 2
}
