{
 "cells": [
  {
   "cell_type": "markdown",
   "metadata": {},
   "source": [
    "This code takes carbon emission and sequestration data across Y2Y and outputs a bar plot. Due to differences in data quality and processing methods throughout time, I only included years 2015-2023 for the annual comparison."
   ]
  },
  {
   "cell_type": "markdown",
   "metadata": {},
   "source": [
    "## Load packages and data"
   ]
  },
  {
   "cell_type": "code",
   "execution_count": null,
   "metadata": {},
   "outputs": [],
   "source": [
    "# load packages\n",
    "import pandas as pd\n",
    "import numpy as np\n",
    "import seaborn as sns\n",
    "import matplotlib.pyplot as plt"
   ]
  },
  {
   "cell_type": "code",
   "execution_count": null,
   "metadata": {},
   "outputs": [],
   "source": [
    "# load y2y carbon sequestration data\n",
    "y2y_df = pd.read_csv('./outputs/y2y_carbon_sequestration.csv')\n",
    "y2y_df.info()"
   ]
  },
  {
   "cell_type": "markdown",
   "metadata": {},
   "source": [
    "## Process data"
   ]
  },
  {
   "cell_type": "code",
   "execution_count": null,
   "metadata": {},
   "outputs": [],
   "source": [
    "# filter df for annual emissions\n",
    "y2y_emissions = y2y_df.filter(regex=r'gfw_forest_carbon_gross_emissions_\\d{4}__Mg_C')\n",
    "y2y_emissions.info()"
   ]
  },
  {
   "cell_type": "code",
   "execution_count": null,
   "metadata": {},
   "outputs": [],
   "source": [
    "# Rename columns to just the year\n",
    "y2y_emissions = y2y_emissions.rename(columns=lambda x: x.split(\"_\")[5] if \"gfw_forest_carbon_gross_emissions_\" in x else x)\n",
    "y2y_emissions.info()"
   ]
  },
  {
   "cell_type": "code",
   "execution_count": null,
   "metadata": {},
   "outputs": [],
   "source": [
    "# Melt the DataFrame for plotting\n",
    "y2y_emissions_melted = y2y_emissions.melt(var_name=\"Year\", value_name=\"Emissions\")\n",
    "\n",
    "# Convert \"Year\" to an integer for proper ordering\n",
    "y2y_emissions_melted[\"Year\"] = y2y_emissions_melted[\"Year\"].astype(int)\n",
    "\n",
    "# divide emissions by 1e6 to get million tons\n",
    "y2y_emissions_melted['Emissions'] = y2y_emissions_melted['Emissions'] / 1e6\n",
    "y2y_emissions_melted"
   ]
  },
  {
   "cell_type": "code",
   "execution_count": null,
   "metadata": {},
   "outputs": [],
   "source": [
    "# Compute a 3-year moving average\n",
    "y2y_emissions_3yr = y2y_emissions_melted.groupby(\"Year\", as_index=False)[\"Emissions\"].mean()\n",
    "y2y_emissions_3yr[\"Emissions\"] = y2y_emissions_3yr[\"Emissions\"].rolling(window=3, min_periods=1).mean()\n",
    "y2y_emissions_3yr\n"
   ]
  },
  {
   "cell_type": "code",
   "execution_count": null,
   "metadata": {},
   "outputs": [],
   "source": [
    "# create a df only 2015 onward\n",
    "y2y_emissions_melted_2015 = y2y_emissions_melted.query('Year >= 2015')"
   ]
  },
  {
   "cell_type": "code",
   "execution_count": null,
   "metadata": {},
   "outputs": [],
   "source": [
    "# save annual average sequestration in million tons\n",
    "mean_seques = y2y_df['gfw_forest_carbon_average_annual_removals__Mg(C)_yr-1'].values.item() / 1e6\n",
    "mean_seques"
   ]
  },
  {
   "cell_type": "code",
   "execution_count": null,
   "metadata": {},
   "outputs": [],
   "source": [
    "# save annual average emissions in million tons\n",
    "mean_emissions = y2y_df['gfw_forest_carbon_average_annual_emissions__Mg(C)_yr-1'].values.item() / 1e6\n",
    "mean_emissions"
   ]
  },
  {
   "cell_type": "markdown",
   "metadata": {},
   "source": [
    "## Create plots"
   ]
  },
  {
   "cell_type": "markdown",
   "metadata": {},
   "source": [
    "I only used the plot from 2015 onward due to inconsistencies in data quality and processing methods pre and post 2015"
   ]
  },
  {
   "cell_type": "code",
   "execution_count": null,
   "metadata": {},
   "outputs": [],
   "source": [
    "# Create a bar plot\n",
    "plt.figure(figsize=(8, 5))\n",
    "sns.barplot(x=\"Year\", y=\"Emissions\", data=y2y_emissions_melted, estimator=sum, errorbar=None, color=\"#BB5566\")\n",
    "\n",
    "# Add a dotted line at mean removals\n",
    "plt.axhline(y=mean_seques, color='#004488', linestyle='dotted', linewidth=2)\n",
    "\n",
    "# Add a dotted line at mean emissions\n",
    "plt.axhline(y=mean_emissions, color='#000000', linestyle='dotted', linewidth=2)\n",
    "\n",
    "# add a label for mean removals\n",
    "plt.text(x=20, y=mean_seques+2, s=\"Mean Annual Sequestration\", color='#004488', fontsize=10, ha='right')\n",
    "\n",
    "# add a label for mean emissions\n",
    "plt.text(x=14.2, y=mean_emissions+2, s=\"Mean Annual Emissions\", color='#000000', fontsize=10, ha='right')\n",
    "\n",
    "# Customize plot\n",
    "plt.xlabel(\"Year\")\n",
    "plt.ylabel(\"Carbon Emissions (Million Tons)\")\n",
    "plt.title(\"Y2Y Annual Forest Carbon Emissions 2001-2023\")\n",
    "plt.xticks(rotation=45)\n",
    "plt.yticks([0, 20, 40, 60, 80, 100])\n",
    "plt.show()"
   ]
  },
  {
   "cell_type": "code",
   "execution_count": null,
   "metadata": {},
   "outputs": [],
   "source": [
    "# Create a bar plot, only 2015 onward\n",
    "plt.figure(figsize=(8, 5))\n",
    "sns.barplot(x=\"Year\", y=\"Emissions\", data=y2y_emissions_melted_2015, estimator=sum, errorbar=None, color=\"#BB5566\")\n",
    "\n",
    "# Add a dotted line at mean removals\n",
    "plt.axhline(y=mean_seques, color='#004488', linestyle='dotted', linewidth=2)\n",
    "\n",
    "# Add a dotted line at mean emissions\n",
    "#plt.axhline(y=mean_emissions, color='#000000', linestyle='dotted', linewidth=2)\n",
    "\n",
    "# add a label for mean removals\n",
    "plt.text(x=7.3, y=mean_seques+2, s=\"Mean Annual Removals\", color='#004488', fontsize=10, ha='right')\n",
    "\n",
    "# add a label for mean emissions\n",
    "#plt.text(x=6.8, y=mean_emissions+2, s=\"Mean Annual Emissions\", color='#000000', fontsize=10, ha='right')\n",
    "\n",
    "# Customize plot\n",
    "plt.xlabel(\"Year\")\n",
    "plt.ylabel(\"Carbon Emissions (Million Tons)\")\n",
    "plt.title(\"Y2Y Annual Forest Carbon Emissions 2015-2023\")\n",
    "plt.xticks(rotation=45)\n",
    "plt.yticks([0, 20, 40, 60, 80, 100])\n",
    "plt.show()"
   ]
  }
 ],
 "metadata": {
  "kernelspec": {
   "display_name": ".venv",
   "language": "python",
   "name": "python3"
  },
  "language_info": {
   "codemirror_mode": {
    "name": "ipython",
    "version": 3
   },
   "file_extension": ".py",
   "mimetype": "text/x-python",
   "name": "python",
   "nbconvert_exporter": "python",
   "pygments_lexer": "ipython3",
   "version": "3.12.6"
  }
 },
 "nbformat": 4,
 "nbformat_minor": 2
}
