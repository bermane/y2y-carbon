{
 "cells": [
  {
   "cell_type": "markdown",
   "metadata": {},
   "source": [
    "## Load packages and initialize GEE"
   ]
  },
  {
   "cell_type": "code",
   "execution_count": 97,
   "metadata": {},
   "outputs": [
    {
     "data": {
      "text/html": [
       "\n",
       "            <style>\n",
       "                .geemap-dark {\n",
       "                    --jp-widgets-color: white;\n",
       "                    --jp-widgets-label-color: white;\n",
       "                    --jp-ui-font-color1: white;\n",
       "                    --jp-layout-color2: #454545;\n",
       "                    background-color: #383838;\n",
       "                }\n",
       "\n",
       "                .geemap-dark .jupyter-button {\n",
       "                    --jp-layout-color3: #383838;\n",
       "                }\n",
       "\n",
       "                .geemap-colab {\n",
       "                    background-color: var(--colab-primary-surface-color, white);\n",
       "                }\n",
       "\n",
       "                .geemap-colab .jupyter-button {\n",
       "                    --jp-layout-color3: var(--colab-primary-surface-color, white);\n",
       "                }\n",
       "            </style>\n",
       "            "
      ],
      "text/plain": [
       "<IPython.core.display.HTML object>"
      ]
     },
     "metadata": {},
     "output_type": "display_data"
    }
   ],
   "source": [
    "# import packages\n",
    "import ee\n",
    "import geemap\n",
    "\n",
    "import pandas as pd"
   ]
  },
  {
   "cell_type": "code",
   "execution_count": 98,
   "metadata": {},
   "outputs": [
    {
     "data": {
      "text/html": [
       "\n",
       "            <style>\n",
       "                .geemap-dark {\n",
       "                    --jp-widgets-color: white;\n",
       "                    --jp-widgets-label-color: white;\n",
       "                    --jp-ui-font-color1: white;\n",
       "                    --jp-layout-color2: #454545;\n",
       "                    background-color: #383838;\n",
       "                }\n",
       "\n",
       "                .geemap-dark .jupyter-button {\n",
       "                    --jp-layout-color3: #383838;\n",
       "                }\n",
       "\n",
       "                .geemap-colab {\n",
       "                    background-color: var(--colab-primary-surface-color, white);\n",
       "                }\n",
       "\n",
       "                .geemap-colab .jupyter-button {\n",
       "                    --jp-layout-color3: var(--colab-primary-surface-color, white);\n",
       "                }\n",
       "            </style>\n",
       "            "
      ],
      "text/plain": [
       "<IPython.core.display.HTML object>"
      ]
     },
     "metadata": {},
     "output_type": "display_data"
    }
   ],
   "source": [
    "# initialize the EE api\n",
    "ee.Initialize(project='ee-bermane')"
   ]
  },
  {
   "cell_type": "markdown",
   "metadata": {},
   "source": [
    "## Define GEE datasets"
   ]
  },
  {
   "cell_type": "code",
   "execution_count": 99,
   "metadata": {},
   "outputs": [
    {
     "data": {
      "text/html": [
       "\n",
       "            <style>\n",
       "                .geemap-dark {\n",
       "                    --jp-widgets-color: white;\n",
       "                    --jp-widgets-label-color: white;\n",
       "                    --jp-ui-font-color1: white;\n",
       "                    --jp-layout-color2: #454545;\n",
       "                    background-color: #383838;\n",
       "                }\n",
       "\n",
       "                .geemap-dark .jupyter-button {\n",
       "                    --jp-layout-color3: #383838;\n",
       "                }\n",
       "\n",
       "                .geemap-colab {\n",
       "                    background-color: var(--colab-primary-surface-color, white);\n",
       "                }\n",
       "\n",
       "                .geemap-colab .jupyter-button {\n",
       "                    --jp-layout-color3: var(--colab-primary-surface-color, white);\n",
       "                }\n",
       "            </style>\n",
       "            "
      ],
      "text/plain": [
       "<IPython.core.display.HTML object>"
      ]
     },
     "metadata": {},
     "output_type": "display_data"
    }
   ],
   "source": [
    "# define EE datasets\n",
    "agb = ee.ImageCollection(\"projects/sat-io/open-datasets/ESA/ESA_CCI_AGB\")\n",
    "y2y = ee.FeatureCollection(\"projects/ee-bermane/assets/y2y\")\n",
    "lc = ee.Image(\"USGS/NLCD_RELEASES/2020_REL/NALCMS\")\n",
    "rsr = ee.Image(\"projects/ee-bermane/assets/Root_shoot_ratio_Map_Merged\")\n",
    "spawn = ee.ImageCollection(\"NASA/ORNL/biomass_carbon_density/v1\")\n",
    "countries = ee.FeatureCollection(\"USDOS/LSIB/2017\")\n",
    "y2y_ecoregions = ee.FeatureCollection(\n",
    "    \"projects/ee-bermane/assets/y2y_ecoregions\")\n",
    "y2y_biomes = ee.FeatureCollection(\"projects/ee-bermane/assets/y2y_biomes\")\n",
    "y2y_protected_areas = ee.FeatureCollection(\n",
    "    \"projects/ee-bermane/assets/y2y_protected_areas\")\n",
    "soc_olm = ee.Image(\"projects/ee-bermane/assets/soc_0_1m_kg_m2_olm\")\n",
    "soc_soilgrids = ee.Image(\"projects/soilgrids-isric/ocs_mean\")\n",
    "soc_sothe = ee.Image(\n",
    "    \"projects/ee-bermane/assets/McMaster_WWFCanada_soil_carbon1m_250m_kg-m2_version3\")\n",
    "soc_socs = ee.Image(\"projects/ee-bermane/assets/SOCS_0_1m_mg_ha_year_2010\")"
   ]
  },
  {
   "cell_type": "markdown",
   "metadata": {},
   "source": [
    "## Define functions"
   ]
  },
  {
   "cell_type": "code",
   "execution_count": 110,
   "metadata": {},
   "outputs": [
    {
     "data": {
      "text/html": [
       "\n",
       "            <style>\n",
       "                .geemap-dark {\n",
       "                    --jp-widgets-color: white;\n",
       "                    --jp-widgets-label-color: white;\n",
       "                    --jp-ui-font-color1: white;\n",
       "                    --jp-layout-color2: #454545;\n",
       "                    background-color: #383838;\n",
       "                }\n",
       "\n",
       "                .geemap-dark .jupyter-button {\n",
       "                    --jp-layout-color3: #383838;\n",
       "                }\n",
       "\n",
       "                .geemap-colab {\n",
       "                    background-color: var(--colab-primary-surface-color, white);\n",
       "                }\n",
       "\n",
       "                .geemap-colab .jupyter-button {\n",
       "                    --jp-layout-color3: var(--colab-primary-surface-color, white);\n",
       "                }\n",
       "            </style>\n",
       "            "
      ],
      "text/plain": [
       "<IPython.core.display.HTML object>"
      ]
     },
     "metadata": {},
     "output_type": "display_data"
    }
   ],
   "source": [
    "# Define function to calculate zonal statistics\n",
    "# specify image to use and reducer type (sum(), mean())\n",
    "def calc_zonal_stats(feature, image_list, reducer_list):\n",
    "\n",
    "    # loop through image and reducer list\n",
    "    for image, reducer in zip(image_list, reducer_list):\n",
    "\n",
    "        # calculate zonal stats across features\n",
    "        stats = image.reduceRegion(\n",
    "            reducer=reducer,\n",
    "            geometry=feature.geometry(),\n",
    "            crs=image.select(0).projection(),\n",
    "            crsTransform=image.select(0).projection().getInfo().get('transform'),\n",
    "            maxPixels=1e30\n",
    "        )\n",
    "\n",
    "        # add zonal stats to feature properties\n",
    "        feature = feature.set(stats)\n",
    "\n",
    "    return feature\n",
    "\n",
    "# Define function to calculate feature area in km2\n",
    "\n",
    "# def calc_feature_area(feature):\n",
    "#     area_km2 = feature.geometry().area().divide(1e6)\n",
    "#     return feature.set({'area_km2_gee': area_km2})\n",
    "\n",
    "# define function to calculate additional carbon stock values\n",
    "# since pixel sizes vary instead of taking the mean of all density values from the rasters\n",
    "# we are calculating the total carbon and dividing it by the area in ha\n",
    "def calc_addl_stats(df):\n",
    "    # calc total biomass\n",
    "    df['tob_t'] = df['agb_t'] + df['bgb_t'] + df ['dpm_t']\n",
    "\n",
    "    # calc densities\n",
    "    df['agb_t_ha'] = df['agb_t'] / df['pixel_area_agb_extent_ha']\n",
    "    df['bgb_t_ha'] = df['bgb_t'] / df['pixel_area_agb_extent_ha']\n",
    "    df['dpm_t_ha'] = df['dpm_t'] / df['pixel_area_agb_extent_ha']\n",
    "    df['tob_t_ha'] = df['tob_t'] / df['pixel_area_agb_extent_ha']\n",
    "    df['soc_t_ha'] = df['soc_t'] / df['pixel_area_soc_extent_ha']\n",
    "\n",
    "    # calc % of storage\n",
    "    df['perc_tob'] = df['tob_t'] / df['tob_t'].sum()\n",
    "    df['perc_soc'] = df['soc_t'] / df['soc_t'].sum()\n",
    "\n",
    "    # calc % of area\n",
    "    df['perc_tob_extent'] = df['pixel_area_agb_extent_ha'] / df['pixel_area_agb_extent_ha'].sum()\n",
    "    df['perc_soc_extent'] = df['pixel_area_soc_extent_ha'] / df['pixel_area_soc_extent_ha'].sum()\n",
    "    df['perc_area'] = df['pixel_area_ha'] / df['pixel_area_ha'].sum()\n",
    "\n",
    "    # return df\n",
    "    return df"
   ]
  },
  {
   "cell_type": "markdown",
   "metadata": {},
   "source": [
    "## Calculate biomass stock from ESA CCI data"
   ]
  },
  {
   "cell_type": "code",
   "execution_count": 143,
   "metadata": {},
   "outputs": [
    {
     "data": {
      "text/html": [
       "\n",
       "            <style>\n",
       "                .geemap-dark {\n",
       "                    --jp-widgets-color: white;\n",
       "                    --jp-widgets-label-color: white;\n",
       "                    --jp-ui-font-color1: white;\n",
       "                    --jp-layout-color2: #454545;\n",
       "                    background-color: #383838;\n",
       "                }\n",
       "\n",
       "                .geemap-dark .jupyter-button {\n",
       "                    --jp-layout-color3: #383838;\n",
       "                }\n",
       "\n",
       "                .geemap-colab {\n",
       "                    background-color: var(--colab-primary-surface-color, white);\n",
       "                }\n",
       "\n",
       "                .geemap-colab .jupyter-button {\n",
       "                    --jp-layout-color3: var(--colab-primary-surface-color, white);\n",
       "                }\n",
       "            </style>\n",
       "            "
      ],
      "text/plain": [
       "<IPython.core.display.HTML object>"
      ]
     },
     "metadata": {},
     "output_type": "display_data"
    }
   ],
   "source": [
    "# calc 2021 ESA CCI biomass\n",
    "# grab the 2021 AGB images\n",
    "agb_2021 = agb.filter(ee.Filter.stringContains(\"system:index\", \"2021\")).first()\n",
    "\n",
    "# add BGB to 2021 image using global rsr map\n",
    "bio_2021 = agb_2021.addBands(agb_2021.select(['AGB']).multiply(rsr).rename('BGB'))\n",
    "\n",
    "# create image for DPM (dead wood + litter) using Harris ratio (8% + 4%)\n",
    "# mask DPM only for forested LC types\n",
    "# 1: \"#033e00\",  # Temperate or sub-polar needleleaf forest\n",
    "# 2: \"#939b71\",  # Sub-polar taiga needleleaf forest\n",
    "# 3: \"#196d12\",  # Tropical or sub-tropical broadleaf evergreen forest\n",
    "# 4: \"#1fab01\",  # Tropical or sub-tropical broadleaf deciduous forest\n",
    "# 5: \"#5b725c\",  # Temperate or sub-polar broadleaf deciduous forest\n",
    "# 6: \"#6b7d2c\",  # Mixed forest\n",
    "dpm_mask = lc.gte(1).And(lc.lte(6))\n",
    "\n",
    "dpm = agb_2021.select(['AGB']).multiply(0.12).updateMask(dpm_mask).rename('DPM')\n",
    "\n",
    "# add DPM to 2021 image and rename bands\n",
    "bio_2021 = bio_2021.addBands(dpm).select(['AGB', 'BGB', 'DPM']).rename(['agb_t_ha', 'bgb_t_ha', 'dpm_t_ha'])\n",
    "\n",
    "# multiply values by 0.47 to get carbon density\n",
    "# 0.47 used by Harris et al. (2021)\n",
    "bio_2021 = bio_2021.multiply(0.47).updateMask(lc.neq(18).And(lc.neq(19).And(lc.neq(16))))\n",
    "\n",
    "# compute per-pixel area in ha\n",
    "pixel_area_ha = ee.Image.pixelArea().divide(10000)\n",
    "\n",
    "# Create carbon layer mask to filter pixel area raster\n",
    "carbon_mask = bio_2021.select(['agb_t_ha']).mask().neq(0)\n",
    "\n",
    "# Mask pixel_area_ha to carbon layers\n",
    "pixel_area_agb_extent = pixel_area_ha.updateMask(carbon_mask)\n",
    "\n",
    "# calculate total biomass c per pixel and rename bands\n",
    "bio_stock_2021 = bio_2021.multiply(\n",
    "    pixel_area_ha\n",
    ").rename(\n",
    "    ['agb_t', 'bgb_t', 'dpm_t']\n",
    ").addBands(\n",
    "    pixel_area_agb_extent.rename(['pixel_area_agb_extent_ha'])\n",
    ").addBands(\n",
    "    pixel_area_ha.rename(['pixel_area_ha'])\n",
    ")"
   ]
  },
  {
   "cell_type": "markdown",
   "metadata": {},
   "source": [
    "## Calculate soil carbon from Sothe Canada data and Open Land Map US data"
   ]
  },
  {
   "cell_type": "code",
   "execution_count": 113,
   "metadata": {},
   "outputs": [
    {
     "data": {
      "text/html": [
       "\n",
       "            <style>\n",
       "                .geemap-dark {\n",
       "                    --jp-widgets-color: white;\n",
       "                    --jp-widgets-label-color: white;\n",
       "                    --jp-ui-font-color1: white;\n",
       "                    --jp-layout-color2: #454545;\n",
       "                    background-color: #383838;\n",
       "                }\n",
       "\n",
       "                .geemap-dark .jupyter-button {\n",
       "                    --jp-layout-color3: #383838;\n",
       "                }\n",
       "\n",
       "                .geemap-colab {\n",
       "                    background-color: var(--colab-primary-surface-color, white);\n",
       "                }\n",
       "\n",
       "                .geemap-colab .jupyter-button {\n",
       "                    --jp-layout-color3: var(--colab-primary-surface-color, white);\n",
       "                }\n",
       "            </style>\n",
       "            "
      ],
      "text/plain": [
       "<IPython.core.display.HTML object>"
      ]
     },
     "metadata": {},
     "output_type": "display_data"
    }
   ],
   "source": [
    "# calc open land map soc\n",
    "# multiply by 10 to get t/ha\n",
    "# mask water/snow/ice\n",
    "soc_olm = soc_olm.multiply(10).rename(\n",
    "    'soc_dens').updateMask(lc.neq(18).And(lc.neq(19)))\n",
    "\n",
    "# multiply by pixel area to get total carbon per pixel\n",
    "soc_olm_stock = soc_olm.multiply(pixel_area_ha).rename('total_olm_soc')\n",
    "\n",
    "# reproject to match sothe to blend images\n",
    "soc_olm_reproj_sothe = soc_olm.resample('bilinear').toFloat()"
   ]
  },
  {
   "cell_type": "code",
   "execution_count": 114,
   "metadata": {},
   "outputs": [
    {
     "data": {
      "text/html": [
       "\n",
       "            <style>\n",
       "                .geemap-dark {\n",
       "                    --jp-widgets-color: white;\n",
       "                    --jp-widgets-label-color: white;\n",
       "                    --jp-ui-font-color1: white;\n",
       "                    --jp-layout-color2: #454545;\n",
       "                    background-color: #383838;\n",
       "                }\n",
       "\n",
       "                .geemap-dark .jupyter-button {\n",
       "                    --jp-layout-color3: #383838;\n",
       "                }\n",
       "\n",
       "                .geemap-colab {\n",
       "                    background-color: var(--colab-primary-surface-color, white);\n",
       "                }\n",
       "\n",
       "                .geemap-colab .jupyter-button {\n",
       "                    --jp-layout-color3: var(--colab-primary-surface-color, white);\n",
       "                }\n",
       "            </style>\n",
       "            "
      ],
      "text/plain": [
       "<IPython.core.display.HTML object>"
      ]
     },
     "metadata": {},
     "output_type": "display_data"
    }
   ],
   "source": [
    "# calc sothe soc\n",
    "# multiply by 10 to get t/ha\n",
    "# mask water/snow/ice\n",
    "soc_sothe = soc_sothe.multiply(10).rename(\n",
    "    'soc_dens').updateMask(lc.neq(18).And(lc.neq(19)))\n",
    "\n",
    "# blend sothe and olm carbon across y2y\n",
    "soc_blend = ee.ImageCollection([soc_olm_reproj_sothe, soc_sothe]).mosaic().rename('soc_t_ha').reproject(\n",
    "    crs=soc_sothe.projection(),\n",
    "    crsTransform=soc_sothe.projection().getInfo().get('transform')\n",
    ").updateMask(lc.neq(18).And(lc.neq(19)))\n",
    "\n",
    "# Create soc layer mask to filter pixel area raster\n",
    "soc_mask = soc_blend.mask().neq(0)\n",
    "\n",
    "# Mask pixel_area_ha to carbon layers\n",
    "pixel_area_soc_extent = pixel_area_ha.updateMask(soc_mask)\n",
    "\n",
    "# multiply by pixel area to get total carbon per pixel\n",
    "soc_blend_stock = soc_blend.multiply(pixel_area_ha).rename('soc_t').addBands(\n",
    "    pixel_area_soc_extent.rename(['pixel_area_soc_extent_ha'])\n",
    ").addBands(\n",
    "    pixel_area_ha.rename(['pixel_area_ha'])\n",
    ")"
   ]
  },
  {
   "cell_type": "code",
   "execution_count": 115,
   "metadata": {},
   "outputs": [
    {
     "data": {
      "text/html": [
       "\n",
       "            <style>\n",
       "                .geemap-dark {\n",
       "                    --jp-widgets-color: white;\n",
       "                    --jp-widgets-label-color: white;\n",
       "                    --jp-ui-font-color1: white;\n",
       "                    --jp-layout-color2: #454545;\n",
       "                    background-color: #383838;\n",
       "                }\n",
       "\n",
       "                .geemap-dark .jupyter-button {\n",
       "                    --jp-layout-color3: #383838;\n",
       "                }\n",
       "\n",
       "                .geemap-colab {\n",
       "                    background-color: var(--colab-primary-surface-color, white);\n",
       "                }\n",
       "\n",
       "                .geemap-colab .jupyter-button {\n",
       "                    --jp-layout-color3: var(--colab-primary-surface-color, white);\n",
       "                }\n",
       "            </style>\n",
       "            "
      ],
      "text/plain": [
       "<IPython.core.display.HTML object>"
      ]
     },
     "metadata": {},
     "output_type": "display_data"
    }
   ],
   "source": [
    "# # create a map\n",
    "# m = geemap.Map()\n",
    "\n",
    "# # add layers\n",
    "# # m.addLayer(soc_blend, {\"min\": 1, \"max\": 450, \"palette\": biomass_palette}, \"SOC Density Blend 0-1m\")\n",
    "# m.addLayer(soc_blend.clip(y2y), {}, 'SOC Density')\n",
    "# m.addLayer(pixel_area_soc_extent.clip(y2y), {}, 'SOC Mask')\n",
    "\n",
    "# # Display the map\n",
    "# m"
   ]
  },
  {
   "cell_type": "code",
   "execution_count": 116,
   "metadata": {},
   "outputs": [
    {
     "data": {
      "text/html": [
       "\n",
       "            <style>\n",
       "                .geemap-dark {\n",
       "                    --jp-widgets-color: white;\n",
       "                    --jp-widgets-label-color: white;\n",
       "                    --jp-ui-font-color1: white;\n",
       "                    --jp-layout-color2: #454545;\n",
       "                    background-color: #383838;\n",
       "                }\n",
       "\n",
       "                .geemap-dark .jupyter-button {\n",
       "                    --jp-layout-color3: #383838;\n",
       "                }\n",
       "\n",
       "                .geemap-colab {\n",
       "                    background-color: var(--colab-primary-surface-color, white);\n",
       "                }\n",
       "\n",
       "                .geemap-colab .jupyter-button {\n",
       "                    --jp-layout-color3: var(--colab-primary-surface-color, white);\n",
       "                }\n",
       "            </style>\n",
       "            "
      ],
      "text/plain": [
       "<IPython.core.display.HTML object>"
      ]
     },
     "metadata": {},
     "output_type": "display_data"
    }
   ],
   "source": [
    "# # calc socs soc\n",
    "# # mask water/snow/ice\n",
    "# soc_socs = soc_socs.rename('soc_socs_t_ha').updateMask(\n",
    "#     lc.neq(18).And(lc.neq(19)))\n",
    "\n",
    "# # Create soc layer mask to filter pixel area raster\n",
    "# socs_mask = soc_socs.mask().neq(0)\n",
    "\n",
    "# # Mask pixel_area_ha to carbon layers\n",
    "# pixel_area_socs_extent = pixel_area_ha.updateMask(socs_mask)\n",
    "\n",
    "# # multiply by pixel area to get total carbon per pixel\n",
    "# soc_socs_stock = soc_socs.multiply(pixel_area_ha).rename('soc_socs_t').addBands(\n",
    "#     pixel_area_socs_extent.rename(['pixel_area_model_extent_ha'])\n",
    "# ).addBands(\n",
    "#     pixel_area_ha\n",
    "# )"
   ]
  },
  {
   "cell_type": "markdown",
   "metadata": {},
   "source": [
    "## Check scale of output layers"
   ]
  },
  {
   "cell_type": "code",
   "execution_count": 117,
   "metadata": {},
   "outputs": [
    {
     "data": {
      "text/html": [
       "\n",
       "            <style>\n",
       "                .geemap-dark {\n",
       "                    --jp-widgets-color: white;\n",
       "                    --jp-widgets-label-color: white;\n",
       "                    --jp-ui-font-color1: white;\n",
       "                    --jp-layout-color2: #454545;\n",
       "                    background-color: #383838;\n",
       "                }\n",
       "\n",
       "                .geemap-dark .jupyter-button {\n",
       "                    --jp-layout-color3: #383838;\n",
       "                }\n",
       "\n",
       "                .geemap-colab {\n",
       "                    background-color: var(--colab-primary-surface-color, white);\n",
       "                }\n",
       "\n",
       "                .geemap-colab .jupyter-button {\n",
       "                    --jp-layout-color3: var(--colab-primary-surface-color, white);\n",
       "                }\n",
       "            </style>\n",
       "            "
      ],
      "text/plain": [
       "<IPython.core.display.HTML object>"
      ]
     },
     "metadata": {},
     "output_type": "display_data"
    },
    {
     "name": "stdout",
     "output_type": "stream",
     "text": [
      "Biomass Carbon Density Scale:  98.95065848290943\n",
      "Biomass Carbon Total Scale:  98.95065848290943\n",
      "SOC Density Blend Scale:  250.00021298953834\n",
      "SOC Total Blend Scale:  250.00021298953834\n"
     ]
    }
   ],
   "source": [
    "# check scale of layers\n",
    "print('Biomass Carbon Density Scale: ',\n",
    "      bio_2021.projection().nominalScale().getInfo())\n",
    "print('Biomass Carbon Total Scale: ',\n",
    "      bio_stock_2021.select(['agb_t']).projection().nominalScale().getInfo())\n",
    "#print('SOC Density Sothe Scale: ', soc_sothe.projection().nominalScale().getInfo())\n",
    "print('SOC Density Blend Scale: ', soc_blend.select(['soc_t_ha']).projection().nominalScale().getInfo())\n",
    "print('SOC Total Blend Scale: ',\n",
    "      soc_blend_stock.select(['soc_t']).projection().nominalScale().getInfo())\n",
    "#print('SOC Density OLM Scale: ', soc_olm.projection().nominalScale().getInfo())"
   ]
  },
  {
   "cell_type": "markdown",
   "metadata": {},
   "source": [
    "## Compute zonal statistics and convert results to dataframe"
   ]
  },
  {
   "cell_type": "code",
   "execution_count": 118,
   "metadata": {},
   "outputs": [
    {
     "data": {
      "text/html": [
       "\n",
       "            <style>\n",
       "                .geemap-dark {\n",
       "                    --jp-widgets-color: white;\n",
       "                    --jp-widgets-label-color: white;\n",
       "                    --jp-ui-font-color1: white;\n",
       "                    --jp-layout-color2: #454545;\n",
       "                    background-color: #383838;\n",
       "                }\n",
       "\n",
       "                .geemap-dark .jupyter-button {\n",
       "                    --jp-layout-color3: #383838;\n",
       "                }\n",
       "\n",
       "                .geemap-colab {\n",
       "                    background-color: var(--colab-primary-surface-color, white);\n",
       "                }\n",
       "\n",
       "                .geemap-colab .jupyter-button {\n",
       "                    --jp-layout-color3: var(--colab-primary-surface-color, white);\n",
       "                }\n",
       "            </style>\n",
       "            "
      ],
      "text/plain": [
       "<IPython.core.display.HTML object>"
      ]
     },
     "metadata": {},
     "output_type": "display_data"
    }
   ],
   "source": [
    "# define image and reducer list for zonal stats\n",
    "img_list = [bio_stock_2021, soc_blend_stock]\n",
    "redu_list = [ee.Reducer.sum(), ee.Reducer.sum()]\n",
    "\n",
    "# define output folder for exports\n",
    "out_folder = './outputs/'\n",
    "\n",
    "# Compute zonal statistics across Y2Y region\n",
    "y2y_carbon = y2y.map(lambda feature: calc_zonal_stats(\n",
    "    feature, img_list, redu_list))\n",
    "\n",
    "# convert to df\n",
    "y2y_df = ee.data.computeFeatures({\n",
    "    'expression': y2y_carbon,\n",
    "    'fileFormat': 'PANDAS_DATAFRAME'\n",
    "})\n",
    "\n",
    "# add density values\n",
    "y2y_df = calc_addl_stats(y2y_df)\n",
    "\n",
    "# drop geometry and export as csv\n",
    "y2y_df.drop('geo', axis=1).to_csv(out_folder + 'y2y_carbon_stocks.csv', index=False)"
   ]
  },
  {
   "cell_type": "code",
   "execution_count": 119,
   "metadata": {},
   "outputs": [
    {
     "data": {
      "text/html": [
       "\n",
       "            <style>\n",
       "                .geemap-dark {\n",
       "                    --jp-widgets-color: white;\n",
       "                    --jp-widgets-label-color: white;\n",
       "                    --jp-ui-font-color1: white;\n",
       "                    --jp-layout-color2: #454545;\n",
       "                    background-color: #383838;\n",
       "                }\n",
       "\n",
       "                .geemap-dark .jupyter-button {\n",
       "                    --jp-layout-color3: #383838;\n",
       "                }\n",
       "\n",
       "                .geemap-colab {\n",
       "                    background-color: var(--colab-primary-surface-color, white);\n",
       "                }\n",
       "\n",
       "                .geemap-colab .jupyter-button {\n",
       "                    --jp-layout-color3: var(--colab-primary-surface-color, white);\n",
       "                }\n",
       "            </style>\n",
       "            "
      ],
      "text/plain": [
       "<IPython.core.display.HTML object>"
      ]
     },
     "metadata": {},
     "output_type": "display_data"
    }
   ],
   "source": [
    "# Compute zonal statistics across biomes\n",
    "biome_carbon = y2y_biomes.map(lambda feature: calc_zonal_stats(\n",
    "    feature, img_list, redu_list))\n",
    "\n",
    "# convert to df\n",
    "biome_df = ee.data.computeFeatures({\n",
    "    'expression': biome_carbon,\n",
    "    'fileFormat': 'PANDAS_DATAFRAME'\n",
    "})\n",
    "\n",
    "# add density values\n",
    "biome_df = calc_addl_stats(biome_df)\n",
    "\n",
    "# drop geometry and export as csv\n",
    "biome_df.drop('geo', axis=1).to_csv(out_folder + 'y2y_biome_carbon_stocks.csv', index=False)\n"
   ]
  },
  {
   "cell_type": "code",
   "execution_count": null,
   "metadata": {},
   "outputs": [],
   "source": [
    "# Compute zonal statistics across ecoregions\n",
    "eco_carbon = y2y_ecoregions.map(lambda feature: calc_zonal_stats(\n",
    "    feature, img_list, redu_list))\n",
    "\n",
    "# Compute zonal statistics across biomes\n",
    "biome_carbon = y2y_biomes.map(lambda feature: calc_zonal_stats(\n",
    "    feature, img_list, redu_list))\n",
    "\n",
    "# Compute zonal statistics across protected areas\n",
    "protected_areas_carbon = y2y_protected_areas.map(lambda feature: calc_zonal_stats(\n",
    "    feature, img_list, redu_list))\n",
    "\n",
    "# get canada and y2y geometry\n",
    "canada = ee.FeatureCollection(\"USDOS/LSIB/2017\").filter(ee.Filter.eq('COUNTRY_NA', 'Canada'))\n",
    "can_geo = canada.geometry()\n",
    "y2y_geo = y2y.geometry()\n",
    "\n",
    "# get intersection of geometries\n",
    "y2y_can_geo = y2y_geo.intersection(can_geo)\n",
    "\n",
    "# create feature collection\n",
    "y2y_can = ee.FeatureCollection(y2y_can_geo)\n",
    "\n",
    "# Compute zonal statistics across y2y in canada\n",
    "y2y_can_carbon = y2y.map(lambda feature: calc_zonal_stats(\n",
    "    feature, img_list, redu_list))\n",
    "\n",
    "# # Compute zonal statistics across Canada\n",
    "# canada = countries.filter(ee.Filter.eq('COUNTRY_NA', 'Canada'))\n",
    "# # img_list_can = [bio_stock_2021, bio_2021, soc_blend, soc_socs]\n",
    "# # redu_list_can = [ee.Reducer.sum(), ee.Reducer.mean(), ee.Reducer.sum(),ee.Reducer.mean(), ee.Reducer.mean(), ee.Reducer.mean()]\n",
    "# img_list_can = [bio_stock_2021]\n",
    "# redu_list_can = [ee.Reducer.sum()]\n",
    "# canada_carbon = canada.map(lambda feature"
   ]
  },
  {
   "cell_type": "code",
   "execution_count": 15,
   "metadata": {},
   "outputs": [
    {
     "data": {
      "text/html": [
       "\n",
       "            <style>\n",
       "                .geemap-dark {\n",
       "                    --jp-widgets-color: white;\n",
       "                    --jp-widgets-label-color: white;\n",
       "                    --jp-ui-font-color1: white;\n",
       "                    --jp-layout-color2: #454545;\n",
       "                    background-color: #383838;\n",
       "                }\n",
       "\n",
       "                .geemap-dark .jupyter-button {\n",
       "                    --jp-layout-color3: #383838;\n",
       "                }\n",
       "\n",
       "                .geemap-colab {\n",
       "                    background-color: var(--colab-primary-surface-color, white);\n",
       "                }\n",
       "\n",
       "                .geemap-colab .jupyter-button {\n",
       "                    --jp-layout-color3: var(--colab-primary-surface-color, white);\n",
       "                }\n",
       "            </style>\n",
       "            "
      ],
      "text/plain": [
       "<IPython.core.display.HTML object>"
      ]
     },
     "metadata": {},
     "output_type": "display_data"
    }
   ],
   "source": [
    "# export results to google drive\n",
    "ee.batch.Export.table.toDrive(\n",
    "    collection=y2y_carbon,\n",
    "    description=\"y2y_carbon_stock\",\n",
    "    folder=\"carbon_stock_outputs\",\n",
    "    fileFormat=\"CSV\"\n",
    ").start()\n",
    "\n",
    "# ee.batch.Export.table.toDrive(\n",
    "#     collection=eco_carbon,\n",
    "#     description=\"y2y_ecoregions_carbon_stock\",\n",
    "#     folder=\"carbon_stock_outputs\",\n",
    "#     fileFormat=\"CSV\"\n",
    "# ).start()\n",
    "\n",
    "# ee.batch.Export.table.toDrive(\n",
    "#     collection=biome_carbon,\n",
    "#     description=\"y2y_biomes_carbon_stock\",\n",
    "#     folder=\"carbon_stock_outputs\",\n",
    "#     fileFormat=\"CSV\"\n",
    "# ).start()\n",
    "\n",
    "# ee.batch.Export.table.toDrive(\n",
    "#     collection=protected_areas_carbon,\n",
    "#     description=\"y2y_protected_areas_carbon_stock\",\n",
    "#     folder=\"carbon_stock_outputs\",\n",
    "#     fileFormat=\"CSV\"\n",
    "# ).start()\n",
    "\n",
    "# ee.batch.Export.table.toDrive(\n",
    "#     collection=y2y_can_carbon,\n",
    "#     description=\"y2y_canada_carbon_stock\",\n",
    "#     folder=\"carbon_stock_outputs\",\n",
    "#     fileFormat=\"CSV\"\n",
    "# ).start()\n",
    "\n",
    "# ee.batch.Export.table.toDrive(\n",
    "#     collection=canada_carbon,\n",
    "#     description=\"canada_carbon_stock\",\n",
    "#     folder=\"carbon_stock_outputs\",\n",
    "#     fileFormat=\"CSV\"\n",
    "# ).start()"
   ]
  },
  {
   "cell_type": "markdown",
   "metadata": {},
   "source": [
    "## Add layers to map"
   ]
  },
  {
   "cell_type": "code",
   "execution_count": 127,
   "metadata": {},
   "outputs": [
    {
     "data": {
      "text/html": [
       "\n",
       "            <style>\n",
       "                .geemap-dark {\n",
       "                    --jp-widgets-color: white;\n",
       "                    --jp-widgets-label-color: white;\n",
       "                    --jp-ui-font-color1: white;\n",
       "                    --jp-layout-color2: #454545;\n",
       "                    background-color: #383838;\n",
       "                }\n",
       "\n",
       "                .geemap-dark .jupyter-button {\n",
       "                    --jp-layout-color3: #383838;\n",
       "                }\n",
       "\n",
       "                .geemap-colab {\n",
       "                    background-color: var(--colab-primary-surface-color, white);\n",
       "                }\n",
       "\n",
       "                .geemap-colab .jupyter-button {\n",
       "                    --jp-layout-color3: var(--colab-primary-surface-color, white);\n",
       "                }\n",
       "            </style>\n",
       "            "
      ],
      "text/plain": [
       "<IPython.core.display.HTML object>"
      ]
     },
     "metadata": {},
     "output_type": "display_data"
    }
   ],
   "source": [
    "# set biomass palette\n",
    "biomass_palette = [\n",
    "    \"#C6ECAE\", \"#A1D490\", \"#7CB970\", \"#57A751\", \"#348E32\",\n",
    "    \"#267A29\", \"#176520\", \"#0C4E15\", \"#07320D\", \"#031807\"\n",
    "]\n",
    "\n",
    "# set land cover palette\n",
    "lc_palette = [\n",
    "    \"#033e00\",  # Temperate or sub-polar needleleaf forest\n",
    "    \"#939b71\",  # Sub-polar taiga needleleaf forest\n",
    "    \"#196d12\",  # Tropical or sub-tropical broadleaf evergreen forest\n",
    "    \"#1fab01\",  # Tropical or sub-tropical broadleaf deciduous forest\n",
    "    \"#5b725c\",  # Temperate or sub-polar broadleaf deciduous forest\n",
    "    \"#6b7d2c\",  # Mixed forest\n",
    "    \"#b29d29\",  # Tropical or sub-tropical shrubland\n",
    "    \"#b48833\",  # Temperate or sub-polar shrubland\n",
    "    \"#e9da5d\",  # Tropical or sub-tropical grassland\n",
    "    \"#e0cd88\",  # Temperate or sub-polar grassland\n",
    "    \"#a07451\",  # Sub-polar or polar shrubland-lichen-moss\n",
    "    \"#bad292\",  # Sub-polar or polar grassland-lichen-moss\n",
    "    \"#3f8970\",  # Sub-polar or polar barren-lichen-moss\n",
    "    \"#6ca289\",  # Wetland\n",
    "    \"#e6ad6a\",  # Cropland\n",
    "    \"#a9abae\",  # Barren land\n",
    "    \"#db2126\",  # Urban and built-up\n",
    "    \"#4c73a1\",  # Water\n",
    "    \"#fff7fe\",  # Snow and ice\n",
    "]"
   ]
  },
  {
   "cell_type": "code",
   "execution_count": 139,
   "metadata": {},
   "outputs": [
    {
     "data": {
      "text/html": [
       "\n",
       "            <style>\n",
       "                .geemap-dark {\n",
       "                    --jp-widgets-color: white;\n",
       "                    --jp-widgets-label-color: white;\n",
       "                    --jp-ui-font-color1: white;\n",
       "                    --jp-layout-color2: #454545;\n",
       "                    background-color: #383838;\n",
       "                }\n",
       "\n",
       "                .geemap-dark .jupyter-button {\n",
       "                    --jp-layout-color3: #383838;\n",
       "                }\n",
       "\n",
       "                .geemap-colab {\n",
       "                    background-color: var(--colab-primary-surface-color, white);\n",
       "                }\n",
       "\n",
       "                .geemap-colab .jupyter-button {\n",
       "                    --jp-layout-color3: var(--colab-primary-surface-color, white);\n",
       "                }\n",
       "            </style>\n",
       "            "
      ],
      "text/plain": [
       "<IPython.core.display.HTML object>"
      ]
     },
     "metadata": {},
     "output_type": "display_data"
    },
    {
     "data": {
      "text/html": [
       "<div><style>:root {\n",
       "  --font-color-primary: var(--jp-content-font-color0, rgba(0, 0, 0, 1));\n",
       "  --font-color-secondary: var(--jp-content-font-color2, rgba(0, 0, 0, 0.6));\n",
       "  --font-color-accent: rgba(123, 31, 162, 1);\n",
       "  --border-color: var(--jp-border-color2, #e0e0e0);\n",
       "  --background-color: var(--jp-layout-color0, white);\n",
       "  --background-color-row-even: var(--jp-layout-color1, white);\n",
       "  --background-color-row-odd: var(--jp-layout-color2, #eeeeee);\n",
       "}\n",
       "\n",
       "html[theme=\"dark\"],\n",
       "body[data-theme=\"dark\"],\n",
       "body.vscode-dark {\n",
       "  --font-color-primary: rgba(255, 255, 255, 1);\n",
       "  --font-color-secondary: rgba(255, 255, 255, 0.6);\n",
       "  --font-color-accent: rgb(173, 132, 190);\n",
       "  --border-color: #2e2e2e;\n",
       "  --background-color: #111111;\n",
       "  --background-color-row-even: #111111;\n",
       "  --background-color-row-odd: #313131;\n",
       "}\n",
       "\n",
       ".ee {\n",
       "  padding: 1em;\n",
       "  line-height: 1.5em;\n",
       "  min-width: 300px;\n",
       "  max-width: 1200px;\n",
       "  overflow-y: scroll;\n",
       "  max-height: 600px;\n",
       "  border: 1px solid var(--border-color);\n",
       "  font-family: monospace;\n",
       "}\n",
       "\n",
       ".ee li {\n",
       "  list-style-type: none;\n",
       "}\n",
       "\n",
       ".ee ul {\n",
       "  padding-left: 1.5em !important;\n",
       "  margin: 0;\n",
       "}\n",
       "\n",
       ".ee > ul {\n",
       "  padding-left: 0 !important;\n",
       "}\n",
       "\n",
       ".ee-open,\n",
       ".ee-shut {\n",
       "  color: var(--font-color-secondary);\n",
       "  cursor: pointer;\n",
       "  margin: 0;\n",
       "}\n",
       "\n",
       ".ee-open:hover,\n",
       ".ee-shut:hover {\n",
       "  color: var(--font-color-primary);\n",
       "}\n",
       "\n",
       ".ee-k {\n",
       "  color: var(--font-color-accent);\n",
       "  margin-right: 6px;\n",
       "}\n",
       "\n",
       ".ee-v {\n",
       "  color: var(--font-color-primary);\n",
       "}\n",
       "\n",
       ".ee-toggle {\n",
       "  display: none;\n",
       "}\n",
       "\n",
       ".ee-shut + ul {\n",
       "  display: none;\n",
       "}\n",
       "\n",
       ".ee-open + ul {\n",
       "  display: block;\n",
       "}\n",
       "\n",
       ".ee-shut::before {\n",
       "  display: inline-block;\n",
       "  content: \"▼\";\n",
       "  margin-right: 6px;\n",
       "  transform: rotate(-90deg);\n",
       "  transition: transform 0.2s;\n",
       "}\n",
       "\n",
       ".ee-open::before {\n",
       "  transform: rotate(0deg);\n",
       "  display: inline-block;\n",
       "  content: \"▼\";\n",
       "  margin-right: 6px;\n",
       "  transition: transform 0.2s;\n",
       "}\n",
       "</style><div class='ee'><ul><li><label class='ee-shut'>ImageCollection NASA/ORNL/biomass_carbon_density/v1  (1 element)<input type='checkbox' class='ee-toggle'></label><ul><li><span class='ee-k'>type:</span><span class='ee-v'>ImageCollection</span></li><li><span class='ee-k'>id:</span><span class='ee-v'>NASA/ORNL/biomass_carbon_density/v1</span></li><li><span class='ee-k'>version:</span><span class='ee-v'>1732024451477375</span></li><li><label class='ee-shut'>bands: []<input type='checkbox' class='ee-toggle'></label><ul></ul></li><li><label class='ee-shut'>properties: Object (20 properties)<input type='checkbox' class='ee-toggle'></label><ul><li><label class='ee-shut'>date_range: [1262304000000, 1293753600000]<input type='checkbox' class='ee-toggle'></label><ul><li><span class='ee-k'>0:</span><span class='ee-v'>1262304000000</span></li><li><span class='ee-k'>1:</span><span class='ee-v'>1293753600000</span></li></ul></li><li><span class='ee-k'>description:</span><span class='ee-v'><p>This dataset provides temporally consistent and harmonized global maps of aboveground and\n",
       "belowground biomass carbon density for the year 2010 at a 300-m spatial resolution. The\n",
       "aboveground biomass map integrates land-cover specific, remotely sensed maps of woody,\n",
       "grassland, cropland, and tundra biomass. Input maps were amassed from the published literature\n",
       "and, where necessary, updated to cover the focal extent or time period. The belowground biomass\n",
       "map similarly integrates matching maps derived from each aboveground biomass map and land-cover\n",
       "specific empirical models. Aboveground and belowground maps were then integrated separately\n",
       "using ancillary maps of percent tree cover and landcover and a rule-based decision tree. Maps\n",
       "reporting the accumulated uncertainty of pixel-level estimates are also provided.</p><p><b>Provider: <a href=\"https://doi.org/10.3334/ORNLDAAC/1763\">NASA ORNL DAAC at Oak Ridge National Laboratory</a></b><br><p><b>Resolution</b><br>300 meters\n",
       "</p><p><b>Cadence</b><br>\n",
       "  1 year\n",
       "</p><p><b>Bands</b><table class=\"eecat\"><tr><th scope=\"col\">Name</th><th scope=\"col\">Description</th></tr><tr><td>agb</td><td><p>Aboveground living biomass carbon stock density of combined woody and herbaceous\n",
       "cover in 2010. This includes carbon stored in living plant tissues that are located above\n",
       "the earth’s surface (stems, bark, branches, twigs). This does not include leaf litter or\n",
       "coarse woody debris that were once attached to living plants but have since been deposited\n",
       "and are no longer living.</p></td></tr><tr><td>agb_uncertainty</td><td><p>Uncertainty of estimated aboveground living biomass carbon density of combined\n",
       "woody and herbaceous cover in 2010. Uncertainty represents the cumulative standard error\n",
       "that has been propagated through the harmonization process using summation in quadrature.</p></td></tr><tr><td>bgb</td><td><p>Belowground living biomass carbon stock density of combined woody and herbaceous\n",
       "cover in 2010. This includes carbon stored in living plant tissues that are located below\n",
       "the earth’s surface (roots). This does not include dead and/or dislocated root tissue, nor\n",
       "does it include soil organic matter.</p></td></tr><tr><td>bgb_uncertainty</td><td><p>Uncertainty of estimated belowground living biomass carbon density of combined\n",
       "woody and herbaceous cover in 2010. Uncertainty represents the cumulative standard error\n",
       "that has been propagated through the harmonization process using summation in quadrature.</p></td></tr></table><p><sup>Provider&#39;s note: The <a href=\"https://data-gis.unep-wcmc.org/portal/home/item.html?id=2444626e38a04573b3a52904f2a050d9\">WCMC carbon biomass dataset</a>\n",
       "represents conditions between 1982 and 2010 depending on land cover type. The relative patterns\n",
       "of carbon stocks are well represented with this dataset. The <a href=\"https://daac.ornl.gov/VEGETATION/guides/Global_Maps_C_Density_2010.html\">NASA/ORNL carbon biomass dataset</a>\n",
       "represents biomass conditions for 2010, with uncertainty estimates at the pixel-level.\n",
       "Additional biomass of non-dominant land cover types are represented within each pixel. For more\n",
       "detailed information, please refer to the papers describing each dataset: <a href=\"WCMC_biomass_carbon_density_v1_0\">WCMC</a><a href=\"https://royalsocietypublishing.org/doi/full/10.1098/rstb.2019.0128\">(Soto-Navarro et al. 2020)</a>\n",
       "and NASA/ORNL <a href=\"https://www.nature.com/articles/s41597-020-0444-4\">(Spawn et al. 2020)</a>.</sup><p><b>Terms of Use</b><br><p>This dataset is in the public domain and is available\n",
       "without restriction on use and distribution. See <a href=\"https://science.nasa.gov/earth-science/earth-science-data/data-information-policy\">NASA&#39;s\n",
       "Earth Science Data &amp; Information Policy</a>\n",
       "for additional information.</p><br><b>Dataset's DOI(s)</b><ul><li><p><a href=\"https://doi.org/10.3334/ORNLDAAC/1763\">https://doi.org/10.3334/ORNLDAAC/1763</a></li></ul><p><b>Suggested citation(s)</b><ul><li><p><a href=\"https://doi.org/10.1038/s41597-020-0444-4\">Spawn, S.A., Sullivan, C.C., Lark, T.J. et al. Harmonized global maps of above and\n",
       "belowground biomass carbon density in the year 2010. Sci Data 7, 112 (2020).\n",
       "https://doi.org/10.1038/s41597-020-0444-4</a></p></li><li><p>Spawn, S.A., and H.K. Gibbs. 2020. Global Aboveground and Belowground\n",
       "Biomass Carbon Density Maps for the Year 2010. ORNL DAAC, Oak Ridge, Tennessee, USA.</p></li></ul><style>\n",
       "  table.eecat {\n",
       "  border: 1px solid black;\n",
       "  border-collapse: collapse;\n",
       "  font-size: 13px;\n",
       "  }\n",
       "  table.eecat td, tr, th {\n",
       "  text-align: left; vertical-align: top;\n",
       "  border: 1px solid gray; padding: 3px;\n",
       "  }\n",
       "  td.nobreak { white-space: nowrap; }\n",
       "</style></span></li><li><label class='ee-shut'>keywords: List (9 elements)<input type='checkbox' class='ee-toggle'></label><ul><li><span class='ee-k'>0:</span><span class='ee-v'>aboveground</span></li><li><span class='ee-k'>1:</span><span class='ee-v'>belowground</span></li><li><span class='ee-k'>2:</span><span class='ee-v'>biomass</span></li><li><span class='ee-k'>3:</span><span class='ee-v'>carbon</span></li><li><span class='ee-k'>4:</span><span class='ee-v'>density</span></li><li><span class='ee-k'>5:</span><span class='ee-v'>forests</span></li><li><span class='ee-k'>6:</span><span class='ee-v'>nasa</span></li><li><span class='ee-k'>7:</span><span class='ee-v'>ornl</span></li><li><span class='ee-k'>8:</span><span class='ee-v'>vegetation</span></li></ul></li><li><span class='ee-k'>max_mirrored_version:</span><span class='ee-v'>1731971703556367</span></li><li><span class='ee-k'>period:</span><span class='ee-v'>365</span></li><li><label class='ee-shut'>period_mapping: ['2010-01-01T00:00:00Z', '2010-12-31T00:00:00Z']<input type='checkbox' class='ee-toggle'></label><ul><li><span class='ee-k'>0:</span><span class='ee-v'>2010-01-01T00:00:00Z</span></li><li><span class='ee-k'>1:</span><span class='ee-v'>2010-12-31T00:00:00Z</span></li></ul></li><li><label class='ee-shut'>product_tags: List (7 elements)<input type='checkbox' class='ee-toggle'></label><ul><li><span class='ee-k'>0:</span><span class='ee-v'>biomass</span></li><li><span class='ee-k'>1:</span><span class='ee-v'>carbon</span></li><li><span class='ee-k'>2:</span><span class='ee-v'>density</span></li><li><span class='ee-k'>3:</span><span class='ee-v'>vegetation</span></li><li><span class='ee-k'>4:</span><span class='ee-v'>forests</span></li><li><span class='ee-k'>5:</span><span class='ee-v'>aboveground</span></li><li><span class='ee-k'>6:</span><span class='ee-v'>belowground</span></li></ul></li><li><span class='ee-k'>provider:</span><span class='ee-v'>NASA ORNL DAAC at Oak Ridge National Laboratory</span></li><li><span class='ee-k'>provider_url:</span><span class='ee-v'>https://doi.org/10.3334/ORNLDAAC/1763</span></li><li><span class='ee-k'>sample:</span><span class='ee-v'>https://mw1.google.com/ges/dd/images/NASA_ORNL_biomass_carbon_density_v1_sample.png</span></li><li><label class='ee-shut'>source_tags: ['nasa', 'ornl']<input type='checkbox' class='ee-toggle'></label><ul><li><span class='ee-k'>0:</span><span class='ee-v'>nasa</span></li><li><span class='ee-k'>1:</span><span class='ee-v'>ornl</span></li></ul></li><li><label class='ee-shut'>tags: List (9 elements)<input type='checkbox' class='ee-toggle'></label><ul><li><span class='ee-k'>0:</span><span class='ee-v'>aboveground</span></li><li><span class='ee-k'>1:</span><span class='ee-v'>belowground</span></li><li><span class='ee-k'>2:</span><span class='ee-v'>biomass</span></li><li><span class='ee-k'>3:</span><span class='ee-v'>carbon</span></li><li><span class='ee-k'>4:</span><span class='ee-v'>density</span></li><li><span class='ee-k'>5:</span><span class='ee-v'>forests</span></li><li><span class='ee-k'>6:</span><span class='ee-v'>nasa</span></li><li><span class='ee-k'>7:</span><span class='ee-v'>ornl</span></li><li><span class='ee-k'>8:</span><span class='ee-v'>vegetation</span></li></ul></li><li><span class='ee-k'>thumb:</span><span class='ee-v'>https://mw1.google.com/ges/dd/images/NASA_ORNL_biomass_carbon_density_v1_thumb.png</span></li><li><span class='ee-k'>title:</span><span class='ee-v'>Global Aboveground and Belowground Biomass Carbon Density Maps</span></li><li><span class='ee-k'>type_name:</span><span class='ee-v'>ImageCollection</span></li><li><span class='ee-k'>visualization_0_bands:</span><span class='ee-v'>agb</span></li><li><span class='ee-k'>visualization_0_max:</span><span class='ee-v'>80.0</span></li><li><span class='ee-k'>visualization_0_min:</span><span class='ee-v'>-50.0</span></li><li><span class='ee-k'>visualization_0_name:</span><span class='ee-v'>Aboveground biomass carbon</span></li><li><span class='ee-k'>visualization_0_palette:</span><span class='ee-v'>d9f0a3,addd8e,78c679,41ab5d,238443,005a32</span></li></ul></li><li><label class='ee-shut'>features: List (1 element)<input type='checkbox' class='ee-toggle'></label><ul><li><label class='ee-shut'>0: Image NASA/ORNL/biomass_carbon_density/v1/2010 (4 bands)<input type='checkbox' class='ee-toggle'></label><ul><li><span class='ee-k'>type:</span><span class='ee-v'>Image</span></li><li><span class='ee-k'>id:</span><span class='ee-v'>NASA/ORNL/biomass_carbon_density/v1/2010</span></li><li><span class='ee-k'>version:</span><span class='ee-v'>1594761247408801</span></li><li><label class='ee-shut'>bands: List (4 elements)<input type='checkbox' class='ee-toggle'></label><ul><li><label class='ee-shut'>0: \"agb\", float, EPSG:4326, 129600x64800 px<input type='checkbox' class='ee-toggle'></label><ul><li><span class='ee-k'>id:</span><span class='ee-v'>agb</span></li><li><span class='ee-k'>crs:</span><span class='ee-v'>EPSG:4326</span></li><li><label class='ee-shut'>crs_transform: List (6 elements)<input type='checkbox' class='ee-toggle'></label><ul><li><span class='ee-k'>0:</span><span class='ee-v'>0.002777777777777778</span></li><li><span class='ee-k'>1:</span><span class='ee-v'>0</span></li><li><span class='ee-k'>2:</span><span class='ee-v'>-180</span></li><li><span class='ee-k'>3:</span><span class='ee-v'>0</span></li><li><span class='ee-k'>4:</span><span class='ee-v'>-0.002777777777777778</span></li><li><span class='ee-k'>5:</span><span class='ee-v'>90</span></li></ul></li><li><label class='ee-shut'>data_type: float<input type='checkbox' class='ee-toggle'></label><ul><li><span class='ee-k'>type:</span><span class='ee-v'>PixelType</span></li><li><span class='ee-k'>precision:</span><span class='ee-v'>float</span></li></ul></li><li><label class='ee-shut'>dimensions: [129600, 64800]<input type='checkbox' class='ee-toggle'></label><ul><li><span class='ee-k'>0:</span><span class='ee-v'>129600</span></li><li><span class='ee-k'>1:</span><span class='ee-v'>64800</span></li></ul></li></ul></li><li><label class='ee-shut'>1: \"agb_uncertainty\", float, EPSG:4326, 129600x64800 px<input type='checkbox' class='ee-toggle'></label><ul><li><span class='ee-k'>id:</span><span class='ee-v'>agb_uncertainty</span></li><li><span class='ee-k'>crs:</span><span class='ee-v'>EPSG:4326</span></li><li><label class='ee-shut'>crs_transform: List (6 elements)<input type='checkbox' class='ee-toggle'></label><ul><li><span class='ee-k'>0:</span><span class='ee-v'>0.002777777777777778</span></li><li><span class='ee-k'>1:</span><span class='ee-v'>0</span></li><li><span class='ee-k'>2:</span><span class='ee-v'>-180</span></li><li><span class='ee-k'>3:</span><span class='ee-v'>0</span></li><li><span class='ee-k'>4:</span><span class='ee-v'>-0.002777777777777778</span></li><li><span class='ee-k'>5:</span><span class='ee-v'>90</span></li></ul></li><li><label class='ee-shut'>data_type: float<input type='checkbox' class='ee-toggle'></label><ul><li><span class='ee-k'>type:</span><span class='ee-v'>PixelType</span></li><li><span class='ee-k'>precision:</span><span class='ee-v'>float</span></li></ul></li><li><label class='ee-shut'>dimensions: [129600, 64800]<input type='checkbox' class='ee-toggle'></label><ul><li><span class='ee-k'>0:</span><span class='ee-v'>129600</span></li><li><span class='ee-k'>1:</span><span class='ee-v'>64800</span></li></ul></li></ul></li><li><label class='ee-shut'>2: \"bgb\", float, EPSG:4326, 129600x64800 px<input type='checkbox' class='ee-toggle'></label><ul><li><span class='ee-k'>id:</span><span class='ee-v'>bgb</span></li><li><span class='ee-k'>crs:</span><span class='ee-v'>EPSG:4326</span></li><li><label class='ee-shut'>crs_transform: List (6 elements)<input type='checkbox' class='ee-toggle'></label><ul><li><span class='ee-k'>0:</span><span class='ee-v'>0.002777777777777778</span></li><li><span class='ee-k'>1:</span><span class='ee-v'>0</span></li><li><span class='ee-k'>2:</span><span class='ee-v'>-180</span></li><li><span class='ee-k'>3:</span><span class='ee-v'>0</span></li><li><span class='ee-k'>4:</span><span class='ee-v'>-0.002777777777777778</span></li><li><span class='ee-k'>5:</span><span class='ee-v'>90</span></li></ul></li><li><label class='ee-shut'>data_type: float<input type='checkbox' class='ee-toggle'></label><ul><li><span class='ee-k'>type:</span><span class='ee-v'>PixelType</span></li><li><span class='ee-k'>precision:</span><span class='ee-v'>float</span></li></ul></li><li><label class='ee-shut'>dimensions: [129600, 64800]<input type='checkbox' class='ee-toggle'></label><ul><li><span class='ee-k'>0:</span><span class='ee-v'>129600</span></li><li><span class='ee-k'>1:</span><span class='ee-v'>64800</span></li></ul></li></ul></li><li><label class='ee-shut'>3: \"bgb_uncertainty\", float, EPSG:4326, 129600x64800 px<input type='checkbox' class='ee-toggle'></label><ul><li><span class='ee-k'>id:</span><span class='ee-v'>bgb_uncertainty</span></li><li><span class='ee-k'>crs:</span><span class='ee-v'>EPSG:4326</span></li><li><label class='ee-shut'>crs_transform: List (6 elements)<input type='checkbox' class='ee-toggle'></label><ul><li><span class='ee-k'>0:</span><span class='ee-v'>0.002777777777777778</span></li><li><span class='ee-k'>1:</span><span class='ee-v'>0</span></li><li><span class='ee-k'>2:</span><span class='ee-v'>-180</span></li><li><span class='ee-k'>3:</span><span class='ee-v'>0</span></li><li><span class='ee-k'>4:</span><span class='ee-v'>-0.002777777777777778</span></li><li><span class='ee-k'>5:</span><span class='ee-v'>90</span></li></ul></li><li><label class='ee-shut'>data_type: float<input type='checkbox' class='ee-toggle'></label><ul><li><span class='ee-k'>type:</span><span class='ee-v'>PixelType</span></li><li><span class='ee-k'>precision:</span><span class='ee-v'>float</span></li></ul></li><li><label class='ee-shut'>dimensions: [129600, 64800]<input type='checkbox' class='ee-toggle'></label><ul><li><span class='ee-k'>0:</span><span class='ee-v'>129600</span></li><li><span class='ee-k'>1:</span><span class='ee-v'>64800</span></li></ul></li></ul></li></ul></li><li><label class='ee-shut'>properties: Object (3 properties)<input type='checkbox' class='ee-toggle'></label><ul><li><span class='ee-k'>system:asset_size:</span><span class='ee-v'>21951251143</span></li><li><label class='ee-shut'>system:footprint: LinearRing (5 vertices)<input type='checkbox' class='ee-toggle'></label><ul><li><span class='ee-k'>type:</span><span class='ee-v'>LinearRing</span></li><li><label class='ee-shut'>coordinates: List (5 elements)<input type='checkbox' class='ee-toggle'></label><ul><li><label class='ee-shut'>0: [-180, -90]<input type='checkbox' class='ee-toggle'></label><ul><li><span class='ee-k'>0:</span><span class='ee-v'>-180</span></li><li><span class='ee-k'>1:</span><span class='ee-v'>-90</span></li></ul></li><li><label class='ee-shut'>1: [180, -90]<input type='checkbox' class='ee-toggle'></label><ul><li><span class='ee-k'>0:</span><span class='ee-v'>180</span></li><li><span class='ee-k'>1:</span><span class='ee-v'>-90</span></li></ul></li><li><label class='ee-shut'>2: [180, 90]<input type='checkbox' class='ee-toggle'></label><ul><li><span class='ee-k'>0:</span><span class='ee-v'>180</span></li><li><span class='ee-k'>1:</span><span class='ee-v'>90</span></li></ul></li><li><label class='ee-shut'>3: [-180, 90]<input type='checkbox' class='ee-toggle'></label><ul><li><span class='ee-k'>0:</span><span class='ee-v'>-180</span></li><li><span class='ee-k'>1:</span><span class='ee-v'>90</span></li></ul></li><li><label class='ee-shut'>4: [-180, -90]<input type='checkbox' class='ee-toggle'></label><ul><li><span class='ee-k'>0:</span><span class='ee-v'>-180</span></li><li><span class='ee-k'>1:</span><span class='ee-v'>-90</span></li></ul></li></ul></li></ul></li><li><span class='ee-k'>system:index:</span><span class='ee-v'>2010</span></li></ul></li></ul></li></ul></li></ul></li></ul></div><script>function toggleHeader() {\n",
       "    const parent = this.parentElement;\n",
       "    parent.className = parent.className === \"ee-open\" ? \"ee-shut\" : \"ee-open\";\n",
       "}\n",
       "\n",
       "for (let c of document.getElementsByClassName(\"ee-toggle\")) {\n",
       "    c.onclick = toggleHeader;\n",
       "}</script></div>"
      ],
      "text/plain": [
       "<ee.imagecollection.ImageCollection at 0x1192a98e0>"
      ]
     },
     "execution_count": 139,
     "metadata": {},
     "output_type": "execute_result"
    }
   ],
   "source": [
    "spawn"
   ]
  },
  {
   "cell_type": "code",
   "execution_count": 144,
   "metadata": {},
   "outputs": [
    {
     "data": {
      "text/html": [
       "\n",
       "            <style>\n",
       "                .geemap-dark {\n",
       "                    --jp-widgets-color: white;\n",
       "                    --jp-widgets-label-color: white;\n",
       "                    --jp-ui-font-color1: white;\n",
       "                    --jp-layout-color2: #454545;\n",
       "                    background-color: #383838;\n",
       "                }\n",
       "\n",
       "                .geemap-dark .jupyter-button {\n",
       "                    --jp-layout-color3: #383838;\n",
       "                }\n",
       "\n",
       "                .geemap-colab {\n",
       "                    background-color: var(--colab-primary-surface-color, white);\n",
       "                }\n",
       "\n",
       "                .geemap-colab .jupyter-button {\n",
       "                    --jp-layout-color3: var(--colab-primary-surface-color, white);\n",
       "                }\n",
       "            </style>\n",
       "            "
      ],
      "text/plain": [
       "<IPython.core.display.HTML object>"
      ]
     },
     "metadata": {},
     "output_type": "display_data"
    },
    {
     "data": {
      "application/vnd.jupyter.widget-view+json": {
       "model_id": "c7df320b23b749258a4d2b6192eb49d9",
       "version_major": 2,
       "version_minor": 0
      },
      "text/plain": [
       "Map(center=[0, 0], controls=(WidgetControl(options=['position', 'transparent_bg'], widget=SearchDataGUI(childr…"
      ]
     },
     "execution_count": 144,
     "metadata": {},
     "output_type": "execute_result"
    }
   ],
   "source": [
    "# create a map\n",
    "m = geemap.Map()\n",
    "\n",
    "# add layers\n",
    "# m.addLayer(soc_blend, {\"min\": 1, \"max\": 450, \"palette\": biomass_palette}, \"SOC Density Blend 0-1m\")\n",
    "# m.addLayer(rsr, {}, 'Root-to-Shoot Ratio Global')\n",
    "m.addLayer(bio_2021.select(['agb_t_ha']).clip(y2y), {\"min\": 1, \"max\": 100, \"palette\": biomass_palette}, 'CCI AGB Density')\n",
    "m.addLayer(spawn.first().select(['agb']).updateMask(spawn.first().select(['agb']).neq(0)), {\"min\": 1, \"max\": 100, \"palette\": biomass_palette}, 'Spawn AGB Density')\n",
    "# m.addLayer(bio_2021.select(['dpm_t_ha']).clip(y2y), {\"min\": 1, \"max\": 60, \"palette\": biomass_palette}, 'DPM Density')\n",
    "m.addLayer(pixel_area_agb_extent.clip(y2y), {}, 'Carbon Mask')\n",
    "m.addLayer(lc.clip(y2y), {\"min\": 1, \"max\": 19, \"palette\": lc_palette}, 'Landcover')\n",
    "\n",
    "# Display the map\n",
    "m"
   ]
  },
  {
   "cell_type": "code",
   "execution_count": null,
   "metadata": {},
   "outputs": [],
   "source": []
  }
 ],
 "metadata": {
  "kernelspec": {
   "display_name": ".venv",
   "language": "python",
   "name": "python3"
  },
  "language_info": {
   "codemirror_mode": {
    "name": "ipython",
    "version": 3
   },
   "file_extension": ".py",
   "mimetype": "text/x-python",
   "name": "python",
   "nbconvert_exporter": "python",
   "pygments_lexer": "ipython3",
   "version": "3.12.6"
  }
 },
 "nbformat": 4,
 "nbformat_minor": 2
}
