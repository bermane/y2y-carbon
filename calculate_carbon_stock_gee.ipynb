{
 "cells": [
  {
   "cell_type": "code",
   "execution_count": 17,
   "metadata": {},
   "outputs": [
    {
     "data": {
      "text/html": [
       "\n",
       "            <style>\n",
       "                .geemap-dark {\n",
       "                    --jp-widgets-color: white;\n",
       "                    --jp-widgets-label-color: white;\n",
       "                    --jp-ui-font-color1: white;\n",
       "                    --jp-layout-color2: #454545;\n",
       "                    background-color: #383838;\n",
       "                }\n",
       "\n",
       "                .geemap-dark .jupyter-button {\n",
       "                    --jp-layout-color3: #383838;\n",
       "                }\n",
       "\n",
       "                .geemap-colab {\n",
       "                    background-color: var(--colab-primary-surface-color, white);\n",
       "                }\n",
       "\n",
       "                .geemap-colab .jupyter-button {\n",
       "                    --jp-layout-color3: var(--colab-primary-surface-color, white);\n",
       "                }\n",
       "            </style>\n",
       "            "
      ],
      "text/plain": [
       "<IPython.core.display.HTML object>"
      ]
     },
     "metadata": {},
     "output_type": "display_data"
    }
   ],
   "source": [
    "# import packages\n",
    "import ee\n",
    "import geemap\n",
    "\n",
    "import pandas as pd"
   ]
  },
  {
   "cell_type": "code",
   "execution_count": 18,
   "metadata": {},
   "outputs": [
    {
     "data": {
      "text/html": [
       "\n",
       "            <style>\n",
       "                .geemap-dark {\n",
       "                    --jp-widgets-color: white;\n",
       "                    --jp-widgets-label-color: white;\n",
       "                    --jp-ui-font-color1: white;\n",
       "                    --jp-layout-color2: #454545;\n",
       "                    background-color: #383838;\n",
       "                }\n",
       "\n",
       "                .geemap-dark .jupyter-button {\n",
       "                    --jp-layout-color3: #383838;\n",
       "                }\n",
       "\n",
       "                .geemap-colab {\n",
       "                    background-color: var(--colab-primary-surface-color, white);\n",
       "                }\n",
       "\n",
       "                .geemap-colab .jupyter-button {\n",
       "                    --jp-layout-color3: var(--colab-primary-surface-color, white);\n",
       "                }\n",
       "            </style>\n",
       "            "
      ],
      "text/plain": [
       "<IPython.core.display.HTML object>"
      ]
     },
     "metadata": {},
     "output_type": "display_data"
    }
   ],
   "source": [
    "# initialize the EE api\n",
    "ee.Initialize()"
   ]
  },
  {
   "cell_type": "code",
   "execution_count": null,
   "metadata": {},
   "outputs": [
    {
     "data": {
      "text/html": [
       "\n",
       "            <style>\n",
       "                .geemap-dark {\n",
       "                    --jp-widgets-color: white;\n",
       "                    --jp-widgets-label-color: white;\n",
       "                    --jp-ui-font-color1: white;\n",
       "                    --jp-layout-color2: #454545;\n",
       "                    background-color: #383838;\n",
       "                }\n",
       "\n",
       "                .geemap-dark .jupyter-button {\n",
       "                    --jp-layout-color3: #383838;\n",
       "                }\n",
       "\n",
       "                .geemap-colab {\n",
       "                    background-color: var(--colab-primary-surface-color, white);\n",
       "                }\n",
       "\n",
       "                .geemap-colab .jupyter-button {\n",
       "                    --jp-layout-color3: var(--colab-primary-surface-color, white);\n",
       "                }\n",
       "            </style>\n",
       "            "
      ],
      "text/plain": [
       "<IPython.core.display.HTML object>"
      ]
     },
     "metadata": {},
     "output_type": "display_data"
    }
   ],
   "source": [
    "# define EE datasets\n",
    "agb = ee.ImageCollection(\"projects/sat-io/open-datasets/ESA/ESA_CCI_AGB\")\n",
    "y2y = ee.FeatureCollection(\"projects/ee-bermane/assets/y2y\")\n",
    "lc = ee.Image(\"USGS/NLCD_RELEASES/2020_REL/NALCMS\")\n",
    "rsr = ee.Image(\"projects/ee-bermane/assets/Root_shoot_ratio_Map_Merged\")\n",
    "spawn = ee.ImageCollection(\"NASA/ORNL/biomass_carbon_density/v1\")\n",
    "countries = ee.FeatureCollection(\"UN/Geodata/BNDA_simplified/current\")\n",
    "y2y_ecoregions = ee.FeatureCollection(\"projects/ee-bermane/assets/y2y_ecoregions\")\n",
    "y2y_biomes = ee.FeatureCollection(\"projects/ee-bermane/assets/y2y_biomes\")\n",
    "soc_olm = ee.Image(\"projects/ee-bermane/assets/soc_0_1m_kg_m2_olm\")\n",
    "soc_soilgrids = ee.Image(\"projects/soilgrids-isric/ocs_mean\")\n",
    "soc_sothe = ee.Image(\"projects/ee-bermane/assets/McMaster_WWFCanada_soil_carbon1m_250m_kg-m2_version3\")\n",
    "soc_socs = ee.Image(\"projects/ee-bermane/assets/SOCS_0_1m_mg_ha_year_2010\")"
   ]
  },
  {
   "cell_type": "code",
   "execution_count": 20,
   "metadata": {},
   "outputs": [
    {
     "data": {
      "text/html": [
       "\n",
       "            <style>\n",
       "                .geemap-dark {\n",
       "                    --jp-widgets-color: white;\n",
       "                    --jp-widgets-label-color: white;\n",
       "                    --jp-ui-font-color1: white;\n",
       "                    --jp-layout-color2: #454545;\n",
       "                    background-color: #383838;\n",
       "                }\n",
       "\n",
       "                .geemap-dark .jupyter-button {\n",
       "                    --jp-layout-color3: #383838;\n",
       "                }\n",
       "\n",
       "                .geemap-colab {\n",
       "                    background-color: var(--colab-primary-surface-color, white);\n",
       "                }\n",
       "\n",
       "                .geemap-colab .jupyter-button {\n",
       "                    --jp-layout-color3: var(--colab-primary-surface-color, white);\n",
       "                }\n",
       "            </style>\n",
       "            "
      ],
      "text/plain": [
       "<IPython.core.display.HTML object>"
      ]
     },
     "metadata": {},
     "output_type": "display_data"
    }
   ],
   "source": [
    "# Define function to calculate zonal statistics\n",
    "# specify image to use and reducer type (sum(), mean())\n",
    "def calc_zonal_stats(feature, image_list, reducer_list):\n",
    "\n",
    "    # loop through image and reducer list\n",
    "    for image, reducer in zip(image_list, reducer_list):\n",
    "\n",
    "        # calculate zonal stats across features\n",
    "        stats = image.reduceRegion(\n",
    "            reducer=reducer,\n",
    "            geometry=feature.geometry(),\n",
    "            crs=image.projection(),\n",
    "            crsTransform=image.projection().getInfo().get('transform'),\n",
    "            maxPixels=1e15\n",
    "        )\n",
    "\n",
    "        # add zonal stats to feature properties\n",
    "        feature = feature.set(stats)\n",
    "    return feature\n",
    "\n",
    "# Define function to calculate feature area in km2\n",
    "def calc_feature_area(feature):\n",
    "    area_km2 = feature.geometry().area().divide(1e6)\n",
    "    return feature.set({'area_km2_gee': area_km2})\n",
    "\n",
    "# Define function to convert FeatureCollection to DataFrame\n",
    "def fc_to_df(fc):\n",
    "    \"\"\"Extracts properties from FeatureCollection and converts to Pandas DataFrame.\"\"\"\n",
    "    features = fc.toList(fc.size()).getInfo()  # Convert to list\n",
    "    data = [feature[\"properties\"] for feature in features]  # Extract properties\n",
    "    return pd.DataFrame(data)"
   ]
  },
  {
   "cell_type": "code",
   "execution_count": 21,
   "metadata": {},
   "outputs": [
    {
     "data": {
      "text/html": [
       "\n",
       "            <style>\n",
       "                .geemap-dark {\n",
       "                    --jp-widgets-color: white;\n",
       "                    --jp-widgets-label-color: white;\n",
       "                    --jp-ui-font-color1: white;\n",
       "                    --jp-layout-color2: #454545;\n",
       "                    background-color: #383838;\n",
       "                }\n",
       "\n",
       "                .geemap-dark .jupyter-button {\n",
       "                    --jp-layout-color3: #383838;\n",
       "                }\n",
       "\n",
       "                .geemap-colab {\n",
       "                    background-color: var(--colab-primary-surface-color, white);\n",
       "                }\n",
       "\n",
       "                .geemap-colab .jupyter-button {\n",
       "                    --jp-layout-color3: var(--colab-primary-surface-color, white);\n",
       "                }\n",
       "            </style>\n",
       "            "
      ],
      "text/plain": [
       "<IPython.core.display.HTML object>"
      ]
     },
     "metadata": {},
     "output_type": "display_data"
    }
   ],
   "source": [
    "# calc 2020 ESA CCI biomass\n",
    "# grab the 2020 AGB images\n",
    "agb_2020 = agb.filter(ee.Filter.stringContains(\"system:index\", \"2020\")).first()\n",
    "\n",
    "# add BGB to 2020 image using global rsr map\n",
    "bio_2020 = agb_2020.addBands(agb_2020.select(['AGB']).multiply(rsr).rename('BGB')).select(['AGB', 'BGB'])\n",
    "\n",
    "# add total carbon to 2020 image\n",
    "bio_2020 = bio_2020.addBands(bio_2020.select(['AGB']).add(bio_2020.select(['BGB'])).rename('total_c'))\n",
    "\n",
    "# rename bands\n",
    "bio_2020 = bio_2020.rename(['agb_dens', 'bgb_dens', 'total_dens'])\n",
    "\n",
    "# multiply values by 0.5 to get carbon density\n",
    "bio_2020 = bio_2020.multiply(0.5).updateMask(lc.neq(18).And(lc.neq(19)))\n",
    "\n",
    "# compute per-pixel area in ha\n",
    "pixel_area_ha = ee.Image.pixelArea().divide(10000)\n",
    "\n",
    "# calculate total biomass c per pixel and rename bands\n",
    "bio_stock_2020 = bio_2020.multiply(pixel_area_ha).rename(['agb_c', 'bgb_c', 'total_c'])"
   ]
  },
  {
   "cell_type": "code",
   "execution_count": 22,
   "metadata": {},
   "outputs": [
    {
     "data": {
      "text/html": [
       "\n",
       "            <style>\n",
       "                .geemap-dark {\n",
       "                    --jp-widgets-color: white;\n",
       "                    --jp-widgets-label-color: white;\n",
       "                    --jp-ui-font-color1: white;\n",
       "                    --jp-layout-color2: #454545;\n",
       "                    background-color: #383838;\n",
       "                }\n",
       "\n",
       "                .geemap-dark .jupyter-button {\n",
       "                    --jp-layout-color3: #383838;\n",
       "                }\n",
       "\n",
       "                .geemap-colab {\n",
       "                    background-color: var(--colab-primary-surface-color, white);\n",
       "                }\n",
       "\n",
       "                .geemap-colab .jupyter-button {\n",
       "                    --jp-layout-color3: var(--colab-primary-surface-color, white);\n",
       "                }\n",
       "            </style>\n",
       "            "
      ],
      "text/plain": [
       "<IPython.core.display.HTML object>"
      ]
     },
     "metadata": {},
     "output_type": "display_data"
    }
   ],
   "source": [
    "# calc open land map soc\n",
    "# multiply by 10 to get t/ha\n",
    "# mask water/snow/ice\n",
    "soc_olm = soc_olm.multiply(10).rename('soc_dens').updateMask(lc.neq(18).And(lc.neq(19)))\n",
    "\n",
    "# multiply by pixel area to get total carbon per pixel\n",
    "soc_olm_stock = soc_olm.multiply(pixel_area_ha).rename('total_olm_soc')\n",
    "\n",
    "# reproject to match sothe to blend images\n",
    "soc_olm_reproj_sothe = soc_olm.resample('bilinear').toFloat()"
   ]
  },
  {
   "cell_type": "code",
   "execution_count": 23,
   "metadata": {},
   "outputs": [
    {
     "data": {
      "text/html": [
       "\n",
       "            <style>\n",
       "                .geemap-dark {\n",
       "                    --jp-widgets-color: white;\n",
       "                    --jp-widgets-label-color: white;\n",
       "                    --jp-ui-font-color1: white;\n",
       "                    --jp-layout-color2: #454545;\n",
       "                    background-color: #383838;\n",
       "                }\n",
       "\n",
       "                .geemap-dark .jupyter-button {\n",
       "                    --jp-layout-color3: #383838;\n",
       "                }\n",
       "\n",
       "                .geemap-colab {\n",
       "                    background-color: var(--colab-primary-surface-color, white);\n",
       "                }\n",
       "\n",
       "                .geemap-colab .jupyter-button {\n",
       "                    --jp-layout-color3: var(--colab-primary-surface-color, white);\n",
       "                }\n",
       "            </style>\n",
       "            "
      ],
      "text/plain": [
       "<IPython.core.display.HTML object>"
      ]
     },
     "metadata": {},
     "output_type": "display_data"
    }
   ],
   "source": [
    "# calc sothe soc\n",
    "# multiply by 10 to get t/ha\n",
    "# mask water/snow/ice\n",
    "soc_sothe = soc_sothe.multiply(10).rename('soc_dens').updateMask(lc.neq(18).And(lc.neq(19)))\n",
    "\n",
    "# blend sothe and olm carbon across y2y\n",
    "soc_blend = ee.ImageCollection([soc_olm_reproj_sothe, soc_sothe]).mosaic().rename('soc_blend_dens').reproject(\n",
    "    crs=soc_sothe.projection(),\n",
    "    crsTransform=soc_sothe.projection().getInfo().get('transform')\n",
    ").updateMask(lc.neq(18).And(lc.neq(19)))\n",
    "\n",
    "# multiply by pixel area to get total carbon per pixel\n",
    "soc_blend_stock = soc_blend.multiply(pixel_area_ha).rename('total_blend_soc')"
   ]
  },
  {
   "cell_type": "code",
   "execution_count": 24,
   "metadata": {},
   "outputs": [
    {
     "data": {
      "text/html": [
       "\n",
       "            <style>\n",
       "                .geemap-dark {\n",
       "                    --jp-widgets-color: white;\n",
       "                    --jp-widgets-label-color: white;\n",
       "                    --jp-ui-font-color1: white;\n",
       "                    --jp-layout-color2: #454545;\n",
       "                    background-color: #383838;\n",
       "                }\n",
       "\n",
       "                .geemap-dark .jupyter-button {\n",
       "                    --jp-layout-color3: #383838;\n",
       "                }\n",
       "\n",
       "                .geemap-colab {\n",
       "                    background-color: var(--colab-primary-surface-color, white);\n",
       "                }\n",
       "\n",
       "                .geemap-colab .jupyter-button {\n",
       "                    --jp-layout-color3: var(--colab-primary-surface-color, white);\n",
       "                }\n",
       "            </style>\n",
       "            "
      ],
      "text/plain": [
       "<IPython.core.display.HTML object>"
      ]
     },
     "metadata": {},
     "output_type": "display_data"
    }
   ],
   "source": [
    "# calc socs soc\n",
    "# mask water/snow/ice\n",
    "soc_socs = soc_socs.rename('soc_socs_dens').updateMask(lc.neq(18).And(lc.neq(19)))\n",
    "\n",
    "# multiply by pixel area to get total carbon per pixel\n",
    "soc_socs_stock = soc_socs.multiply(pixel_area_ha).rename('total_soc_socs')"
   ]
  },
  {
   "cell_type": "code",
   "execution_count": 25,
   "metadata": {},
   "outputs": [
    {
     "data": {
      "text/html": [
       "\n",
       "            <style>\n",
       "                .geemap-dark {\n",
       "                    --jp-widgets-color: white;\n",
       "                    --jp-widgets-label-color: white;\n",
       "                    --jp-ui-font-color1: white;\n",
       "                    --jp-layout-color2: #454545;\n",
       "                    background-color: #383838;\n",
       "                }\n",
       "\n",
       "                .geemap-dark .jupyter-button {\n",
       "                    --jp-layout-color3: #383838;\n",
       "                }\n",
       "\n",
       "                .geemap-colab {\n",
       "                    background-color: var(--colab-primary-surface-color, white);\n",
       "                }\n",
       "\n",
       "                .geemap-colab .jupyter-button {\n",
       "                    --jp-layout-color3: var(--colab-primary-surface-color, white);\n",
       "                }\n",
       "            </style>\n",
       "            "
      ],
      "text/plain": [
       "<IPython.core.display.HTML object>"
      ]
     },
     "metadata": {},
     "output_type": "display_data"
    },
    {
     "name": "stdout",
     "output_type": "stream",
     "text": [
      "Biomass Carbon Density Scale:  98.95065848290943\n",
      "Biomass Carbon Total Scale:  98.95065848290943\n",
      "SOC Density Sothe Scale:  250.00021298953834\n",
      "SOC Density Blend Scale:  250.00021298953834\n",
      "SOC Total Blend Scale:  250.00021298953834\n",
      "SOC Density OLM Scale:  231.91556871282307\n"
     ]
    }
   ],
   "source": [
    "# check scale of layers\n",
    "print('Biomass Carbon Density Scale: ', bio_2020.projection().nominalScale().getInfo())\n",
    "print('Biomass Carbon Total Scale: ', bio_stock_2020.projection().nominalScale().getInfo())\n",
    "print('SOC Density Sothe Scale: ', soc_sothe.projection().nominalScale().getInfo())\n",
    "print('SOC Density Blend Scale: ', soc_blend.projection().nominalScale().getInfo())\n",
    "print('SOC Total Blend Scale: ', soc_blend_stock.projection().nominalScale().getInfo())\n",
    "print('SOC Density OLM Scale: ', soc_olm.projection().nominalScale().getInfo())"
   ]
  },
  {
   "cell_type": "markdown",
   "metadata": {},
   "source": [
    "## Compute zonal statistics and convert results to dataframe"
   ]
  },
  {
   "cell_type": "code",
   "execution_count": 29,
   "metadata": {},
   "outputs": [
    {
     "data": {
      "text/html": [
       "\n",
       "            <style>\n",
       "                .geemap-dark {\n",
       "                    --jp-widgets-color: white;\n",
       "                    --jp-widgets-label-color: white;\n",
       "                    --jp-ui-font-color1: white;\n",
       "                    --jp-layout-color2: #454545;\n",
       "                    background-color: #383838;\n",
       "                }\n",
       "\n",
       "                .geemap-dark .jupyter-button {\n",
       "                    --jp-layout-color3: #383838;\n",
       "                }\n",
       "\n",
       "                .geemap-colab {\n",
       "                    background-color: var(--colab-primary-surface-color, white);\n",
       "                }\n",
       "\n",
       "                .geemap-colab .jupyter-button {\n",
       "                    --jp-layout-color3: var(--colab-primary-surface-color, white);\n",
       "                }\n",
       "            </style>\n",
       "            "
      ],
      "text/plain": [
       "<IPython.core.display.HTML object>"
      ]
     },
     "metadata": {},
     "output_type": "display_data"
    }
   ],
   "source": [
    "# define image and reducer list for zonal stats\n",
    "img_list = [bio_stock_2020, bio_2020, soc_blend_stock, soc_blend, soc_socs_stock, soc_socs]\n",
    "redu_list = [ee.Reducer.sum(), ee.Reducer.mean(), ee.Reducer.sum(), ee.Reducer.mean(), ee.Reducer.sum(), ee.Reducer.mean()]\n",
    "\n",
    "# Compute zonal statistics across Y2Y region\n",
    "y2y_carbon = y2y.map(lambda feature: calc_zonal_stats(feature, img_list, redu_list)).map(calc_feature_area)\n",
    "\n",
    "# Compute zonal statistics across ecoregions\n",
    "eco_carbon = y2y_ecoregions.map(lambda feature: calc_zonal_stats(feature, img_list, redu_list)).map(calc_feature_area)\n",
    "\n",
    "# Compute zonal statistics across biomes\n",
    "biome_carbon = y2y_biomes.map(lambda feature: calc_zonal_stats(feature, img_list, redu_list)).map(calc_feature_area)\n",
    "\n",
    "# Compute zonal statistics across Canada\n",
    "canada = countries.filter(ee.Filter.eq('lbl_en', 'CANADA'))\n",
    "img_list_can = [bio_2020, soc_blend, soc_socs]\n",
    "redu_list_can = [ee.Reducer.mean(), ee.Reducer.mean(), ee.Reducer.mean()]\n",
    "canada_carbon = canada.map(lambda feature: calc_zonal_stats(feature, img_list_can, redu_list_can)).map(calc_feature_area)"
   ]
  },
  {
   "cell_type": "code",
   "execution_count": 32,
   "metadata": {},
   "outputs": [
    {
     "data": {
      "text/html": [
       "\n",
       "            <style>\n",
       "                .geemap-dark {\n",
       "                    --jp-widgets-color: white;\n",
       "                    --jp-widgets-label-color: white;\n",
       "                    --jp-ui-font-color1: white;\n",
       "                    --jp-layout-color2: #454545;\n",
       "                    background-color: #383838;\n",
       "                }\n",
       "\n",
       "                .geemap-dark .jupyter-button {\n",
       "                    --jp-layout-color3: #383838;\n",
       "                }\n",
       "\n",
       "                .geemap-colab {\n",
       "                    background-color: var(--colab-primary-surface-color, white);\n",
       "                }\n",
       "\n",
       "                .geemap-colab .jupyter-button {\n",
       "                    --jp-layout-color3: var(--colab-primary-surface-color, white);\n",
       "                }\n",
       "            </style>\n",
       "            "
      ],
      "text/plain": [
       "<IPython.core.display.HTML object>"
      ]
     },
     "metadata": {},
     "output_type": "display_data"
    }
   ],
   "source": [
    "# export results to google drive\n",
    "ee.batch.Export.table.toDrive(\n",
    "    collection=y2y_carbon,\n",
    "    description=\"y2y_carbon_stock\",\n",
    "    folder=\"carbon_stock_outputs\",\n",
    "    fileFormat=\"CSV\"\n",
    ").start()\n",
    "\n",
    "ee.batch.Export.table.toDrive(\n",
    "    collection=eco_carbon,\n",
    "    description=\"y2y_ecoregions_carbon_stock\",\n",
    "    folder=\"carbon_stock_outputs\",\n",
    "    fileFormat=\"CSV\"\n",
    ").start()\n",
    "\n",
    "ee.batch.Export.table.toDrive(\n",
    "    collection=biome_carbon,\n",
    "    description=\"y2y_biomes_carbon_stock\",\n",
    "    folder=\"carbon_stock_outputs\",\n",
    "    fileFormat=\"CSV\"\n",
    ").start()\n",
    "\n",
    "ee.batch.Export.table.toDrive(\n",
    "    collection=canada_carbon,\n",
    "    description=\"canada_carbon_stock\",\n",
    "    folder=\"carbon_stock_outputs\",\n",
    "    fileFormat=\"CSV\"\n",
    ").start()"
   ]
  },
  {
   "cell_type": "markdown",
   "metadata": {},
   "source": [
    "## Add layers to map"
   ]
  },
  {
   "cell_type": "code",
   "execution_count": 27,
   "metadata": {},
   "outputs": [
    {
     "data": {
      "text/html": [
       "\n",
       "            <style>\n",
       "                .geemap-dark {\n",
       "                    --jp-widgets-color: white;\n",
       "                    --jp-widgets-label-color: white;\n",
       "                    --jp-ui-font-color1: white;\n",
       "                    --jp-layout-color2: #454545;\n",
       "                    background-color: #383838;\n",
       "                }\n",
       "\n",
       "                .geemap-dark .jupyter-button {\n",
       "                    --jp-layout-color3: #383838;\n",
       "                }\n",
       "\n",
       "                .geemap-colab {\n",
       "                    background-color: var(--colab-primary-surface-color, white);\n",
       "                }\n",
       "\n",
       "                .geemap-colab .jupyter-button {\n",
       "                    --jp-layout-color3: var(--colab-primary-surface-color, white);\n",
       "                }\n",
       "            </style>\n",
       "            "
      ],
      "text/plain": [
       "<IPython.core.display.HTML object>"
      ]
     },
     "metadata": {},
     "output_type": "display_data"
    }
   ],
   "source": [
    "# set biomass palette\n",
    "biomass_palette = [\n",
    "    \"#C6ECAE\", \"#A1D490\", \"#7CB970\", \"#57A751\", \"#348E32\",\n",
    "    \"#267A29\", \"#176520\", \"#0C4E15\", \"#07320D\", \"#031807\"\n",
    "]\n",
    "\n",
    "# set land cover palette\n",
    "lc_palette = {\n",
    "    1: \"#033e00\",  # Temperate or sub-polar needleleaf forest\n",
    "    2: \"#939b71\",  # Sub-polar taiga needleleaf forest\n",
    "    3: \"#196d12\",  # Tropical or sub-tropical broadleaf evergreen forest\n",
    "    4: \"#1fab01\",  # Tropical or sub-tropical broadleaf deciduous forest\n",
    "    5: \"#5b725c\",  # Temperate or sub-polar broadleaf deciduous forest\n",
    "    6: \"#6b7d2c\",  # Mixed forest\n",
    "    7: \"#b29d29\",  # Tropical or sub-tropical shrubland\n",
    "    8: \"#b48833\",  # Temperate or sub-polar shrubland\n",
    "    9: \"#e9da5d\",  # Tropical or sub-tropical grassland\n",
    "    10: \"#e0cd88\",  # Temperate or sub-polar grassland\n",
    "    11: \"#a07451\",  # Sub-polar or polar shrubland-lichen-moss\n",
    "    12: \"#bad292\",  # Sub-polar or polar grassland-lichen-moss\n",
    "    13: \"#3f8970\",  # Sub-polar or polar barren-lichen-moss\n",
    "    14: \"#6ca289\",  # Wetland\n",
    "    15: \"#e6ad6a\",  # Cropland\n",
    "    16: \"#a9abae\",  # Barren land\n",
    "    17: \"#db2126\",  # Urban and built-up\n",
    "    18: \"#4c73a1\",  # Water\n",
    "    19: \"#fff7fe\",  # Snow and ice\n",
    "}"
   ]
  },
  {
   "cell_type": "code",
   "execution_count": 28,
   "metadata": {},
   "outputs": [
    {
     "data": {
      "text/html": [
       "\n",
       "            <style>\n",
       "                .geemap-dark {\n",
       "                    --jp-widgets-color: white;\n",
       "                    --jp-widgets-label-color: white;\n",
       "                    --jp-ui-font-color1: white;\n",
       "                    --jp-layout-color2: #454545;\n",
       "                    background-color: #383838;\n",
       "                }\n",
       "\n",
       "                .geemap-dark .jupyter-button {\n",
       "                    --jp-layout-color3: #383838;\n",
       "                }\n",
       "\n",
       "                .geemap-colab {\n",
       "                    background-color: var(--colab-primary-surface-color, white);\n",
       "                }\n",
       "\n",
       "                .geemap-colab .jupyter-button {\n",
       "                    --jp-layout-color3: var(--colab-primary-surface-color, white);\n",
       "                }\n",
       "            </style>\n",
       "            "
      ],
      "text/plain": [
       "<IPython.core.display.HTML object>"
      ]
     },
     "metadata": {},
     "output_type": "display_data"
    },
    {
     "data": {
      "application/vnd.jupyter.widget-view+json": {
       "model_id": "8c2d8f2be8dd4d02a0e152a39fd8570b",
       "version_major": 2,
       "version_minor": 0
      },
      "text/plain": [
       "Map(center=[0, 0], controls=(WidgetControl(options=['position', 'transparent_bg'], widget=SearchDataGUI(childr…"
      ]
     },
     "execution_count": 28,
     "metadata": {},
     "output_type": "execute_result"
    }
   ],
   "source": [
    "# create a map\n",
    "m = geemap.Map()\n",
    "\n",
    "# add layers\n",
    "m.addLayer(soc_blend, {\"min\": 1, \"max\": 450, \"palette\": biomass_palette}, \"SOC Density Blend 0-1m\")\n",
    "\n",
    "# Display the map\n",
    "m"
   ]
  },
  {
   "cell_type": "code",
   "execution_count": null,
   "metadata": {},
   "outputs": [],
   "source": []
  }
 ],
 "metadata": {
  "kernelspec": {
   "display_name": ".venv",
   "language": "python",
   "name": "python3"
  },
  "language_info": {
   "codemirror_mode": {
    "name": "ipython",
    "version": 3
   },
   "file_extension": ".py",
   "mimetype": "text/x-python",
   "name": "python",
   "nbconvert_exporter": "python",
   "pygments_lexer": "ipython3",
   "version": "3.12.6"
  }
 },
 "nbformat": 4,
 "nbformat_minor": 2
}
