{
 "cells": [
  {
   "cell_type": "markdown",
   "metadata": {},
   "source": [
    "## Load packages and initialize GEE"
   ]
  },
  {
   "cell_type": "code",
   "execution_count": 1,
   "metadata": {},
   "outputs": [],
   "source": [
    "# import packages\n",
    "import ee\n",
    "import geemap\n",
    "\n",
    "import pandas as pd"
   ]
  },
  {
   "cell_type": "code",
   "execution_count": 2,
   "metadata": {},
   "outputs": [
    {
     "data": {
      "text/html": [
       "\n",
       "            <style>\n",
       "                .geemap-dark {\n",
       "                    --jp-widgets-color: white;\n",
       "                    --jp-widgets-label-color: white;\n",
       "                    --jp-ui-font-color1: white;\n",
       "                    --jp-layout-color2: #454545;\n",
       "                    background-color: #383838;\n",
       "                }\n",
       "\n",
       "                .geemap-dark .jupyter-button {\n",
       "                    --jp-layout-color3: #383838;\n",
       "                }\n",
       "\n",
       "                .geemap-colab {\n",
       "                    background-color: var(--colab-primary-surface-color, white);\n",
       "                }\n",
       "\n",
       "                .geemap-colab .jupyter-button {\n",
       "                    --jp-layout-color3: var(--colab-primary-surface-color, white);\n",
       "                }\n",
       "            </style>\n",
       "            "
      ],
      "text/plain": [
       "<IPython.core.display.HTML object>"
      ]
     },
     "metadata": {},
     "output_type": "display_data"
    }
   ],
   "source": [
    "# initialize the EE api\n",
    "ee.Initialize(project='ee-bermane')"
   ]
  },
  {
   "cell_type": "markdown",
   "metadata": {},
   "source": [
    "## Define GEE datasets"
   ]
  },
  {
   "cell_type": "code",
   "execution_count": 3,
   "metadata": {},
   "outputs": [
    {
     "data": {
      "text/html": [
       "\n",
       "            <style>\n",
       "                .geemap-dark {\n",
       "                    --jp-widgets-color: white;\n",
       "                    --jp-widgets-label-color: white;\n",
       "                    --jp-ui-font-color1: white;\n",
       "                    --jp-layout-color2: #454545;\n",
       "                    background-color: #383838;\n",
       "                }\n",
       "\n",
       "                .geemap-dark .jupyter-button {\n",
       "                    --jp-layout-color3: #383838;\n",
       "                }\n",
       "\n",
       "                .geemap-colab {\n",
       "                    background-color: var(--colab-primary-surface-color, white);\n",
       "                }\n",
       "\n",
       "                .geemap-colab .jupyter-button {\n",
       "                    --jp-layout-color3: var(--colab-primary-surface-color, white);\n",
       "                }\n",
       "            </style>\n",
       "            "
      ],
      "text/plain": [
       "<IPython.core.display.HTML object>"
      ]
     },
     "metadata": {},
     "output_type": "display_data"
    }
   ],
   "source": [
    "# define EE datasets\n",
    "agb = ee.ImageCollection(\"projects/sat-io/open-datasets/ESA/ESA_CCI_AGB\")\n",
    "y2y = ee.FeatureCollection(\"projects/ee-bermane/assets/y2y\")\n",
    "lc = ee.Image(\"USGS/NLCD_RELEASES/2020_REL/NALCMS\")\n",
    "rsr = ee.Image(\"projects/ee-bermane/assets/Root_shoot_ratio_Map_Merged\")\n",
    "spawn = ee.ImageCollection(\"NASA/ORNL/biomass_carbon_density/v1\")\n",
    "countries = ee.FeatureCollection(\"USDOS/LSIB/2017\")\n",
    "y2y_ecoregions = ee.FeatureCollection(\n",
    "    \"projects/ee-bermane/assets/y2y_ecoregions\")\n",
    "y2y_biomes = ee.FeatureCollection(\"projects/ee-bermane/assets/y2y_biomes\")\n",
    "y2y_protected_areas = ee.FeatureCollection(\n",
    "    \"projects/ee-bermane/assets/y2y_protected_areas\")\n",
    "y2y_protected_areas_canada = ee.FeatureCollection(\n",
    "    \"projects/ee-bermane/assets/y2y_protected_areas_canada\")\n",
    "rra = ee.FeatureCollection(\"projects/ee-bermane/assets/ross_river_ipca\")\n",
    "soc_olm = ee.Image(\"projects/ee-bermane/assets/soc_0_1m_kg_m2_olm\")\n",
    "soc_soilgrids = ee.Image(\"projects/soilgrids-isric/ocs_mean\")\n",
    "soc_sothe = ee.Image(\n",
    "    \"projects/ee-bermane/assets/McMaster_WWFCanada_soil_carbon1m_250m_kg-m2_version3\")\n",
    "soc_socs = ee.Image(\"projects/ee-bermane/assets/SOCS_0_1m_mg_ha_year_2010\")"
   ]
  },
  {
   "cell_type": "markdown",
   "metadata": {},
   "source": [
    "## Define functions"
   ]
  },
  {
   "cell_type": "code",
   "execution_count": 4,
   "metadata": {},
   "outputs": [
    {
     "data": {
      "text/html": [
       "\n",
       "            <style>\n",
       "                .geemap-dark {\n",
       "                    --jp-widgets-color: white;\n",
       "                    --jp-widgets-label-color: white;\n",
       "                    --jp-ui-font-color1: white;\n",
       "                    --jp-layout-color2: #454545;\n",
       "                    background-color: #383838;\n",
       "                }\n",
       "\n",
       "                .geemap-dark .jupyter-button {\n",
       "                    --jp-layout-color3: #383838;\n",
       "                }\n",
       "\n",
       "                .geemap-colab {\n",
       "                    background-color: var(--colab-primary-surface-color, white);\n",
       "                }\n",
       "\n",
       "                .geemap-colab .jupyter-button {\n",
       "                    --jp-layout-color3: var(--colab-primary-surface-color, white);\n",
       "                }\n",
       "            </style>\n",
       "            "
      ],
      "text/plain": [
       "<IPython.core.display.HTML object>"
      ]
     },
     "metadata": {},
     "output_type": "display_data"
    }
   ],
   "source": [
    "# Define function to calculate zonal statistics\n",
    "# specify image to use and reducer type (sum(), mean())\n",
    "def calc_zonal_stats(feature, image_list, reducer_list):\n",
    "\n",
    "    # loop through image and reducer list\n",
    "    for image, reducer in zip(image_list, reducer_list):\n",
    "\n",
    "        # calculate zonal stats across features\n",
    "        stats = image.reduceRegion(\n",
    "            reducer=reducer,\n",
    "            geometry=feature.geometry(),\n",
    "            crs=image.select(0).projection(),\n",
    "            crsTransform=image.select(\n",
    "                0).projection().getInfo().get('transform'),\n",
    "            maxPixels=1e30\n",
    "        )\n",
    "\n",
    "        # add zonal stats to feature properties\n",
    "        feature = feature.set(stats)\n",
    "\n",
    "    return feature\n",
    "\n",
    "# Define function to calculate feature area in km2\n",
    "\n",
    "# def calc_feature_area(feature):\n",
    "#     area_km2 = feature.geometry().area().divide(1e6)\n",
    "#     return feature.set({'area_km2_gee': area_km2})\n",
    "\n",
    "# define function to calculate additional carbon stock values\n",
    "# since pixel sizes vary instead of taking the mean of all density values from the rasters\n",
    "# we are calculating the total carbon and dividing it by the area in ha\n",
    "\n",
    "\n",
    "def calc_addl_stats(df):\n",
    "    # calc total biomass\n",
    "    df['tob_t'] = df['agb_t'] + df['bgb_t']\n",
    "\n",
    "    # calc densities\n",
    "    df['agb_t_ha'] = df['agb_t'] / df['pixel_area_agb_extent_ha']\n",
    "    df['bgb_t_ha'] = df['bgb_t'] / df['pixel_area_agb_extent_ha']\n",
    "    df['tob_t_ha'] = df['tob_t'] / df['pixel_area_agb_extent_ha']\n",
    "    df['soc_t_ha'] = df['soc_t'] / df['pixel_area_soc_extent_ha']\n",
    "\n",
    "    # calc % of storage\n",
    "    df['perc_tob'] = (df['tob_t'] / df['tob_t'].sum()) * 100\n",
    "    df['perc_soc'] = (df['soc_t'] / df['soc_t'].sum()) * 100\n",
    "\n",
    "    # calc % of area\n",
    "    df['perc_tob_extent'] = (\n",
    "        df['pixel_area_agb_extent_ha'] / df['pixel_area_agb_extent_ha'].sum()) * 100\n",
    "    df['perc_soc_extent'] = (\n",
    "        df['pixel_area_soc_extent_ha'] / df['pixel_area_soc_extent_ha'].sum()) * 100\n",
    "    df['perc_area'] = (df['pixel_area_ha'] / df['pixel_area_ha'].sum()) * 100\n",
    "\n",
    "    # return df\n",
    "    return df\n",
    "\n",
    "# define function to calculate zonal stats over landcover types\n",
    "# currently only calculates sum in the same way as using the function above\n",
    "\n",
    "\n",
    "def calc_lc_stats(image, landcover, geo, scale):\n",
    "    # loop through image band names\n",
    "    for index, band in enumerate(image.bandNames().getInfo()):\n",
    "        # select band and add lc\n",
    "        img = image.select(band).addBands(landcover)\n",
    "\n",
    "        # take sum of band grouped by lc\n",
    "        stats = img.reduceRegion(\n",
    "            reducer=ee.Reducer.sum().group(groupField=1, groupName='lc'),\n",
    "            geometry=geo,\n",
    "            scale=scale,\n",
    "            crs=img.select(0).projection(),\n",
    "            # crsTransform=img.select(\n",
    "            #    0).projection().getInfo().get('transform'),\n",
    "            maxPixels=1e30\n",
    "        )\n",
    "\n",
    "        # save dictionary in df\n",
    "        if index == 0:\n",
    "            df = pd.DataFrame(stats.getInfo().get('groups')\n",
    "                              ).rename(columns={'sum': band})\n",
    "        else:\n",
    "            df = df.merge(pd.DataFrame(stats.getInfo().get(\n",
    "                'groups')).rename(columns={'sum': band}), on='lc')\n",
    "\n",
    "    # return df\n",
    "    return df"
   ]
  },
  {
   "cell_type": "markdown",
   "metadata": {},
   "source": [
    "## Calculate biomass stock from ESA CCI data"
   ]
  },
  {
   "cell_type": "code",
   "execution_count": 5,
   "metadata": {},
   "outputs": [
    {
     "data": {
      "text/html": [
       "\n",
       "            <style>\n",
       "                .geemap-dark {\n",
       "                    --jp-widgets-color: white;\n",
       "                    --jp-widgets-label-color: white;\n",
       "                    --jp-ui-font-color1: white;\n",
       "                    --jp-layout-color2: #454545;\n",
       "                    background-color: #383838;\n",
       "                }\n",
       "\n",
       "                .geemap-dark .jupyter-button {\n",
       "                    --jp-layout-color3: #383838;\n",
       "                }\n",
       "\n",
       "                .geemap-colab {\n",
       "                    background-color: var(--colab-primary-surface-color, white);\n",
       "                }\n",
       "\n",
       "                .geemap-colab .jupyter-button {\n",
       "                    --jp-layout-color3: var(--colab-primary-surface-color, white);\n",
       "                }\n",
       "            </style>\n",
       "            "
      ],
      "text/plain": [
       "<IPython.core.display.HTML object>"
      ]
     },
     "metadata": {},
     "output_type": "display_data"
    }
   ],
   "source": [
    "# calc 2021 ESA CCI biomass\n",
    "# grab the 2021 AGB images\n",
    "agb_2021 = agb.filter(ee.Filter.stringContains(\"system:index\", \"2021\")).first()\n",
    "\n",
    "# create image for litter using Harris ratio (4%)\n",
    "# leave out dead wood since it is likely sensed already\n",
    "# mask litter only for forested LC types\n",
    "# 1: \"#033e00\",  # Temperate or sub-polar needleleaf forest\n",
    "# 2: \"#939b71\",  # Sub-polar taiga needleleaf forest\n",
    "# 3: \"#196d12\",  # Tropical or sub-tropical broadleaf evergreen forest\n",
    "# 4: \"#1fab01\",  # Tropical or sub-tropical broadleaf deciduous forest\n",
    "# 5: \"#5b725c\",  # Temperate or sub-polar broadleaf deciduous forest\n",
    "# 6: \"#6b7d2c\",  # Mixed forest\n",
    "\n",
    "litter_mask = lc.gte(1).And(lc.lte(6))\n",
    "\n",
    "litter = agb_2021.select(['AGB']).multiply(0.04).multiply(litter_mask)\n",
    "\n",
    "# create image for BGB (using global rsr map)\n",
    "bgb = agb_2021.select(['AGB']).multiply(rsr).rename('BGB')\n",
    "\n",
    "# add AGB + litter and BGB together\n",
    "bio_2021 = agb_2021.select(['AGB']).add(litter).addBands(\n",
    "    bgb).rename(['agb_t_ha', 'bgb_t_ha'])\n",
    "\n",
    "# multiply values by 0.47 to get carbon density\n",
    "# 0.47 used by Harris et al. (2021)\n",
    "# mask barren ground, snow/ice and water\n",
    "bio_2021 = bio_2021.multiply(0.47).updateMask(\n",
    "    lc.neq(18).And(lc.neq(19)).And(lc.neq(16)))\n",
    "\n",
    "# compute per-pixel area in ha\n",
    "pixel_area_ha = ee.Image.pixelArea().divide(10000)\n",
    "\n",
    "# Create carbon layer mask to filter pixel area raster\n",
    "carbon_mask = bio_2021.select(['agb_t_ha']).mask().neq(0)\n",
    "\n",
    "# Mask pixel_area_ha to carbon layers\n",
    "pixel_area_agb_extent = pixel_area_ha.updateMask(carbon_mask)\n",
    "\n",
    "# calculate total biomass c per pixel and rename bands\n",
    "bio_stock_2021 = bio_2021.multiply(\n",
    "    pixel_area_ha\n",
    ").rename(\n",
    "    ['agb_t', 'bgb_t']\n",
    ").addBands(\n",
    "    pixel_area_agb_extent.rename(['pixel_area_agb_extent_ha'])\n",
    ").addBands(\n",
    "    pixel_area_ha.rename(['pixel_area_ha'])\n",
    ")"
   ]
  },
  {
   "cell_type": "markdown",
   "metadata": {},
   "source": [
    "## Calculate soil carbon from Sothe Canada data and Open Land Map US data"
   ]
  },
  {
   "cell_type": "code",
   "execution_count": null,
   "metadata": {},
   "outputs": [
    {
     "data": {
      "text/html": [
       "\n",
       "            <style>\n",
       "                .geemap-dark {\n",
       "                    --jp-widgets-color: white;\n",
       "                    --jp-widgets-label-color: white;\n",
       "                    --jp-ui-font-color1: white;\n",
       "                    --jp-layout-color2: #454545;\n",
       "                    background-color: #383838;\n",
       "                }\n",
       "\n",
       "                .geemap-dark .jupyter-button {\n",
       "                    --jp-layout-color3: #383838;\n",
       "                }\n",
       "\n",
       "                .geemap-colab {\n",
       "                    background-color: var(--colab-primary-surface-color, white);\n",
       "                }\n",
       "\n",
       "                .geemap-colab .jupyter-button {\n",
       "                    --jp-layout-color3: var(--colab-primary-surface-color, white);\n",
       "                }\n",
       "            </style>\n",
       "            "
      ],
      "text/plain": [
       "<IPython.core.display.HTML object>"
      ]
     },
     "metadata": {},
     "output_type": "display_data"
    }
   ],
   "source": [
    "# calc open land map soc\n",
    "# multiply by 10 to get t/ha\n",
    "# mask water/snow/ice\n",
    "soc_olm = soc_olm.multiply(10).rename(\n",
    "    'soc_dens').updateMask(lc.neq(18).And(lc.neq(19)))\n",
    "\n",
    "# reproject to match sothe to blend images\n",
    "soc_olm_reproj_sothe = soc_olm.resample('bilinear').toFloat()"
   ]
  },
  {
   "cell_type": "code",
   "execution_count": 1,
   "metadata": {},
   "outputs": [
    {
     "ename": "NameError",
     "evalue": "name 'soc_sothe' is not defined",
     "output_type": "error",
     "traceback": [
      "\u001b[0;31m---------------------------------------------------------------------------\u001b[0m",
      "\u001b[0;31mNameError\u001b[0m                                 Traceback (most recent call last)",
      "Cell \u001b[0;32mIn[1], line 4\u001b[0m\n\u001b[1;32m      1\u001b[0m \u001b[38;5;66;03m# calc sothe soc\u001b[39;00m\n\u001b[1;32m      2\u001b[0m \u001b[38;5;66;03m# multiply by 10 to get t/ha\u001b[39;00m\n\u001b[1;32m      3\u001b[0m \u001b[38;5;66;03m# mask water/snow/ice\u001b[39;00m\n\u001b[0;32m----> 4\u001b[0m soc_sothe \u001b[38;5;241m=\u001b[39m \u001b[43msoc_sothe\u001b[49m\u001b[38;5;241m.\u001b[39mmultiply(\u001b[38;5;241m10\u001b[39m)\u001b[38;5;241m.\u001b[39mrename(\n\u001b[1;32m      5\u001b[0m     \u001b[38;5;124m'\u001b[39m\u001b[38;5;124msoc_dens\u001b[39m\u001b[38;5;124m'\u001b[39m)\u001b[38;5;241m.\u001b[39mupdateMask(lc\u001b[38;5;241m.\u001b[39mneq(\u001b[38;5;241m18\u001b[39m)\u001b[38;5;241m.\u001b[39mAnd(lc\u001b[38;5;241m.\u001b[39mneq(\u001b[38;5;241m19\u001b[39m)))\n\u001b[1;32m      7\u001b[0m \u001b[38;5;66;03m# blend sothe and olm carbon across y2y\u001b[39;00m\n\u001b[1;32m      8\u001b[0m soc_blend \u001b[38;5;241m=\u001b[39m ee\u001b[38;5;241m.\u001b[39mImageCollection([soc_olm_reproj_sothe, soc_sothe])\u001b[38;5;241m.\u001b[39mmosaic()\u001b[38;5;241m.\u001b[39mrename(\u001b[38;5;124m'\u001b[39m\u001b[38;5;124msoc_t_ha\u001b[39m\u001b[38;5;124m'\u001b[39m)\u001b[38;5;241m.\u001b[39mreproject(\n\u001b[1;32m      9\u001b[0m     crs\u001b[38;5;241m=\u001b[39msoc_sothe\u001b[38;5;241m.\u001b[39mprojection(),\n\u001b[1;32m     10\u001b[0m     crsTransform\u001b[38;5;241m=\u001b[39msoc_sothe\u001b[38;5;241m.\u001b[39mprojection()\u001b[38;5;241m.\u001b[39mgetInfo()\u001b[38;5;241m.\u001b[39mget(\u001b[38;5;124m'\u001b[39m\u001b[38;5;124mtransform\u001b[39m\u001b[38;5;124m'\u001b[39m)\n\u001b[1;32m     11\u001b[0m )\u001b[38;5;241m.\u001b[39mupdateMask(lc\u001b[38;5;241m.\u001b[39mneq(\u001b[38;5;241m18\u001b[39m)\u001b[38;5;241m.\u001b[39mAnd(lc\u001b[38;5;241m.\u001b[39mneq(\u001b[38;5;241m19\u001b[39m)))  \u001b[38;5;66;03m# mask snow/ice, water\u001b[39;00m\n",
      "\u001b[0;31mNameError\u001b[0m: name 'soc_sothe' is not defined"
     ]
    }
   ],
   "source": [
    "# calc sothe soc\n",
    "# multiply by 10 to get t/ha\n",
    "# mask water/snow/ice\n",
    "soc_sothe = soc_sothe.multiply(10).rename(\n",
    "    'soc_dens').updateMask(lc.neq(18).And(lc.neq(19)))\n",
    "\n",
    "# blend sothe and olm carbon across y2y\n",
    "soc_blend = ee.ImageCollection([soc_olm_reproj_sothe, soc_sothe]).mosaic().rename('soc_t_ha').reproject(\n",
    "    crs=soc_sothe.projection(),\n",
    "    crsTransform=soc_sothe.projection().getInfo().get('transform')\n",
    ").updateMask(lc.neq(18).And(lc.neq(19)))  # mask snow/ice, water\n",
    "\n",
    "# Create soc layer mask to filter pixel area raster\n",
    "soc_mask = soc_blend.mask().neq(0)\n",
    "\n",
    "# Mask pixel_area_ha to carbon layers\n",
    "pixel_area_soc_extent = pixel_area_ha.updateMask(soc_mask)\n",
    "\n",
    "# multiply by pixel area to get total carbon per pixel\n",
    "soc_blend_stock = soc_blend.multiply(pixel_area_ha).rename('soc_t').addBands(\n",
    "    pixel_area_soc_extent.rename(['pixel_area_soc_extent_ha'])\n",
    ").addBands(\n",
    "    pixel_area_ha.rename(['pixel_area_ha'])\n",
    ")"
   ]
  },
  {
   "cell_type": "code",
   "execution_count": null,
   "metadata": {},
   "outputs": [
    {
     "data": {
      "text/html": [
       "\n",
       "            <style>\n",
       "                .geemap-dark {\n",
       "                    --jp-widgets-color: white;\n",
       "                    --jp-widgets-label-color: white;\n",
       "                    --jp-ui-font-color1: white;\n",
       "                    --jp-layout-color2: #454545;\n",
       "                    background-color: #383838;\n",
       "                }\n",
       "\n",
       "                .geemap-dark .jupyter-button {\n",
       "                    --jp-layout-color3: #383838;\n",
       "                }\n",
       "\n",
       "                .geemap-colab {\n",
       "                    background-color: var(--colab-primary-surface-color, white);\n",
       "                }\n",
       "\n",
       "                .geemap-colab .jupyter-button {\n",
       "                    --jp-layout-color3: var(--colab-primary-surface-color, white);\n",
       "                }\n",
       "            </style>\n",
       "            "
      ],
      "text/plain": [
       "<IPython.core.display.HTML object>"
      ]
     },
     "metadata": {},
     "output_type": "display_data"
    }
   ],
   "source": [
    "# # create a map\n",
    "# m = geemap.Map()\n",
    "\n",
    "# # add layers\n",
    "# # m.addLayer(soc_blend, {\"min\": 1, \"max\": 450, \"palette\": biomass_palette}, \"SOC Density Blend 0-1m\")\n",
    "# m.addLayer(soc_blend.clip(y2y), {}, 'SOC Density')\n",
    "# m.addLayer(pixel_area_soc_extent.clip(y2y), {}, 'SOC Mask')\n",
    "\n",
    "# # Display the map\n",
    "# m"
   ]
  },
  {
   "cell_type": "code",
   "execution_count": null,
   "metadata": {},
   "outputs": [
    {
     "data": {
      "text/html": [
       "\n",
       "            <style>\n",
       "                .geemap-dark {\n",
       "                    --jp-widgets-color: white;\n",
       "                    --jp-widgets-label-color: white;\n",
       "                    --jp-ui-font-color1: white;\n",
       "                    --jp-layout-color2: #454545;\n",
       "                    background-color: #383838;\n",
       "                }\n",
       "\n",
       "                .geemap-dark .jupyter-button {\n",
       "                    --jp-layout-color3: #383838;\n",
       "                }\n",
       "\n",
       "                .geemap-colab {\n",
       "                    background-color: var(--colab-primary-surface-color, white);\n",
       "                }\n",
       "\n",
       "                .geemap-colab .jupyter-button {\n",
       "                    --jp-layout-color3: var(--colab-primary-surface-color, white);\n",
       "                }\n",
       "            </style>\n",
       "            "
      ],
      "text/plain": [
       "<IPython.core.display.HTML object>"
      ]
     },
     "metadata": {},
     "output_type": "display_data"
    }
   ],
   "source": [
    "# # calc socs soc\n",
    "# # mask water/snow/ice\n",
    "# soc_socs = soc_socs.rename('soc_socs_t_ha').updateMask(\n",
    "#     lc.neq(18).And(lc.neq(19)))\n",
    "\n",
    "# # Create soc layer mask to filter pixel area raster\n",
    "# socs_mask = soc_socs.mask().neq(0)\n",
    "\n",
    "# # Mask pixel_area_ha to carbon layers\n",
    "# pixel_area_socs_extent = pixel_area_ha.updateMask(socs_mask)\n",
    "\n",
    "# # multiply by pixel area to get total carbon per pixel\n",
    "# soc_socs_stock = soc_socs.multiply(pixel_area_ha).rename('soc_socs_t').addBands(\n",
    "#     pixel_area_socs_extent.rename(['pixel_area_model_extent_ha'])\n",
    "# ).addBands(\n",
    "#     pixel_area_ha\n",
    "# )"
   ]
  },
  {
   "cell_type": "markdown",
   "metadata": {},
   "source": [
    "## Check scale of output layers"
   ]
  },
  {
   "cell_type": "code",
   "execution_count": 10,
   "metadata": {},
   "outputs": [
    {
     "data": {
      "text/html": [
       "\n",
       "            <style>\n",
       "                .geemap-dark {\n",
       "                    --jp-widgets-color: white;\n",
       "                    --jp-widgets-label-color: white;\n",
       "                    --jp-ui-font-color1: white;\n",
       "                    --jp-layout-color2: #454545;\n",
       "                    background-color: #383838;\n",
       "                }\n",
       "\n",
       "                .geemap-dark .jupyter-button {\n",
       "                    --jp-layout-color3: #383838;\n",
       "                }\n",
       "\n",
       "                .geemap-colab {\n",
       "                    background-color: var(--colab-primary-surface-color, white);\n",
       "                }\n",
       "\n",
       "                .geemap-colab .jupyter-button {\n",
       "                    --jp-layout-color3: var(--colab-primary-surface-color, white);\n",
       "                }\n",
       "            </style>\n",
       "            "
      ],
      "text/plain": [
       "<IPython.core.display.HTML object>"
      ]
     },
     "metadata": {},
     "output_type": "display_data"
    },
    {
     "name": "stdout",
     "output_type": "stream",
     "text": [
      "Biomass Carbon Density Scale:  98.95065848290943\n",
      "Biomass Carbon Total Scale:  98.95065848290943\n",
      "SOC Density Blend Scale:  250.00021298953834\n",
      "SOC Total Blend Scale:  250.00021298953834\n"
     ]
    }
   ],
   "source": [
    "# check scale of layers\n",
    "print('Biomass Carbon Density Scale: ',\n",
    "      bio_2021.projection().nominalScale().getInfo())\n",
    "print('Biomass Carbon Total Scale: ',\n",
    "      bio_stock_2021.select(['agb_t']).projection().nominalScale().getInfo())\n",
    "# print('SOC Density Sothe Scale: ', soc_sothe.projection().nominalScale().getInfo())\n",
    "print('SOC Density Blend Scale: ', soc_blend.select(\n",
    "    ['soc_t_ha']).projection().nominalScale().getInfo())\n",
    "print('SOC Total Blend Scale: ',\n",
    "      soc_blend_stock.select(['soc_t']).projection().nominalScale().getInfo())\n",
    "# print('SOC Density OLM Scale: ', soc_olm.projection().nominalScale().getInfo())"
   ]
  },
  {
   "cell_type": "markdown",
   "metadata": {},
   "source": [
    "## Compute zonal statistics and convert results to dataframe"
   ]
  },
  {
   "cell_type": "code",
   "execution_count": 11,
   "metadata": {},
   "outputs": [
    {
     "data": {
      "text/html": [
       "\n",
       "            <style>\n",
       "                .geemap-dark {\n",
       "                    --jp-widgets-color: white;\n",
       "                    --jp-widgets-label-color: white;\n",
       "                    --jp-ui-font-color1: white;\n",
       "                    --jp-layout-color2: #454545;\n",
       "                    background-color: #383838;\n",
       "                }\n",
       "\n",
       "                .geemap-dark .jupyter-button {\n",
       "                    --jp-layout-color3: #383838;\n",
       "                }\n",
       "\n",
       "                .geemap-colab {\n",
       "                    background-color: var(--colab-primary-surface-color, white);\n",
       "                }\n",
       "\n",
       "                .geemap-colab .jupyter-button {\n",
       "                    --jp-layout-color3: var(--colab-primary-surface-color, white);\n",
       "                }\n",
       "            </style>\n",
       "            "
      ],
      "text/plain": [
       "<IPython.core.display.HTML object>"
      ]
     },
     "metadata": {},
     "output_type": "display_data"
    }
   ],
   "source": [
    "# define image and reducer list for zonal stats\n",
    "img_list = [bio_stock_2021, soc_blend_stock]\n",
    "redu_list = [ee.Reducer.sum(), ee.Reducer.sum()]\n",
    "\n",
    "# define output folder for exports\n",
    "out_folder = './outputs/'"
   ]
  },
  {
   "cell_type": "code",
   "execution_count": null,
   "metadata": {},
   "outputs": [
    {
     "data": {
      "text/html": [
       "\n",
       "            <style>\n",
       "                .geemap-dark {\n",
       "                    --jp-widgets-color: white;\n",
       "                    --jp-widgets-label-color: white;\n",
       "                    --jp-ui-font-color1: white;\n",
       "                    --jp-layout-color2: #454545;\n",
       "                    background-color: #383838;\n",
       "                }\n",
       "\n",
       "                .geemap-dark .jupyter-button {\n",
       "                    --jp-layout-color3: #383838;\n",
       "                }\n",
       "\n",
       "                .geemap-colab {\n",
       "                    background-color: var(--colab-primary-surface-color, white);\n",
       "                }\n",
       "\n",
       "                .geemap-colab .jupyter-button {\n",
       "                    --jp-layout-color3: var(--colab-primary-surface-color, white);\n",
       "                }\n",
       "            </style>\n",
       "            "
      ],
      "text/plain": [
       "<IPython.core.display.HTML object>"
      ]
     },
     "metadata": {},
     "output_type": "display_data"
    }
   ],
   "source": [
    "# Compute zonal statistics across Y2Y region\n",
    "y2y_carbon = y2y.map(lambda feature: calc_zonal_stats(\n",
    "    feature, img_list, redu_list))\n",
    "\n",
    "# convert to df\n",
    "y2y_df = ee.data.computeFeatures({\n",
    "    'expression': y2y_carbon,\n",
    "    'fileFormat': 'PANDAS_DATAFRAME'\n",
    "})\n",
    "\n",
    "# add density values\n",
    "y2y_df = calc_addl_stats(y2y_df)\n",
    "\n",
    "# drop geometry, round values and export as csv\n",
    "y2y_df.drop('geo', axis=1).round(2).to_csv(\n",
    "    out_folder + 'y2y_carbon_stocks.csv', index=False)"
   ]
  },
  {
   "cell_type": "code",
   "execution_count": null,
   "metadata": {},
   "outputs": [
    {
     "data": {
      "text/html": [
       "\n",
       "            <style>\n",
       "                .geemap-dark {\n",
       "                    --jp-widgets-color: white;\n",
       "                    --jp-widgets-label-color: white;\n",
       "                    --jp-ui-font-color1: white;\n",
       "                    --jp-layout-color2: #454545;\n",
       "                    background-color: #383838;\n",
       "                }\n",
       "\n",
       "                .geemap-dark .jupyter-button {\n",
       "                    --jp-layout-color3: #383838;\n",
       "                }\n",
       "\n",
       "                .geemap-colab {\n",
       "                    background-color: var(--colab-primary-surface-color, white);\n",
       "                }\n",
       "\n",
       "                .geemap-colab .jupyter-button {\n",
       "                    --jp-layout-color3: var(--colab-primary-surface-color, white);\n",
       "                }\n",
       "            </style>\n",
       "            "
      ],
      "text/plain": [
       "<IPython.core.display.HTML object>"
      ]
     },
     "metadata": {},
     "output_type": "display_data"
    }
   ],
   "source": [
    "# get canada and y2y geometry\n",
    "canada = countries.filter(ee.Filter.eq('COUNTRY_NA', 'Canada'))\n",
    "can_geo = canada.geometry()\n",
    "y2y_geo = y2y.geometry()\n",
    "\n",
    "# get intersection of geometries\n",
    "y2y_can_geo = y2y_geo.intersection(can_geo)\n",
    "\n",
    "# create feature collection\n",
    "y2y_can = ee.FeatureCollection(y2y_can_geo)\n",
    "\n",
    "# Compute zonal statistics across y2y in canada\n",
    "y2y_can_carbon = y2y_can.map(lambda feature: calc_zonal_stats(\n",
    "    feature, img_list, redu_list))\n",
    "\n",
    "# convert to df\n",
    "y2y_can_df = ee.data.computeFeatures({\n",
    "    'expression': y2y_can_carbon,\n",
    "    'fileFormat': 'PANDAS_DATAFRAME'\n",
    "})\n",
    "\n",
    "# add density values\n",
    "y2y_can_df = calc_addl_stats(y2y_can_df)\n",
    "\n",
    "# drop geometry, round values and export as csv\n",
    "y2y_can_df.drop('geo', axis=1).round(2).to_csv(\n",
    "    out_folder + 'y2y_canada_carbon_stocks.csv', index=False)"
   ]
  },
  {
   "cell_type": "code",
   "execution_count": null,
   "metadata": {},
   "outputs": [
    {
     "data": {
      "text/html": [
       "\n",
       "            <style>\n",
       "                .geemap-dark {\n",
       "                    --jp-widgets-color: white;\n",
       "                    --jp-widgets-label-color: white;\n",
       "                    --jp-ui-font-color1: white;\n",
       "                    --jp-layout-color2: #454545;\n",
       "                    background-color: #383838;\n",
       "                }\n",
       "\n",
       "                .geemap-dark .jupyter-button {\n",
       "                    --jp-layout-color3: #383838;\n",
       "                }\n",
       "\n",
       "                .geemap-colab {\n",
       "                    background-color: var(--colab-primary-surface-color, white);\n",
       "                }\n",
       "\n",
       "                .geemap-colab .jupyter-button {\n",
       "                    --jp-layout-color3: var(--colab-primary-surface-color, white);\n",
       "                }\n",
       "            </style>\n",
       "            "
      ],
      "text/plain": [
       "<IPython.core.display.HTML object>"
      ]
     },
     "metadata": {},
     "output_type": "display_data"
    }
   ],
   "source": [
    "# Compute zonal statistics across biomes\n",
    "biome_carbon = y2y_biomes.map(lambda feature: calc_zonal_stats(\n",
    "    feature, img_list, redu_list))\n",
    "\n",
    "# convert to df\n",
    "biome_df = ee.data.computeFeatures({\n",
    "    'expression': biome_carbon,\n",
    "    'fileFormat': 'PANDAS_DATAFRAME'\n",
    "})\n",
    "\n",
    "# add density values\n",
    "biome_df = calc_addl_stats(biome_df)\n",
    "\n",
    "# drop geometry, round values and export as csv\n",
    "biome_df.drop('geo', axis=1).round(2).to_csv(\n",
    "    out_folder + 'y2y_biome_carbon_stocks.csv', index=False)"
   ]
  },
  {
   "cell_type": "code",
   "execution_count": null,
   "metadata": {},
   "outputs": [
    {
     "data": {
      "text/html": [
       "\n",
       "            <style>\n",
       "                .geemap-dark {\n",
       "                    --jp-widgets-color: white;\n",
       "                    --jp-widgets-label-color: white;\n",
       "                    --jp-ui-font-color1: white;\n",
       "                    --jp-layout-color2: #454545;\n",
       "                    background-color: #383838;\n",
       "                }\n",
       "\n",
       "                .geemap-dark .jupyter-button {\n",
       "                    --jp-layout-color3: #383838;\n",
       "                }\n",
       "\n",
       "                .geemap-colab {\n",
       "                    background-color: var(--colab-primary-surface-color, white);\n",
       "                }\n",
       "\n",
       "                .geemap-colab .jupyter-button {\n",
       "                    --jp-layout-color3: var(--colab-primary-surface-color, white);\n",
       "                }\n",
       "            </style>\n",
       "            "
      ],
      "text/plain": [
       "<IPython.core.display.HTML object>"
      ]
     },
     "metadata": {},
     "output_type": "display_data"
    }
   ],
   "source": [
    "# Compute zonal statistics across ecoregions\n",
    "eco_carbon = y2y_ecoregions.map(lambda feature: calc_zonal_stats(\n",
    "    feature, img_list, redu_list))\n",
    "\n",
    "# convert to df\n",
    "eco_df = ee.data.computeFeatures({\n",
    "    'expression': eco_carbon,\n",
    "    'fileFormat': 'PANDAS_DATAFRAME'\n",
    "})\n",
    "\n",
    "# add density values\n",
    "eco_df = calc_addl_stats(eco_df)\n",
    "\n",
    "# drop geometry, round values and export as csv\n",
    "eco_df.drop('geo', axis=1).round(2).to_csv(\n",
    "    out_folder + 'y2y_ecoregion_carbon_stocks.csv', index=False)"
   ]
  },
  {
   "cell_type": "code",
   "execution_count": null,
   "metadata": {},
   "outputs": [
    {
     "data": {
      "text/html": [
       "\n",
       "            <style>\n",
       "                .geemap-dark {\n",
       "                    --jp-widgets-color: white;\n",
       "                    --jp-widgets-label-color: white;\n",
       "                    --jp-ui-font-color1: white;\n",
       "                    --jp-layout-color2: #454545;\n",
       "                    background-color: #383838;\n",
       "                }\n",
       "\n",
       "                .geemap-dark .jupyter-button {\n",
       "                    --jp-layout-color3: #383838;\n",
       "                }\n",
       "\n",
       "                .geemap-colab {\n",
       "                    background-color: var(--colab-primary-surface-color, white);\n",
       "                }\n",
       "\n",
       "                .geemap-colab .jupyter-button {\n",
       "                    --jp-layout-color3: var(--colab-primary-surface-color, white);\n",
       "                }\n",
       "            </style>\n",
       "            "
      ],
      "text/plain": [
       "<IPython.core.display.HTML object>"
      ]
     },
     "metadata": {},
     "output_type": "display_data"
    }
   ],
   "source": [
    "# Compute zonal statistics across protected areas\n",
    "protected_areas_carbon = y2y_protected_areas.map(lambda feature: calc_zonal_stats(\n",
    "    feature, img_list, redu_list))\n",
    "\n",
    "# convert to df\n",
    "protected_areas_df = ee.data.computeFeatures({\n",
    "    'expression': protected_areas_carbon,\n",
    "    'fileFormat': 'PANDAS_DATAFRAME'\n",
    "})\n",
    "\n",
    "# group geometries by governance type\n",
    "protected_areas_df = protected_areas_df.drop(\n",
    "    ['geo', 'NAME', 'PROJ_AREA'], axis=1).groupby('GOV_TYP').sum().reset_index()\n",
    "\n",
    "# create row for non protected areas\n",
    "non_protected_row = pd.DataFrame([{'GOV_TYP': 'Non-protected',\n",
    "                                   'agb_t': (y2y_df['agb_t'] - protected_areas_df['agb_t'].sum()).values[0],\n",
    "                                   'bgb_t': (y2y_df['bgb_t'] - protected_areas_df['bgb_t'].sum()).values[0],\n",
    "                                   'pixel_area_agb_extent_ha': (y2y_df['pixel_area_agb_extent_ha'] - protected_areas_df['pixel_area_agb_extent_ha'].sum()).values[0],\n",
    "                                   'pixel_area_ha': (y2y_df['pixel_area_ha'] - protected_areas_df['pixel_area_ha'].sum()).values[0],\n",
    "                                   'pixel_area_soc_extent_ha': (y2y_df['pixel_area_soc_extent_ha'] - protected_areas_df['pixel_area_soc_extent_ha'].sum()).values[0],\n",
    "                                   'soc_t': (y2y_df['soc_t'] - protected_areas_df['soc_t'].sum()).values[0]}])\n",
    "\n",
    "# add non protected row to df\n",
    "protected_areas_df = pd.concat(\n",
    "    [protected_areas_df, non_protected_row], ignore_index=True)\n",
    "\n",
    "# add density values\n",
    "protected_areas_df = calc_addl_stats(protected_areas_df)\n",
    "\n",
    "# round values and export as csv\n",
    "protected_areas_df.round(2).to_csv(\n",
    "    out_folder + 'y2y_protected_areas_carbon_stocks.csv', index=False)"
   ]
  },
  {
   "cell_type": "code",
   "execution_count": null,
   "metadata": {},
   "outputs": [
    {
     "data": {
      "text/html": [
       "\n",
       "            <style>\n",
       "                .geemap-dark {\n",
       "                    --jp-widgets-color: white;\n",
       "                    --jp-widgets-label-color: white;\n",
       "                    --jp-ui-font-color1: white;\n",
       "                    --jp-layout-color2: #454545;\n",
       "                    background-color: #383838;\n",
       "                }\n",
       "\n",
       "                .geemap-dark .jupyter-button {\n",
       "                    --jp-layout-color3: #383838;\n",
       "                }\n",
       "\n",
       "                .geemap-colab {\n",
       "                    background-color: var(--colab-primary-surface-color, white);\n",
       "                }\n",
       "\n",
       "                .geemap-colab .jupyter-button {\n",
       "                    --jp-layout-color3: var(--colab-primary-surface-color, white);\n",
       "                }\n",
       "            </style>\n",
       "            "
      ],
      "text/plain": [
       "<IPython.core.display.HTML object>"
      ]
     },
     "metadata": {},
     "output_type": "display_data"
    }
   ],
   "source": [
    "# Compute zonal statistics across protected areas in canada only\n",
    "protected_areas_can_carbon = y2y_protected_areas_canada.map(lambda feature: calc_zonal_stats(\n",
    "    feature, img_list, redu_list))\n",
    "\n",
    "# convert to df\n",
    "protected_areas_can_df = ee.data.computeFeatures({\n",
    "    'expression': protected_areas_can_carbon,\n",
    "    'fileFormat': 'PANDAS_DATAFRAME'\n",
    "})\n",
    "\n",
    "# group geometries by governance type\n",
    "protected_areas_can_df = protected_areas_can_df.drop(\n",
    "    ['geo', 'NAME', 'PROJ_AREA'], axis=1).groupby('GOV_TYP').sum().reset_index()\n",
    "\n",
    "# create row for non protected areas\n",
    "non_protected_can_row = pd.DataFrame([{'GOV_TYP': 'Non-protected',\n",
    "                                       'agb_t': (y2y_can_df['agb_t'] - protected_areas_can_df['agb_t'].sum()).values[0],\n",
    "                                       'bgb_t': (y2y_can_df['bgb_t'] - protected_areas_can_df['bgb_t'].sum()).values[0],\n",
    "                                       'pixel_area_agb_extent_ha': (y2y_can_df['pixel_area_agb_extent_ha'] - protected_areas_can_df['pixel_area_agb_extent_ha'].sum()).values[0],\n",
    "                                       'pixel_area_ha': (y2y_can_df['pixel_area_ha'] - protected_areas_can_df['pixel_area_ha'].sum()).values[0],\n",
    "                                       'pixel_area_soc_extent_ha': (y2y_can_df['pixel_area_soc_extent_ha'] - protected_areas_can_df['pixel_area_soc_extent_ha'].sum()).values[0],\n",
    "                                       'soc_t': (y2y_can_df['soc_t'] - protected_areas_can_df['soc_t'].sum()).values[0]}])\n",
    "\n",
    "# add non protected row to df\n",
    "protected_areas_can_df = pd.concat(\n",
    "    [protected_areas_can_df, non_protected_can_row], ignore_index=True)\n",
    "\n",
    "# add density values\n",
    "protected_areas_can_df = calc_addl_stats(protected_areas_can_df)\n",
    "\n",
    "# round values and export as csv\n",
    "protected_areas_can_df.round(2).to_csv(\n",
    "    out_folder + 'y2y_protected_areas_canada_carbon_stocks.csv', index=False)"
   ]
  },
  {
   "cell_type": "code",
   "execution_count": null,
   "metadata": {},
   "outputs": [
    {
     "data": {
      "text/html": [
       "\n",
       "            <style>\n",
       "                .geemap-dark {\n",
       "                    --jp-widgets-color: white;\n",
       "                    --jp-widgets-label-color: white;\n",
       "                    --jp-ui-font-color1: white;\n",
       "                    --jp-layout-color2: #454545;\n",
       "                    background-color: #383838;\n",
       "                }\n",
       "\n",
       "                .geemap-dark .jupyter-button {\n",
       "                    --jp-layout-color3: #383838;\n",
       "                }\n",
       "\n",
       "                .geemap-colab {\n",
       "                    background-color: var(--colab-primary-surface-color, white);\n",
       "                }\n",
       "\n",
       "                .geemap-colab .jupyter-button {\n",
       "                    --jp-layout-color3: var(--colab-primary-surface-color, white);\n",
       "                }\n",
       "            </style>\n",
       "            "
      ],
      "text/plain": [
       "<IPython.core.display.HTML object>"
      ]
     },
     "metadata": {},
     "output_type": "display_data"
    }
   ],
   "source": [
    "# Compute zonal statistics in Ross River IPCA\n",
    "rra_carbon = rra.map(lambda feature: calc_zonal_stats(\n",
    "    feature, img_list, redu_list))\n",
    "\n",
    "# convert to df\n",
    "rra_df = ee.data.computeFeatures({\n",
    "    'expression': rra_carbon,\n",
    "    'fileFormat': 'PANDAS_DATAFRAME'\n",
    "})\n",
    "\n",
    "# add density values\n",
    "rra_df = calc_addl_stats(rra_df)\n",
    "\n",
    "# drop geometry, round values and export as csv\n",
    "rra_df.drop('geo', axis=1).round(2).to_csv(\n",
    "    out_folder + 'y2y_rra_carbon_stocks.csv', index=False)"
   ]
  },
  {
   "cell_type": "code",
   "execution_count": null,
   "metadata": {},
   "outputs": [
    {
     "data": {
      "text/html": [
       "\n",
       "            <style>\n",
       "                .geemap-dark {\n",
       "                    --jp-widgets-color: white;\n",
       "                    --jp-widgets-label-color: white;\n",
       "                    --jp-ui-font-color1: white;\n",
       "                    --jp-layout-color2: #454545;\n",
       "                    background-color: #383838;\n",
       "                }\n",
       "\n",
       "                .geemap-dark .jupyter-button {\n",
       "                    --jp-layout-color3: #383838;\n",
       "                }\n",
       "\n",
       "                .geemap-colab {\n",
       "                    background-color: var(--colab-primary-surface-color, white);\n",
       "                }\n",
       "\n",
       "                .geemap-colab .jupyter-button {\n",
       "                    --jp-layout-color3: var(--colab-primary-surface-color, white);\n",
       "                }\n",
       "            </style>\n",
       "            "
      ],
      "text/plain": [
       "<IPython.core.display.HTML object>"
      ]
     },
     "metadata": {},
     "output_type": "display_data"
    }
   ],
   "source": [
    "# Compute zonal statistics across Canada\n",
    "canada = countries.filter(ee.Filter.eq('COUNTRY_NA', 'Canada'))\n",
    "\n",
    "# clip zonal stat images to collection\n",
    "# since canada is big and complex image collection\n",
    "bio_stock_2021_can = bio_stock_2021.clipToCollection(canada)\n",
    "soc_blend_stock_can = soc_blend_stock.clipToCollection(canada)\n",
    "\n",
    "# define geometry bigger than canada\n",
    "big_geo = ee.Geometry.Rectangle(\n",
    "    coords=[-148, 38, -45, 85],\n",
    "    proj=ee.Projection('EPSG:4326'),  # Explicitly defining the projection,\n",
    "    geodesic=False)\n",
    "\n",
    "# Create a Feature with this geometry\n",
    "big_feature = ee.Feature(big_geo, {\"name\": \"Bigger than Canada\"})\n",
    "\n",
    "# Create a FeatureCollection\n",
    "big_fc = ee.FeatureCollection([big_feature])\n",
    "\n",
    "# define image and reducer list for zonal stats\n",
    "img_list_can = [bio_stock_2021_can, soc_blend_stock_can]\n",
    "redu_list_can = [ee.Reducer.sum(), ee.Reducer.sum()]\n",
    "\n",
    "# Compute zonal statistics across canada\n",
    "canada_carbon = big_fc.map(lambda feature: calc_zonal_stats(\n",
    "    feature, img_list_can, redu_list_can))\n",
    "\n",
    "# # convert to df\n",
    "# canada_df = ee.data.computeFeatures({\n",
    "#     'expression': canada_carbon,\n",
    "#     'fileFormat': 'PANDAS_DATAFRAME'\n",
    "# })\n",
    "\n",
    "# export to drive\n",
    "# too big a process to load directly\n",
    "ee.batch.Export.table.toDrive(\n",
    "    collection=canada_carbon,\n",
    "    description=\"canada_carbon_stock\",\n",
    "    folder=\"carbon_stock_outputs\",\n",
    "    fileFormat=\"CSV\"\n",
    ").start()"
   ]
  },
  {
   "cell_type": "code",
   "execution_count": null,
   "metadata": {},
   "outputs": [
    {
     "data": {
      "text/html": [
       "\n",
       "            <style>\n",
       "                .geemap-dark {\n",
       "                    --jp-widgets-color: white;\n",
       "                    --jp-widgets-label-color: white;\n",
       "                    --jp-ui-font-color1: white;\n",
       "                    --jp-layout-color2: #454545;\n",
       "                    background-color: #383838;\n",
       "                }\n",
       "\n",
       "                .geemap-dark .jupyter-button {\n",
       "                    --jp-layout-color3: #383838;\n",
       "                }\n",
       "\n",
       "                .geemap-colab {\n",
       "                    background-color: var(--colab-primary-surface-color, white);\n",
       "                }\n",
       "\n",
       "                .geemap-colab .jupyter-button {\n",
       "                    --jp-layout-color3: var(--colab-primary-surface-color, white);\n",
       "                }\n",
       "            </style>\n",
       "            "
      ],
      "text/plain": [
       "<IPython.core.display.HTML object>"
      ]
     },
     "metadata": {},
     "output_type": "display_data"
    }
   ],
   "source": [
    "# save to disk from drive and reload as df\n",
    "canada_df = pd.read_csv('./outputs/drive/canada_carbon_stock.csv')\n",
    "\n",
    "# add density values\n",
    "canada_df = calc_addl_stats(canada_df)\n",
    "\n",
    "# drop geometry, round values and export as csv\n",
    "canada_df.drop(['.geo', 'name', 'system:index'], axis=1).round(2).to_csv(\n",
    "    out_folder + 'canada_carbon_stocks.csv', index=False)"
   ]
  },
  {
   "cell_type": "code",
   "execution_count": null,
   "metadata": {},
   "outputs": [
    {
     "data": {
      "text/html": [
       "\n",
       "            <style>\n",
       "                .geemap-dark {\n",
       "                    --jp-widgets-color: white;\n",
       "                    --jp-widgets-label-color: white;\n",
       "                    --jp-ui-font-color1: white;\n",
       "                    --jp-layout-color2: #454545;\n",
       "                    background-color: #383838;\n",
       "                }\n",
       "\n",
       "                .geemap-dark .jupyter-button {\n",
       "                    --jp-layout-color3: #383838;\n",
       "                }\n",
       "\n",
       "                .geemap-colab {\n",
       "                    background-color: var(--colab-primary-surface-color, white);\n",
       "                }\n",
       "\n",
       "                .geemap-colab .jupyter-button {\n",
       "                    --jp-layout-color3: var(--colab-primary-surface-color, white);\n",
       "                }\n",
       "            </style>\n",
       "            "
      ],
      "text/plain": [
       "<IPython.core.display.HTML object>"
      ]
     },
     "metadata": {},
     "output_type": "display_data"
    }
   ],
   "source": [
    "# compute zonal statistics across landcover types\n",
    "# bio first\n",
    "lc_df = calc_lc_stats(bio_stock_2021, lc, y2y.geometry(),\n",
    "                      bio_stock_2021.select(0).projection().nominalScale())\n",
    "\n",
    "# merge with soc\n",
    "lc_df = lc_df.merge(\n",
    "    calc_lc_stats(soc_blend_stock, lc, y2y.geometry(),\n",
    "                  bio_stock_2021.select(0).projection().nominalScale()),\n",
    "    on=['lc']\n",
    ")\n",
    "\n",
    "# drop duplicate pixel_area_ha_column\n",
    "lc_df = lc_df.drop(columns=['pixel_area_ha_y']).rename(\n",
    "    columns={'pixel_area_ha_x': 'pixel_area_ha'})\n",
    "\n",
    "# add density values\n",
    "lc_df = calc_addl_stats(lc_df)\n",
    "\n",
    "# set landcover mapping key\n",
    "landcover_mapping = {\n",
    "    1: \"Temperate or sub-polar needleleaf forest\",\n",
    "    2: \"Sub-polar taiga needleleaf forest\",\n",
    "    3: \"Tropical or sub-tropical broadleaf evergreen forest\",\n",
    "    4: \"Tropical or sub-tropical broadleaf deciduous forest\",\n",
    "    5: \"Temperate or sub-polar broadleaf deciduous forest\",\n",
    "    6: \"Mixed forest\",\n",
    "    7: \"Tropical or sub-tropical shrubland\",\n",
    "    8: \"Temperate or sub-polar shrubland\",\n",
    "    9: \"Tropical or sub-tropical grassland\",\n",
    "    10: \"Temperate or sub-polar grassland\",\n",
    "    11: \"Sub-polar or polar shrubland-lichen-moss\",\n",
    "    12: \"Sub-polar or polar grassland-lichen-moss\",\n",
    "    13: \"Sub-polar or polar barren-lichen-moss\",\n",
    "    14: \"Wetland\",\n",
    "    15: \"Cropland\",\n",
    "    16: \"Barren land\",\n",
    "    17: \"Urban and built-up\",\n",
    "    18: \"Water\",\n",
    "    19: \"Snow and ice\"\n",
    "}\n",
    "\n",
    "# map landcover names\n",
    "lc_df['lc'] = lc_df['lc'].map(landcover_mapping)\n",
    "lc_df\n",
    "\n",
    "# round values and export as csv\n",
    "lc_df.round(2).to_csv(\n",
    "    out_folder + 'y2y_lc_carbon_stocks.csv', index=False)"
   ]
  },
  {
   "cell_type": "code",
   "execution_count": null,
   "metadata": {},
   "outputs": [
    {
     "data": {
      "text/html": [
       "\n",
       "            <style>\n",
       "                .geemap-dark {\n",
       "                    --jp-widgets-color: white;\n",
       "                    --jp-widgets-label-color: white;\n",
       "                    --jp-ui-font-color1: white;\n",
       "                    --jp-layout-color2: #454545;\n",
       "                    background-color: #383838;\n",
       "                }\n",
       "\n",
       "                .geemap-dark .jupyter-button {\n",
       "                    --jp-layout-color3: #383838;\n",
       "                }\n",
       "\n",
       "                .geemap-colab {\n",
       "                    background-color: var(--colab-primary-surface-color, white);\n",
       "                }\n",
       "\n",
       "                .geemap-colab .jupyter-button {\n",
       "                    --jp-layout-color3: var(--colab-primary-surface-color, white);\n",
       "                }\n",
       "            </style>\n",
       "            "
      ],
      "text/plain": [
       "<IPython.core.display.HTML object>"
      ]
     },
     "metadata": {},
     "output_type": "display_data"
    }
   ],
   "source": [
    "# # Compute zonal statistics across Canada by province\n",
    "# # load province features\n",
    "# provinces = ee.FeatureCollection(\n",
    "#     'FAO/GAUL/2015/level1').filter(ee.Filter.eq('ADM0_NAME', 'Canada'))\n",
    "\n",
    "# # Get distinct values for the property \"ADM1_NAME\"\n",
    "# adm1_names = provinces.aggregate_array(\"ADM1_NAME\").distinct().getInfo()\n",
    "\n",
    "# # loop through adm1_names\n",
    "# for i, name in enumerate(adm1_names):\n",
    "\n",
    "#     # filter roi\n",
    "#     roi = provinces.filter(ee.Filter.inList(\"ADM1_NAME\", [name]))\n",
    "\n",
    "#     # Compute zonal statistics\n",
    "#     roi_carbon = roi.map(lambda feature: calc_zonal_stats(\n",
    "#         feature, img_list, redu_list))\n",
    "\n",
    "#     # export to drive\n",
    "#     ee.batch.Export.table.toDrive(\n",
    "#         collection=roi_carbon,\n",
    "#         description=name[:5] + \"_carbon_stock\",\n",
    "#         folder=\"carbon_stock_outputs\",\n",
    "#         fileFormat=\"CSV\"\n",
    "#     ).start()\n",
    "\n",
    "#     # # if first create roi_df\n",
    "#     # if i == 0:\n",
    "\n",
    "#     #     roi_df = ee.data.computeFeatures({\n",
    "#     #         'expression': roi_carbon,\n",
    "#     #         'fileFormat': 'PANDAS_DATAFRAME'\n",
    "#     #     })\n",
    "\n",
    "#     # # else concat dfs\n",
    "#     # else:\n",
    "\n",
    "#     #     addl_df = ee.data.computeFeatures({\n",
    "#     #         'expression': roi_carbon,\n",
    "#     #         'fileFormat': 'PANDAS_DATAFRAME'\n",
    "#     #     })\n",
    "\n",
    "#     #     roi_df = pd.concat([roi_df, addl_df], ignore_index=True)"
   ]
  },
  {
   "cell_type": "markdown",
   "metadata": {},
   "source": [
    "## Export Rasters"
   ]
  },
  {
   "cell_type": "code",
   "execution_count": null,
   "metadata": {},
   "outputs": [
    {
     "data": {
      "text/html": [
       "\n",
       "            <style>\n",
       "                .geemap-dark {\n",
       "                    --jp-widgets-color: white;\n",
       "                    --jp-widgets-label-color: white;\n",
       "                    --jp-ui-font-color1: white;\n",
       "                    --jp-layout-color2: #454545;\n",
       "                    background-color: #383838;\n",
       "                }\n",
       "\n",
       "                .geemap-dark .jupyter-button {\n",
       "                    --jp-layout-color3: #383838;\n",
       "                }\n",
       "\n",
       "                .geemap-colab {\n",
       "                    background-color: var(--colab-primary-surface-color, white);\n",
       "                }\n",
       "\n",
       "                .geemap-colab .jupyter-button {\n",
       "                    --jp-layout-color3: var(--colab-primary-surface-color, white);\n",
       "                }\n",
       "            </style>\n",
       "            "
      ],
      "text/plain": [
       "<IPython.core.display.HTML object>"
      ]
     },
     "metadata": {},
     "output_type": "display_data"
    },
    {
     "name": "stderr",
     "output_type": "stream",
     "text": [
      "Consider adjusting `region`, `scale` and/or `dtype` to reduce the biomass_2021_t_ha.tif download size (raw: 249.34 GB).\n"
     ]
    },
    {
     "data": {
      "application/vnd.jupyter.widget-view+json": {
       "model_id": "fa2787474e664709b809656b9b66b859",
       "version_major": 2,
       "version_minor": 0
      },
      "text/plain": [
       "biomass_2021_t_ha.tif: |          | 0.00/249G (raw) [  0.0%] in 00:00 (eta:     ?)"
      ]
     },
     "metadata": {},
     "output_type": "display_data"
    }
   ],
   "source": [
    "# export rasters to disk in native resolution\n",
    "data_folder = './carbon_stock_data/output_layers/'\n",
    "\n",
    "bio_2021_out = bio_2021.addBands(bio_2021.select('agb_t_ha').add(\n",
    "    bio_2021.select('bgb_t_ha')).rename('tob_t_ha'))\n",
    "\n",
    "geemap.download_ee_image(bio_2021_out,\n",
    "                         filename=data_folder + 'biomass_2021_t_ha.tif',\n",
    "                         region=y2y.geometry(),\n",
    "                         crs=bio_2021.projection().getInfo().get('crs'),\n",
    "                         crs_transform=bio_2021.projection().getInfo().get('transform'))\n",
    "\n",
    "# geemap.download_ee_image(soc_blend,\n",
    "#                          filename=data_folder + 'soc_0_1m_t_ha.tif',\n",
    "#                          region=y2y.geometry(),\n",
    "#                          crs=soc_blend.projection().getInfo().get('crs'),\n",
    "#                          crs_transform=soc_blend.projection().getInfo().get('transform'))"
   ]
  },
  {
   "cell_type": "markdown",
   "metadata": {},
   "source": [
    "## Export results to google drive (no longer using this method)"
   ]
  },
  {
   "cell_type": "code",
   "execution_count": null,
   "metadata": {},
   "outputs": [
    {
     "data": {
      "text/html": [
       "\n",
       "            <style>\n",
       "                .geemap-dark {\n",
       "                    --jp-widgets-color: white;\n",
       "                    --jp-widgets-label-color: white;\n",
       "                    --jp-ui-font-color1: white;\n",
       "                    --jp-layout-color2: #454545;\n",
       "                    background-color: #383838;\n",
       "                }\n",
       "\n",
       "                .geemap-dark .jupyter-button {\n",
       "                    --jp-layout-color3: #383838;\n",
       "                }\n",
       "\n",
       "                .geemap-colab {\n",
       "                    background-color: var(--colab-primary-surface-color, white);\n",
       "                }\n",
       "\n",
       "                .geemap-colab .jupyter-button {\n",
       "                    --jp-layout-color3: var(--colab-primary-surface-color, white);\n",
       "                }\n",
       "            </style>\n",
       "            "
      ],
      "text/plain": [
       "<IPython.core.display.HTML object>"
      ]
     },
     "metadata": {},
     "output_type": "display_data"
    }
   ],
   "source": [
    "# # export results to google drive\n",
    "# ee.batch.Export.table.toDrive(\n",
    "#     collection=y2y_carbon,\n",
    "#     description=\"y2y_carbon_stock\",\n",
    "#     folder=\"carbon_stock_outputs\",\n",
    "#     fileFormat=\"CSV\"\n",
    "# ).start()\n",
    "\n",
    "# ee.batch.Export.table.toDrive(\n",
    "#     collection=eco_carbon,\n",
    "#     description=\"y2y_ecoregions_carbon_stock\",\n",
    "#     folder=\"carbon_stock_outputs\",\n",
    "#     fileFormat=\"CSV\"\n",
    "# ).start()\n",
    "\n",
    "# ee.batch.Export.table.toDrive(\n",
    "#     collection=biome_carbon,\n",
    "#     description=\"y2y_biomes_carbon_stock\",\n",
    "#     folder=\"carbon_stock_outputs\",\n",
    "#     fileFormat=\"CSV\"\n",
    "# ).start()\n",
    "\n",
    "# ee.batch.Export.table.toDrive(\n",
    "#     collection=protected_areas_carbon,\n",
    "#     description=\"y2y_protected_areas_carbon_stock\",\n",
    "#     folder=\"carbon_stock_outputs\",\n",
    "#     fileFormat=\"CSV\"\n",
    "# ).start()\n",
    "\n",
    "# ee.batch.Export.table.toDrive(\n",
    "#     collection=y2y_can_carbon,\n",
    "#     description=\"y2y_canada_carbon_stock\",\n",
    "#     folder=\"carbon_stock_outputs\",\n",
    "#     fileFormat=\"CSV\"\n",
    "# ).start()\n",
    "\n",
    "# ee.batch.Export.table.toDrive(\n",
    "#     collection=canada_carbon,\n",
    "#     description=\"canada_carbon_stock\",\n",
    "#     folder=\"carbon_stock_outputs\",\n",
    "#     fileFormat=\"CSV\"\n",
    "# ).start()"
   ]
  },
  {
   "cell_type": "markdown",
   "metadata": {},
   "source": [
    "## Add layers to map"
   ]
  },
  {
   "cell_type": "code",
   "execution_count": 17,
   "metadata": {},
   "outputs": [
    {
     "data": {
      "text/html": [
       "\n",
       "            <style>\n",
       "                .geemap-dark {\n",
       "                    --jp-widgets-color: white;\n",
       "                    --jp-widgets-label-color: white;\n",
       "                    --jp-ui-font-color1: white;\n",
       "                    --jp-layout-color2: #454545;\n",
       "                    background-color: #383838;\n",
       "                }\n",
       "\n",
       "                .geemap-dark .jupyter-button {\n",
       "                    --jp-layout-color3: #383838;\n",
       "                }\n",
       "\n",
       "                .geemap-colab {\n",
       "                    background-color: var(--colab-primary-surface-color, white);\n",
       "                }\n",
       "\n",
       "                .geemap-colab .jupyter-button {\n",
       "                    --jp-layout-color3: var(--colab-primary-surface-color, white);\n",
       "                }\n",
       "            </style>\n",
       "            "
      ],
      "text/plain": [
       "<IPython.core.display.HTML object>"
      ]
     },
     "metadata": {},
     "output_type": "display_data"
    }
   ],
   "source": [
    "# set biomass palette\n",
    "biomass_palette = [\n",
    "    \"#C6ECAE\", \"#A1D490\", \"#7CB970\", \"#57A751\", \"#348E32\",\n",
    "    \"#267A29\", \"#176520\", \"#0C4E15\", \"#07320D\", \"#031807\"\n",
    "]\n",
    "\n",
    "# set land cover palette\n",
    "lc_palette = [\n",
    "    \"#033e00\",  # Temperate or sub-polar needleleaf forest\n",
    "    \"#939b71\",  # Sub-polar taiga needleleaf forest\n",
    "    \"#196d12\",  # Tropical or sub-tropical broadleaf evergreen forest\n",
    "    \"#1fab01\",  # Tropical or sub-tropical broadleaf deciduous forest\n",
    "    \"#5b725c\",  # Temperate or sub-polar broadleaf deciduous forest\n",
    "    \"#6b7d2c\",  # Mixed forest\n",
    "    \"#b29d29\",  # Tropical or sub-tropical shrubland\n",
    "    \"#b48833\",  # Temperate or sub-polar shrubland\n",
    "    \"#e9da5d\",  # Tropical or sub-tropical grassland\n",
    "    \"#e0cd88\",  # Temperate or sub-polar grassland\n",
    "    \"#a07451\",  # Sub-polar or polar shrubland-lichen-moss\n",
    "    \"#bad292\",  # Sub-polar or polar grassland-lichen-moss\n",
    "    \"#3f8970\",  # Sub-polar or polar barren-lichen-moss\n",
    "    \"#6ca289\",  # Wetland\n",
    "    \"#e6ad6a\",  # Cropland\n",
    "    \"#a9abae\",  # Barren land\n",
    "    \"#db2126\",  # Urban and built-up\n",
    "    \"#4c73a1\",  # Water\n",
    "    \"#fff7fe\",  # Snow and ice\n",
    "]"
   ]
  },
  {
   "cell_type": "code",
   "execution_count": null,
   "metadata": {},
   "outputs": [
    {
     "data": {
      "text/html": [
       "\n",
       "            <style>\n",
       "                .geemap-dark {\n",
       "                    --jp-widgets-color: white;\n",
       "                    --jp-widgets-label-color: white;\n",
       "                    --jp-ui-font-color1: white;\n",
       "                    --jp-layout-color2: #454545;\n",
       "                    background-color: #383838;\n",
       "                }\n",
       "\n",
       "                .geemap-dark .jupyter-button {\n",
       "                    --jp-layout-color3: #383838;\n",
       "                }\n",
       "\n",
       "                .geemap-colab {\n",
       "                    background-color: var(--colab-primary-surface-color, white);\n",
       "                }\n",
       "\n",
       "                .geemap-colab .jupyter-button {\n",
       "                    --jp-layout-color3: var(--colab-primary-surface-color, white);\n",
       "                }\n",
       "            </style>\n",
       "            "
      ],
      "text/plain": [
       "<IPython.core.display.HTML object>"
      ]
     },
     "metadata": {},
     "output_type": "display_data"
    },
    {
     "data": {
      "application/vnd.jupyter.widget-view+json": {
       "model_id": "fb148c2aa49c4837b4d51c169de8ec4d",
       "version_major": 2,
       "version_minor": 0
      },
      "text/plain": [
       "Map(center=[0, 0], controls=(WidgetControl(options=['position', 'transparent_bg'], widget=SearchDataGUI(childr…"
      ]
     },
     "execution_count": 34,
     "metadata": {},
     "output_type": "execute_result"
    }
   ],
   "source": [
    "# create a map\n",
    "m = geemap.Map()\n",
    "\n",
    "# add layers\n",
    "# m.addLayer(soc_blend, {\"min\": 1, \"max\": 450, \"palette\": biomass_palette}, \"SOC Density Blend 0-1m\")\n",
    "# m.addLayer(rsr, {}, 'Root-to-Shoot Ratio Global')\n",
    "# m.addLayer(bio_2021.select(['agb_t_ha']).clip(y2y), {\n",
    "#           \"min\": 1, \"max\": 100, \"palette\": biomass_palette}, 'CCI AGB Density')\n",
    "# m.addLayer(spawn.first().select(['agb']).updateMask(spawn.first().select(['agb']).neq(0)), {\"min\": 1, \"max\": 100, \"palette\": biomass_palette}, 'Spawn AGB Density')\n",
    "# m.addLayer(bio_2021.select(['dpm_t_ha']).clip(y2y), {\"min\": 1, \"max\": 60, \"palette\": biomass_palette}, 'DPM Density')\n",
    "# m.addLayer(pixel_area_agb_extent.clip(y2y), {}, 'Carbon Mask')\n",
    "# m.addLayer(lc.clip(y2y), {\"min\": 1, \"max\": 19,\n",
    "#           \"palette\": lc_palette}, 'Landcover')\n",
    "# m.addLayer(y2y_can, {}, 'Y2Y Canada Extent')\n",
    "m.addLayer(big_fc, {}, 'Big Geo')\n",
    "\n",
    "# Display the map\n",
    "m"
   ]
  },
  {
   "cell_type": "code",
   "execution_count": null,
   "metadata": {},
   "outputs": [],
   "source": []
  }
 ],
 "metadata": {
  "kernelspec": {
   "display_name": ".venv",
   "language": "python",
   "name": "python3"
  },
  "language_info": {
   "codemirror_mode": {
    "name": "ipython",
    "version": 3
   },
   "file_extension": ".py",
   "mimetype": "text/x-python",
   "name": "python",
   "nbconvert_exporter": "python",
   "pygments_lexer": "ipython3",
   "version": "3.12.6"
  }
 },
 "nbformat": 4,
 "nbformat_minor": 2
}
