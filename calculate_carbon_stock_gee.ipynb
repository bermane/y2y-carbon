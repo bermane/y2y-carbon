{
 "cells": [
  {
   "cell_type": "code",
   "execution_count": 75,
   "metadata": {},
   "outputs": [
    {
     "data": {
      "text/html": [
       "\n",
       "            <style>\n",
       "                .geemap-dark {\n",
       "                    --jp-widgets-color: white;\n",
       "                    --jp-widgets-label-color: white;\n",
       "                    --jp-ui-font-color1: white;\n",
       "                    --jp-layout-color2: #454545;\n",
       "                    background-color: #383838;\n",
       "                }\n",
       "\n",
       "                .geemap-dark .jupyter-button {\n",
       "                    --jp-layout-color3: #383838;\n",
       "                }\n",
       "\n",
       "                .geemap-colab {\n",
       "                    background-color: var(--colab-primary-surface-color, white);\n",
       "                }\n",
       "\n",
       "                .geemap-colab .jupyter-button {\n",
       "                    --jp-layout-color3: var(--colab-primary-surface-color, white);\n",
       "                }\n",
       "            </style>\n",
       "            "
      ],
      "text/plain": [
       "<IPython.core.display.HTML object>"
      ]
     },
     "metadata": {},
     "output_type": "display_data"
    }
   ],
   "source": [
    "# import packages\n",
    "import ee\n",
    "import geemap\n",
    "\n",
    "import pandas as pd"
   ]
  },
  {
   "cell_type": "code",
   "execution_count": 76,
   "metadata": {},
   "outputs": [
    {
     "data": {
      "text/html": [
       "\n",
       "            <style>\n",
       "                .geemap-dark {\n",
       "                    --jp-widgets-color: white;\n",
       "                    --jp-widgets-label-color: white;\n",
       "                    --jp-ui-font-color1: white;\n",
       "                    --jp-layout-color2: #454545;\n",
       "                    background-color: #383838;\n",
       "                }\n",
       "\n",
       "                .geemap-dark .jupyter-button {\n",
       "                    --jp-layout-color3: #383838;\n",
       "                }\n",
       "\n",
       "                .geemap-colab {\n",
       "                    background-color: var(--colab-primary-surface-color, white);\n",
       "                }\n",
       "\n",
       "                .geemap-colab .jupyter-button {\n",
       "                    --jp-layout-color3: var(--colab-primary-surface-color, white);\n",
       "                }\n",
       "            </style>\n",
       "            "
      ],
      "text/plain": [
       "<IPython.core.display.HTML object>"
      ]
     },
     "metadata": {},
     "output_type": "display_data"
    }
   ],
   "source": [
    "# initialize the EE api\n",
    "ee.Initialize(project='ee-bermane')"
   ]
  },
  {
   "cell_type": "code",
   "execution_count": 77,
   "metadata": {},
   "outputs": [
    {
     "data": {
      "text/html": [
       "\n",
       "            <style>\n",
       "                .geemap-dark {\n",
       "                    --jp-widgets-color: white;\n",
       "                    --jp-widgets-label-color: white;\n",
       "                    --jp-ui-font-color1: white;\n",
       "                    --jp-layout-color2: #454545;\n",
       "                    background-color: #383838;\n",
       "                }\n",
       "\n",
       "                .geemap-dark .jupyter-button {\n",
       "                    --jp-layout-color3: #383838;\n",
       "                }\n",
       "\n",
       "                .geemap-colab {\n",
       "                    background-color: var(--colab-primary-surface-color, white);\n",
       "                }\n",
       "\n",
       "                .geemap-colab .jupyter-button {\n",
       "                    --jp-layout-color3: var(--colab-primary-surface-color, white);\n",
       "                }\n",
       "            </style>\n",
       "            "
      ],
      "text/plain": [
       "<IPython.core.display.HTML object>"
      ]
     },
     "metadata": {},
     "output_type": "display_data"
    }
   ],
   "source": [
    "# define EE datasets\n",
    "agb = ee.ImageCollection(\"projects/sat-io/open-datasets/ESA/ESA_CCI_AGB\")\n",
    "y2y = ee.FeatureCollection(\"projects/ee-bermane/assets/y2y\")\n",
    "lc = ee.Image(\"USGS/NLCD_RELEASES/2020_REL/NALCMS\")\n",
    "rsr = ee.Image(\"projects/ee-bermane/assets/Root_shoot_ratio_Map_Merged\")\n",
    "spawn = ee.ImageCollection(\"NASA/ORNL/biomass_carbon_density/v1\")\n",
    "countries = ee.FeatureCollection(\"USDOS/LSIB/2017\")\n",
    "y2y_ecoregions = ee.FeatureCollection(\n",
    "    \"projects/ee-bermane/assets/y2y_ecoregions\")\n",
    "y2y_biomes = ee.FeatureCollection(\"projects/ee-bermane/assets/y2y_biomes\")\n",
    "y2y_protected_areas = ee.FeatureCollection(\n",
    "    \"projects/ee-bermane/assets/y2y_protected_areas\")\n",
    "soc_olm = ee.Image(\"projects/ee-bermane/assets/soc_0_1m_kg_m2_olm\")\n",
    "soc_soilgrids = ee.Image(\"projects/soilgrids-isric/ocs_mean\")\n",
    "soc_sothe = ee.Image(\n",
    "    \"projects/ee-bermane/assets/McMaster_WWFCanada_soil_carbon1m_250m_kg-m2_version3\")\n",
    "soc_socs = ee.Image(\"projects/ee-bermane/assets/SOCS_0_1m_mg_ha_year_2010\")"
   ]
  },
  {
   "cell_type": "code",
   "execution_count": 78,
   "metadata": {},
   "outputs": [
    {
     "data": {
      "text/html": [
       "\n",
       "            <style>\n",
       "                .geemap-dark {\n",
       "                    --jp-widgets-color: white;\n",
       "                    --jp-widgets-label-color: white;\n",
       "                    --jp-ui-font-color1: white;\n",
       "                    --jp-layout-color2: #454545;\n",
       "                    background-color: #383838;\n",
       "                }\n",
       "\n",
       "                .geemap-dark .jupyter-button {\n",
       "                    --jp-layout-color3: #383838;\n",
       "                }\n",
       "\n",
       "                .geemap-colab {\n",
       "                    background-color: var(--colab-primary-surface-color, white);\n",
       "                }\n",
       "\n",
       "                .geemap-colab .jupyter-button {\n",
       "                    --jp-layout-color3: var(--colab-primary-surface-color, white);\n",
       "                }\n",
       "            </style>\n",
       "            "
      ],
      "text/plain": [
       "<IPython.core.display.HTML object>"
      ]
     },
     "metadata": {},
     "output_type": "display_data"
    }
   ],
   "source": [
    "# Define function to calculate zonal statistics\n",
    "# specify image to use and reducer type (sum(), mean())\n",
    "def calc_zonal_stats(feature, image_list, reducer_list):\n",
    "\n",
    "    # loop through image and reducer list\n",
    "    for image, reducer in zip(image_list, reducer_list):\n",
    "\n",
    "        # calculate zonal stats across features\n",
    "        stats = image.reduceRegion(\n",
    "            reducer=reducer,\n",
    "            geometry=feature.geometry(),\n",
    "            crs=image.select(0).projection(),\n",
    "            crsTransform=image.select(0).projection().getInfo().get('transform'),\n",
    "            maxPixels=1e30\n",
    "        )\n",
    "\n",
    "        # add zonal stats to feature properties\n",
    "    return feature.set(stats)\n",
    "\n",
    "# Define function to calculate feature area in km2\n",
    "\n",
    "# def calc_feature_area(feature):\n",
    "#     area_km2 = feature.geometry().area().divide(1e6)\n",
    "#     return feature.set({'area_km2_gee': area_km2})\n",
    "\n",
    "# Define function to convert FeatureCollection to DataFrame\n",
    "\n",
    "\n",
    "def fc_to_df(fc):\n",
    "    \"\"\"Extracts properties from FeatureCollection and converts to Pandas DataFrame.\"\"\"\n",
    "    features = fc.toList(fc.size()).getInfo()  # Convert to list\n",
    "    data = [feature[\"properties\"]\n",
    "            for feature in features]  # Extract properties\n",
    "    return pd.DataFrame(data)"
   ]
  },
  {
   "cell_type": "code",
   "execution_count": 79,
   "metadata": {},
   "outputs": [
    {
     "data": {
      "text/html": [
       "\n",
       "            <style>\n",
       "                .geemap-dark {\n",
       "                    --jp-widgets-color: white;\n",
       "                    --jp-widgets-label-color: white;\n",
       "                    --jp-ui-font-color1: white;\n",
       "                    --jp-layout-color2: #454545;\n",
       "                    background-color: #383838;\n",
       "                }\n",
       "\n",
       "                .geemap-dark .jupyter-button {\n",
       "                    --jp-layout-color3: #383838;\n",
       "                }\n",
       "\n",
       "                .geemap-colab {\n",
       "                    background-color: var(--colab-primary-surface-color, white);\n",
       "                }\n",
       "\n",
       "                .geemap-colab .jupyter-button {\n",
       "                    --jp-layout-color3: var(--colab-primary-surface-color, white);\n",
       "                }\n",
       "            </style>\n",
       "            "
      ],
      "text/plain": [
       "<IPython.core.display.HTML object>"
      ]
     },
     "metadata": {},
     "output_type": "display_data"
    }
   ],
   "source": [
    "# calc 2021 ESA CCI biomass\n",
    "# grab the 2021 AGB images\n",
    "agb_2021 = agb.filter(ee.Filter.stringContains(\"system:index\", \"2021\")).first()\n",
    "\n",
    "# add BGB to 2021 image using global rsr map\n",
    "# add DPM (dead wood + litter) using Harris ratio (8% + 4%)\n",
    "bio_2021 = agb_2021.addBands(\n",
    "    agb_2021.select(['AGB']).multiply(rsr).rename('BGB')\n",
    ").addBands(\n",
    "    agb_2021.select(['AGB']).multiply(0.12).rename('DPM')\n",
    ").select(['AGB', 'BGB', 'DPM'])\n",
    "\n",
    "# add total carbon to 2021 image\n",
    "bio_2021 = bio_2021.addBands(bio_2021.select(['AGB']).add(\n",
    "    bio_2021.select(['BGB'])).add(bio_2021.select(['DPM'])).rename('TOB'))\n",
    "\n",
    "# rename bands\n",
    "bio_2021 = bio_2021.rename(['agb_t_ha', 'bgb_t_ha', 'dpm_t_ha', 'tob_t_ha'])\n",
    "\n",
    "# multiply values by 0.47 to get carbon density\n",
    "# 0.47 used by Harris et al. (2021)\n",
    "bio_2021 = bio_2021.multiply(0.47).updateMask(lc.neq(18).And(lc.neq(19)))\n",
    "\n",
    "# compute per-pixel area in ha\n",
    "pixel_area_ha = ee.Image.pixelArea().divide(10000)\n",
    "\n",
    "# Create carbon layer mask to filter pixel area raster\n",
    "carbon_mask = bio_2021.select(['agb_t_ha']).mask().neq(0)\n",
    "\n",
    "# Mask pixel_area_ha to carbon layers\n",
    "pixel_area_agb_extent = pixel_area_ha.updateMask(carbon_mask)\n",
    "\n",
    "# calculate total biomass c per pixel and rename bands\n",
    "bio_stock_2021 = bio_2021.multiply(\n",
    "    pixel_area_ha\n",
    ").rename(\n",
    "    ['agb_t', 'bgb_t', 'dpm_t', 'tob_t']\n",
    ").addBands(\n",
    "    pixel_area_agb_extent.rename(['pixel_area_agb_extent_ha'])\n",
    ").addBands(\n",
    "    pixel_area_ha\n",
    ")"
   ]
  },
  {
   "cell_type": "code",
   "execution_count": 80,
   "metadata": {},
   "outputs": [
    {
     "data": {
      "text/html": [
       "\n",
       "            <style>\n",
       "                .geemap-dark {\n",
       "                    --jp-widgets-color: white;\n",
       "                    --jp-widgets-label-color: white;\n",
       "                    --jp-ui-font-color1: white;\n",
       "                    --jp-layout-color2: #454545;\n",
       "                    background-color: #383838;\n",
       "                }\n",
       "\n",
       "                .geemap-dark .jupyter-button {\n",
       "                    --jp-layout-color3: #383838;\n",
       "                }\n",
       "\n",
       "                .geemap-colab {\n",
       "                    background-color: var(--colab-primary-surface-color, white);\n",
       "                }\n",
       "\n",
       "                .geemap-colab .jupyter-button {\n",
       "                    --jp-layout-color3: var(--colab-primary-surface-color, white);\n",
       "                }\n",
       "            </style>\n",
       "            "
      ],
      "text/plain": [
       "<IPython.core.display.HTML object>"
      ]
     },
     "metadata": {},
     "output_type": "display_data"
    }
   ],
   "source": [
    "# # create a map\n",
    "# m = geemap.Map()\n",
    "\n",
    "# # add layers\n",
    "# # m.addLayer(soc_blend, {\"min\": 1, \"max\": 450, \"palette\": biomass_palette}, \"SOC Density Blend 0-1m\")\n",
    "# m.addLayer(bio_2021.select(['agb_t_ha']).clip(y2y), {}, 'AGB Density')\n",
    "# m.addLayer(pixel_area_agb_extent.clip(y2y), {}, 'Carbon Mask')\n",
    "\n",
    "# # Display the map\n",
    "# m"
   ]
  },
  {
   "cell_type": "code",
   "execution_count": 81,
   "metadata": {},
   "outputs": [
    {
     "data": {
      "text/html": [
       "\n",
       "            <style>\n",
       "                .geemap-dark {\n",
       "                    --jp-widgets-color: white;\n",
       "                    --jp-widgets-label-color: white;\n",
       "                    --jp-ui-font-color1: white;\n",
       "                    --jp-layout-color2: #454545;\n",
       "                    background-color: #383838;\n",
       "                }\n",
       "\n",
       "                .geemap-dark .jupyter-button {\n",
       "                    --jp-layout-color3: #383838;\n",
       "                }\n",
       "\n",
       "                .geemap-colab {\n",
       "                    background-color: var(--colab-primary-surface-color, white);\n",
       "                }\n",
       "\n",
       "                .geemap-colab .jupyter-button {\n",
       "                    --jp-layout-color3: var(--colab-primary-surface-color, white);\n",
       "                }\n",
       "            </style>\n",
       "            "
      ],
      "text/plain": [
       "<IPython.core.display.HTML object>"
      ]
     },
     "metadata": {},
     "output_type": "display_data"
    }
   ],
   "source": [
    "# calc open land map soc\n",
    "# multiply by 10 to get t/ha\n",
    "# mask water/snow/ice\n",
    "soc_olm = soc_olm.multiply(10).rename(\n",
    "    'soc_dens').updateMask(lc.neq(18).And(lc.neq(19)))\n",
    "\n",
    "# multiply by pixel area to get total carbon per pixel\n",
    "soc_olm_stock = soc_olm.multiply(pixel_area_ha).rename('total_olm_soc')\n",
    "\n",
    "# reproject to match sothe to blend images\n",
    "soc_olm_reproj_sothe = soc_olm.resample('bilinear').toFloat()"
   ]
  },
  {
   "cell_type": "code",
   "execution_count": 82,
   "metadata": {},
   "outputs": [
    {
     "data": {
      "text/html": [
       "\n",
       "            <style>\n",
       "                .geemap-dark {\n",
       "                    --jp-widgets-color: white;\n",
       "                    --jp-widgets-label-color: white;\n",
       "                    --jp-ui-font-color1: white;\n",
       "                    --jp-layout-color2: #454545;\n",
       "                    background-color: #383838;\n",
       "                }\n",
       "\n",
       "                .geemap-dark .jupyter-button {\n",
       "                    --jp-layout-color3: #383838;\n",
       "                }\n",
       "\n",
       "                .geemap-colab {\n",
       "                    background-color: var(--colab-primary-surface-color, white);\n",
       "                }\n",
       "\n",
       "                .geemap-colab .jupyter-button {\n",
       "                    --jp-layout-color3: var(--colab-primary-surface-color, white);\n",
       "                }\n",
       "            </style>\n",
       "            "
      ],
      "text/plain": [
       "<IPython.core.display.HTML object>"
      ]
     },
     "metadata": {},
     "output_type": "display_data"
    }
   ],
   "source": [
    "# calc sothe soc\n",
    "# multiply by 10 to get t/ha\n",
    "# mask water/snow/ice\n",
    "soc_sothe = soc_sothe.multiply(10).rename(\n",
    "    'soc_dens').updateMask(lc.neq(18).And(lc.neq(19)))\n",
    "\n",
    "# blend sothe and olm carbon across y2y\n",
    "soc_blend = ee.ImageCollection([soc_olm_reproj_sothe, soc_sothe]).mosaic().rename('soc_blend_t_ha').reproject(\n",
    "    crs=soc_sothe.projection(),\n",
    "    crsTransform=soc_sothe.projection().getInfo().get('transform')\n",
    ").updateMask(lc.neq(18).And(lc.neq(19)))\n",
    "\n",
    "# Create soc layer mask to filter pixel area raster\n",
    "soc_mask = soc_blend.mask().neq(0)\n",
    "\n",
    "# Mask pixel_area_ha to carbon layers\n",
    "pixel_area_soc_extent = pixel_area_ha.updateMask(soc_mask)\n",
    "\n",
    "# multiply by pixel area to get total carbon per pixel\n",
    "soc_blend_stock = soc_blend.multiply(pixel_area_ha).rename('soc_blend_t').addBands(\n",
    "    pixel_area_soc_extent.rename(['pixel_area_soc_extent_ha'])\n",
    ").addBands(\n",
    "    pixel_area_ha\n",
    ")"
   ]
  },
  {
   "cell_type": "code",
   "execution_count": 83,
   "metadata": {},
   "outputs": [
    {
     "data": {
      "text/html": [
       "\n",
       "            <style>\n",
       "                .geemap-dark {\n",
       "                    --jp-widgets-color: white;\n",
       "                    --jp-widgets-label-color: white;\n",
       "                    --jp-ui-font-color1: white;\n",
       "                    --jp-layout-color2: #454545;\n",
       "                    background-color: #383838;\n",
       "                }\n",
       "\n",
       "                .geemap-dark .jupyter-button {\n",
       "                    --jp-layout-color3: #383838;\n",
       "                }\n",
       "\n",
       "                .geemap-colab {\n",
       "                    background-color: var(--colab-primary-surface-color, white);\n",
       "                }\n",
       "\n",
       "                .geemap-colab .jupyter-button {\n",
       "                    --jp-layout-color3: var(--colab-primary-surface-color, white);\n",
       "                }\n",
       "            </style>\n",
       "            "
      ],
      "text/plain": [
       "<IPython.core.display.HTML object>"
      ]
     },
     "metadata": {},
     "output_type": "display_data"
    }
   ],
   "source": [
    "# # create a map\n",
    "# m = geemap.Map()\n",
    "\n",
    "# # add layers\n",
    "# # m.addLayer(soc_blend, {\"min\": 1, \"max\": 450, \"palette\": biomass_palette}, \"SOC Density Blend 0-1m\")\n",
    "# m.addLayer(soc_blend.clip(y2y), {}, 'SOC Density')\n",
    "# m.addLayer(pixel_area_soc_extent.clip(y2y), {}, 'SOC Mask')\n",
    "\n",
    "# # Display the map\n",
    "# m"
   ]
  },
  {
   "cell_type": "code",
   "execution_count": 84,
   "metadata": {},
   "outputs": [
    {
     "data": {
      "text/html": [
       "\n",
       "            <style>\n",
       "                .geemap-dark {\n",
       "                    --jp-widgets-color: white;\n",
       "                    --jp-widgets-label-color: white;\n",
       "                    --jp-ui-font-color1: white;\n",
       "                    --jp-layout-color2: #454545;\n",
       "                    background-color: #383838;\n",
       "                }\n",
       "\n",
       "                .geemap-dark .jupyter-button {\n",
       "                    --jp-layout-color3: #383838;\n",
       "                }\n",
       "\n",
       "                .geemap-colab {\n",
       "                    background-color: var(--colab-primary-surface-color, white);\n",
       "                }\n",
       "\n",
       "                .geemap-colab .jupyter-button {\n",
       "                    --jp-layout-color3: var(--colab-primary-surface-color, white);\n",
       "                }\n",
       "            </style>\n",
       "            "
      ],
      "text/plain": [
       "<IPython.core.display.HTML object>"
      ]
     },
     "metadata": {},
     "output_type": "display_data"
    }
   ],
   "source": [
    "# calc socs soc\n",
    "# mask water/snow/ice\n",
    "soc_socs = soc_socs.rename('soc_socs_t_ha').updateMask(\n",
    "    lc.neq(18).And(lc.neq(19)))\n",
    "\n",
    "# Create soc layer mask to filter pixel area raster\n",
    "socs_mask = soc_socs.mask().neq(0)\n",
    "\n",
    "# Mask pixel_area_ha to carbon layers\n",
    "pixel_area_socs_extent = pixel_area_ha.updateMask(socs_mask)\n",
    "\n",
    "# multiply by pixel area to get total carbon per pixel\n",
    "soc_socs_stock = soc_socs.multiply(pixel_area_ha).rename('soc_socs_t').addBands(\n",
    "    pixel_area_socs_extent.rename(['pixel_area_model_extent_ha'])\n",
    ").addBands(\n",
    "    pixel_area_ha\n",
    ")"
   ]
  },
  {
   "cell_type": "code",
   "execution_count": 85,
   "metadata": {},
   "outputs": [
    {
     "data": {
      "text/html": [
       "\n",
       "            <style>\n",
       "                .geemap-dark {\n",
       "                    --jp-widgets-color: white;\n",
       "                    --jp-widgets-label-color: white;\n",
       "                    --jp-ui-font-color1: white;\n",
       "                    --jp-layout-color2: #454545;\n",
       "                    background-color: #383838;\n",
       "                }\n",
       "\n",
       "                .geemap-dark .jupyter-button {\n",
       "                    --jp-layout-color3: #383838;\n",
       "                }\n",
       "\n",
       "                .geemap-colab {\n",
       "                    background-color: var(--colab-primary-surface-color, white);\n",
       "                }\n",
       "\n",
       "                .geemap-colab .jupyter-button {\n",
       "                    --jp-layout-color3: var(--colab-primary-surface-color, white);\n",
       "                }\n",
       "            </style>\n",
       "            "
      ],
      "text/plain": [
       "<IPython.core.display.HTML object>"
      ]
     },
     "metadata": {},
     "output_type": "display_data"
    },
    {
     "name": "stdout",
     "output_type": "stream",
     "text": [
      "Biomass Carbon Density Scale:  98.95065848290943\n",
      "Biomass Carbon Total Scale:  98.95065848290943\n",
      "SOC Density Blend Scale:  250.00021298953834\n",
      "SOC Total Blend Scale:  250.00021298953834\n"
     ]
    }
   ],
   "source": [
    "# check scale of layers\n",
    "print('Biomass Carbon Density Scale: ',\n",
    "      bio_2021.projection().nominalScale().getInfo())\n",
    "print('Biomass Carbon Total Scale: ',\n",
    "      bio_stock_2021.select(['agb_t']).projection().nominalScale().getInfo())\n",
    "#print('SOC Density Sothe Scale: ', soc_sothe.projection().nominalScale().getInfo())\n",
    "print('SOC Density Blend Scale: ', soc_blend.select(['soc_blend_t_ha']).projection().nominalScale().getInfo())\n",
    "print('SOC Total Blend Scale: ',\n",
    "      soc_blend_stock.select(['soc_blend_t']).projection().nominalScale().getInfo())\n",
    "#print('SOC Density OLM Scale: ', soc_olm.projection().nominalScale().getInfo())"
   ]
  },
  {
   "cell_type": "markdown",
   "metadata": {},
   "source": [
    "## Compute zonal statistics and convert results to dataframe"
   ]
  },
  {
   "cell_type": "code",
   "execution_count": 86,
   "metadata": {},
   "outputs": [
    {
     "data": {
      "text/html": [
       "\n",
       "            <style>\n",
       "                .geemap-dark {\n",
       "                    --jp-widgets-color: white;\n",
       "                    --jp-widgets-label-color: white;\n",
       "                    --jp-ui-font-color1: white;\n",
       "                    --jp-layout-color2: #454545;\n",
       "                    background-color: #383838;\n",
       "                }\n",
       "\n",
       "                .geemap-dark .jupyter-button {\n",
       "                    --jp-layout-color3: #383838;\n",
       "                }\n",
       "\n",
       "                .geemap-colab {\n",
       "                    background-color: var(--colab-primary-surface-color, white);\n",
       "                }\n",
       "\n",
       "                .geemap-colab .jupyter-button {\n",
       "                    --jp-layout-color3: var(--colab-primary-surface-color, white);\n",
       "                }\n",
       "            </style>\n",
       "            "
      ],
      "text/plain": [
       "<IPython.core.display.HTML object>"
      ]
     },
     "metadata": {},
     "output_type": "display_data"
    }
   ],
   "source": [
    "# define image and reducer list for zonal stats\n",
    "img_list = [bio_stock_2021, bio_2021, soc_blend_stock, soc_blend, soc_socs_stock, soc_socs]\n",
    "redu_list = [ee.Reducer.sum(), ee.Reducer.mean(), ee.Reducer.sum(), ee.Reducer.mean(), ee.Reducer.sum(), ee.Reducer.mean()]\n",
    "\n",
    "# Compute zonal statistics across Y2Y region\n",
    "y2y_carbon = y2y.map(lambda feature: calc_zonal_stats(\n",
    "    feature, img_list, redu_list))\n",
    "\n",
    "# Compute zonal statistics across ecoregions\n",
    "eco_carbon = y2y_ecoregions.map(lambda feature: calc_zonal_stats(\n",
    "    feature, img_list, redu_list))\n",
    "\n",
    "# Compute zonal statistics across biomes\n",
    "biome_carbon = y2y_biomes.map(lambda feature: calc_zonal_stats(\n",
    "    feature, img_list, redu_list))\n",
    "\n",
    "# Compute zonal statistics across protected areas\n",
    "protected_areas_carbon = y2y_protected_areas.map(lambda feature: calc_zonal_stats(\n",
    "    feature, img_list, redu_list))\n",
    "\n",
    "# get canada and y2y geometry\n",
    "canada = ee.FeatureCollection(\"USDOS/LSIB/2017\").filter(ee.Filter.eq('COUNTRY_NA', 'Canada'))\n",
    "can_geo = canada.geometry()\n",
    "y2y_geo = y2y.geometry()\n",
    "\n",
    "# get intersection of geometries\n",
    "y2y_can_geo = y2y_geo.intersection(can_geo)\n",
    "\n",
    "# create feature collection\n",
    "y2y_can = ee.FeatureCollection(y2y_can_geo)\n",
    "\n",
    "# Compute zonal statistics across y2y in canada\n",
    "y2y_can_carbon = y2y.map(lambda feature: calc_zonal_stats(\n",
    "    feature, img_list, redu_list))\n",
    "\n",
    "# # Compute zonal statistics across Canada\n",
    "# canada = countries.filter(ee.Filter.eq('COUNTRY_NA', 'Canada'))\n",
    "# # img_list_can = [bio_stock_2021, bio_2021, soc_blend, soc_socs]\n",
    "# # redu_list_can = [ee.Reducer.sum(), ee.Reducer.mean(), ee.Reducer.sum(),ee.Reducer.mean(), ee.Reducer.mean(), ee.Reducer.mean()]\n",
    "# img_list_can = [bio_stock_2021]\n",
    "# redu_list_can = [ee.Reducer.sum()]\n",
    "# canada_carbon = canada.map(lambda feature: calc_zonal_stats(\n",
    "#     feature, img_list_can, redu_list_can))"
   ]
  },
  {
   "cell_type": "code",
   "execution_count": 87,
   "metadata": {},
   "outputs": [
    {
     "data": {
      "text/html": [
       "\n",
       "            <style>\n",
       "                .geemap-dark {\n",
       "                    --jp-widgets-color: white;\n",
       "                    --jp-widgets-label-color: white;\n",
       "                    --jp-ui-font-color1: white;\n",
       "                    --jp-layout-color2: #454545;\n",
       "                    background-color: #383838;\n",
       "                }\n",
       "\n",
       "                .geemap-dark .jupyter-button {\n",
       "                    --jp-layout-color3: #383838;\n",
       "                }\n",
       "\n",
       "                .geemap-colab {\n",
       "                    background-color: var(--colab-primary-surface-color, white);\n",
       "                }\n",
       "\n",
       "                .geemap-colab .jupyter-button {\n",
       "                    --jp-layout-color3: var(--colab-primary-surface-color, white);\n",
       "                }\n",
       "            </style>\n",
       "            "
      ],
      "text/plain": [
       "<IPython.core.display.HTML object>"
      ]
     },
     "metadata": {},
     "output_type": "display_data"
    }
   ],
   "source": [
    "# export results to google drive\n",
    "ee.batch.Export.table.toDrive(\n",
    "    collection=y2y_carbon,\n",
    "    description=\"y2y_carbon_stock\",\n",
    "    folder=\"carbon_stock_outputs\",\n",
    "    fileFormat=\"CSV\"\n",
    ").start()\n",
    "\n",
    "ee.batch.Export.table.toDrive(\n",
    "    collection=eco_carbon,\n",
    "    description=\"y2y_ecoregions_carbon_stock\",\n",
    "    folder=\"carbon_stock_outputs\",\n",
    "    fileFormat=\"CSV\"\n",
    ").start()\n",
    "\n",
    "ee.batch.Export.table.toDrive(\n",
    "    collection=biome_carbon,\n",
    "    description=\"y2y_biomes_carbon_stock\",\n",
    "    folder=\"carbon_stock_outputs\",\n",
    "    fileFormat=\"CSV\"\n",
    ").start()\n",
    "\n",
    "ee.batch.Export.table.toDrive(\n",
    "    collection=protected_areas_carbon,\n",
    "    description=\"y2y_protected_areas_carbon_stock\",\n",
    "    folder=\"carbon_stock_outputs\",\n",
    "    fileFormat=\"CSV\"\n",
    ").start()\n",
    "\n",
    "ee.batch.Export.table.toDrive(\n",
    "    collection=y2y_can_carbon,\n",
    "    description=\"y2y_canada_carbon_stock\",\n",
    "    folder=\"carbon_stock_outputs\",\n",
    "    fileFormat=\"CSV\"\n",
    ").start()\n",
    "\n",
    "# ee.batch.Export.table.toDrive(\n",
    "#     collection=canada_carbon,\n",
    "#     description=\"canada_carbon_stock\",\n",
    "#     folder=\"carbon_stock_outputs\",\n",
    "#     fileFormat=\"CSV\"\n",
    "# ).start()"
   ]
  },
  {
   "cell_type": "markdown",
   "metadata": {},
   "source": [
    "## Add layers to map"
   ]
  },
  {
   "cell_type": "code",
   "execution_count": 12,
   "metadata": {},
   "outputs": [
    {
     "data": {
      "text/html": [
       "\n",
       "            <style>\n",
       "                .geemap-dark {\n",
       "                    --jp-widgets-color: white;\n",
       "                    --jp-widgets-label-color: white;\n",
       "                    --jp-ui-font-color1: white;\n",
       "                    --jp-layout-color2: #454545;\n",
       "                    background-color: #383838;\n",
       "                }\n",
       "\n",
       "                .geemap-dark .jupyter-button {\n",
       "                    --jp-layout-color3: #383838;\n",
       "                }\n",
       "\n",
       "                .geemap-colab {\n",
       "                    background-color: var(--colab-primary-surface-color, white);\n",
       "                }\n",
       "\n",
       "                .geemap-colab .jupyter-button {\n",
       "                    --jp-layout-color3: var(--colab-primary-surface-color, white);\n",
       "                }\n",
       "            </style>\n",
       "            "
      ],
      "text/plain": [
       "<IPython.core.display.HTML object>"
      ]
     },
     "metadata": {},
     "output_type": "display_data"
    }
   ],
   "source": [
    "# set biomass palette\n",
    "biomass_palette = [\n",
    "    \"#C6ECAE\", \"#A1D490\", \"#7CB970\", \"#57A751\", \"#348E32\",\n",
    "    \"#267A29\", \"#176520\", \"#0C4E15\", \"#07320D\", \"#031807\"\n",
    "]\n",
    "\n",
    "# set land cover palette\n",
    "lc_palette = {\n",
    "    1: \"#033e00\",  # Temperate or sub-polar needleleaf forest\n",
    "    2: \"#939b71\",  # Sub-polar taiga needleleaf forest\n",
    "    3: \"#196d12\",  # Tropical or sub-tropical broadleaf evergreen forest\n",
    "    4: \"#1fab01\",  # Tropical or sub-tropical broadleaf deciduous forest\n",
    "    5: \"#5b725c\",  # Temperate or sub-polar broadleaf deciduous forest\n",
    "    6: \"#6b7d2c\",  # Mixed forest\n",
    "    7: \"#b29d29\",  # Tropical or sub-tropical shrubland\n",
    "    8: \"#b48833\",  # Temperate or sub-polar shrubland\n",
    "    9: \"#e9da5d\",  # Tropical or sub-tropical grassland\n",
    "    10: \"#e0cd88\",  # Temperate or sub-polar grassland\n",
    "    11: \"#a07451\",  # Sub-polar or polar shrubland-lichen-moss\n",
    "    12: \"#bad292\",  # Sub-polar or polar grassland-lichen-moss\n",
    "    13: \"#3f8970\",  # Sub-polar or polar barren-lichen-moss\n",
    "    14: \"#6ca289\",  # Wetland\n",
    "    15: \"#e6ad6a\",  # Cropland\n",
    "    16: \"#a9abae\",  # Barren land\n",
    "    17: \"#db2126\",  # Urban and built-up\n",
    "    18: \"#4c73a1\",  # Water\n",
    "    19: \"#fff7fe\",  # Snow and ice\n",
    "}"
   ]
  },
  {
   "cell_type": "code",
   "execution_count": 13,
   "metadata": {},
   "outputs": [
    {
     "data": {
      "text/html": [
       "\n",
       "            <style>\n",
       "                .geemap-dark {\n",
       "                    --jp-widgets-color: white;\n",
       "                    --jp-widgets-label-color: white;\n",
       "                    --jp-ui-font-color1: white;\n",
       "                    --jp-layout-color2: #454545;\n",
       "                    background-color: #383838;\n",
       "                }\n",
       "\n",
       "                .geemap-dark .jupyter-button {\n",
       "                    --jp-layout-color3: #383838;\n",
       "                }\n",
       "\n",
       "                .geemap-colab {\n",
       "                    background-color: var(--colab-primary-surface-color, white);\n",
       "                }\n",
       "\n",
       "                .geemap-colab .jupyter-button {\n",
       "                    --jp-layout-color3: var(--colab-primary-surface-color, white);\n",
       "                }\n",
       "            </style>\n",
       "            "
      ],
      "text/plain": [
       "<IPython.core.display.HTML object>"
      ]
     },
     "metadata": {},
     "output_type": "display_data"
    },
    {
     "data": {
      "application/vnd.jupyter.widget-view+json": {
       "model_id": "6172bde0fe34467590beafbbd8e79969",
       "version_major": 2,
       "version_minor": 0
      },
      "text/plain": [
       "Map(center=[0, 0], controls=(WidgetControl(options=['position', 'transparent_bg'], widget=SearchDataGUI(childr…"
      ]
     },
     "execution_count": 13,
     "metadata": {},
     "output_type": "execute_result"
    }
   ],
   "source": [
    "# create a map\n",
    "m = geemap.Map()\n",
    "\n",
    "# add layers\n",
    "# m.addLayer(soc_blend, {\"min\": 1, \"max\": 450, \"palette\": biomass_palette}, \"SOC Density Blend 0-1m\")\n",
    "m.addLayer(rsr, {}, 'Root-to-Shoot Ratio Global')\n",
    "\n",
    "# Display the map\n",
    "m"
   ]
  },
  {
   "cell_type": "code",
   "execution_count": null,
   "metadata": {},
   "outputs": [],
   "source": []
  }
 ],
 "metadata": {
  "kernelspec": {
   "display_name": ".venv",
   "language": "python",
   "name": "python3"
  },
  "language_info": {
   "codemirror_mode": {
    "name": "ipython",
    "version": 3
   },
   "file_extension": ".py",
   "mimetype": "text/x-python",
   "name": "python",
   "nbconvert_exporter": "python",
   "pygments_lexer": "ipython3",
   "version": "3.12.6"
  }
 },
 "nbformat": 4,
 "nbformat_minor": 2
}
