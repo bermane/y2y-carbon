{
 "cells": [
  {
   "cell_type": "code",
   "execution_count": 13,
   "metadata": {},
   "outputs": [
    {
     "data": {
      "text/html": [
       "\n",
       "            <style>\n",
       "                .geemap-dark {\n",
       "                    --jp-widgets-color: white;\n",
       "                    --jp-widgets-label-color: white;\n",
       "                    --jp-ui-font-color1: white;\n",
       "                    --jp-layout-color2: #454545;\n",
       "                    background-color: #383838;\n",
       "                }\n",
       "\n",
       "                .geemap-dark .jupyter-button {\n",
       "                    --jp-layout-color3: #383838;\n",
       "                }\n",
       "\n",
       "                .geemap-colab {\n",
       "                    background-color: var(--colab-primary-surface-color, white);\n",
       "                }\n",
       "\n",
       "                .geemap-colab .jupyter-button {\n",
       "                    --jp-layout-color3: var(--colab-primary-surface-color, white);\n",
       "                }\n",
       "            </style>\n",
       "            "
      ],
      "text/plain": [
       "<IPython.core.display.HTML object>"
      ]
     },
     "metadata": {},
     "output_type": "display_data"
    }
   ],
   "source": [
    "# import packages\n",
    "import ee\n",
    "import geemap\n",
    "\n",
    "import pandas as pd"
   ]
  },
  {
   "cell_type": "code",
   "execution_count": 2,
   "metadata": {},
   "outputs": [
    {
     "data": {
      "text/html": [
       "\n",
       "            <style>\n",
       "                .geemap-dark {\n",
       "                    --jp-widgets-color: white;\n",
       "                    --jp-widgets-label-color: white;\n",
       "                    --jp-ui-font-color1: white;\n",
       "                    --jp-layout-color2: #454545;\n",
       "                    background-color: #383838;\n",
       "                }\n",
       "\n",
       "                .geemap-dark .jupyter-button {\n",
       "                    --jp-layout-color3: #383838;\n",
       "                }\n",
       "\n",
       "                .geemap-colab {\n",
       "                    background-color: var(--colab-primary-surface-color, white);\n",
       "                }\n",
       "\n",
       "                .geemap-colab .jupyter-button {\n",
       "                    --jp-layout-color3: var(--colab-primary-surface-color, white);\n",
       "                }\n",
       "            </style>\n",
       "            "
      ],
      "text/plain": [
       "<IPython.core.display.HTML object>"
      ]
     },
     "metadata": {},
     "output_type": "display_data"
    }
   ],
   "source": [
    "# initialize the EE api\n",
    "ee.Initialize()"
   ]
  },
  {
   "cell_type": "code",
   "execution_count": 3,
   "metadata": {},
   "outputs": [
    {
     "data": {
      "text/html": [
       "\n",
       "            <style>\n",
       "                .geemap-dark {\n",
       "                    --jp-widgets-color: white;\n",
       "                    --jp-widgets-label-color: white;\n",
       "                    --jp-ui-font-color1: white;\n",
       "                    --jp-layout-color2: #454545;\n",
       "                    background-color: #383838;\n",
       "                }\n",
       "\n",
       "                .geemap-dark .jupyter-button {\n",
       "                    --jp-layout-color3: #383838;\n",
       "                }\n",
       "\n",
       "                .geemap-colab {\n",
       "                    background-color: var(--colab-primary-surface-color, white);\n",
       "                }\n",
       "\n",
       "                .geemap-colab .jupyter-button {\n",
       "                    --jp-layout-color3: var(--colab-primary-surface-color, white);\n",
       "                }\n",
       "            </style>\n",
       "            "
      ],
      "text/plain": [
       "<IPython.core.display.HTML object>"
      ]
     },
     "metadata": {},
     "output_type": "display_data"
    }
   ],
   "source": [
    "# define EE datasets\n",
    "agb = ee.ImageCollection(\"projects/sat-io/open-datasets/ESA/ESA_CCI_AGB\")\n",
    "y2y = ee.FeatureCollection(\"projects/ee-bermane/assets/y2y\")\n",
    "lc = ee.Image(\"USGS/NLCD_RELEASES/2020_REL/NALCMS\")\n",
    "rsr = ee.Image(\"projects/ee-bermane/assets/Root_shoot_ratio_Map_Merged\")\n",
    "spawn = ee.ImageCollection(\"NASA/ORNL/biomass_carbon_density/v1\")\n",
    "countries = ee.FeatureCollection(\"UN/Geodata/BNDA_simplified/current\")\n",
    "y2y_ecoregions = ee.FeatureCollection(\n",
    "    \"projects/ee-bermane/assets/y2y_ecoregions\")\n",
    "y2y_biomes = ee.FeatureCollection(\"projects/ee-bermane/assets/y2y_biomes\")\n",
    "soc_olm = ee.Image(\"projects/ee-bermane/assets/soc_0_1m_kg_m2_olm\")\n",
    "soc_soilgrids = ee.Image(\"projects/soilgrids-isric/ocs_mean\")\n",
    "soc_sothe = ee.Image(\"projects/ee-bermane/assets/McMaster_WWFCanada_soil_carbon1m_250m_kg-m2_version3\")\n",
    "soc_socs = ee.Image(\"projects/ee-bermane/assets/SOCS_0_1m_mg_ha_year_2010\")"
   ]
  },
  {
   "cell_type": "code",
   "execution_count": null,
   "metadata": {},
   "outputs": [
    {
     "data": {
      "text/html": [
       "\n",
       "            <style>\n",
       "                .geemap-dark {\n",
       "                    --jp-widgets-color: white;\n",
       "                    --jp-widgets-label-color: white;\n",
       "                    --jp-ui-font-color1: white;\n",
       "                    --jp-layout-color2: #454545;\n",
       "                    background-color: #383838;\n",
       "                }\n",
       "\n",
       "                .geemap-dark .jupyter-button {\n",
       "                    --jp-layout-color3: #383838;\n",
       "                }\n",
       "\n",
       "                .geemap-colab {\n",
       "                    background-color: var(--colab-primary-surface-color, white);\n",
       "                }\n",
       "\n",
       "                .geemap-colab .jupyter-button {\n",
       "                    --jp-layout-color3: var(--colab-primary-surface-color, white);\n",
       "                }\n",
       "            </style>\n",
       "            "
      ],
      "text/plain": [
       "<IPython.core.display.HTML object>"
      ]
     },
     "metadata": {},
     "output_type": "display_data"
    }
   ],
   "source": [
    "# Define function to calculate zonal statistics\n",
    "# specify image to use and reducer type (sum(), mean())\n",
    "def calc_zonal_stats(feature, image_list, reducer_list):\n",
    "\n",
    "    # loop through image and reducer list\n",
    "    for image, reducer in zip(image_list, reducer_list):\n",
    "\n",
    "        # calculate zonal stats across features\n",
    "        stats = image.reduceRegion(\n",
    "            reducer=reducer,\n",
    "            geometry=feature.geometry(),\n",
    "            crs=image.projection(),\n",
    "            crsTransform=image.projection().getInfo().get('transform'),\n",
    "            maxPixels=1e15\n",
    "        )\n",
    "\n",
    "        # add zonal stats to feature properties\n",
    "        feature = feature.set(stats)\n",
    "    return feature\n",
    "\n",
    "# Define function to calculate feature area in km2\n",
    "def calc_feature_area(feature):\n",
    "    area_km2 = feature.geometry().area().divide(1e6)\n",
    "    return feature.set({'area_km2_gee': area_km2})\n",
    "\n",
    "# Define function to convert FeatureCollection to DataFrame\n",
    "def fc_to_df(fc):\n",
    "    \"\"\"Extracts properties from FeatureCollection and converts to Pandas DataFrame.\"\"\"\n",
    "    features = fc.toList(fc.size()).getInfo()  # Convert to list\n",
    "    data = [feature[\"properties\"] for feature in features]  # Extract properties\n",
    "    return pd.DataFrame(data)"
   ]
  },
  {
   "cell_type": "code",
   "execution_count": 5,
   "metadata": {},
   "outputs": [
    {
     "data": {
      "text/html": [
       "\n",
       "            <style>\n",
       "                .geemap-dark {\n",
       "                    --jp-widgets-color: white;\n",
       "                    --jp-widgets-label-color: white;\n",
       "                    --jp-ui-font-color1: white;\n",
       "                    --jp-layout-color2: #454545;\n",
       "                    background-color: #383838;\n",
       "                }\n",
       "\n",
       "                .geemap-dark .jupyter-button {\n",
       "                    --jp-layout-color3: #383838;\n",
       "                }\n",
       "\n",
       "                .geemap-colab {\n",
       "                    background-color: var(--colab-primary-surface-color, white);\n",
       "                }\n",
       "\n",
       "                .geemap-colab .jupyter-button {\n",
       "                    --jp-layout-color3: var(--colab-primary-surface-color, white);\n",
       "                }\n",
       "            </style>\n",
       "            "
      ],
      "text/plain": [
       "<IPython.core.display.HTML object>"
      ]
     },
     "metadata": {},
     "output_type": "display_data"
    }
   ],
   "source": [
    "# calc 2020 ESA CCI biomass\n",
    "# grab the 2020 AGB images\n",
    "agb_2020 = agb.filter(ee.Filter.stringContains(\"system:index\", \"2020\")).first()\n",
    "\n",
    "# add BGB to 2020 image using global rsr map\n",
    "bio_2020 = agb_2020.addBands(agb_2020.select(['AGB']).multiply(rsr).rename('BGB')).select(['AGB', 'BGB'])\n",
    "\n",
    "# add total carbon to 2020 image\n",
    "bio_2020 = bio_2020.addBands(bio_2020.select(['AGB']).add(bio_2020.select(['BGB'])).rename('total_c'))\n",
    "\n",
    "# rename bands\n",
    "bio_2020 = bio_2020.rename(['agb_dens', 'bgb_dens', 'total_dens'])\n",
    "\n",
    "# multiply values by 0.5 to get carbon density\n",
    "bio_2020 = bio_2020.multiply(0.5).updateMask(lc.neq(18).And(lc.neq(19)))\n",
    "\n",
    "# compute per-pixel area in ha\n",
    "pixel_area_ha = ee.Image.pixelArea().divide(10000)\n",
    "\n",
    "# calculate total biomass c per pixel and rename bands\n",
    "bio_stock_2020 = bio_2020.multiply(pixel_area_ha).rename(['agb_c', 'bgb_c', 'total_c'])"
   ]
  },
  {
   "cell_type": "code",
   "execution_count": 6,
   "metadata": {},
   "outputs": [
    {
     "data": {
      "text/html": [
       "\n",
       "            <style>\n",
       "                .geemap-dark {\n",
       "                    --jp-widgets-color: white;\n",
       "                    --jp-widgets-label-color: white;\n",
       "                    --jp-ui-font-color1: white;\n",
       "                    --jp-layout-color2: #454545;\n",
       "                    background-color: #383838;\n",
       "                }\n",
       "\n",
       "                .geemap-dark .jupyter-button {\n",
       "                    --jp-layout-color3: #383838;\n",
       "                }\n",
       "\n",
       "                .geemap-colab {\n",
       "                    background-color: var(--colab-primary-surface-color, white);\n",
       "                }\n",
       "\n",
       "                .geemap-colab .jupyter-button {\n",
       "                    --jp-layout-color3: var(--colab-primary-surface-color, white);\n",
       "                }\n",
       "            </style>\n",
       "            "
      ],
      "text/plain": [
       "<IPython.core.display.HTML object>"
      ]
     },
     "metadata": {},
     "output_type": "display_data"
    }
   ],
   "source": [
    "# calc open land map soc\n",
    "# multiply by 10 to get t/ha\n",
    "# mask water/snow/ice\n",
    "soc_olm = soc_olm.multiply(10).rename('soc_dens').updateMask(lc.neq(18).And(lc.neq(19)))\n",
    "\n",
    "# multiply by pixel area to get total carbon per pixel\n",
    "soc_olm_stock = soc_olm.multiply(pixel_area_ha).rename('total_olm_soc')\n",
    "\n",
    "# reproject to match sothe to blend images\n",
    "soc_olm_reproj_sothe = soc_olm.resample('bilinear').toFloat()"
   ]
  },
  {
   "cell_type": "code",
   "execution_count": 7,
   "metadata": {},
   "outputs": [
    {
     "data": {
      "text/html": [
       "\n",
       "            <style>\n",
       "                .geemap-dark {\n",
       "                    --jp-widgets-color: white;\n",
       "                    --jp-widgets-label-color: white;\n",
       "                    --jp-ui-font-color1: white;\n",
       "                    --jp-layout-color2: #454545;\n",
       "                    background-color: #383838;\n",
       "                }\n",
       "\n",
       "                .geemap-dark .jupyter-button {\n",
       "                    --jp-layout-color3: #383838;\n",
       "                }\n",
       "\n",
       "                .geemap-colab {\n",
       "                    background-color: var(--colab-primary-surface-color, white);\n",
       "                }\n",
       "\n",
       "                .geemap-colab .jupyter-button {\n",
       "                    --jp-layout-color3: var(--colab-primary-surface-color, white);\n",
       "                }\n",
       "            </style>\n",
       "            "
      ],
      "text/plain": [
       "<IPython.core.display.HTML object>"
      ]
     },
     "metadata": {},
     "output_type": "display_data"
    }
   ],
   "source": [
    "# calc sothe soc\n",
    "# multiply by 10 to get t/ha\n",
    "# mask water/snow/ice\n",
    "soc_sothe = soc_sothe.multiply(10).rename('soc_dens').updateMask(lc.neq(18).And(lc.neq(19)))\n",
    "\n",
    "# blend sothe and olm carbon across y2y\n",
    "soc_blend = ee.ImageCollection([soc_olm_reproj_sothe, soc_sothe]).mosaic().rename('soc_blend_dens').reproject(\n",
    "    crs=soc_sothe.projection(),\n",
    "    crsTransform=soc_sothe.projection().getInfo().get('transform')\n",
    ").updateMask(lc.neq(18).And(lc.neq(19)))\n",
    "\n",
    "# multiply by pixel area to get total carbon per pixel\n",
    "soc_blend_stock = soc_blend.multiply(pixel_area_ha).rename('total_blend_soc')"
   ]
  },
  {
   "cell_type": "code",
   "execution_count": 8,
   "metadata": {},
   "outputs": [
    {
     "data": {
      "text/html": [
       "\n",
       "            <style>\n",
       "                .geemap-dark {\n",
       "                    --jp-widgets-color: white;\n",
       "                    --jp-widgets-label-color: white;\n",
       "                    --jp-ui-font-color1: white;\n",
       "                    --jp-layout-color2: #454545;\n",
       "                    background-color: #383838;\n",
       "                }\n",
       "\n",
       "                .geemap-dark .jupyter-button {\n",
       "                    --jp-layout-color3: #383838;\n",
       "                }\n",
       "\n",
       "                .geemap-colab {\n",
       "                    background-color: var(--colab-primary-surface-color, white);\n",
       "                }\n",
       "\n",
       "                .geemap-colab .jupyter-button {\n",
       "                    --jp-layout-color3: var(--colab-primary-surface-color, white);\n",
       "                }\n",
       "            </style>\n",
       "            "
      ],
      "text/plain": [
       "<IPython.core.display.HTML object>"
      ]
     },
     "metadata": {},
     "output_type": "display_data"
    }
   ],
   "source": [
    "# calc socs soc\n",
    "# mask water/snow/ice\n",
    "soc_socs = soc_socs.rename('soc_socs_dens').updateMask(lc.neq(18).And(lc.neq(19)))\n",
    "\n",
    "# multiply by pixel area to get total carbon per pixel\n",
    "soc_socs_stock = soc_socs.multiply(pixel_area_ha).rename('total_soc_socs')"
   ]
  },
  {
   "cell_type": "code",
   "execution_count": 9,
   "metadata": {},
   "outputs": [
    {
     "data": {
      "text/html": [
       "\n",
       "            <style>\n",
       "                .geemap-dark {\n",
       "                    --jp-widgets-color: white;\n",
       "                    --jp-widgets-label-color: white;\n",
       "                    --jp-ui-font-color1: white;\n",
       "                    --jp-layout-color2: #454545;\n",
       "                    background-color: #383838;\n",
       "                }\n",
       "\n",
       "                .geemap-dark .jupyter-button {\n",
       "                    --jp-layout-color3: #383838;\n",
       "                }\n",
       "\n",
       "                .geemap-colab {\n",
       "                    background-color: var(--colab-primary-surface-color, white);\n",
       "                }\n",
       "\n",
       "                .geemap-colab .jupyter-button {\n",
       "                    --jp-layout-color3: var(--colab-primary-surface-color, white);\n",
       "                }\n",
       "            </style>\n",
       "            "
      ],
      "text/plain": [
       "<IPython.core.display.HTML object>"
      ]
     },
     "metadata": {},
     "output_type": "display_data"
    },
    {
     "name": "stdout",
     "output_type": "stream",
     "text": [
      "Biomass Carbon Density Scale:  98.95065848290943\n",
      "Biomass Carbon Total Scale:  98.95065848290943\n",
      "SOC Density Sothe Scale:  250.00021298953834\n",
      "SOC Density Blend Scale:  250.00021298953834\n",
      "SOC Total Blend Scale:  250.00021298953834\n",
      "SOC Density OLM Scale:  231.91556871282307\n"
     ]
    }
   ],
   "source": [
    "# check scale of layers\n",
    "print('Biomass Carbon Density Scale: ', bio_2020.projection().nominalScale().getInfo())\n",
    "print('Biomass Carbon Total Scale: ', bio_stock_2020.projection().nominalScale().getInfo())\n",
    "print('SOC Density Sothe Scale: ', soc_sothe.projection().nominalScale().getInfo())\n",
    "print('SOC Density Blend Scale: ', soc_blend.projection().nominalScale().getInfo())\n",
    "print('SOC Total Blend Scale: ', soc_blend_stock.projection().nominalScale().getInfo())\n",
    "print('SOC Density OLM Scale: ', soc_olm.projection().nominalScale().getInfo())"
   ]
  },
  {
   "cell_type": "code",
   "execution_count": null,
   "metadata": {},
   "outputs": [
    {
     "data": {
      "text/html": [
       "\n",
       "            <style>\n",
       "                .geemap-dark {\n",
       "                    --jp-widgets-color: white;\n",
       "                    --jp-widgets-label-color: white;\n",
       "                    --jp-ui-font-color1: white;\n",
       "                    --jp-layout-color2: #454545;\n",
       "                    background-color: #383838;\n",
       "                }\n",
       "\n",
       "                .geemap-dark .jupyter-button {\n",
       "                    --jp-layout-color3: #383838;\n",
       "                }\n",
       "\n",
       "                .geemap-colab {\n",
       "                    background-color: var(--colab-primary-surface-color, white);\n",
       "                }\n",
       "\n",
       "                .geemap-colab .jupyter-button {\n",
       "                    --jp-layout-color3: var(--colab-primary-surface-color, white);\n",
       "                }\n",
       "            </style>\n",
       "            "
      ],
      "text/plain": [
       "<IPython.core.display.HTML object>"
      ]
     },
     "metadata": {},
     "output_type": "display_data"
    },
    {
     "data": {
      "text/html": [
       "<div>\n",
       "<style scoped>\n",
       "    .dataframe tbody tr th:only-of-type {\n",
       "        vertical-align: middle;\n",
       "    }\n",
       "\n",
       "    .dataframe tbody tr th {\n",
       "        vertical-align: top;\n",
       "    }\n",
       "\n",
       "    .dataframe thead th {\n",
       "        text-align: right;\n",
       "    }\n",
       "</style>\n",
       "<table border=\"1\" class=\"dataframe\">\n",
       "  <thead>\n",
       "    <tr style=\"text-align: right;\">\n",
       "      <th></th>\n",
       "      <th>BIOME_ID</th>\n",
       "      <th>BIOME_NAME</th>\n",
       "      <th>agb_c</th>\n",
       "      <th>agb_dens</th>\n",
       "      <th>area_km2</th>\n",
       "      <th>area_km2_gee</th>\n",
       "      <th>bgb_c</th>\n",
       "      <th>bgb_dens</th>\n",
       "      <th>soc_blend_dens</th>\n",
       "      <th>soc_socs_dens</th>\n",
       "      <th>total_blend_soc</th>\n",
       "      <th>total_c</th>\n",
       "      <th>total_dens</th>\n",
       "      <th>total_soc_socs</th>\n",
       "    </tr>\n",
       "  </thead>\n",
       "  <tbody>\n",
       "    <tr>\n",
       "      <th>0</th>\n",
       "      <td>5</td>\n",
       "      <td>Temperate Conifer Forests</td>\n",
       "      <td>3.003759e+09</td>\n",
       "      <td>59.034848</td>\n",
       "      <td>604242.9</td>\n",
       "      <td>602219.807007</td>\n",
       "      <td>7.986885e+08</td>\n",
       "      <td>15.804549</td>\n",
       "      <td>198.731240</td>\n",
       "      <td>180.295012</td>\n",
       "      <td>1.153772e+10</td>\n",
       "      <td>3.792035e+09</td>\n",
       "      <td>75.194739</td>\n",
       "      <td>1.027897e+10</td>\n",
       "    </tr>\n",
       "    <tr>\n",
       "      <th>1</th>\n",
       "      <td>6</td>\n",
       "      <td>Boreal Forests/Taiga</td>\n",
       "      <td>1.553922e+09</td>\n",
       "      <td>45.408930</td>\n",
       "      <td>377124.8</td>\n",
       "      <td>375022.114150</td>\n",
       "      <td>3.841412e+08</td>\n",
       "      <td>11.588156</td>\n",
       "      <td>235.963042</td>\n",
       "      <td>229.658735</td>\n",
       "      <td>8.463470e+09</td>\n",
       "      <td>1.917579e+09</td>\n",
       "      <td>57.830834</td>\n",
       "      <td>8.398469e+09</td>\n",
       "    </tr>\n",
       "    <tr>\n",
       "      <th>2</th>\n",
       "      <td>8</td>\n",
       "      <td>Temperate Grasslands, Savannas &amp; Shrublands</td>\n",
       "      <td>2.812967e+07</td>\n",
       "      <td>11.316490</td>\n",
       "      <td>75578.6</td>\n",
       "      <td>75389.877363</td>\n",
       "      <td>7.343823e+06</td>\n",
       "      <td>3.231257</td>\n",
       "      <td>121.233915</td>\n",
       "      <td>125.577716</td>\n",
       "      <td>9.047571e+08</td>\n",
       "      <td>3.441819e+07</td>\n",
       "      <td>15.152255</td>\n",
       "      <td>9.420351e+08</td>\n",
       "    </tr>\n",
       "    <tr>\n",
       "      <th>3</th>\n",
       "      <td>11</td>\n",
       "      <td>Tundra</td>\n",
       "      <td>4.679915e+08</td>\n",
       "      <td>22.693174</td>\n",
       "      <td>283806.8</td>\n",
       "      <td>281997.069646</td>\n",
       "      <td>1.186128e+08</td>\n",
       "      <td>6.371054</td>\n",
       "      <td>269.511931</td>\n",
       "      <td>315.419028</td>\n",
       "      <td>7.467723e+09</td>\n",
       "      <td>5.393481e+08</td>\n",
       "      <td>28.839520</td>\n",
       "      <td>8.792563e+09</td>\n",
       "    </tr>\n",
       "    <tr>\n",
       "      <th>4</th>\n",
       "      <td>13</td>\n",
       "      <td>Deserts &amp; Xeric Shrublands</td>\n",
       "      <td>3.623965e+06</td>\n",
       "      <td>4.886111</td>\n",
       "      <td>29129.2</td>\n",
       "      <td>29075.316155</td>\n",
       "      <td>9.345091e+05</td>\n",
       "      <td>1.543805</td>\n",
       "      <td>105.381060</td>\n",
       "      <td>112.973453</td>\n",
       "      <td>3.047621e+08</td>\n",
       "      <td>4.141109e+06</td>\n",
       "      <td>6.841070</td>\n",
       "      <td>3.269364e+08</td>\n",
       "    </tr>\n",
       "  </tbody>\n",
       "</table>\n",
       "</div>"
      ],
      "text/plain": [
       "   BIOME_ID                                   BIOME_NAME         agb_c  \\\n",
       "0         5                    Temperate Conifer Forests  3.003759e+09   \n",
       "1         6                         Boreal Forests/Taiga  1.553922e+09   \n",
       "2         8  Temperate Grasslands, Savannas & Shrublands  2.812967e+07   \n",
       "3        11                                       Tundra  4.679915e+08   \n",
       "4        13                   Deserts & Xeric Shrublands  3.623965e+06   \n",
       "\n",
       "    agb_dens  area_km2   area_km2_gee         bgb_c   bgb_dens  \\\n",
       "0  59.034848  604242.9  602219.807007  7.986885e+08  15.804549   \n",
       "1  45.408930  377124.8  375022.114150  3.841412e+08  11.588156   \n",
       "2  11.316490   75578.6   75389.877363  7.343823e+06   3.231257   \n",
       "3  22.693174  283806.8  281997.069646  1.186128e+08   6.371054   \n",
       "4   4.886111   29129.2   29075.316155  9.345091e+05   1.543805   \n",
       "\n",
       "   soc_blend_dens  soc_socs_dens  total_blend_soc       total_c  total_dens  \\\n",
       "0      198.731240     180.295012     1.153772e+10  3.792035e+09   75.194739   \n",
       "1      235.963042     229.658735     8.463470e+09  1.917579e+09   57.830834   \n",
       "2      121.233915     125.577716     9.047571e+08  3.441819e+07   15.152255   \n",
       "3      269.511931     315.419028     7.467723e+09  5.393481e+08   28.839520   \n",
       "4      105.381060     112.973453     3.047621e+08  4.141109e+06    6.841070   \n",
       "\n",
       "   total_soc_socs  \n",
       "0    1.027897e+10  \n",
       "1    8.398469e+09  \n",
       "2    9.420351e+08  \n",
       "3    8.792563e+09  \n",
       "4    3.269364e+08  "
      ]
     },
     "execution_count": 16,
     "metadata": {},
     "output_type": "execute_result"
    }
   ],
   "source": [
    "# define image and reducer list for zonal stats\n",
    "img_list = [bio_stock_2020, bio_2020, soc_blend_stock, soc_blend, soc_socs_stock, soc_socs]\n",
    "redu_list = [ee.Reducer.sum(), ee.Reducer.mean(), ee.Reducer.sum(), ee.Reducer.mean(), ee.Reducer.sum(), ee.Reducer.mean()]\n",
    "\n",
    "# # Compute zonal statistics across Y2Y region\n",
    "# y2y_carbon = y2y.map(lambda feature: calc_zonal_stats(feature, img_list, redu_list)).map(calc_feature_area)\n",
    "\n",
    "# # Compute zonal statistics across ecoregions\n",
    "# eco_carbon = y2y_ecoregions.map(lambda feature: calc_zonal_stats(feature, img_list, redu_list)).map(calc_feature_area)\n",
    "\n",
    "# Compute zonal statistics across biomes\n",
    "biome_carbon = fc_to_df(y2y_biomes.map(lambda feature: calc_zonal_stats(feature, img_list, redu_list)).map(calc_feature_area))\n",
    "\n",
    "# Compute zonal statistics across Canada\n",
    "canada = countries.filter(ee.Filter.eq('lbl_en', 'CANADA'))\n",
    "img_list_can = [bio_2020, soc_blend, soc_socs]\n",
    "redu_list_can = [ee.Reducer.mean(), ee.Reducer.mean(), ee.Reducer.mean()]\n",
    "canada_carbon = canada.map(lambda feature: calc_zonal_stats(feature, img_list_can, redu_list_can)).map(calc_feature_area)"
   ]
  }
 ],
 "metadata": {
  "kernelspec": {
   "display_name": ".venv",
   "language": "python",
   "name": "python3"
  },
  "language_info": {
   "codemirror_mode": {
    "name": "ipython",
    "version": 3
   },
   "file_extension": ".py",
   "mimetype": "text/x-python",
   "name": "python",
   "nbconvert_exporter": "python",
   "pygments_lexer": "ipython3",
   "version": "3.12.6"
  }
 },
 "nbformat": 4,
 "nbformat_minor": 2
}
